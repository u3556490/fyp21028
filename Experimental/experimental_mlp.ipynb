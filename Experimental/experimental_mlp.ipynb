{
 "cells": [
  {
   "cell_type": "markdown",
   "id": "d3535a1f",
   "metadata": {},
   "source": [
    "# Experimental Model Mark III: MLP\n",
    "\n",
    "For reference: best baseline MLP Classifier on TSNV hidden_layer_sizes=(3072, 1024, 1024, 1024, 256): f1-score \\[0.82739 0.87162 0.78970 0.77660\\] average 0.81633 (alt. run 0.82256, alpha=0.01 => 0.82789)\n",
    "\n",
    "### Imports and reading the dataset"
   ]
  },
  {
   "cell_type": "code",
   "execution_count": 1,
   "id": "18805ec9",
   "metadata": {},
   "outputs": [],
   "source": [
    "import numpy as np\n",
    "import pandas as pd\n",
    "import sys\n",
    "import os\n",
    "import matplotlib.pyplot as plt\n",
    "import seaborn as sns\n",
    "\n",
    "%matplotlib inline"
   ]
  },
  {
   "cell_type": "code",
   "execution_count": 2,
   "id": "652af4e7",
   "metadata": {},
   "outputs": [
    {
     "name": "stdout",
     "output_type": "stream",
     "text": [
      "Training set size: 5633; Dev set size: 626; Testing set size: 696\n"
     ]
    }
   ],
   "source": [
    "from sklearn.model_selection import train_test_split\n",
    "\n",
    "def separateDataset(dataset, train_ratio):\n",
    "    '''\n",
    "    Takes in a dataset (pandas df) and a ratio value, returns a dictionary containing the separated dataset.\n",
    "    Key \"train\" = train set, \"dev\" = dev set (size = train ratio * (sizeof input df - test set)), \"test\" = test set (size = train ratio * sizeof input df)\n",
    "    '''\n",
    "    train_dev_set, test_set = train_test_split(dataset, train_size=train_ratio, random_state=42)\n",
    "    train_set, dev_set = train_test_split(train_dev_set, train_size=train_ratio, random_state=42)\n",
    "    print(\"Training set size: {0}; Dev set size: {1}; Testing set size: {2}\".format(len(train_set), len(dev_set), len(test_set)))\n",
    "    return { \"train\": train_set, \"dev\": dev_set, \"test\": test_set }\n",
    "\n",
    "def pandasToXY(dataframe):\n",
    "    '''\n",
    "    converts the given pandas df to X and Y sub-arrays. X is pandas df, Y is np int array.\n",
    "    note: the range of columns to select as Y must be double checked when a different dataset is used.\n",
    "    '''\n",
    "    X = dataframe.drop(['LOW_IMPACT', 'MID_IMPACT', 'BIG_IMPACT', 'DIRECT_STRIKE'], axis=1)\n",
    "    Y = np.asarray(dataframe.iloc[:,:4]).astype(int)\n",
    "    return X, Y\n",
    "\n",
    "dataset = pd.read_pickle('../Dataset/experimental_dataset_tsnv_24.gz')\n",
    "# train-dev-test splitting\n",
    "splitDataset = separateDataset(dataset, 0.9)\n",
    "# separate each of the 3 sets into X and Y\n",
    "train_full = splitDataset[\"train\"]\n",
    "train_X, train_Y = pandasToXY(train_full)\n",
    "dev_full = splitDataset[\"dev\"]\n",
    "dev_X, dev_Y = pandasToXY(dev_full)\n",
    "test_full = splitDataset[\"test\"]\n",
    "test_X, test_Y = pandasToXY(test_full)"
   ]
  },
  {
   "cell_type": "code",
   "execution_count": 3,
   "id": "c3e5a1bd",
   "metadata": {},
   "outputs": [],
   "source": [
    "# imports\n",
    "from sklearn.metrics import accuracy_score, f1_score, recall_score, precision_score, precision_recall_curve, classification_report\n",
    "from sklearn.neural_network import MLPClassifier, MLPRegressor\n",
    "\n",
    "# Constants\n",
    "MAX_ITERS = 1000"
   ]
  },
  {
   "cell_type": "markdown",
   "id": "6aeb2428",
   "metadata": {},
   "source": [
    "### Tools"
   ]
  },
  {
   "cell_type": "code",
   "execution_count": 4,
   "id": "18ea7928",
   "metadata": {},
   "outputs": [],
   "source": [
    "import joblib\n",
    "from datetime import datetime\n",
    "\n",
    "def save_sklearn_model_to_file(model, model_type, filename=None):\n",
    "    '''Saves a sklearn model to file. Takes in the model, a name for the model and optionally a full filename.'''\n",
    "    if filename == None:\n",
    "        filename = \"./models/experimental_model_{0}_{1}.skl\".format(model_type, str(datetime.now().strftime(\"%Y-%m-%d %H-%M\")))\n",
    "        \n",
    "    joblib.dump(model, filename)\n",
    "    \n",
    "    # to load a model: model = joblib.load(filename)"
   ]
  },
  {
   "cell_type": "code",
   "execution_count": 5,
   "id": "45b99d86",
   "metadata": {},
   "outputs": [],
   "source": [
    "# finds the best decision thresholds and the corresponding F1 scores\n",
    "# shows the precision-recall curve as well\n",
    "def optimize_thresholds(clf, datasetX, datasetY):\n",
    "    '''\n",
    "    Takes in a classifier, an input set X and a target set Y; returns the best decision thresholds and corresponding f1-scores;\n",
    "    displays the values and a precision recall curve.\n",
    "    '''\n",
    "    all_preds = clf.predict_proba(datasetX)\n",
    "    best_thresholds = []\n",
    "    best_f1_scores = []\n",
    "    n_classes = len(clf.classes_)\n",
    "    for i in range(n_classes):\n",
    "        precision, recall, thresholds = precision_recall_curve(datasetY[:,i], all_preds[:,i])\n",
    "        # find best threshold\n",
    "        fscore = (2 * precision * recall) / (precision + recall)\n",
    "        ix = np.nanargmax(fscore)\n",
    "        best_thresholds.append(thresholds[ix])\n",
    "        best_f1_scores.append(fscore[ix])\n",
    "        print('Best Threshold={0:.05f}, F-Score={1:.05f}'.format(thresholds[ix], fscore[ix]))\n",
    "    \n",
    "    # plot the precision-recall curve for the model\n",
    "    plt.plot(recall, precision, marker='.', label='PR curve')\n",
    "    plt.scatter(recall[ix], precision[ix], marker='o', color='black', label='Best')\n",
    "    plt.xlabel('Recall')\n",
    "    plt.ylabel('Precision')\n",
    "    plt.title('Precision-Recall Curve for Direct Strike')\n",
    "    plt.legend()\n",
    "        \n",
    "    return best_thresholds, best_f1_scores\n",
    "\n",
    "# make predictions according to the given thresholds\n",
    "def predictions_with_thresholds(clf, thresholds, datasetX):\n",
    "    '''\n",
    "    Takes in a classifier, a list of decision thresholds and an input samples set X;\n",
    "    Returns deterministic predictions made using the model over X and the thresholds.\n",
    "    '''\n",
    "    preds_probs = clf.predict_proba(datasetX)  \n",
    "    n_classes = len(clf.classes_)\n",
    "    preds = []\n",
    "    # iterate each predicted probability and compare against threshold\n",
    "    for i in range(len(preds_probs)):\n",
    "        pred_row = []\n",
    "        for j in range(n_classes):\n",
    "            if preds_probs[i,j] > thresholds[j]:\n",
    "                pred_row.append(1)\n",
    "            else:\n",
    "                pred_row.append(0)\n",
    "        preds.append(pred_row)\n",
    "    \n",
    "    return np.array(preds)"
   ]
  },
  {
   "cell_type": "code",
   "execution_count": 9,
   "id": "e28724be",
   "metadata": {},
   "outputs": [],
   "source": [
    "from scipy.special import expit\n",
    "\n",
    "def regression_predict(regr, datasetX, method='clip'):\n",
    "    '''\n",
    "    Takes in a regressor, an input samples set X and optionally a method argument (must be either \"sigmoid\" or \"clip\");\n",
    "    Returns predictions made by the regressor on X that have been rescaled to fall within [0,1] using the specified method.\n",
    "    '''\n",
    "    # method specifies how to handle inputs outside of 0-1 range: clip to 0 or 1, or pass through sigmoid\n",
    "    preds = regr.predict(datasetX)\n",
    "    if method == 'clip':\n",
    "        preds = np.clip(preds, 0, 1)\n",
    "    elif method == 'sigmoid':\n",
    "        preds = expit(preds)\n",
    "    return preds\n",
    "\n",
    "def regressor_find_thresholds(regr, datasetX, datasetY, method='clip'):\n",
    "    '''\n",
    "    Takes in a regressor, an input set X, a target set Y and optionally a scaling method;\n",
    "    returns the best decision thresholds and corresponding f1-scores;\n",
    "    displays the values and a precision recall curve.\n",
    "    '''\n",
    "    all_preds = regression_predict(regr, datasetX, method)\n",
    "    best_thresholds = []\n",
    "    best_f1_scores = []\n",
    "    for i in range(4):\n",
    "        precision, recall, thresholds = precision_recall_curve(datasetY[:,i], all_preds[:,i])\n",
    "        # find best threshold\n",
    "        fscore = (2 * precision * recall) / (precision + recall)\n",
    "        ix = np.nanargmax(fscore)\n",
    "        best_thresholds.append(thresholds[ix])\n",
    "        best_f1_scores.append(fscore[ix])\n",
    "        print('Best Threshold={0:.05f}, F-Score={1:.05f}'.format(thresholds[ix], fscore[ix]))\n",
    "\n",
    "    # plot the precision-recall curve for the model\n",
    "    plt.plot(recall, precision, marker='.', label='PR curve')\n",
    "    plt.scatter(recall[ix], precision[ix], marker='o', color='black', label='Best')\n",
    "    plt.xlabel('Recall')\n",
    "    plt.ylabel('Precision')\n",
    "    plt.title('Precision-Recall Curve for Direct Strike')\n",
    "    plt.legend()\n",
    "    \n",
    "    return best_thresholds, best_f1_scores\n",
    "\n",
    "def regression_label(regr, datasetX, thresholds, method='clip'):\n",
    "    '''\n",
    "    Takes in a regressor, a list of decision thresholds, an input samples set X and optionally a scaling method;\n",
    "    Returns deterministic predictions made using the model over X and the thresholds.\n",
    "    '''\n",
    "    preds_probs = regression_predict(regr, datasetX, method)\n",
    "    preds = []\n",
    "    # iterate each predicted probability and compare against threshold\n",
    "    for i in range(len(preds_probs)):\n",
    "        pred_row = []\n",
    "        for j in range(4):\n",
    "            if preds_probs[i,j] > thresholds[j]:\n",
    "                pred_row.append(1)\n",
    "            else:\n",
    "                pred_row.append(0)\n",
    "        preds.append(pred_row)\n",
    "    \n",
    "    return np.array(preds)"
   ]
  },
  {
   "cell_type": "code",
   "execution_count": 14,
   "id": "4f5d6d18",
   "metadata": {},
   "outputs": [],
   "source": [
    "from sklearn.metrics import brier_score_loss\n",
    "from sklearn.calibration import CalibratedClassifierCV, CalibrationDisplay\n",
    "from matplotlib.gridspec import GridSpec\n",
    "from sklearn.multioutput import MultiOutputRegressor, MultiOutputClassifier\n",
    "\n",
    "def calibration_plot(clf, dataset_X, dataset_Y):\n",
    "    '''\n",
    "    Takes in a classifier, an input set X and a target set Y;\n",
    "    Calculates and shows Brier scores and plots calibration graphs for reference.\n",
    "    '''\n",
    "    # brier score loss\n",
    "    print(\"Brier score losses: (the smaller the better)\")  \n",
    "    if isinstance(clf, MultiOutputRegressor) or isinstance(clf, MLPRegressor):\n",
    "        all_preds = np.clip(clf.predict(dataset_X), 0,1)\n",
    "    else:\n",
    "        all_preds = np.array(clf.predict_proba(dataset_X))\n",
    "    for i in range(4):\n",
    "        if isinstance(clf, MultiOutputClassifier):\n",
    "            preds = all_preds[i,:,1]\n",
    "        else:            \n",
    "            preds = all_preds[:,i]\n",
    "        clf_score = brier_score_loss(dataset_Y[:,i], preds)\n",
    "        print(\"Class {0}, no calibration: {1:1.6f}\".format(i, clf_score))\n",
    "\n",
    "    # plot calibration graphs\n",
    "    fig = plt.figure(figsize=(10, 10))\n",
    "    gs = GridSpec(4, 2)\n",
    "    ax = fig.add_subplot(gs[:2, :2])\n",
    "\n",
    "    preds = all_preds\n",
    "    preds = preds[0,:,1] if isinstance(clf, MultiOutputClassifier) else preds[:,0]\n",
    "    display = CalibrationDisplay.from_predictions(dataset_Y[:,0], preds, n_bins=10, name=\"class 0\", ax=ax, strategy='uniform')\n",
    "    preds = all_preds\n",
    "    preds = preds[3,:,1] if isinstance(clf, MultiOutputClassifier) else preds[:,3]\n",
    "    display = CalibrationDisplay.from_predictions(dataset_Y[:,3], preds, n_bins=10, name=\"class 3\", ax=ax, strategy='uniform')\n",
    "\n",
    "    ax.grid()\n",
    "    plt.tight_layout()\n",
    "    plt.show()"
   ]
  },
  {
   "cell_type": "markdown",
   "id": "4f855846",
   "metadata": {},
   "source": [
    "### MLP Classifier\n",
    "---\n",
    "#### Initial misadventures: dated up to 7 April 2022\n",
    "\n",
    "The first batch of configurations were generic attempts to recreate the good results from last time.  \n",
    "Loss struggles to get below 0.4; seems the premium for breadth (1st layer size) has two peaks (1024 and ca. 8192-12288) and depth limit is somewhere around 5 layers.\n",
    "\n",
    "hidden_layer_sizes=(100, 50, 25, 12): 0.52437       \n",
    "hidden_layer_sizes=(1024, 1024, 1024, 1024): 0.58583       \n",
    "hidden_layer_sizes=(1024, 1024, 1024, 1024, 1024): 0.59222     \n",
    "hidden_layer_sizes=(1024, 1024, 1024, 1024, 1024, 1024): 0.45770       \n",
    "hidden_layer_sizes=(2048, 1024, 1024, 1024, 1024): 0.55112  \n",
    "hidden_layer_sizes=(3072, 1024, 256), no other hyperparams: average 0.54554  \n",
    "hidden_layer_sizes=(3072, 1024, 1024, 1024, 256), no other hyperparams: average 0.31389   \n",
    "hidden_layer_sizes=(3072,1024,1024,1024,1024), batch_size=64: 0.63653       \n",
    "hidden_layer_sizes=(4096, 2048, 1024, 1024, 512): 0.53178       \n",
    "hidden_layer_sizes=(5120, 2048, 1024): 0.41117    \n",
    "hidden_layer_sizes=(8192, 2048, 1024): 0.54973  \n",
    "hidden_layer_sizes=(8192, 2048, 1024, 1024, 2014): mind the typo, but 0.58619    \n",
    "hidden_layer_sizes=(10240, 1024, 1024, 1024, 1024): 0.49139       \n",
    "hidden_layer_sizes=(12288, 2048, 1024): 0.55877       \n",
    "hidden_layer_sizes=(12288, 2048, 1024, 1024, 1024): 0.58475       \n",
    "hidden_layer_sizes=(16384, 2048, 1024): 0.52749       \n",
    "hidden_layer_sizes=(16384, 2048, 1024, 1024, 1024): 0.40317       \n",
    "\n",
    "A better strategy is to use (x, x/128) in a two-layer design, The choice of x/128 in layer 2 and the choice of 2 layers verified using grid search. It generally gave average f1 scores >= 0.6.\n",
    "\n",
    "hidden_layer_sizes=(65536, 512): 0.59838\n",
    "\n",
    "---\n",
    "#### Later attempts\n",
    "A breakthrough was made when it turns out a much smaller batch size will be necessary. At a batch size of 32, the hidden_layer_sizes=(3072, 1024, 1024, 1024, 256) configuration had 0.70 average f1 score, which was gooder than the rest. Nonetheless, loss refused to go below 0.2 most of the time.\n",
    "\n",
    "hidden_layer_sizes=(16384, 128), batch_size=16: average f1 0.57022  \n",
    "hidden_layer_sizes=(3072, 1024, 256), batch_size=16: average f1 0.62683  \n",
    "hidden_layer_sizes=(3072, 1024, 1024, 1024, 256), batch_size=16: average f1 0.61411  \n",
    "\n",
    "hidden_layer_sizes=(2048, 128), batch_size=32: average f1 0.61063   \n",
    "hidden_layer_sizes=(3072, 128), batch_size=32: average f1 0.62410  \n",
    "hidden_layer_sizes=(3072, 256), batch_size=32: average f1 0.65237    \n",
    "hidden_layer_sizes=(3072, 512), batch_size=32: average f1 0.59646   \n",
    "hidden_layer_sizes=(3072, 256, 256), batch_size=32: average f1 0.000  \n",
    "hidden_layer_sizes=(3072, 512, 256), batch_size=32: average f1 0.64813  \n",
    "hidden_layer_sizes=(3072, 512, 256, 256), batch_size=32: average f1 0.75477    \n",
    "hidden_layer_sizes=(3072, 512, 128), batch_size=32: average f1 0.64570   \n",
    "hidden_layer_sizes=(3072, 512, 512), batch_size=32: average f1 0.61379  \n",
    "hidden_layer_sizes=(3072, 1024, 256), batch_size=32: average f1 0.64135    \n",
    "hidden_layer_sizes=(4096, 128), batch_size=32: average f1 0.61086  \n",
    "hidden_layer_sizes=(8192, 128), batch_size=32: average f1 0.44960  \n",
    "\n",
    "(grid search happened, skip several configs)  \n",
    "hidden_layer_sizes=(3072, 512, 256, 64): average  \n",
    "hidden_layer_sizes=(3072, 512, 256, 128): below average  \n",
    "hidden_layer_sizes=(3072, 512, 256, 256): average f1 0.75477  \n",
    "hidden_layer_sizes=(3072, 512, 512, 256): below average  \n",
    "hidden_layer_sizes=(3072, 1024, 512, 256): average f1 0.66802   \n",
    "hidden_layer_sizes=(3072, 1024, 512, 256, 256): average f1 0.59475  \n",
    "hidden_layer_sizes=(3072, 2048, 256, 256): average f1 0.69678     \n",
    "hidden_layer_sizes=(3072, 2048, 512, 128): average f1 0.75001    \n",
    "hidden_layer_sizes=(3072, 2048, 512, 256): average f1 0.74114    \n",
    "hidden_layer_sizes=(3072, 2048, 1024, 256): average f1 **0.80366**   \n",
    "hidden_layer_sizes=(3072, 2048, 1024, 512): average f1 0.72247     \n",
    "hidden_layer_sizes=(3072, 2048, 1024, 512, 256): average  \n",
    "hidden_layer_sizes=(3072, 2048, 1024, 256, 128): above average, f1 0.67955  \n",
    "hidden_layer_sizes=(3072, 2048, 1024, 1024, 512): average f1 0.73324  \n",
    "hidden_layer_sizes=(3072, 2048, 2048, 2048, 1024): above average ?\n",
    "\n",
    "Quick conclusions:\n",
    "1st layer 3072 is best  \n",
    "2nd layer 256 is best when less than 3 layers  \n",
    "3rd layer: (3072, 512, 256) best  \n",
    "4th layer: (3072, 512, 256, 256) and (3072, 2048, 1024, 256) best  \n",
    "  - last layer 256 is best, at least not smaller than previous layer  \n",
    "  - 2nd 2048 and 3rd layer 1024  \n",
    "  \n",
    "5th layer: not very necessary  \n"
   ]
  },
  {
   "cell_type": "code",
   "execution_count": 13,
   "id": "15944f44",
   "metadata": {
    "scrolled": true
   },
   "outputs": [
    {
     "name": "stdout",
     "output_type": "stream",
     "text": [
      "Iteration 1, loss = 3.66361745\n",
      "Iteration 2, loss = 1.43164205\n",
      "Iteration 3, loss = 1.33539853\n",
      "Iteration 4, loss = 1.30924752\n",
      "Iteration 5, loss = 1.25803468\n",
      "Iteration 6, loss = 1.20776292\n",
      "Iteration 7, loss = 1.22689055\n",
      "Iteration 8, loss = 1.24241635\n",
      "Iteration 9, loss = 1.24686244\n",
      "Iteration 10, loss = 1.17533269\n",
      "Iteration 11, loss = 1.14685326\n",
      "Iteration 12, loss = 1.12689846\n",
      "Iteration 13, loss = 1.10728780\n",
      "Iteration 14, loss = 1.08621495\n",
      "Iteration 15, loss = 1.07155102\n",
      "Iteration 16, loss = 1.05253235\n",
      "Iteration 17, loss = 1.03042912\n",
      "Iteration 18, loss = 1.01663119\n",
      "Iteration 19, loss = 1.03139715\n",
      "Iteration 20, loss = 0.99559157\n",
      "Iteration 21, loss = 0.97102045\n",
      "Iteration 22, loss = 0.95642893\n",
      "Iteration 23, loss = 0.96088655\n",
      "Iteration 24, loss = 0.94997695\n",
      "Iteration 25, loss = 0.95566581\n",
      "Iteration 26, loss = 0.95302599\n",
      "Iteration 27, loss = 0.94190597\n",
      "Iteration 28, loss = 0.90171308\n",
      "Iteration 29, loss = 0.87494949\n",
      "Iteration 30, loss = 0.85688595\n",
      "Iteration 31, loss = 0.92493208\n",
      "Iteration 32, loss = 0.86239532\n",
      "Iteration 33, loss = 0.87087284\n",
      "Iteration 34, loss = 0.81991323\n",
      "Iteration 35, loss = 0.82207651\n",
      "Iteration 36, loss = 0.79413502\n",
      "Iteration 37, loss = 0.78153345\n",
      "Iteration 38, loss = 0.76279907\n",
      "Iteration 39, loss = 0.75161136\n",
      "Iteration 40, loss = 0.75955932\n",
      "Iteration 41, loss = 0.72781331\n",
      "Iteration 42, loss = 0.71106038\n",
      "Iteration 43, loss = 0.70744209\n",
      "Iteration 44, loss = 0.68702042\n",
      "Iteration 45, loss = 0.66495537\n",
      "Iteration 46, loss = 0.64904911\n",
      "Iteration 47, loss = 0.65457185\n",
      "Iteration 48, loss = 0.62273223\n",
      "Iteration 49, loss = 0.61811670\n",
      "Iteration 50, loss = 0.60608711\n",
      "Iteration 51, loss = 0.60720590\n",
      "Iteration 52, loss = 0.57961406\n",
      "Iteration 53, loss = 0.56688474\n",
      "Iteration 54, loss = 0.60464106\n",
      "Iteration 55, loss = 0.57356892\n",
      "Iteration 56, loss = 0.55426401\n",
      "Iteration 57, loss = 0.59387305\n",
      "Iteration 58, loss = 0.54788237\n",
      "Iteration 59, loss = 0.53579053\n",
      "Iteration 60, loss = 0.51280364\n",
      "Iteration 61, loss = 0.50279770\n",
      "Iteration 62, loss = 0.51712447\n",
      "Iteration 63, loss = 0.49711287\n",
      "Iteration 64, loss = 0.45876043\n",
      "Iteration 65, loss = 0.45134789\n",
      "Iteration 66, loss = 0.44507243\n",
      "Iteration 67, loss = 0.43591512\n",
      "Iteration 68, loss = 0.43346005\n",
      "Iteration 69, loss = 0.44199200\n",
      "Iteration 70, loss = 0.45806046\n",
      "Iteration 71, loss = 0.42388375\n",
      "Iteration 72, loss = 0.40758556\n",
      "Iteration 73, loss = 0.42460344\n",
      "Iteration 74, loss = 0.40628137\n",
      "Iteration 75, loss = 0.39670803\n",
      "Iteration 76, loss = 0.40271095\n",
      "Iteration 77, loss = 0.40103682\n",
      "Iteration 78, loss = 0.41007066\n",
      "Iteration 79, loss = 0.37739460\n",
      "Iteration 80, loss = 0.38310674\n",
      "Iteration 81, loss = 0.36651307\n",
      "Iteration 82, loss = 0.37335396\n",
      "Iteration 83, loss = 0.36659525\n",
      "Iteration 84, loss = 0.35203802\n",
      "Iteration 85, loss = 0.35820406\n",
      "Iteration 86, loss = 0.36184827\n",
      "Iteration 87, loss = 0.34745443\n",
      "Iteration 88, loss = 0.33423249\n",
      "Iteration 89, loss = 0.33651059\n",
      "Iteration 90, loss = 0.35208434\n",
      "Iteration 91, loss = 0.35179754\n",
      "Iteration 92, loss = 0.34573900\n",
      "Iteration 93, loss = 0.34382788\n",
      "Iteration 94, loss = 0.34297237\n",
      "Iteration 95, loss = 0.32649926\n",
      "Iteration 96, loss = 0.31985555\n",
      "Iteration 97, loss = 0.31747974\n",
      "Iteration 98, loss = 0.32264886\n",
      "Iteration 99, loss = 0.31409966\n",
      "Iteration 100, loss = 0.31924191\n",
      "Iteration 101, loss = 0.30479939\n",
      "Iteration 102, loss = 0.31014484\n",
      "Iteration 103, loss = 0.30715900\n",
      "Iteration 104, loss = 0.30991668\n",
      "Iteration 105, loss = 0.31974978\n",
      "Iteration 106, loss = 0.28990391\n",
      "Iteration 107, loss = 0.44132550\n",
      "Iteration 108, loss = 0.36365214\n",
      "Iteration 109, loss = 0.34007539\n",
      "Iteration 110, loss = 0.33152568\n",
      "Iteration 111, loss = 0.32051144\n",
      "Iteration 112, loss = 0.36449640\n",
      "Iteration 113, loss = 0.32552332\n",
      "Iteration 114, loss = 0.46924147\n",
      "Iteration 115, loss = 0.42402398\n",
      "Iteration 116, loss = 0.40768121\n",
      "Iteration 117, loss = 0.39872096\n",
      "Training loss did not improve more than tol=0.000100 for 10 consecutive epochs. Stopping.\n"
     ]
    }
   ],
   "source": [
    "mlp_clf = MLPClassifier(\n",
    "    hidden_layer_sizes=(3072, 2048, 2048, 2048, 1024), batch_size=32,\n",
    "    alpha=0.01,\n",
    "    max_iter=MAX_ITERS,\n",
    "    shuffle=True,\n",
    "    verbose=True,\n",
    "    random_state=42\n",
    ")\n",
    "\n",
    "mlp_clf = mlp_clf.fit(train_X, train_Y)"
   ]
  },
  {
   "cell_type": "code",
   "execution_count": 18,
   "id": "d5242296",
   "metadata": {},
   "outputs": [
    {
     "data": {
      "text/plain": [
       "0.902555910543131"
      ]
     },
     "execution_count": 18,
     "metadata": {},
     "output_type": "execute_result"
    }
   ],
   "source": [
    "mlp_clf.score(dev_X, dev_Y)"
   ]
  },
  {
   "cell_type": "code",
   "execution_count": 19,
   "id": "b3f7aa58",
   "metadata": {
    "scrolled": true
   },
   "outputs": [
    {
     "name": "stdout",
     "output_type": "stream",
     "text": [
      "Best Threshold=0.27656, F-Score=0.63309\n",
      "Best Threshold=0.30603, F-Score=0.65823\n",
      "Best Threshold=0.24029, F-Score=0.66667\n",
      "Best Threshold=0.16445, F-Score=0.52941\n"
     ]
    },
    {
     "name": "stderr",
     "output_type": "stream",
     "text": [
      "/tmp/.u3556490/ipykernel_5344/2469156714.py:15: RuntimeWarning: invalid value encountered in true_divide\n",
      "  fscore = (2 * precision * recall) / (precision + recall)\n"
     ]
    },
    {
     "data": {
      "image/png": "[encoded data removed]",
      "text/plain": [
       "<Figure size 432x288 with 1 Axes>"
      ]
     },
     "metadata": {
      "needs_background": "light"
     },
     "output_type": "display_data"
    }
   ],
   "source": [
    "best_thresholds, best_f1_scores = optimize_thresholds(mlp_clf, dev_X, dev_Y)"
   ]
  },
  {
   "cell_type": "code",
   "execution_count": 16,
   "id": "fd412392",
   "metadata": {},
   "outputs": [
    {
     "name": "stdout",
     "output_type": "stream",
     "text": [
      "Brier score losses: (the smaller the better)\n",
      "Class 0, no calibration: 0.047906\n",
      "Class 1, no calibration: 0.032992\n",
      "Class 2, no calibration: 0.019560\n",
      "Class 3, no calibration: 0.023650\n"
     ]
    },
    {
     "data": {
      "image/png": "[encoded data removed]",
      "text/plain": [
       "<Figure size 720x720 with 1 Axes>"
      ]
     },
     "metadata": {
      "needs_background": "light"
     },
     "output_type": "display_data"
    }
   ],
   "source": [
    "calibration_plot(mlp_clf, dev_X, dev_Y)"
   ]
  },
  {
   "cell_type": "code",
   "execution_count": 17,
   "id": "0c35a110",
   "metadata": {
    "scrolled": false
   },
   "outputs": [
    {
     "name": "stdout",
     "output_type": "stream",
     "text": [
      "              precision    recall  f1-score   support\n",
      "\n",
      "           0    0.55844   0.70492   0.62319        61\n",
      "           1    0.64103   0.64103   0.64103        39\n",
      "           2    0.66667   0.60000   0.63158        20\n",
      "           3    0.57143   0.42105   0.48485        19\n",
      "\n",
      "   micro avg    0.59459   0.63309   0.61324       139\n",
      "   macro avg    0.60939   0.59175   0.59516       139\n",
      "weighted avg    0.59896   0.63309   0.61049       139\n",
      " samples avg    0.06150   0.06390   0.05932       139\n",
      "\n"
     ]
    }
   ],
   "source": [
    "preds = predictions_with_thresholds(mlp_clf, best_thresholds, dev_X)\n",
    "print(classification_report(dev_Y, preds, zero_division=0, digits=5))"
   ]
  },
  {
   "cell_type": "code",
   "execution_count": 25,
   "id": "865f82fe",
   "metadata": {
    "scrolled": true
   },
   "outputs": [
    {
     "name": "stdout",
     "output_type": "stream",
     "text": [
      "Brier score losses: (the smaller the better)\n",
      "Class 0, no calibration: 0.227505\n",
      "Class 1, no calibration: 0.099304\n",
      "Class 2, no calibration: 0.028529\n",
      "Class 3, no calibration: 0.043839\n"
     ]
    },
    {
     "data": {
      "image/png": "[encoded data removed]",
      "text/plain": [
       "<Figure size 720x720 with 1 Axes>"
      ]
     },
     "metadata": {
      "needs_background": "light"
     },
     "output_type": "display_data"
    },
    {
     "name": "stdout",
     "output_type": "stream",
     "text": [
      "Best Threshold=0.50206, F-Score=0.54286\n",
      "Best Threshold=0.29052, F-Score=0.57971\n",
      "Best Threshold=0.17067, F-Score=0.78049\n",
      "Best Threshold=0.21157, F-Score=0.70968\n",
      "              precision    recall  f1-score   support\n",
      "\n",
      "           0    0.47436   0.60656   0.53237        61\n",
      "           1    0.65517   0.48718   0.55882        39\n",
      "           2    0.75000   0.75000   0.75000        20\n",
      "           3    0.90909   0.52632   0.66667        19\n",
      "\n",
      "   micro avg    0.58696   0.58273   0.58484       139\n",
      "   macro avg    0.69716   0.59251   0.62697       139\n",
      "weighted avg    0.62418   0.58273   0.58946       139\n",
      " samples avg    0.09026   0.06709   0.07409       139\n",
      "\n"
     ]
    },
    {
     "data": {
      "image/png": "[encoded data removed]",
      "text/plain": [
       "<Figure size 432x288 with 1 Axes>"
      ]
     },
     "metadata": {
      "needs_background": "light"
     },
     "output_type": "display_data"
    }
   ],
   "source": [
    "calibrated_mlp_clf = CalibratedClassifierCV(base_estimator=mlp_clf, cv=\"prefit\", ensemble=True, n_jobs=-1).fit(dev_X, dev_Y)\n",
    "calibration_plot(calibrated_mlp_clf, dev_X, dev_Y)\n",
    "best_thresholds, best_f1_scores = optimize_thresholds(calibrated_mlp_clf, dev_X, dev_Y)\n",
    "preds = predictions_with_thresholds(calibrated_mlp_clf, best_thresholds, dev_X)\n",
    "print(classification_report(dev_Y, preds, zero_division=0, digits=5))"
   ]
  },
  {
   "cell_type": "code",
   "execution_count": 14,
   "id": "78988efe",
   "metadata": {},
   "outputs": [],
   "source": [
    "save_sklearn_model_to_file(mlp_clf, \"mlpclf\")"
   ]
  },
  {
   "cell_type": "markdown",
   "id": "6d38a3fb",
   "metadata": {},
   "source": [
    "### Attempts to grid search a working configuration\n",
    "\n",
    "testing proper width:  \n",
    "first layer: (tested with x, 256 config) from 1024 to 65536, best value is around 32768.  \n",
    "second layer: (tested with 32768, x config) from 256 to 1024, best value is 256.  \n",
    "\n",
    "talking about depth, the next_layer := last_layer/2 strategy is used,  \n",
    "starting from 4096, five layers (among 3-5 layers) are good;  \n",
    "with five layers, starting from 8192 (among 4096-16384) is good\n",
    "\n",
    "single layer: candidates identified include 55, 485, 575, 840, 1185, 1300, 2500; but best seems useless"
   ]
  },
  {
   "cell_type": "code",
   "execution_count": 33,
   "id": "a2725b94",
   "metadata": {
    "scrolled": true
   },
   "outputs": [
    {
     "name": "stdout",
     "output_type": "stream",
     "text": [
      "Fitting 3 folds for each of 4 candidates, totalling 12 fits\n",
      "[CV] END ......................................batch_size=64; total time= 8.2min\n",
      "[CV] END ......................................batch_size=64; total time=18.9min\n",
      "[CV] END ......................................batch_size=64; total time=45.6min\n",
      "[CV] END .....................................batch_size=128; total time=35.2min\n",
      "[CV] END .....................................batch_size=512; total time=12.6min\n",
      "[CV] END .....................................batch_size=256; total time=28.1min\n",
      "[CV] END .....................................batch_size=256; total time=20.3min\n",
      "[CV] END ......................................batch_size=64; total time=49.0min\n",
      "[CV] END ......................................batch_size=64; total time=49.8min\n",
      "[CV] END .....................................batch_size=128; total time=53.4min\n"
     ]
    }
   ],
   "source": [
    "from sklearn.model_selection import GridSearchCV, RandomizedSearchCV\n",
    "from sklearn.metrics import make_scorer, f1_score\n",
    "\n",
    "param_grid = {\n",
    "   # \"hidden_layer_sizes\": [55, 485, 575, 840, 1185, 1300, 2500]\n",
    "    \"batch_size\": [64,128,256,512]\n",
    "}\n",
    "'''class RandIntMatrix(object):\n",
    "    def __init__(self, low, high, shape=(1)):\n",
    "        self.low = low\n",
    "        self.high = high\n",
    "        self.shape = shape\n",
    "\n",
    "    def rvs(self, random_state=None):\n",
    "        rng = np.random.default_rng(random_state.seed())\n",
    "        layers = rng.integers(1, self.shape+1,1)\n",
    "        return rng.integers(self.low, self.high+1, layers)'''\n",
    "\n",
    "estimator = MLPClassifier(hidden_layer_sizes=(3072,1024,1024,1024,1024), max_iter=MAX_ITERS, shuffle=True, random_state=42)\n",
    "\n",
    "scorer = make_scorer(f1_score, zero_division=0, average='macro')\n",
    "\n",
    "'''gscv = RandomizedSearchCV(\n",
    "    estimator, dict(hidden_layer_sizes=RandIntMatrix(20, 4096, 3)), n_iter=30, scoring=scorer, n_jobs=-1, verbose=2, cv=2, refit=False, random_state=0\n",
    ").fit(train_X, train_Y)'''\n",
    "\n",
    "gscv = GridSearchCV(estimator, param_grid, scoring=scorer, n_jobs=-1, verbose=2, cv=3, refit=False).fit(train_X, train_Y)"
   ]
  },
  {
   "cell_type": "code",
   "execution_count": 34,
   "id": "624640e0",
   "metadata": {
    "scrolled": true
   },
   "outputs": [
    {
     "data": {
      "text/plain": [
       "{'mean_fit_time': array([2887.13907695, 2574.19115623, 1776.24918739,  940.61575834]),\n",
       " 'std_fit_time': array([108.26294695, 461.98259953, 497.63784791, 146.78306245]),\n",
       " 'mean_score_time': array([1.32060774, 1.34811409, 1.41170653, 1.15688419]),\n",
       " 'std_score_time': array([0.08447856, 0.12233984, 0.05909382, 0.13513597]),\n",
       " 'param_batch_size': masked_array(data=[64, 128, 256, 512],\n",
       "              mask=[False, False, False, False],\n",
       "        fill_value='?',\n",
       "             dtype=object),\n",
       " 'params': [{'batch_size': 64},\n",
       "  {'batch_size': 128},\n",
       "  {'batch_size': 256},\n",
       "  {'batch_size': 512}],\n",
       " 'split0_test_score': array([0.55410292, 0.68319675, 0.67555257, 0.32423106]),\n",
       " 'split1_test_score': array([0.54482029, 0.52436495, 0.48958555, 0.48250406]),\n",
       " 'split2_test_score': array([0.58929059, 0.44827214, 0.47525448, 0.52298024]),\n",
       " 'mean_test_score': array([0.56273793, 0.55194461, 0.54679753, 0.44323845]),\n",
       " 'std_test_score': array([0.01915419, 0.09787022, 0.09123135, 0.08575799]),\n",
       " 'rank_test_score': array([1, 2, 3, 4], dtype=int32)}"
      ]
     },
     "execution_count": 34,
     "metadata": {},
     "output_type": "execute_result"
    }
   ],
   "source": [
    "gscv.cv_results_"
   ]
  },
  {
   "cell_type": "code",
   "execution_count": 10,
   "id": "2f455265",
   "metadata": {},
   "outputs": [
    {
     "data": {
      "text/plain": [
       "{'hidden_layer_sizes': array([4053, 3636, 3721])}"
      ]
     },
     "execution_count": 10,
     "metadata": {},
     "output_type": "execute_result"
    }
   ],
   "source": [
    "gscv.best_params_"
   ]
  },
  {
   "cell_type": "code",
   "execution_count": 11,
   "id": "1bffa4e5",
   "metadata": {},
   "outputs": [
    {
     "data": {
      "text/plain": [
       "0.5088469203530442"
      ]
     },
     "execution_count": 11,
     "metadata": {},
     "output_type": "execute_result"
    }
   ],
   "source": [
    "gscv.best_score_"
   ]
  },
  {
   "cell_type": "markdown",
   "id": "ead8f38f",
   "metadata": {},
   "source": [
    "### MLP Regressor\n",
    "\n",
    "Seems no configuration will work despite the decent-looking loss values."
   ]
  },
  {
   "cell_type": "code",
   "execution_count": 7,
   "id": "b9fd27f2",
   "metadata": {
    "scrolled": true
   },
   "outputs": [
    {
     "name": "stdout",
     "output_type": "stream",
     "text": [
      "Iteration 1, loss = 56232.90223912\n",
      "Iteration 2, loss = 134.15978019\n",
      "Iteration 3, loss = 48.75750038\n",
      "Iteration 4, loss = 62.44288339\n",
      "Iteration 5, loss = 0.72779964\n",
      "Iteration 6, loss = 0.72058224\n",
      "Iteration 7, loss = 0.73452139\n",
      "Iteration 8, loss = 0.70043175\n",
      "Iteration 9, loss = 0.94019241\n",
      "Iteration 10, loss = 1.73521915\n",
      "Iteration 11, loss = 7.84810034\n",
      "Iteration 12, loss = 0.72651579\n",
      "Iteration 13, loss = 0.97777555\n",
      "Iteration 14, loss = 1.32945862\n",
      "Iteration 15, loss = 5.92346928\n",
      "Iteration 16, loss = 0.67285321\n",
      "Iteration 17, loss = 0.76277600\n",
      "Iteration 18, loss = 1.43408110\n",
      "Iteration 19, loss = 4.56020982\n",
      "Iteration 20, loss = 1.37099055\n",
      "Iteration 21, loss = 0.56848399\n",
      "Iteration 22, loss = 0.54043216\n",
      "Iteration 23, loss = 0.54737127\n",
      "Iteration 24, loss = 0.60052432\n",
      "Iteration 25, loss = 0.56274392\n",
      "Iteration 26, loss = 0.69087120\n",
      "Iteration 27, loss = 0.88873043\n",
      "Iteration 28, loss = 0.58303813\n",
      "Iteration 29, loss = 0.60452513\n",
      "Iteration 30, loss = 0.58535113\n",
      "Iteration 31, loss = 0.66519952\n",
      "Iteration 32, loss = 1.47008080\n",
      "Iteration 33, loss = 0.51539586\n",
      "Iteration 34, loss = 0.96154081\n",
      "Iteration 35, loss = 0.49714009\n",
      "Iteration 36, loss = 0.49480472\n",
      "Iteration 37, loss = 0.53479851\n",
      "Iteration 38, loss = 0.48402426\n",
      "Iteration 39, loss = 0.48014243\n",
      "Iteration 40, loss = 0.47703383\n",
      "Iteration 41, loss = 0.48969458\n",
      "Iteration 42, loss = 0.47334115\n",
      "Iteration 43, loss = 0.47533767\n",
      "Iteration 44, loss = 0.46844266\n",
      "Iteration 45, loss = 0.46742104\n",
      "Iteration 46, loss = 0.47124619\n",
      "Iteration 47, loss = 0.46413275\n",
      "Iteration 48, loss = 0.46037332\n",
      "Iteration 49, loss = 0.45706210\n",
      "Iteration 50, loss = 0.46440772\n",
      "Iteration 51, loss = 0.45321727\n",
      "Iteration 52, loss = 0.45086440\n",
      "Iteration 53, loss = 0.44857433\n",
      "Iteration 54, loss = 0.44643889\n",
      "Iteration 55, loss = 0.44396036\n",
      "Iteration 56, loss = 0.44367287\n",
      "Iteration 57, loss = 0.45707064\n",
      "Iteration 58, loss = 0.44424236\n",
      "Iteration 59, loss = 0.43504401\n",
      "Iteration 60, loss = 0.44415980\n",
      "Iteration 61, loss = 0.43212773\n",
      "Iteration 62, loss = 0.42772012\n",
      "Iteration 63, loss = 0.42440435\n",
      "Iteration 64, loss = 0.43479512\n",
      "Iteration 65, loss = 0.42089328\n",
      "Iteration 66, loss = 0.41815856\n",
      "Iteration 67, loss = 0.41834066\n",
      "Iteration 68, loss = 0.41544579\n",
      "Iteration 69, loss = 0.41201350\n",
      "Iteration 70, loss = 0.40851707\n",
      "Iteration 71, loss = 0.40507162\n",
      "Iteration 72, loss = 0.40232099\n",
      "Iteration 73, loss = 0.39956884\n",
      "Iteration 74, loss = 0.39568012\n",
      "Iteration 75, loss = 0.39309915\n",
      "Iteration 76, loss = 0.38899923\n",
      "Iteration 77, loss = 0.39059607\n",
      "Iteration 78, loss = 0.39892213\n",
      "Iteration 79, loss = 0.38112811\n",
      "Iteration 80, loss = 0.38367019\n",
      "Iteration 81, loss = 0.38170427\n",
      "Iteration 82, loss = 0.37309477\n",
      "Iteration 83, loss = 0.36825435\n",
      "Iteration 84, loss = 0.36449534\n",
      "Iteration 85, loss = 0.36054525\n",
      "Iteration 86, loss = 0.35689053\n",
      "Iteration 87, loss = 0.35302650\n",
      "Iteration 88, loss = 0.34920149\n",
      "Iteration 89, loss = 0.34525799\n",
      "Iteration 90, loss = 0.34265240\n",
      "Iteration 91, loss = 0.35272771\n",
      "Iteration 92, loss = 0.33703663\n",
      "Iteration 93, loss = 0.33507629\n",
      "Iteration 94, loss = 0.32923559\n",
      "Iteration 95, loss = 0.32501472\n",
      "Iteration 96, loss = 0.32037905\n",
      "Iteration 97, loss = 0.31648218\n",
      "Iteration 98, loss = 0.31236988\n",
      "Iteration 99, loss = 0.30765577\n",
      "Iteration 100, loss = 0.30627321\n",
      "Iteration 101, loss = 0.29913927\n",
      "Iteration 102, loss = 0.29439810\n",
      "Iteration 103, loss = 0.29529732\n",
      "Iteration 104, loss = 0.28778349\n",
      "Iteration 105, loss = 0.28410163\n",
      "Iteration 106, loss = 0.27920304\n",
      "Iteration 107, loss = 0.27720067\n",
      "Iteration 108, loss = 0.27172243\n",
      "Iteration 109, loss = 0.27029214\n",
      "Iteration 110, loss = 0.26242552\n",
      "Iteration 111, loss = 0.25895626\n",
      "Iteration 112, loss = 0.25374215\n",
      "Iteration 113, loss = 0.25049777\n",
      "Iteration 114, loss = 0.24563638\n",
      "Iteration 115, loss = 1.87025120\n",
      "Iteration 116, loss = 0.26929782\n",
      "Iteration 117, loss = 0.26356614\n",
      "Iteration 118, loss = 0.35587921\n",
      "Iteration 119, loss = 0.25549355\n",
      "Iteration 120, loss = 0.25203051\n",
      "Iteration 121, loss = 0.24613375\n",
      "Iteration 122, loss = 0.24312695\n",
      "Iteration 123, loss = 0.23727772\n",
      "Iteration 124, loss = 0.59778916\n",
      "Iteration 125, loss = 0.23634852\n",
      "Iteration 126, loss = 0.23014981\n",
      "Iteration 127, loss = 0.22657241\n",
      "Iteration 128, loss = 0.22453498\n",
      "Iteration 129, loss = 0.22496059\n",
      "Iteration 130, loss = 0.23175742\n",
      "Iteration 131, loss = 0.22862289\n",
      "Iteration 132, loss = 0.25334611\n",
      "Iteration 133, loss = 0.20469349\n",
      "Iteration 134, loss = 0.20053276\n",
      "Iteration 135, loss = 0.19718407\n",
      "Iteration 136, loss = 0.19392656\n",
      "Iteration 137, loss = 0.18980257\n",
      "Iteration 138, loss = 0.18627903\n",
      "Iteration 139, loss = 0.18471212\n",
      "Iteration 140, loss = 0.19201905\n",
      "Iteration 141, loss = 0.18126162\n",
      "Iteration 142, loss = 0.18592536\n",
      "Iteration 143, loss = 0.17143656\n",
      "Iteration 144, loss = 0.16552366\n",
      "Iteration 145, loss = 0.16216870\n",
      "Iteration 146, loss = 0.15936648\n",
      "Iteration 147, loss = 0.15572824\n",
      "Iteration 148, loss = 0.15495553\n",
      "Iteration 149, loss = 0.15072789\n",
      "Iteration 150, loss = 0.14436316\n",
      "Iteration 151, loss = 0.14035120\n",
      "Iteration 152, loss = 0.13731080\n",
      "Iteration 153, loss = 0.13482330\n",
      "Iteration 154, loss = 0.12945013\n",
      "Iteration 155, loss = 0.12756196\n",
      "Iteration 156, loss = 0.12238517\n",
      "Iteration 157, loss = 0.11915018\n",
      "Iteration 158, loss = 0.11499680\n",
      "Iteration 159, loss = 0.11276641\n",
      "Iteration 160, loss = 0.10807900\n",
      "Iteration 161, loss = 0.10413767\n",
      "Iteration 162, loss = 0.10060317\n",
      "Iteration 163, loss = 0.09711509\n",
      "Iteration 164, loss = 0.11231395\n",
      "Iteration 165, loss = 0.09166468\n",
      "Iteration 166, loss = 0.09837677\n",
      "Iteration 167, loss = 0.08609924\n",
      "Iteration 168, loss = 0.08272178\n",
      "Iteration 169, loss = 0.49445542\n",
      "Iteration 170, loss = 0.09166076\n",
      "Iteration 171, loss = 0.08751330\n",
      "Iteration 172, loss = 0.08387452\n",
      "Iteration 173, loss = 0.08054809\n",
      "Iteration 174, loss = 0.07744280\n",
      "Iteration 175, loss = 0.07450195\n",
      "Iteration 176, loss = 0.07172496\n",
      "Iteration 177, loss = 0.06914828\n",
      "Iteration 178, loss = 0.06665140\n",
      "Iteration 179, loss = 0.06430450\n",
      "Iteration 180, loss = 0.06207068\n",
      "Iteration 181, loss = 0.05995327\n",
      "Iteration 182, loss = 0.05914782\n",
      "Iteration 183, loss = 0.05794927\n",
      "Iteration 184, loss = 0.05718948\n",
      "Iteration 185, loss = 0.05505801\n",
      "Iteration 186, loss = 0.05326859\n",
      "Iteration 187, loss = 3.29867926\n",
      "Iteration 188, loss = 0.06651147\n",
      "Iteration 189, loss = 0.05989985\n",
      "Iteration 190, loss = 0.05835446\n",
      "Iteration 191, loss = 0.05629282\n",
      "Iteration 192, loss = 0.05470644\n",
      "Iteration 193, loss = 0.05326685\n",
      "Iteration 194, loss = 0.05194912\n",
      "Iteration 195, loss = 0.05800350\n",
      "Iteration 196, loss = 0.05208584\n",
      "Iteration 197, loss = 0.05007872\n",
      "Iteration 198, loss = 0.04891815\n",
      "Iteration 199, loss = 0.04786744\n",
      "Iteration 200, loss = 0.04689465\n",
      "Iteration 201, loss = 0.04598679\n",
      "Iteration 202, loss = 0.04515004\n",
      "Iteration 203, loss = 0.04438578\n",
      "Iteration 204, loss = 0.04359827\n",
      "Iteration 205, loss = 0.04286352\n",
      "Iteration 206, loss = 0.04217878\n",
      "Iteration 207, loss = 0.04152085\n",
      "Iteration 208, loss = 0.04089576\n",
      "Iteration 209, loss = 0.04029725\n",
      "Iteration 210, loss = 0.03972534\n",
      "Iteration 211, loss = 0.04134146\n",
      "Iteration 212, loss = 0.03929595\n",
      "Iteration 213, loss = 0.03865467\n",
      "Iteration 214, loss = 0.03811176\n",
      "Iteration 215, loss = 0.03759884\n",
      "Iteration 216, loss = 0.03712047\n",
      "Iteration 217, loss = 0.03666903\n",
      "Iteration 218, loss = 0.03622681\n",
      "Iteration 219, loss = 0.03581201\n"
     ]
    },
    {
     "name": "stderr",
     "output_type": "stream",
     "text": [
      "/userhome/cs/u3556490/anaconda3/envs/test/lib/python3.9/site-packages/sklearn/neural_network/_multilayer_perceptron.py:699: UserWarning: Training interrupted by user.\n",
      "  warnings.warn(\"Training interrupted by user.\")\n"
     ]
    }
   ],
   "source": [
    "mlp_regr = MLPRegressor(\n",
    "    hidden_layer_sizes=(3072, 2048, 1024, 256),\n",
    "    batch_size=32,\n",
    "    max_iter=MAX_ITERS,\n",
    "    shuffle=True,\n",
    "    verbose=True,\n",
    "    alpha=0.01\n",
    ")\n",
    "\n",
    "mlp_regr = mlp_regr.fit(train_X, train_Y)"
   ]
  },
  {
   "cell_type": "code",
   "execution_count": 11,
   "id": "47c7d427",
   "metadata": {
    "scrolled": true
   },
   "outputs": [
    {
     "name": "stdout",
     "output_type": "stream",
     "text": [
      "Best Threshold=0.10953, F-Score=0.17758\n",
      "Best Threshold=0.07202, F-Score=0.11729\n",
      "Best Threshold=0.03156, F-Score=0.06192\n",
      "Best Threshold=0.01904, F-Score=0.05891\n"
     ]
    },
    {
     "data": {
      "image/png": "[encoded data removed]",
      "text/plain": [
       "<Figure size 432x288 with 1 Axes>"
      ]
     },
     "metadata": {
      "needs_background": "light"
     },
     "output_type": "display_data"
    }
   ],
   "source": [
    "best_thresholds, best_f1_scores = regressor_find_thresholds(mlp_regr, dev_X, dev_Y)"
   ]
  },
  {
   "cell_type": "code",
   "execution_count": 12,
   "id": "5b44069f",
   "metadata": {},
   "outputs": [
    {
     "name": "stdout",
     "output_type": "stream",
     "text": [
      "              precision    recall  f1-score   support\n",
      "\n",
      "           0    0.00000   0.00000   0.00000        61\n",
      "           1    0.00000   0.00000   0.00000        39\n",
      "           2    0.00000   0.00000   0.00000        20\n",
      "           3    0.00000   0.00000   0.00000        19\n",
      "\n",
      "   micro avg    0.00000   0.00000   0.00000       139\n",
      "   macro avg    0.00000   0.00000   0.00000       139\n",
      "weighted avg    0.00000   0.00000   0.00000       139\n",
      " samples avg    0.00000   0.00000   0.00000       139\n",
      "\n"
     ]
    }
   ],
   "source": [
    "preds = regression_label(mlp_regr, dev_X, best_thresholds)\n",
    "print(classification_report(dev_Y, preds, zero_division=0, digits=5))"
   ]
  },
  {
   "cell_type": "code",
   "execution_count": 15,
   "id": "3f7ef67f",
   "metadata": {},
   "outputs": [
    {
     "name": "stdout",
     "output_type": "stream",
     "text": [
      "Brier score losses: (the smaller the better)\n",
      "Class 0, no calibration: 0.088095\n",
      "Class 1, no calibration: 0.058514\n",
      "Class 2, no calibration: 0.030928\n",
      "Class 3, no calibration: 0.029558\n"
     ]
    },
    {
     "data": {
      "image/png": "[encoded data removed]",
      "text/plain": [
       "<Figure size 720x720 with 1 Axes>"
      ]
     },
     "metadata": {
      "needs_background": "light"
     },
     "output_type": "display_data"
    }
   ],
   "source": [
    "calibration_plot(mlp_regr, dev_X, dev_Y)"
   ]
  }
 ],
 "metadata": {
  "kernelspec": {
   "display_name": "Python 3 (ipykernel)",
   "language": "python",
   "name": "python3"
  },
  "language_info": {
   "codemirror_mode": {
    "name": "ipython",
    "version": 3
   },
   "file_extension": ".py",
   "mimetype": "text/x-python",
   "name": "python",
   "nbconvert_exporter": "python",
   "pygments_lexer": "ipython3",
   "version": "3.9.7"
  }
 },
 "nbformat": 4,
 "nbformat_minor": 5
}
