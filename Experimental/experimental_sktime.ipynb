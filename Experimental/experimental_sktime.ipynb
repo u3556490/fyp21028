{
 "cells": [
  {
   "cell_type": "markdown",
   "id": "634192f8",
   "metadata": {},
   "source": [
    "# Experimental Model Mark II: sktime\n",
    "\n",
    "For reference: baseline sktime forest classifier (copied from the corresponding notebook)\n",
    "\n",
    "f1-score \\[0.78655 0.77342 0.68837 0.71134\\] average 0.73992 (on TS set)  \n",
    "f1-score \\[0.72778 0.67456 0.60145 0.53684\\] average 0.63516 (600 => 0.64042, 700 => 0.64141, 800 => 0.68631) (on TSNV set)  \n",
    "\n",
    "### Imports and reading the dataset"
   ]
  },
  {
   "cell_type": "code",
   "execution_count": 1,
   "id": "bba48626",
   "metadata": {},
   "outputs": [],
   "source": [
    "import warnings\n",
    "warnings.simplefilter(action='ignore', category=FutureWarning)\n",
    "\n",
    "import numpy as np\n",
    "import pandas as pd\n",
    "import sys\n",
    "import os\n",
    "import matplotlib.pyplot as plt\n",
    "import seaborn as sns\n",
    "\n",
    "warnings.simplefilter(action='ignore', category=FutureWarning)\n",
    "%matplotlib inline"
   ]
  },
  {
   "cell_type": "code",
   "execution_count": 2,
   "id": "0b5ea3f4",
   "metadata": {
    "scrolled": true
   },
   "outputs": [
    {
     "name": "stdout",
     "output_type": "stream",
     "text": [
      "Training set size: 5633; Dev set size: 626; Testing set size: 696\n"
     ]
    }
   ],
   "source": [
    "from sklearn.model_selection import train_test_split\n",
    "\n",
    "def separateDataset(dataset, train_ratio):\n",
    "    '''\n",
    "    Takes in a dataset (pandas df) and a ratio value, returns a dictionary containing the separated dataset.\n",
    "    Key \"train\" = train set, \"dev\" = dev set (size = train ratio * (sizeof input df - test set)), \"test\" = test set (size = train ratio * sizeof input df)\n",
    "    '''\n",
    "    train_dev_set, test_set = train_test_split(dataset, train_size=train_ratio, random_state=42)\n",
    "    train_set, dev_set = train_test_split(train_dev_set, train_size=train_ratio, random_state=42)\n",
    "    print(\"Training set size: {0}; Dev set size: {1}; Testing set size: {2}\".format(len(train_set), len(dev_set), len(test_set)))\n",
    "    return { \"train\": train_set, \"dev\": dev_set, \"test\": test_set }\n",
    "\n",
    "def pandasToXY(dataframe):\n",
    "    '''\n",
    "    converts the given pandas df to X and Y sub-arrays. X is pandas df, Y is np int array.\n",
    "    note: the range of columns to select as Y must be double checked when a different dataset is used.\n",
    "    '''\n",
    "    X = dataframe.drop(['LOW_IMPACT', 'MID_IMPACT', 'BIG_IMPACT', 'DIRECT_STRIKE'], axis=1)\n",
    "    Y = np.asarray(dataframe.iloc[:,:4]).astype(int)\n",
    "    return X, Y\n",
    "\n",
    "dataset = pd.read_pickle('../Dataset/experimental_dataset_tsnv_24.gz')\n",
    "# train-dev-test splitting\n",
    "splitDataset = separateDataset(dataset, 0.9)\n",
    "# separate each of the 3 sets into X and Y\n",
    "train_full = splitDataset[\"train\"]\n",
    "train_X, train_Y = pandasToXY(train_full)\n",
    "dev_full = splitDataset[\"dev\"]\n",
    "dev_X, dev_Y = pandasToXY(dev_full)\n",
    "test_full = splitDataset[\"test\"]\n",
    "test_X, test_Y = pandasToXY(test_full)"
   ]
  },
  {
   "cell_type": "markdown",
   "id": "60ff3903",
   "metadata": {},
   "source": [
    "### Data Prepping"
   ]
  },
  {
   "cell_type": "code",
   "execution_count": 3,
   "id": "404deed2",
   "metadata": {
    "scrolled": true
   },
   "outputs": [
    {
     "name": "stdout",
     "output_type": "stream",
     "text": [
      "dropping ['DVMAX00', 'DVMAX06', 'DVMAX12', 'DVMAX18']\n",
      "Finished concatenating 100/5633 samples...\n",
      "Finished concatenating 200/5633 samples...\n",
      "Finished concatenating 300/5633 samples...\n",
      "Finished concatenating 400/5633 samples...\n",
      "Finished concatenating 500/5633 samples...\n",
      "Finished concatenating 600/5633 samples...\n",
      "Finished concatenating 700/5633 samples...\n",
      "Finished concatenating 800/5633 samples...\n",
      "Finished concatenating 900/5633 samples...\n",
      "Finished concatenating 1000/5633 samples...\n",
      "Finished concatenating 1100/5633 samples...\n",
      "Finished concatenating 1200/5633 samples...\n",
      "Finished concatenating 1300/5633 samples...\n",
      "Finished concatenating 1400/5633 samples...\n",
      "Finished concatenating 1500/5633 samples...\n",
      "Finished concatenating 1600/5633 samples...\n",
      "Finished concatenating 1700/5633 samples...\n",
      "Finished concatenating 1800/5633 samples...\n",
      "Finished concatenating 1900/5633 samples...\n",
      "Finished concatenating 2000/5633 samples...\n",
      "Finished concatenating 2100/5633 samples...\n",
      "Finished concatenating 2200/5633 samples...\n",
      "Finished concatenating 2300/5633 samples...\n",
      "Finished concatenating 2400/5633 samples...\n",
      "Finished concatenating 2500/5633 samples...\n",
      "Finished concatenating 2600/5633 samples...\n",
      "Finished concatenating 2700/5633 samples...\n",
      "Finished concatenating 2800/5633 samples...\n",
      "Finished concatenating 2900/5633 samples...\n",
      "Finished concatenating 3000/5633 samples...\n",
      "Finished concatenating 3100/5633 samples...\n",
      "Finished concatenating 3200/5633 samples...\n",
      "Finished concatenating 3300/5633 samples...\n",
      "Finished concatenating 3400/5633 samples...\n",
      "Finished concatenating 3500/5633 samples...\n",
      "Finished concatenating 3600/5633 samples...\n",
      "Finished concatenating 3700/5633 samples...\n",
      "Finished concatenating 3800/5633 samples...\n",
      "Finished concatenating 3900/5633 samples...\n",
      "Finished concatenating 4000/5633 samples...\n",
      "Finished concatenating 4100/5633 samples...\n",
      "Finished concatenating 4200/5633 samples...\n",
      "Finished concatenating 4300/5633 samples...\n",
      "Finished concatenating 4400/5633 samples...\n",
      "Finished concatenating 4500/5633 samples...\n",
      "Finished concatenating 4600/5633 samples...\n",
      "Finished concatenating 4700/5633 samples...\n",
      "Finished concatenating 4800/5633 samples...\n",
      "Finished concatenating 4900/5633 samples...\n",
      "Finished concatenating 5000/5633 samples...\n",
      "Finished concatenating 5100/5633 samples...\n",
      "Finished concatenating 5200/5633 samples...\n",
      "Finished concatenating 5300/5633 samples...\n",
      "Finished concatenating 5400/5633 samples...\n",
      "Finished concatenating 5500/5633 samples...\n",
      "Finished concatenating 5600/5633 samples...\n",
      "Completed\n",
      "dropping ['DVMAX00', 'DVMAX06', 'DVMAX12', 'DVMAX18']\n",
      "Finished concatenating 100/626 samples...\n",
      "Finished concatenating 200/626 samples...\n",
      "Finished concatenating 300/626 samples...\n",
      "Finished concatenating 400/626 samples...\n",
      "Finished concatenating 500/626 samples...\n",
      "Finished concatenating 600/626 samples...\n",
      "Completed\n"
     ]
    }
   ],
   "source": [
    "PAST_TRACK_LIMIT = 24\n",
    "\n",
    "def convert_X(dataset_X):\n",
    "    '''Takes in a (n_samples, n_features) Pandas dataframe and returns it in shape (n_samples, n_features, time_series_length)'''\n",
    "    to_drop = [\"DVMAX{0:02d}\".format(i) for i in range(0, PAST_TRACK_LIMIT, 6)]\n",
    "    print(\"dropping\", to_drop)\n",
    "    dataset_X = dataset_X.drop(to_drop, axis=1)\n",
    "    \n",
    "    processed_samples = 0\n",
    "    new_dataset = []\n",
    "    for index, row in dataset_X.iterrows():\n",
    "        new_row = []\n",
    "\n",
    "        # obtain time series for each feature        \n",
    "        for i in range(29):\n",
    "            feature_name = dataset_X.columns[i][:-2]\n",
    "            feature_series = []\n",
    "            for j in range(0, PAST_TRACK_LIMIT+6, 6):        \n",
    "                feature_series.append(row.loc[\"{0}{1:02d}\".format(feature_name, j)]) # access by column name\n",
    "            feature_series.reverse() # newest data come last\n",
    "            feature_series = pd.Series(data=feature_series) # correct type for each cell\n",
    "            new_row.append(feature_series)\n",
    "\n",
    "        # new_row = pd.Series(data=new_row, index=new_features)\n",
    "        new_dataset.append(new_row)\n",
    "        processed_samples += 1\n",
    "\n",
    "        if processed_samples % 100 == 0:\n",
    "            print(\"Finished concatenating {0}/{1} samples...\".format(processed_samples, dataset_X.shape[0]))\n",
    "\n",
    "    # get new column names\n",
    "    new_features = []\n",
    "    for i in range(10):\n",
    "            feature_name = dataset_X.columns[i][:-2]\n",
    "            new_features.append(feature_name)\n",
    "            \n",
    "    # convert types back\n",
    "    # converted_X = pd.DataFrame(new_dataset, columns=new_features)\n",
    "    converted_X = np.array(new_dataset)\n",
    "    print(\"Completed\")\n",
    "    return converted_X\n",
    "\n",
    "train_X = convert_X(train_X)\n",
    "dev_X = convert_X(dev_X)"
   ]
  },
  {
   "cell_type": "code",
   "execution_count": 4,
   "id": "c6f334ba",
   "metadata": {},
   "outputs": [
    {
     "name": "stdout",
     "output_type": "stream",
     "text": [
      "Before transform: (5633, 29, 5)\n",
      "After transform: (5633, 1)\n",
      "Each element is: (145,)\n"
     ]
    }
   ],
   "source": [
    "from sktime.transformations.panel.compose import ColumnConcatenator\n",
    "\n",
    "print(\"Before transform:\", train_X.shape)\n",
    "concat_train_X = ColumnConcatenator().fit_transform(train_X)\n",
    "concat_dev_X = ColumnConcatenator().fit_transform(dev_X)\n",
    "print(\"After transform:\", concat_train_X.shape)\n",
    "print(\"Each element is:\", concat_train_X.iloc[0].iloc[0].shape)"
   ]
  },
  {
   "cell_type": "code",
   "execution_count": 5,
   "id": "126294f4",
   "metadata": {},
   "outputs": [],
   "source": [
    "# problem checking\n",
    "X = np.asanyarray(concat_train_X)\n",
    "if (X.dtype.char in np.typecodes['AllFloat'] and not np.isfinite(X.sum()) and not np.isfinite(X).all()):\n",
    "    raise\n",
    "\n",
    "for i in range(5633):\n",
    "    if concat_train_X.iloc[i].iloc[0].isnull().values.any():\n",
    "        print(i)\n",
    "    if np.isinf(concat_train_X.iloc[i].iloc[0]).values.sum() > 0:\n",
    "        print(i)    "
   ]
  },
  {
   "cell_type": "markdown",
   "id": "284cebf5",
   "metadata": {},
   "source": [
    "### Tools"
   ]
  },
  {
   "cell_type": "code",
   "execution_count": 6,
   "id": "58e97185",
   "metadata": {},
   "outputs": [],
   "source": [
    "import joblib\n",
    "from datetime import datetime\n",
    "\n",
    "def save_sklearn_model_to_file(model, model_type, filename=None):\n",
    "    '''Saves a sklearn model to file. Takes in the model, a name for the model and optionally a full filename.'''\n",
    "    if filename == None:\n",
    "        filename = \"./models/experimental_model_{0}_{1}.skl\".format(model_type, str(datetime.now().strftime(\"%Y-%m-%d %H-%M\")))\n",
    "        \n",
    "    joblib.dump(model, filename)"
   ]
  },
  {
   "cell_type": "code",
   "execution_count": 7,
   "id": "103ec225",
   "metadata": {},
   "outputs": [],
   "source": [
    "#### FOR CLASSIFIERS\n",
    "from sklearn.multioutput import MultiOutputClassifier, MultiOutputRegressor\n",
    "from sklearn.metrics import accuracy_score, f1_score, recall_score, precision_score, precision_recall_curve, classification_report\n",
    "\n",
    "# convert predict_proba outputs of (n_targets, n_samples, 2) to (n_samples, n_classes)\n",
    "def get_multioutput_proba(preds):\n",
    "    '''Takes in a list of shape (n_targets, n_samples, 2) and converts it to np.array with shape (n_samples, n_targets)'''\n",
    "    preds = np.array(preds)\n",
    "    new_preds = []\n",
    "    for i in range(4):\n",
    "        new_preds.append(preds[i,:,1])\n",
    "    new_preds = np.array(new_preds).T\n",
    "    return new_preds\n",
    "\n",
    "# finds the best decision thresholds and the corresponding F1 scores\n",
    "# shows the precision-recall curve as well\n",
    "def optimize_thresholds(clf, datasetX, datasetY):\n",
    "    '''\n",
    "    Takes in a classifier, an input set X and a target set Y; returns the best decision thresholds and corresponding f1-scores;\n",
    "    displays the values and a precision recall curve.\n",
    "    '''\n",
    "    all_preds = clf.predict_proba(datasetX)\n",
    "    if isinstance(clf, MultiOutputClassifier):\n",
    "        all_preds = get_multioutput_proba(all_preds)\n",
    "    best_thresholds = []\n",
    "    best_f1_scores = []\n",
    "    n_classes = 4\n",
    "    for i in range(n_classes):\n",
    "        precision, recall, thresholds = precision_recall_curve(datasetY[:,i], all_preds[:,i])\n",
    "        # find best threshold\n",
    "        fscore = (2 * precision * recall) / (precision + recall)\n",
    "        ix = np.nanargmax(fscore)\n",
    "        best_thresholds.append(thresholds[ix])\n",
    "        best_f1_scores.append(fscore[ix])\n",
    "        print('Best Threshold={0:.05f}, F-Score={1:.05f}'.format(thresholds[ix], fscore[ix]))\n",
    "    \n",
    "    # plot the precision-recall curve for the model\n",
    "    plt.plot(recall, precision, marker='.', label='PR curve')\n",
    "    plt.scatter(recall[ix], precision[ix], marker='o', color='black', label='Best')\n",
    "    plt.xlabel('Recall')\n",
    "    plt.ylabel('Precision')\n",
    "    plt.title('Precision-Recall Curve for Direct Strike')\n",
    "    plt.legend()\n",
    "        \n",
    "    return best_thresholds, best_f1_scores\n",
    "\n",
    "# make predictions according to the given thresholds\n",
    "def predictions_with_thresholds(clf, thresholds, datasetX):\n",
    "    '''\n",
    "    Takes in a classifier, a list of decision thresholds and an input samples set X;\n",
    "    Returns deterministic predictions made using the model over X and the thresholds.\n",
    "    '''\n",
    "    preds_probs = clf.predict_proba(datasetX)  \n",
    "    if isinstance(clf, MultiOutputClassifier):\n",
    "        preds_probs = get_multioutput_proba(preds_probs)\n",
    "    n_classes = 4\n",
    "    preds = []\n",
    "    # iterate each predicted probability and compare against threshold\n",
    "    for i in range(len(preds_probs)):\n",
    "        pred_row = []\n",
    "        for j in range(n_classes):\n",
    "            if preds_probs[i,j] > thresholds[j]:\n",
    "                pred_row.append(1)\n",
    "            else:\n",
    "                pred_row.append(0)\n",
    "        preds.append(pred_row)\n",
    "    \n",
    "    return np.array(preds)"
   ]
  },
  {
   "cell_type": "code",
   "execution_count": 20,
   "id": "605ac1e4",
   "metadata": {},
   "outputs": [],
   "source": [
    "from scipy.special import expit\n",
    "\n",
    "def regression_predict(regr, datasetX, method='clip'):\n",
    "    '''\n",
    "    Takes in a regressor, an input samples set X and optionally a method argument (must be either \"sigmoid\" or \"clip\");\n",
    "    Returns predictions made by the regressor on X that have been rescaled to fall within [0,1] using the specified method.\n",
    "    '''\n",
    "    # method specifies how to handle inputs outside of 0-1 range: clip to 0 or 1, or pass through sigmoid\n",
    "    preds = regr.predict(datasetX)\n",
    "    if method == 'clip':\n",
    "        preds = np.clip(preds, 0, 1)\n",
    "    elif method == 'sigmoid':\n",
    "        preds = expit(preds)\n",
    "    return preds\n",
    "\n",
    "def regressor_find_thresholds(regr, datasetX, datasetY, method='clip'):\n",
    "    '''\n",
    "    Takes in a regressor, an input set X, a target set Y and optionally a scaling method;\n",
    "    returns the best decision thresholds and corresponding f1-scores;\n",
    "    displays the values and a precision recall curve.\n",
    "    '''\n",
    "    all_preds = regression_predict(regr, datasetX, method)\n",
    "    best_thresholds = []\n",
    "    best_f1_scores = []\n",
    "    for i in range(4):\n",
    "        precision, recall, thresholds = precision_recall_curve(datasetY[:,i], all_preds[:,i])\n",
    "        # find best threshold\n",
    "        fscore = (2 * precision * recall) / (precision + recall)\n",
    "        ix = np.nanargmax(fscore)\n",
    "        best_thresholds.append(thresholds[ix])\n",
    "        best_f1_scores.append(fscore[ix])\n",
    "        print('Best Threshold={0:.05f}, F-Score={1:.05f}'.format(thresholds[ix], fscore[ix]))\n",
    "\n",
    "    # plot the precision-recall curve for the model\n",
    "    plt.plot(recall, precision, marker='.', label='PR curve')\n",
    "    plt.scatter(recall[ix], precision[ix], marker='o', color='black', label='Best')\n",
    "    plt.xlabel('Recall')\n",
    "    plt.ylabel('Precision')\n",
    "    plt.title('Precision-Recall Curve for Direct Strike')\n",
    "    plt.legend()\n",
    "    \n",
    "    return best_thresholds, best_f1_scores\n",
    "\n",
    "def regression_label(regr, datasetX, thresholds, method='clip'):\n",
    "    '''\n",
    "    Takes in a regressor, a list of decision thresholds, an input samples set X and optionally a scaling method;\n",
    "    Returns deterministic predictions made using the model over X and the thresholds.\n",
    "    '''\n",
    "    preds_probs = regression_predict(regr, datasetX, method)\n",
    "    preds = []\n",
    "    # iterate each predicted probability and compare against threshold\n",
    "    for i in range(len(preds_probs)):\n",
    "        pred_row = []\n",
    "        for j in range(4):\n",
    "            if preds_probs[i,j] > thresholds[j]:\n",
    "                pred_row.append(1)\n",
    "            else:\n",
    "                pred_row.append(0)\n",
    "        preds.append(pred_row)\n",
    "    \n",
    "    return np.array(preds)"
   ]
  },
  {
   "cell_type": "code",
   "execution_count": 22,
   "id": "2f2cb444",
   "metadata": {},
   "outputs": [],
   "source": [
    "from sklearn.metrics import brier_score_loss\n",
    "from sklearn.calibration import CalibratedClassifierCV, CalibrationDisplay\n",
    "from matplotlib.gridspec import GridSpec\n",
    "\n",
    "def calibration_plot(clf, dataset_X, dataset_Y):\n",
    "    '''\n",
    "    Takes in a classifier, an input set X and a target set Y;\n",
    "    Calculates and shows Brier scores and plots calibration graphs for reference.\n",
    "    '''\n",
    "    # brier score loss\n",
    "    print(\"Brier score losses: (the smaller the better)\")  \n",
    "    all_preds = np.array(clf.predict_proba(dataset_X)) if not isinstance(clf, MultiOutputRegressor) else clf.predict(dataset_X)\n",
    "    for i in range(4):\n",
    "        if isinstance(clf, MultiOutputClassifier):\n",
    "            preds = all_preds[i,:,1]\n",
    "        else:            \n",
    "            preds = all_preds[:,i]\n",
    "        clf_score = brier_score_loss(dataset_Y[:,i], preds)\n",
    "        print(\"Class {0}, no calibration: {1:1.6f}\".format(i, clf_score))\n",
    "\n",
    "    # plot calibration graphs\n",
    "    fig = plt.figure(figsize=(10, 10))\n",
    "    gs = GridSpec(4, 2)\n",
    "    ax = fig.add_subplot(gs[:2, :2])\n",
    "\n",
    "    preds = all_preds\n",
    "    preds = preds[0,:,1] if isinstance(clf, MultiOutputClassifier) else preds[:,0]\n",
    "    display = CalibrationDisplay.from_predictions(dataset_Y[:,0], preds, n_bins=10, name=\"class 0\", ax=ax, strategy='uniform')\n",
    "    preds = all_preds\n",
    "    preds = preds[3,:,1] if isinstance(clf, MultiOutputClassifier) else preds[:,3]\n",
    "    display = CalibrationDisplay.from_predictions(dataset_Y[:,3], preds, n_bins=10, name=\"class 3\", ax=ax, strategy='uniform')\n",
    "\n",
    "    ax.grid()\n",
    "    plt.tight_layout()\n",
    "    plt.show()"
   ]
  },
  {
   "cell_type": "markdown",
   "id": "2cf43b81",
   "metadata": {},
   "source": [
    "### Time Series Forest Classifier\n",
    "\n",
    "Without additional hyperparameters: f1-score \\[0.89831 0.94872 0.85714 0.78788\\] average 0.87301  \n",
    "min_interval = 5, n_estimators = 250: f1-score \\[0.88889 0.92500 0.89474 0.83333\\] average 0.88549  \n",
    "min_interval = 5, n_estimators = 275: f1-score \\[0.88696 0.92308 0.89474 0.83333\\] average 0.88453  \n",
    "min_interval = 5, n_estimators = 300: f1-score \\[0.89256 0.93506 0.89474 0.83333\\] average **0.88892**\n",
    "\n",
    "Maybe calibration is going to be useful."
   ]
  },
  {
   "cell_type": "code",
   "execution_count": 9,
   "id": "2b130dd3",
   "metadata": {
    "scrolled": true
   },
   "outputs": [
    {
     "name": "stderr",
     "output_type": "stream",
     "text": [
      "/userhome/cs/u3556490/anaconda3/envs/test/lib/python3.9/site-packages/sktime/datatypes/_series/_check.py:43: FutureWarning: pandas.Int64Index is deprecated and will be removed from pandas in a future version. Use pandas.Index with the appropriate dtype instead.\n",
      "  VALID_INDEX_TYPES = (pd.Int64Index, pd.RangeIndex, pd.PeriodIndex, pd.DatetimeIndex)\n",
      "/userhome/cs/u3556490/anaconda3/envs/test/lib/python3.9/site-packages/sktime/datatypes/_hierarchical/_check.py:50: FutureWarning: pandas.Int64Index is deprecated and will be removed from pandas in a future version. Use pandas.Index with the appropriate dtype instead.\n",
      "  VALID_INDEX_TYPES = (pd.Int64Index, pd.RangeIndex, pd.PeriodIndex, pd.DatetimeIndex)\n",
      "/userhome/cs/u3556490/anaconda3/envs/test/lib/python3.9/site-packages/sktime/datatypes/_hierarchical/_check.py:51: FutureWarning: pandas.Int64Index is deprecated and will be removed from pandas in a future version. Use pandas.Index with the appropriate dtype instead.\n",
      "  VALID_MULTIINDEX_TYPES = (pd.Int64Index, pd.RangeIndex)\n",
      "/userhome/cs/u3556490/anaconda3/envs/test/lib/python3.9/site-packages/sktime/datatypes/_panel/_check.py:48: FutureWarning: pandas.Int64Index is deprecated and will be removed from pandas in a future version. Use pandas.Index with the appropriate dtype instead.\n",
      "  VALID_INDEX_TYPES = (pd.Int64Index, pd.RangeIndex, pd.PeriodIndex, pd.DatetimeIndex)\n",
      "/userhome/cs/u3556490/anaconda3/envs/test/lib/python3.9/site-packages/sktime/datatypes/_panel/_check.py:49: FutureWarning: pandas.Int64Index is deprecated and will be removed from pandas in a future version. Use pandas.Index with the appropriate dtype instead.\n",
      "  VALID_MULTIINDEX_TYPES = (pd.Int64Index, pd.RangeIndex)\n",
      "/userhome/cs/u3556490/anaconda3/envs/test/lib/python3.9/site-packages/sktime/datatypes/_series/_check.py:43: FutureWarning: pandas.Int64Index is deprecated and will be removed from pandas in a future version. Use pandas.Index with the appropriate dtype instead.\n",
      "  VALID_INDEX_TYPES = (pd.Int64Index, pd.RangeIndex, pd.PeriodIndex, pd.DatetimeIndex)\n",
      "/userhome/cs/u3556490/anaconda3/envs/test/lib/python3.9/site-packages/sktime/datatypes/_hierarchical/_check.py:50: FutureWarning: pandas.Int64Index is deprecated and will be removed from pandas in a future version. Use pandas.Index with the appropriate dtype instead.\n",
      "  VALID_INDEX_TYPES = (pd.Int64Index, pd.RangeIndex, pd.PeriodIndex, pd.DatetimeIndex)\n",
      "/userhome/cs/u3556490/anaconda3/envs/test/lib/python3.9/site-packages/sktime/datatypes/_hierarchical/_check.py:51: FutureWarning: pandas.Int64Index is deprecated and will be removed from pandas in a future version. Use pandas.Index with the appropriate dtype instead.\n",
      "  VALID_MULTIINDEX_TYPES = (pd.Int64Index, pd.RangeIndex)\n",
      "/userhome/cs/u3556490/anaconda3/envs/test/lib/python3.9/site-packages/sktime/datatypes/_panel/_check.py:48: FutureWarning: pandas.Int64Index is deprecated and will be removed from pandas in a future version. Use pandas.Index with the appropriate dtype instead.\n",
      "  VALID_INDEX_TYPES = (pd.Int64Index, pd.RangeIndex, pd.PeriodIndex, pd.DatetimeIndex)\n",
      "/userhome/cs/u3556490/anaconda3/envs/test/lib/python3.9/site-packages/sktime/datatypes/_panel/_check.py:49: FutureWarning: pandas.Int64Index is deprecated and will be removed from pandas in a future version. Use pandas.Index with the appropriate dtype instead.\n",
      "  VALID_MULTIINDEX_TYPES = (pd.Int64Index, pd.RangeIndex)\n",
      "/userhome/cs/u3556490/anaconda3/envs/test/lib/python3.9/site-packages/sktime/datatypes/_series/_check.py:43: FutureWarning: pandas.Int64Index is deprecated and will be removed from pandas in a future version. Use pandas.Index with the appropriate dtype instead.\n",
      "  VALID_INDEX_TYPES = (pd.Int64Index, pd.RangeIndex, pd.PeriodIndex, pd.DatetimeIndex)\n",
      "/userhome/cs/u3556490/anaconda3/envs/test/lib/python3.9/site-packages/sktime/datatypes/_hierarchical/_check.py:50: FutureWarning: pandas.Int64Index is deprecated and will be removed from pandas in a future version. Use pandas.Index with the appropriate dtype instead.\n",
      "  VALID_INDEX_TYPES = (pd.Int64Index, pd.RangeIndex, pd.PeriodIndex, pd.DatetimeIndex)\n",
      "/userhome/cs/u3556490/anaconda3/envs/test/lib/python3.9/site-packages/sktime/datatypes/_hierarchical/_check.py:51: FutureWarning: pandas.Int64Index is deprecated and will be removed from pandas in a future version. Use pandas.Index with the appropriate dtype instead.\n",
      "  VALID_MULTIINDEX_TYPES = (pd.Int64Index, pd.RangeIndex)\n",
      "/userhome/cs/u3556490/anaconda3/envs/test/lib/python3.9/site-packages/sktime/datatypes/_panel/_check.py:48: FutureWarning: pandas.Int64Index is deprecated and will be removed from pandas in a future version. Use pandas.Index with the appropriate dtype instead.\n",
      "  VALID_INDEX_TYPES = (pd.Int64Index, pd.RangeIndex, pd.PeriodIndex, pd.DatetimeIndex)\n",
      "/userhome/cs/u3556490/anaconda3/envs/test/lib/python3.9/site-packages/sktime/datatypes/_panel/_check.py:49: FutureWarning: pandas.Int64Index is deprecated and will be removed from pandas in a future version. Use pandas.Index with the appropriate dtype instead.\n",
      "  VALID_MULTIINDEX_TYPES = (pd.Int64Index, pd.RangeIndex)\n",
      "/userhome/cs/u3556490/anaconda3/envs/test/lib/python3.9/site-packages/sktime/datatypes/_series/_check.py:43: FutureWarning: pandas.Int64Index is deprecated and will be removed from pandas in a future version. Use pandas.Index with the appropriate dtype instead.\n",
      "  VALID_INDEX_TYPES = (pd.Int64Index, pd.RangeIndex, pd.PeriodIndex, pd.DatetimeIndex)\n",
      "/userhome/cs/u3556490/anaconda3/envs/test/lib/python3.9/site-packages/sktime/datatypes/_hierarchical/_check.py:50: FutureWarning: pandas.Int64Index is deprecated and will be removed from pandas in a future version. Use pandas.Index with the appropriate dtype instead.\n",
      "  VALID_INDEX_TYPES = (pd.Int64Index, pd.RangeIndex, pd.PeriodIndex, pd.DatetimeIndex)\n",
      "/userhome/cs/u3556490/anaconda3/envs/test/lib/python3.9/site-packages/sktime/datatypes/_hierarchical/_check.py:51: FutureWarning: pandas.Int64Index is deprecated and will be removed from pandas in a future version. Use pandas.Index with the appropriate dtype instead.\n",
      "  VALID_MULTIINDEX_TYPES = (pd.Int64Index, pd.RangeIndex)\n",
      "/userhome/cs/u3556490/anaconda3/envs/test/lib/python3.9/site-packages/sktime/datatypes/_panel/_check.py:48: FutureWarning: pandas.Int64Index is deprecated and will be removed from pandas in a future version. Use pandas.Index with the appropriate dtype instead.\n",
      "  VALID_INDEX_TYPES = (pd.Int64Index, pd.RangeIndex, pd.PeriodIndex, pd.DatetimeIndex)\n",
      "/userhome/cs/u3556490/anaconda3/envs/test/lib/python3.9/site-packages/sktime/datatypes/_panel/_check.py:49: FutureWarning: pandas.Int64Index is deprecated and will be removed from pandas in a future version. Use pandas.Index with the appropriate dtype instead.\n",
      "  VALID_MULTIINDEX_TYPES = (pd.Int64Index, pd.RangeIndex)\n",
      "/userhome/cs/u3556490/anaconda3/envs/test/lib/python3.9/site-packages/sktime/datatypes/_series/_check.py:43: FutureWarning: pandas.Int64Index is deprecated and will be removed from pandas in a future version. Use pandas.Index with the appropriate dtype instead.\n",
      "  VALID_INDEX_TYPES = (pd.Int64Index, pd.RangeIndex, pd.PeriodIndex, pd.DatetimeIndex)\n",
      "/userhome/cs/u3556490/anaconda3/envs/test/lib/python3.9/site-packages/sktime/datatypes/_hierarchical/_check.py:50: FutureWarning: pandas.Int64Index is deprecated and will be removed from pandas in a future version. Use pandas.Index with the appropriate dtype instead.\n",
      "  VALID_INDEX_TYPES = (pd.Int64Index, pd.RangeIndex, pd.PeriodIndex, pd.DatetimeIndex)\n",
      "/userhome/cs/u3556490/anaconda3/envs/test/lib/python3.9/site-packages/sktime/datatypes/_hierarchical/_check.py:51: FutureWarning: pandas.Int64Index is deprecated and will be removed from pandas in a future version. Use pandas.Index with the appropriate dtype instead.\n",
      "  VALID_MULTIINDEX_TYPES = (pd.Int64Index, pd.RangeIndex)\n",
      "/userhome/cs/u3556490/anaconda3/envs/test/lib/python3.9/site-packages/sktime/datatypes/_panel/_check.py:48: FutureWarning: pandas.Int64Index is deprecated and will be removed from pandas in a future version. Use pandas.Index with the appropriate dtype instead.\n",
      "  VALID_INDEX_TYPES = (pd.Int64Index, pd.RangeIndex, pd.PeriodIndex, pd.DatetimeIndex)\n",
      "/userhome/cs/u3556490/anaconda3/envs/test/lib/python3.9/site-packages/sktime/datatypes/_panel/_check.py:49: FutureWarning: pandas.Int64Index is deprecated and will be removed from pandas in a future version. Use pandas.Index with the appropriate dtype instead.\n",
      "  VALID_MULTIINDEX_TYPES = (pd.Int64Index, pd.RangeIndex)\n",
      "/userhome/cs/u3556490/anaconda3/envs/test/lib/python3.9/site-packages/sktime/datatypes/_series/_check.py:43: FutureWarning: pandas.Int64Index is deprecated and will be removed from pandas in a future version. Use pandas.Index with the appropriate dtype instead.\n",
      "  VALID_INDEX_TYPES = (pd.Int64Index, pd.RangeIndex, pd.PeriodIndex, pd.DatetimeIndex)\n",
      "/userhome/cs/u3556490/anaconda3/envs/test/lib/python3.9/site-packages/sktime/datatypes/_hierarchical/_check.py:50: FutureWarning: pandas.Int64Index is deprecated and will be removed from pandas in a future version. Use pandas.Index with the appropriate dtype instead.\n",
      "  VALID_INDEX_TYPES = (pd.Int64Index, pd.RangeIndex, pd.PeriodIndex, pd.DatetimeIndex)\n",
      "/userhome/cs/u3556490/anaconda3/envs/test/lib/python3.9/site-packages/sktime/datatypes/_hierarchical/_check.py:51: FutureWarning: pandas.Int64Index is deprecated and will be removed from pandas in a future version. Use pandas.Index with the appropriate dtype instead.\n",
      "  VALID_MULTIINDEX_TYPES = (pd.Int64Index, pd.RangeIndex)\n",
      "/userhome/cs/u3556490/anaconda3/envs/test/lib/python3.9/site-packages/sktime/datatypes/_series/_check.py:43: FutureWarning: pandas.Int64Index is deprecated and will be removed from pandas in a future version. Use pandas.Index with the appropriate dtype instead.\n",
      "  VALID_INDEX_TYPES = (pd.Int64Index, pd.RangeIndex, pd.PeriodIndex, pd.DatetimeIndex)\n",
      "/userhome/cs/u3556490/anaconda3/envs/test/lib/python3.9/site-packages/sktime/datatypes/_hierarchical/_check.py:50: FutureWarning: pandas.Int64Index is deprecated and will be removed from pandas in a future version. Use pandas.Index with the appropriate dtype instead.\n",
      "  VALID_INDEX_TYPES = (pd.Int64Index, pd.RangeIndex, pd.PeriodIndex, pd.DatetimeIndex)\n",
      "/userhome/cs/u3556490/anaconda3/envs/test/lib/python3.9/site-packages/sktime/datatypes/_hierarchical/_check.py:51: FutureWarning: pandas.Int64Index is deprecated and will be removed from pandas in a future version. Use pandas.Index with the appropriate dtype instead.\n",
      "  VALID_MULTIINDEX_TYPES = (pd.Int64Index, pd.RangeIndex)\n",
      "/userhome/cs/u3556490/anaconda3/envs/test/lib/python3.9/site-packages/sktime/datatypes/_panel/_check.py:48: FutureWarning: pandas.Int64Index is deprecated and will be removed from pandas in a future version. Use pandas.Index with the appropriate dtype instead.\n",
      "  VALID_INDEX_TYPES = (pd.Int64Index, pd.RangeIndex, pd.PeriodIndex, pd.DatetimeIndex)\n",
      "/userhome/cs/u3556490/anaconda3/envs/test/lib/python3.9/site-packages/sktime/datatypes/_panel/_check.py:49: FutureWarning: pandas.Int64Index is deprecated and will be removed from pandas in a future version. Use pandas.Index with the appropriate dtype instead.\n",
      "  VALID_MULTIINDEX_TYPES = (pd.Int64Index, pd.RangeIndex)\n",
      "/userhome/cs/u3556490/anaconda3/envs/test/lib/python3.9/site-packages/sktime/datatypes/_series/_check.py:43: FutureWarning: pandas.Int64Index is deprecated and will be removed from pandas in a future version. Use pandas.Index with the appropriate dtype instead.\n",
      "  VALID_INDEX_TYPES = (pd.Int64Index, pd.RangeIndex, pd.PeriodIndex, pd.DatetimeIndex)\n",
      "/userhome/cs/u3556490/anaconda3/envs/test/lib/python3.9/site-packages/sktime/datatypes/_panel/_check.py:48: FutureWarning: pandas.Int64Index is deprecated and will be removed from pandas in a future version. Use pandas.Index with the appropriate dtype instead.\n",
      "  VALID_INDEX_TYPES = (pd.Int64Index, pd.RangeIndex, pd.PeriodIndex, pd.DatetimeIndex)\n",
      "/userhome/cs/u3556490/anaconda3/envs/test/lib/python3.9/site-packages/sktime/datatypes/_panel/_check.py:49: FutureWarning: pandas.Int64Index is deprecated and will be removed from pandas in a future version. Use pandas.Index with the appropriate dtype instead.\n",
      "  VALID_MULTIINDEX_TYPES = (pd.Int64Index, pd.RangeIndex)\n",
      "/userhome/cs/u3556490/anaconda3/envs/test/lib/python3.9/site-packages/sktime/datatypes/_hierarchical/_check.py:50: FutureWarning: pandas.Int64Index is deprecated and will be removed from pandas in a future version. Use pandas.Index with the appropriate dtype instead.\n",
      "  VALID_INDEX_TYPES = (pd.Int64Index, pd.RangeIndex, pd.PeriodIndex, pd.DatetimeIndex)\n",
      "/userhome/cs/u3556490/anaconda3/envs/test/lib/python3.9/site-packages/sktime/datatypes/_hierarchical/_check.py:51: FutureWarning: pandas.Int64Index is deprecated and will be removed from pandas in a future version. Use pandas.Index with the appropriate dtype instead.\n",
      "  VALID_MULTIINDEX_TYPES = (pd.Int64Index, pd.RangeIndex)\n",
      "/userhome/cs/u3556490/anaconda3/envs/test/lib/python3.9/site-packages/sktime/datatypes/_panel/_check.py:48: FutureWarning: pandas.Int64Index is deprecated and will be removed from pandas in a future version. Use pandas.Index with the appropriate dtype instead.\n",
      "  VALID_INDEX_TYPES = (pd.Int64Index, pd.RangeIndex, pd.PeriodIndex, pd.DatetimeIndex)\n",
      "/userhome/cs/u3556490/anaconda3/envs/test/lib/python3.9/site-packages/sktime/datatypes/_panel/_check.py:49: FutureWarning: pandas.Int64Index is deprecated and will be removed from pandas in a future version. Use pandas.Index with the appropriate dtype instead.\n",
      "  VALID_MULTIINDEX_TYPES = (pd.Int64Index, pd.RangeIndex)\n"
     ]
    },
    {
     "name": "stdout",
     "output_type": "stream",
     "text": [
      "Best Threshold=0.40333, F-Score=0.90164\n",
      "Best Threshold=0.39000, F-Score=0.96203\n",
      "Best Threshold=0.28000, F-Score=0.92308\n",
      "Best Threshold=0.16667, F-Score=0.86486\n"
     ]
    },
    {
     "data": {
      "image/png": "[encoded data removed]",
      "text/plain": [
       "<Figure size 432x288 with 1 Axes>"
      ]
     },
     "metadata": {
      "needs_background": "light"
     },
     "output_type": "display_data"
    }
   ],
   "source": [
    "from sktime.classification.interval_based import TimeSeriesForestClassifier\n",
    "\n",
    "tsfs_clf = TimeSeriesForestClassifier(min_interval=5, n_estimators=300, n_jobs=-1, random_state=42)\n",
    "tsfs_clf = MultiOutputClassifier(tsfs_clf, n_jobs=-1).fit(concat_train_X, train_Y)\n",
    "best_thresholds, best_f1_scores = optimize_thresholds(tsfs_clf, concat_dev_X, dev_Y)"
   ]
  },
  {
   "cell_type": "code",
   "execution_count": 10,
   "id": "2fe776ed",
   "metadata": {
    "scrolled": false
   },
   "outputs": [
    {
     "name": "stdout",
     "output_type": "stream",
     "text": [
      "Brier score losses: (the smaller the better)\n",
      "Class 0, no calibration: 0.025797\n",
      "Class 1, no calibration: 0.015523\n",
      "Class 2, no calibration: 0.011284\n",
      "Class 3, no calibration: 0.015081\n"
     ]
    },
    {
     "data": {
      "image/png": "[encoded data removed]",
      "text/plain": [
       "<Figure size 720x720 with 1 Axes>"
      ]
     },
     "metadata": {
      "needs_background": "light"
     },
     "output_type": "display_data"
    }
   ],
   "source": [
    "calibration_plot(tsfs_clf, concat_dev_X, dev_Y)"
   ]
  },
  {
   "cell_type": "code",
   "execution_count": 11,
   "id": "5ae76173",
   "metadata": {
    "scrolled": true
   },
   "outputs": [
    {
     "name": "stdout",
     "output_type": "stream",
     "text": [
      "              precision    recall  f1-score   support\n",
      "\n",
      "           0    0.90000   0.88525   0.89256        61\n",
      "           1    0.94737   0.92308   0.93506        39\n",
      "           2    0.94444   0.85000   0.89474        20\n",
      "           3    0.88235   0.78947   0.83333        19\n",
      "\n",
      "   micro avg    0.91729   0.87770   0.89706       139\n",
      "   macro avg    0.91854   0.86195   0.88892       139\n",
      "weighted avg    0.91727   0.87770   0.89670       139\n",
      " samples avg    0.08879   0.08866   0.08744       139\n",
      "\n"
     ]
    }
   ],
   "source": [
    "preds = predictions_with_thresholds(tsfs_clf, best_thresholds, concat_dev_X)\n",
    "print(classification_report(dev_Y, preds, zero_division=0, digits=5))"
   ]
  },
  {
   "cell_type": "code",
   "execution_count": 12,
   "id": "f2cbdf00",
   "metadata": {},
   "outputs": [],
   "source": [
    "save_sklearn_model_to_file(tsfs_clf, \"gscv_tsfs_clf\")"
   ]
  },
  {
   "cell_type": "markdown",
   "id": "20a73acc",
   "metadata": {},
   "source": [
    "### Optimization\n",
    "\n",
    "min_interval: best value in 1-9 is 5  \n",
    "n_estimators: best value in 100-600 is 250-275  "
   ]
  },
  {
   "cell_type": "code",
   "execution_count": 58,
   "id": "7123f316",
   "metadata": {
    "scrolled": true
   },
   "outputs": [
    {
     "name": "stdout",
     "output_type": "stream",
     "text": [
      "Fitting 3 folds for each of 4 candidates, totalling 12 fits\n"
     ]
    },
    {
     "name": "stderr",
     "output_type": "stream",
     "text": [
      "/userhome/cs/u3556490/anaconda3/envs/test/lib/python3.9/site-packages/sklearn/model_selection/_validation.py:770: UserWarning: Scoring failed. The score on this train-test partition for these parameters will be set to 0.0. Details: \n",
      "Traceback (most recent call last):\n",
      "  File \"/userhome/cs/u3556490/anaconda3/envs/test/lib/python3.9/site-packages/pandas/core/indexes/base.py\", line 3621, in get_loc\n",
      "    return self._engine.get_loc(casted_key)\n",
      "  File \"pandas/_libs/index.pyx\", line 136, in pandas._libs.index.IndexEngine.get_loc\n",
      "  File \"pandas/_libs/index.pyx\", line 163, in pandas._libs.index.IndexEngine.get_loc\n",
      "  File \"pandas/_libs/hashtable_class_helper.pxi\", line 2131, in pandas._libs.hashtable.Int64HashTable.get_item\n",
      "  File \"pandas/_libs/hashtable_class_helper.pxi\", line 2140, in pandas._libs.hashtable.Int64HashTable.get_item\n",
      "KeyError: 1\n",
      "\n",
      "The above exception was the direct cause of the following exception:\n",
      "\n",
      "Traceback (most recent call last):\n",
      "  File \"/userhome/cs/u3556490/anaconda3/envs/test/lib/python3.9/site-packages/sklearn/model_selection/_validation.py\", line 761, in _score\n",
      "    scores = scorer(estimator, X_test, y_test)\n",
      "  File \"/userhome/cs/u3556490/anaconda3/envs/test/lib/python3.9/site-packages/sklearn/metrics/_scorer.py\", line 216, in __call__\n",
      "    return self._score(\n",
      "  File \"/userhome/cs/u3556490/anaconda3/envs/test/lib/python3.9/site-packages/sklearn/metrics/_scorer.py\", line 258, in _score\n",
      "    y_pred = method_caller(estimator, \"predict\", X)\n",
      "  File \"/userhome/cs/u3556490/anaconda3/envs/test/lib/python3.9/site-packages/sklearn/metrics/_scorer.py\", line 68, in _cached_call\n",
      "    return getattr(estimator, method)(*args, **kwargs)\n",
      "  File \"/userhome/cs/u3556490/anaconda3/envs/test/lib/python3.9/site-packages/sklearn/multioutput.py\", line 234, in predict\n",
      "    y = Parallel(n_jobs=self.n_jobs)(\n",
      "  File \"/userhome/cs/u3556490/anaconda3/envs/test/lib/python3.9/site-packages/joblib/parallel.py\", line 1056, in __call__\n",
      "    self.retrieve()\n",
      "  File \"/userhome/cs/u3556490/anaconda3/envs/test/lib/python3.9/site-packages/joblib/parallel.py\", line 935, in retrieve\n",
      "    self._output.extend(job.get(timeout=self.timeout))\n",
      "  File \"/userhome/cs/u3556490/anaconda3/envs/test/lib/python3.9/multiprocessing/pool.py\", line 771, in get\n",
      "    raise self._value\n",
      "  File \"/userhome/cs/u3556490/anaconda3/envs/test/lib/python3.9/multiprocessing/pool.py\", line 125, in worker\n",
      "    result = (True, func(*args, **kwds))\n",
      "  File \"/userhome/cs/u3556490/anaconda3/envs/test/lib/python3.9/site-packages/joblib/_parallel_backends.py\", line 595, in __call__\n",
      "    return self.func(*args, **kwargs)\n",
      "  File \"/userhome/cs/u3556490/anaconda3/envs/test/lib/python3.9/site-packages/joblib/parallel.py\", line 262, in __call__\n",
      "    return [func(*args, **kwargs)\n",
      "  File \"/userhome/cs/u3556490/anaconda3/envs/test/lib/python3.9/site-packages/joblib/parallel.py\", line 262, in <listcomp>\n",
      "    return [func(*args, **kwargs)\n",
      "  File \"/userhome/cs/u3556490/anaconda3/envs/test/lib/python3.9/site-packages/sklearn/utils/fixes.py\", line 216, in __call__\n",
      "    return self.function(*args, **kwargs)\n",
      "  File \"/userhome/cs/u3556490/anaconda3/envs/test/lib/python3.9/site-packages/sktime/classification/interval_based/_tsf.py\", line 100, in predict\n",
      "    return BaseClassifier.predict(self, X=X, **kwargs)\n",
      "  File \"/userhome/cs/u3556490/anaconda3/envs/test/lib/python3.9/site-packages/sktime/classification/base.py\", line 156, in predict\n",
      "    X = self._check_convert_X_for_predict(X)\n",
      "  File \"/userhome/cs/u3556490/anaconda3/envs/test/lib/python3.9/site-packages/sktime/classification/base.py\", line 233, in _check_convert_X_for_predict\n",
      "    X_metadata = _check_classifier_input(X)\n",
      "  File \"/userhome/cs/u3556490/anaconda3/envs/test/lib/python3.9/site-packages/sktime/classification/base.py\", line 413, in _check_classifier_input\n",
      "    X_valid, _, X_metadata = check_is_scitype(X, scitype=\"Panel\", return_metadata=True)\n",
      "  File \"/userhome/cs/u3556490/anaconda3/envs/test/lib/python3.9/site-packages/sktime/datatypes/_check.py\", line 453, in check_is_scitype\n",
      "    res = check_dict[key](obj, return_metadata=return_metadata, var_name=var_name)\n",
      "  File \"/userhome/cs/u3556490/anaconda3/envs/test/lib/python3.9/site-packages/sktime/datatypes/_panel/_check.py\", line 329, in is_nested_dataframe\n",
      "    metadata[\"has_nans\"] = _nested_dataframe_has_nans(obj)\n",
      "  File \"/userhome/cs/u3556490/anaconda3/envs/test/lib/python3.9/site-packages/sktime/datatypes/_panel/_check.py\", line 285, in _nested_dataframe_has_nans\n",
      "    if pd.isna(s[k]):\n",
      "  File \"/userhome/cs/u3556490/anaconda3/envs/test/lib/python3.9/site-packages/pandas/core/series.py\", line 958, in __getitem__\n",
      "    return self._get_value(key)\n",
      "  File \"/userhome/cs/u3556490/anaconda3/envs/test/lib/python3.9/site-packages/pandas/core/series.py\", line 1069, in _get_value\n",
      "    loc = self.index.get_loc(label)\n",
      "  File \"/userhome/cs/u3556490/anaconda3/envs/test/lib/python3.9/site-packages/pandas/core/indexes/base.py\", line 3623, in get_loc\n",
      "    raise KeyError(key) from err\n",
      "KeyError: 1\n",
      "\n",
      "  warnings.warn(\n",
      "/userhome/cs/u3556490/anaconda3/envs/test/lib/python3.9/site-packages/sklearn/model_selection/_validation.py:770: UserWarning: Scoring failed. The score on this train-test partition for these parameters will be set to 0.0. Details: \n",
      "Traceback (most recent call last):\n",
      "  File \"/userhome/cs/u3556490/anaconda3/envs/test/lib/python3.9/site-packages/pandas/core/indexes/base.py\", line 3621, in get_loc\n",
      "    return self._engine.get_loc(casted_key)\n",
      "  File \"pandas/_libs/index.pyx\", line 136, in pandas._libs.index.IndexEngine.get_loc\n",
      "  File \"pandas/_libs/index.pyx\", line 163, in pandas._libs.index.IndexEngine.get_loc\n",
      "  File \"pandas/_libs/hashtable_class_helper.pxi\", line 2131, in pandas._libs.hashtable.Int64HashTable.get_item\n",
      "  File \"pandas/_libs/hashtable_class_helper.pxi\", line 2140, in pandas._libs.hashtable.Int64HashTable.get_item\n",
      "KeyError: 1\n",
      "\n",
      "The above exception was the direct cause of the following exception:\n",
      "\n",
      "Traceback (most recent call last):\n",
      "  File \"/userhome/cs/u3556490/anaconda3/envs/test/lib/python3.9/site-packages/sklearn/model_selection/_validation.py\", line 761, in _score\n",
      "    scores = scorer(estimator, X_test, y_test)\n",
      "  File \"/userhome/cs/u3556490/anaconda3/envs/test/lib/python3.9/site-packages/sklearn/metrics/_scorer.py\", line 216, in __call__\n",
      "    return self._score(\n",
      "  File \"/userhome/cs/u3556490/anaconda3/envs/test/lib/python3.9/site-packages/sklearn/metrics/_scorer.py\", line 258, in _score\n",
      "    y_pred = method_caller(estimator, \"predict\", X)\n",
      "  File \"/userhome/cs/u3556490/anaconda3/envs/test/lib/python3.9/site-packages/sklearn/metrics/_scorer.py\", line 68, in _cached_call\n",
      "    return getattr(estimator, method)(*args, **kwargs)\n",
      "  File \"/userhome/cs/u3556490/anaconda3/envs/test/lib/python3.9/site-packages/sklearn/multioutput.py\", line 234, in predict\n",
      "    y = Parallel(n_jobs=self.n_jobs)(\n",
      "  File \"/userhome/cs/u3556490/anaconda3/envs/test/lib/python3.9/site-packages/joblib/parallel.py\", line 1056, in __call__\n",
      "    self.retrieve()\n",
      "  File \"/userhome/cs/u3556490/anaconda3/envs/test/lib/python3.9/site-packages/joblib/parallel.py\", line 935, in retrieve\n",
      "    self._output.extend(job.get(timeout=self.timeout))\n",
      "  File \"/userhome/cs/u3556490/anaconda3/envs/test/lib/python3.9/multiprocessing/pool.py\", line 771, in get\n",
      "    raise self._value\n",
      "  File \"/userhome/cs/u3556490/anaconda3/envs/test/lib/python3.9/multiprocessing/pool.py\", line 125, in worker\n",
      "    result = (True, func(*args, **kwds))\n",
      "  File \"/userhome/cs/u3556490/anaconda3/envs/test/lib/python3.9/site-packages/joblib/_parallel_backends.py\", line 595, in __call__\n",
      "    return self.func(*args, **kwargs)\n",
      "  File \"/userhome/cs/u3556490/anaconda3/envs/test/lib/python3.9/site-packages/joblib/parallel.py\", line 262, in __call__\n",
      "    return [func(*args, **kwargs)\n",
      "  File \"/userhome/cs/u3556490/anaconda3/envs/test/lib/python3.9/site-packages/joblib/parallel.py\", line 262, in <listcomp>\n",
      "    return [func(*args, **kwargs)\n",
      "  File \"/userhome/cs/u3556490/anaconda3/envs/test/lib/python3.9/site-packages/sklearn/utils/fixes.py\", line 216, in __call__\n",
      "    return self.function(*args, **kwargs)\n",
      "  File \"/userhome/cs/u3556490/anaconda3/envs/test/lib/python3.9/site-packages/sktime/classification/interval_based/_tsf.py\", line 100, in predict\n",
      "    return BaseClassifier.predict(self, X=X, **kwargs)\n",
      "  File \"/userhome/cs/u3556490/anaconda3/envs/test/lib/python3.9/site-packages/sktime/classification/base.py\", line 156, in predict\n",
      "    X = self._check_convert_X_for_predict(X)\n",
      "  File \"/userhome/cs/u3556490/anaconda3/envs/test/lib/python3.9/site-packages/sktime/classification/base.py\", line 233, in _check_convert_X_for_predict\n",
      "    X_metadata = _check_classifier_input(X)\n",
      "  File \"/userhome/cs/u3556490/anaconda3/envs/test/lib/python3.9/site-packages/sktime/classification/base.py\", line 413, in _check_classifier_input\n",
      "    X_valid, _, X_metadata = check_is_scitype(X, scitype=\"Panel\", return_metadata=True)\n",
      "  File \"/userhome/cs/u3556490/anaconda3/envs/test/lib/python3.9/site-packages/sktime/datatypes/_check.py\", line 453, in check_is_scitype\n",
      "    res = check_dict[key](obj, return_metadata=return_metadata, var_name=var_name)\n",
      "  File \"/userhome/cs/u3556490/anaconda3/envs/test/lib/python3.9/site-packages/sktime/datatypes/_panel/_check.py\", line 329, in is_nested_dataframe\n",
      "    metadata[\"has_nans\"] = _nested_dataframe_has_nans(obj)\n",
      "  File \"/userhome/cs/u3556490/anaconda3/envs/test/lib/python3.9/site-packages/sktime/datatypes/_panel/_check.py\", line 285, in _nested_dataframe_has_nans\n",
      "    if pd.isna(s[k]):\n",
      "  File \"/userhome/cs/u3556490/anaconda3/envs/test/lib/python3.9/site-packages/pandas/core/series.py\", line 958, in __getitem__\n",
      "    return self._get_value(key)\n",
      "  File \"/userhome/cs/u3556490/anaconda3/envs/test/lib/python3.9/site-packages/pandas/core/series.py\", line 1069, in _get_value\n",
      "    loc = self.index.get_loc(label)\n",
      "  File \"/userhome/cs/u3556490/anaconda3/envs/test/lib/python3.9/site-packages/pandas/core/indexes/base.py\", line 3623, in get_loc\n",
      "    raise KeyError(key) from err\n",
      "KeyError: 1\n",
      "\n",
      "  warnings.warn(\n"
     ]
    }
   ],
   "source": [
    "from sktime.classification.interval_based import TimeSeriesForestClassifier\n",
    "from sklearn.model_selection import GridSearchCV\n",
    "from sklearn.metrics import make_scorer\n",
    "\n",
    "tsfs_clf = MultiOutputClassifier(TimeSeriesForestClassifier(n_jobs=-1, random_state=42, min_interval=5), n_jobs=-1)\n",
    "\n",
    "params_grid = { \"estimator__n_estimators\":[200, 250, 275, 300] }\n",
    "\n",
    "scorer = make_scorer(f1_score, zero_division=0, average='macro')\n",
    "\n",
    "gscv = GridSearchCV(tsfs_clf, params_grid, scoring=scorer, n_jobs=-1, refit=False, cv=3, verbose=4, error_score=0.0).fit(concat_train_X, train_Y)"
   ]
  },
  {
   "cell_type": "code",
   "execution_count": 59,
   "id": "ee815abe",
   "metadata": {
    "scrolled": true
   },
   "outputs": [
    {
     "data": {
      "text/plain": [
       "{'mean_fit_time': array([166.11474721, 189.70006013, 176.71016391, 141.27492817]),\n",
       " 'std_fit_time': array([ 2.27585846,  0.37472328, 27.35980215,  2.11158562]),\n",
       " 'mean_score_time': array([28.61274846, 34.1714081 , 44.75197498, 33.76957877]),\n",
       " 'std_score_time': array([ 2.2249899 , 22.70254061, 12.37075785,  0.4822109 ]),\n",
       " 'param_estimator__n_estimators': masked_array(data=[200, 250, 275, 300],\n",
       "              mask=[False, False, False, False],\n",
       "        fill_value='?',\n",
       "             dtype=object),\n",
       " 'params': [{'estimator__n_estimators': 200},\n",
       "  {'estimator__n_estimators': 250},\n",
       "  {'estimator__n_estimators': 275},\n",
       "  {'estimator__n_estimators': 300}],\n",
       " 'split0_test_score': array([0.        , 0.        , 0.60794502, 0.62723191]),\n",
       " 'split1_test_score': array([0.51114354, 0.51847439, 0.52501886, 0.50403029]),\n",
       " 'split2_test_score': array([0.56128731, 0.55705681, 0.56273863, 0.56696117]),\n",
       " 'mean_test_score': array([0.35747695, 0.3585104 , 0.56523417, 0.56607446]),\n",
       " 'std_test_score': array([0.25360195, 0.25399401, 0.03390042, 0.05030076]),\n",
       " 'rank_test_score': array([4, 3, 2, 1], dtype=int32)}"
      ]
     },
     "execution_count": 59,
     "metadata": {},
     "output_type": "execute_result"
    },
    {
     "name": "stdout",
     "output_type": "stream",
     "text": [
      "[CV 2/4] END .......estimator__n_estimators=250;, score=0.559 total time= 4.1min\n",
      "[CV 3/4] END .......estimator__n_estimators=300;, score=0.518 total time= 4.0min\n",
      "[CV 2/3] END .......estimator__n_estimators=275;, score=0.525 total time= 4.0min\n",
      "[CV 2/3] END .......estimator__n_estimators=250;, score=0.518 total time= 4.0min\n",
      "[CV 3/4] END .......estimator__n_estimators=200;, score=0.495 total time= 3.6min\n",
      "[CV 1/4] END .......estimator__n_estimators=300;, score=0.650 total time= 4.4min\n",
      "[CV 1/3] END .......estimator__n_estimators=275;, score=0.608 total time= 4.1min\n",
      "[CV 3/3] END .......estimator__n_estimators=250;, score=0.557 total time= 4.0min\n",
      "[CV 3/4] END .......estimator__n_estimators=250;, score=0.499 total time= 4.1min\n",
      "[CV 2/4] END .......estimator__n_estimators=300;, score=0.000 total time= 3.6min\n",
      "[CV 3/3] END .......estimator__n_estimators=200;, score=0.000 total time= 2.8min\n",
      "[CV 3/3] END .......estimator__n_estimators=275;, score=0.000 total time=   1.9s\n",
      "[CV 1/3] END .......estimator__n_estimators=300;, score=0.000 total time=  12.2s\n",
      "[CV 2/3] END .......estimator__n_estimators=300;, score=0.000 total time= 2.0min\n",
      "[CV 1/3] END .......estimator__n_estimators=275;, score=0.608 total time= 4.1min\n",
      "[CV 2/4] END .......estimator__n_estimators=200;, score=0.541 total time= 3.5min\n",
      "[CV 4/4] END .......estimator__n_estimators=275;, score=0.561 total time= 4.4min\n",
      "[CV 3/3] END .......estimator__n_estimators=250;, score=0.000 total time= 3.2min\n",
      "[CV 3/3] END .......estimator__n_estimators=300;, score=0.567 total time= 2.2min\n",
      "[CV 2/3] END .......estimator__n_estimators=275;, score=0.525 total time= 4.2min\n",
      "[CV 4/4] END .......estimator__n_estimators=250;, score=0.000 total time= 3.3min\n",
      "[CV 2/4] END .......estimator__n_estimators=275;, score=0.543 total time= 4.5min\n",
      "[CV 2/3] END .......estimator__n_estimators=250;, score=0.000 total time= 3.2min\n",
      "[CV 1/3] END .......estimator__n_estimators=200;, score=0.000 total time= 3.1min\n",
      "[CV 3/3] END .......estimator__n_estimators=275;, score=0.563 total time= 2.8min\n",
      "[CV 1/4] END .......estimator__n_estimators=200;, score=0.641 total time= 3.5min\n",
      "[CV 3/4] END .......estimator__n_estimators=275;, score=0.000 total time= 4.0min\n",
      "[CV 1/3] END .......estimator__n_estimators=200;, score=0.617 total time= 3.3min\n",
      "[CV 2/3] END .......estimator__n_estimators=200;, score=0.511 total time= 3.3min\n",
      "[CV 2/3] END .......estimator__n_estimators=300;, score=0.504 total time= 2.9min\n",
      "[CV 1/4] END .......estimator__n_estimators=250;, score=0.648 total time= 4.1min\n",
      "[CV 4/4] END .......estimator__n_estimators=300;, score=0.000 total time= 3.7min\n",
      "[CV 1/3] END .......estimator__n_estimators=250;, score=0.602 total time= 3.8min\n",
      "[CV 1/3] END .......estimator__n_estimators=250;, score=0.000 total time= 3.2min\n",
      "[CV 1/3] END .......estimator__n_estimators=300;, score=0.627 total time= 3.0min\n",
      "[CV 4/4] END .......estimator__n_estimators=200;, score=0.000 total time= 3.1min\n",
      "[CV 1/4] END .......estimator__n_estimators=275;, score=0.653 total time= 4.6min\n",
      "[CV 2/3] END .......estimator__n_estimators=200;, score=0.511 total time= 3.3min\n",
      "[CV 3/3] END .......estimator__n_estimators=200;, score=0.561 total time= 3.3min\n",
      "[CV 3/3] END .......estimator__n_estimators=300;, score=0.567 total time= 2.9min\n"
     ]
    }
   ],
   "source": [
    "gscv.cv_results_"
   ]
  },
  {
   "cell_type": "code",
   "execution_count": 51,
   "id": "db850087",
   "metadata": {},
   "outputs": [
    {
     "data": {
      "text/plain": [
       "{'estimator__n_estimators': 300}"
      ]
     },
     "execution_count": 51,
     "metadata": {},
     "output_type": "execute_result"
    }
   ],
   "source": [
    "gscv.best_params_"
   ]
  },
  {
   "cell_type": "markdown",
   "id": "5015d534",
   "metadata": {},
   "source": [
    "### Probability Calibration\n",
    "\n",
    "It is quite uncanny to see how the calibrated classifier always gives silly plots regardless of dataset size. The fact that there are very few class 3 positives should be the culprit. Once again, it is probably ok to feign negligence (?) about calibration."
   ]
  },
  {
   "cell_type": "code",
   "execution_count": 16,
   "id": "b93c65cc",
   "metadata": {
    "scrolled": true
   },
   "outputs": [
    {
     "name": "stderr",
     "output_type": "stream",
     "text": [
      "/userhome/cs/u3556490/anaconda3/envs/test/lib/python3.9/site-packages/sktime/datatypes/_series/_check.py:43: FutureWarning: pandas.Int64Index is deprecated and will be removed from pandas in a future version. Use pandas.Index with the appropriate dtype instead.\n",
      "  VALID_INDEX_TYPES = (pd.Int64Index, pd.RangeIndex, pd.PeriodIndex, pd.DatetimeIndex)\n",
      "/userhome/cs/u3556490/anaconda3/envs/test/lib/python3.9/site-packages/sktime/datatypes/_hierarchical/_check.py:50: FutureWarning: pandas.Int64Index is deprecated and will be removed from pandas in a future version. Use pandas.Index with the appropriate dtype instead.\n",
      "  VALID_INDEX_TYPES = (pd.Int64Index, pd.RangeIndex, pd.PeriodIndex, pd.DatetimeIndex)\n",
      "/userhome/cs/u3556490/anaconda3/envs/test/lib/python3.9/site-packages/sktime/datatypes/_hierarchical/_check.py:51: FutureWarning: pandas.Int64Index is deprecated and will be removed from pandas in a future version. Use pandas.Index with the appropriate dtype instead.\n",
      "  VALID_MULTIINDEX_TYPES = (pd.Int64Index, pd.RangeIndex)\n",
      "/userhome/cs/u3556490/anaconda3/envs/test/lib/python3.9/site-packages/sktime/datatypes/_panel/_check.py:48: FutureWarning: pandas.Int64Index is deprecated and will be removed from pandas in a future version. Use pandas.Index with the appropriate dtype instead.\n",
      "  VALID_INDEX_TYPES = (pd.Int64Index, pd.RangeIndex, pd.PeriodIndex, pd.DatetimeIndex)\n",
      "/userhome/cs/u3556490/anaconda3/envs/test/lib/python3.9/site-packages/sktime/datatypes/_panel/_check.py:49: FutureWarning: pandas.Int64Index is deprecated and will be removed from pandas in a future version. Use pandas.Index with the appropriate dtype instead.\n",
      "  VALID_MULTIINDEX_TYPES = (pd.Int64Index, pd.RangeIndex)\n",
      "/userhome/cs/u3556490/anaconda3/envs/test/lib/python3.9/site-packages/sktime/datatypes/_series/_check.py:43: FutureWarning: pandas.Int64Index is deprecated and will be removed from pandas in a future version. Use pandas.Index with the appropriate dtype instead.\n",
      "  VALID_INDEX_TYPES = (pd.Int64Index, pd.RangeIndex, pd.PeriodIndex, pd.DatetimeIndex)\n",
      "/userhome/cs/u3556490/anaconda3/envs/test/lib/python3.9/site-packages/sktime/datatypes/_hierarchical/_check.py:50: FutureWarning: pandas.Int64Index is deprecated and will be removed from pandas in a future version. Use pandas.Index with the appropriate dtype instead.\n",
      "  VALID_INDEX_TYPES = (pd.Int64Index, pd.RangeIndex, pd.PeriodIndex, pd.DatetimeIndex)\n",
      "/userhome/cs/u3556490/anaconda3/envs/test/lib/python3.9/site-packages/sktime/datatypes/_hierarchical/_check.py:51: FutureWarning: pandas.Int64Index is deprecated and will be removed from pandas in a future version. Use pandas.Index with the appropriate dtype instead.\n",
      "  VALID_MULTIINDEX_TYPES = (pd.Int64Index, pd.RangeIndex)\n",
      "/userhome/cs/u3556490/anaconda3/envs/test/lib/python3.9/site-packages/sktime/datatypes/_panel/_check.py:48: FutureWarning: pandas.Int64Index is deprecated and will be removed from pandas in a future version. Use pandas.Index with the appropriate dtype instead.\n",
      "  VALID_INDEX_TYPES = (pd.Int64Index, pd.RangeIndex, pd.PeriodIndex, pd.DatetimeIndex)\n",
      "/userhome/cs/u3556490/anaconda3/envs/test/lib/python3.9/site-packages/sktime/datatypes/_panel/_check.py:49: FutureWarning: pandas.Int64Index is deprecated and will be removed from pandas in a future version. Use pandas.Index with the appropriate dtype instead.\n",
      "  VALID_MULTIINDEX_TYPES = (pd.Int64Index, pd.RangeIndex)\n",
      "/userhome/cs/u3556490/anaconda3/envs/test/lib/python3.9/site-packages/sktime/datatypes/_series/_check.py:43: FutureWarning: pandas.Int64Index is deprecated and will be removed from pandas in a future version. Use pandas.Index with the appropriate dtype instead.\n",
      "  VALID_INDEX_TYPES = (pd.Int64Index, pd.RangeIndex, pd.PeriodIndex, pd.DatetimeIndex)\n",
      "/userhome/cs/u3556490/anaconda3/envs/test/lib/python3.9/site-packages/sktime/datatypes/_hierarchical/_check.py:50: FutureWarning: pandas.Int64Index is deprecated and will be removed from pandas in a future version. Use pandas.Index with the appropriate dtype instead.\n",
      "  VALID_INDEX_TYPES = (pd.Int64Index, pd.RangeIndex, pd.PeriodIndex, pd.DatetimeIndex)\n",
      "/userhome/cs/u3556490/anaconda3/envs/test/lib/python3.9/site-packages/sktime/datatypes/_hierarchical/_check.py:51: FutureWarning: pandas.Int64Index is deprecated and will be removed from pandas in a future version. Use pandas.Index with the appropriate dtype instead.\n",
      "  VALID_MULTIINDEX_TYPES = (pd.Int64Index, pd.RangeIndex)\n",
      "/userhome/cs/u3556490/anaconda3/envs/test/lib/python3.9/site-packages/sktime/datatypes/_panel/_check.py:48: FutureWarning: pandas.Int64Index is deprecated and will be removed from pandas in a future version. Use pandas.Index with the appropriate dtype instead.\n",
      "  VALID_INDEX_TYPES = (pd.Int64Index, pd.RangeIndex, pd.PeriodIndex, pd.DatetimeIndex)\n",
      "/userhome/cs/u3556490/anaconda3/envs/test/lib/python3.9/site-packages/sktime/datatypes/_panel/_check.py:49: FutureWarning: pandas.Int64Index is deprecated and will be removed from pandas in a future version. Use pandas.Index with the appropriate dtype instead.\n",
      "  VALID_MULTIINDEX_TYPES = (pd.Int64Index, pd.RangeIndex)\n",
      "/userhome/cs/u3556490/anaconda3/envs/test/lib/python3.9/site-packages/sktime/datatypes/_series/_check.py:43: FutureWarning: pandas.Int64Index is deprecated and will be removed from pandas in a future version. Use pandas.Index with the appropriate dtype instead.\n",
      "  VALID_INDEX_TYPES = (pd.Int64Index, pd.RangeIndex, pd.PeriodIndex, pd.DatetimeIndex)\n",
      "/userhome/cs/u3556490/anaconda3/envs/test/lib/python3.9/site-packages/sktime/datatypes/_hierarchical/_check.py:50: FutureWarning: pandas.Int64Index is deprecated and will be removed from pandas in a future version. Use pandas.Index with the appropriate dtype instead.\n",
      "  VALID_INDEX_TYPES = (pd.Int64Index, pd.RangeIndex, pd.PeriodIndex, pd.DatetimeIndex)\n",
      "/userhome/cs/u3556490/anaconda3/envs/test/lib/python3.9/site-packages/sktime/datatypes/_hierarchical/_check.py:51: FutureWarning: pandas.Int64Index is deprecated and will be removed from pandas in a future version. Use pandas.Index with the appropriate dtype instead.\n",
      "  VALID_MULTIINDEX_TYPES = (pd.Int64Index, pd.RangeIndex)\n",
      "/userhome/cs/u3556490/anaconda3/envs/test/lib/python3.9/site-packages/sktime/datatypes/_panel/_check.py:48: FutureWarning: pandas.Int64Index is deprecated and will be removed from pandas in a future version. Use pandas.Index with the appropriate dtype instead.\n",
      "  VALID_INDEX_TYPES = (pd.Int64Index, pd.RangeIndex, pd.PeriodIndex, pd.DatetimeIndex)\n",
      "/userhome/cs/u3556490/anaconda3/envs/test/lib/python3.9/site-packages/sktime/datatypes/_panel/_check.py:49: FutureWarning: pandas.Int64Index is deprecated and will be removed from pandas in a future version. Use pandas.Index with the appropriate dtype instead.\n",
      "  VALID_MULTIINDEX_TYPES = (pd.Int64Index, pd.RangeIndex)\n"
     ]
    }
   ],
   "source": [
    "from sktime.classification.interval_based import TimeSeriesForestClassifier\n",
    "from sklearn.calibration import CalibratedClassifierCV\n",
    "from sklearn.multiclass import OneVsRestClassifier\n",
    "\n",
    "# base estimator\n",
    "tsfs_clf = TimeSeriesForestClassifier(min_interval=5, n_estimators=300, n_jobs=-1, random_state=42)\n",
    "tsfs_clf = OneVsRestClassifier(tsfs_clf, n_jobs=-1)\n",
    "# calibrated estimator\n",
    "tsfs_clf = CalibratedClassifierCV(base_estimator=tsfs_clf, cv=7, n_jobs=1, ensemble=False)\n",
    "tsfs_clf = MultiOutputClassifier(tsfs_clf, n_jobs=-1).fit(concat_train_X, train_Y)"
   ]
  },
  {
   "cell_type": "code",
   "execution_count": 17,
   "id": "b64cf99b",
   "metadata": {
    "scrolled": true
   },
   "outputs": [
    {
     "name": "stdout",
     "output_type": "stream",
     "text": [
      "Brier score losses: (the smaller the better)\n"
     ]
    },
    {
     "name": "stderr",
     "output_type": "stream",
     "text": [
      "/userhome/cs/u3556490/anaconda3/envs/test/lib/python3.9/site-packages/sktime/datatypes/_series/_check.py:43: FutureWarning: pandas.Int64Index is deprecated and will be removed from pandas in a future version. Use pandas.Index with the appropriate dtype instead.\n",
      "  VALID_INDEX_TYPES = (pd.Int64Index, pd.RangeIndex, pd.PeriodIndex, pd.DatetimeIndex)\n",
      "/userhome/cs/u3556490/anaconda3/envs/test/lib/python3.9/site-packages/sktime/datatypes/_hierarchical/_check.py:50: FutureWarning: pandas.Int64Index is deprecated and will be removed from pandas in a future version. Use pandas.Index with the appropriate dtype instead.\n",
      "  VALID_INDEX_TYPES = (pd.Int64Index, pd.RangeIndex, pd.PeriodIndex, pd.DatetimeIndex)\n",
      "/userhome/cs/u3556490/anaconda3/envs/test/lib/python3.9/site-packages/sktime/datatypes/_hierarchical/_check.py:51: FutureWarning: pandas.Int64Index is deprecated and will be removed from pandas in a future version. Use pandas.Index with the appropriate dtype instead.\n",
      "  VALID_MULTIINDEX_TYPES = (pd.Int64Index, pd.RangeIndex)\n",
      "/userhome/cs/u3556490/anaconda3/envs/test/lib/python3.9/site-packages/sktime/datatypes/_panel/_check.py:48: FutureWarning: pandas.Int64Index is deprecated and will be removed from pandas in a future version. Use pandas.Index with the appropriate dtype instead.\n",
      "  VALID_INDEX_TYPES = (pd.Int64Index, pd.RangeIndex, pd.PeriodIndex, pd.DatetimeIndex)\n",
      "/userhome/cs/u3556490/anaconda3/envs/test/lib/python3.9/site-packages/sktime/datatypes/_panel/_check.py:49: FutureWarning: pandas.Int64Index is deprecated and will be removed from pandas in a future version. Use pandas.Index with the appropriate dtype instead.\n",
      "  VALID_MULTIINDEX_TYPES = (pd.Int64Index, pd.RangeIndex)\n",
      "/userhome/cs/u3556490/anaconda3/envs/test/lib/python3.9/site-packages/sktime/datatypes/_series/_check.py:43: FutureWarning: pandas.Int64Index is deprecated and will be removed from pandas in a future version. Use pandas.Index with the appropriate dtype instead.\n",
      "  VALID_INDEX_TYPES = (pd.Int64Index, pd.RangeIndex, pd.PeriodIndex, pd.DatetimeIndex)\n",
      "/userhome/cs/u3556490/anaconda3/envs/test/lib/python3.9/site-packages/sktime/datatypes/_series/_check.py:43: FutureWarning: pandas.Int64Index is deprecated and will be removed from pandas in a future version. Use pandas.Index with the appropriate dtype instead.\n",
      "  VALID_INDEX_TYPES = (pd.Int64Index, pd.RangeIndex, pd.PeriodIndex, pd.DatetimeIndex)\n",
      "/userhome/cs/u3556490/anaconda3/envs/test/lib/python3.9/site-packages/sktime/datatypes/_series/_check.py:43: FutureWarning: pandas.Int64Index is deprecated and will be removed from pandas in a future version. Use pandas.Index with the appropriate dtype instead.\n",
      "  VALID_INDEX_TYPES = (pd.Int64Index, pd.RangeIndex, pd.PeriodIndex, pd.DatetimeIndex)\n",
      "/userhome/cs/u3556490/anaconda3/envs/test/lib/python3.9/site-packages/sktime/datatypes/_hierarchical/_check.py:50: FutureWarning: pandas.Int64Index is deprecated and will be removed from pandas in a future version. Use pandas.Index with the appropriate dtype instead.\n",
      "  VALID_INDEX_TYPES = (pd.Int64Index, pd.RangeIndex, pd.PeriodIndex, pd.DatetimeIndex)\n",
      "/userhome/cs/u3556490/anaconda3/envs/test/lib/python3.9/site-packages/sktime/datatypes/_hierarchical/_check.py:51: FutureWarning: pandas.Int64Index is deprecated and will be removed from pandas in a future version. Use pandas.Index with the appropriate dtype instead.\n",
      "  VALID_MULTIINDEX_TYPES = (pd.Int64Index, pd.RangeIndex)\n",
      "/userhome/cs/u3556490/anaconda3/envs/test/lib/python3.9/site-packages/sktime/datatypes/_hierarchical/_check.py:50: FutureWarning: pandas.Int64Index is deprecated and will be removed from pandas in a future version. Use pandas.Index with the appropriate dtype instead.\n",
      "  VALID_INDEX_TYPES = (pd.Int64Index, pd.RangeIndex, pd.PeriodIndex, pd.DatetimeIndex)\n",
      "/userhome/cs/u3556490/anaconda3/envs/test/lib/python3.9/site-packages/sktime/datatypes/_hierarchical/_check.py:51: FutureWarning: pandas.Int64Index is deprecated and will be removed from pandas in a future version. Use pandas.Index with the appropriate dtype instead.\n",
      "  VALID_MULTIINDEX_TYPES = (pd.Int64Index, pd.RangeIndex)\n",
      "/userhome/cs/u3556490/anaconda3/envs/test/lib/python3.9/site-packages/sktime/datatypes/_hierarchical/_check.py:50: FutureWarning: pandas.Int64Index is deprecated and will be removed from pandas in a future version. Use pandas.Index with the appropriate dtype instead.\n",
      "  VALID_INDEX_TYPES = (pd.Int64Index, pd.RangeIndex, pd.PeriodIndex, pd.DatetimeIndex)\n",
      "/userhome/cs/u3556490/anaconda3/envs/test/lib/python3.9/site-packages/sktime/datatypes/_hierarchical/_check.py:51: FutureWarning: pandas.Int64Index is deprecated and will be removed from pandas in a future version. Use pandas.Index with the appropriate dtype instead.\n",
      "  VALID_MULTIINDEX_TYPES = (pd.Int64Index, pd.RangeIndex)\n",
      "/userhome/cs/u3556490/anaconda3/envs/test/lib/python3.9/site-packages/sktime/datatypes/_panel/_check.py:48: FutureWarning: pandas.Int64Index is deprecated and will be removed from pandas in a future version. Use pandas.Index with the appropriate dtype instead.\n",
      "  VALID_INDEX_TYPES = (pd.Int64Index, pd.RangeIndex, pd.PeriodIndex, pd.DatetimeIndex)\n",
      "/userhome/cs/u3556490/anaconda3/envs/test/lib/python3.9/site-packages/sktime/datatypes/_panel/_check.py:49: FutureWarning: pandas.Int64Index is deprecated and will be removed from pandas in a future version. Use pandas.Index with the appropriate dtype instead.\n",
      "  VALID_MULTIINDEX_TYPES = (pd.Int64Index, pd.RangeIndex)\n",
      "/userhome/cs/u3556490/anaconda3/envs/test/lib/python3.9/site-packages/sktime/datatypes/_panel/_check.py:48: FutureWarning: pandas.Int64Index is deprecated and will be removed from pandas in a future version. Use pandas.Index with the appropriate dtype instead.\n",
      "  VALID_INDEX_TYPES = (pd.Int64Index, pd.RangeIndex, pd.PeriodIndex, pd.DatetimeIndex)\n",
      "/userhome/cs/u3556490/anaconda3/envs/test/lib/python3.9/site-packages/sktime/datatypes/_panel/_check.py:49: FutureWarning: pandas.Int64Index is deprecated and will be removed from pandas in a future version. Use pandas.Index with the appropriate dtype instead.\n",
      "  VALID_MULTIINDEX_TYPES = (pd.Int64Index, pd.RangeIndex)\n",
      "/userhome/cs/u3556490/anaconda3/envs/test/lib/python3.9/site-packages/sktime/datatypes/_panel/_check.py:48: FutureWarning: pandas.Int64Index is deprecated and will be removed from pandas in a future version. Use pandas.Index with the appropriate dtype instead.\n",
      "  VALID_INDEX_TYPES = (pd.Int64Index, pd.RangeIndex, pd.PeriodIndex, pd.DatetimeIndex)\n",
      "/userhome/cs/u3556490/anaconda3/envs/test/lib/python3.9/site-packages/sktime/datatypes/_panel/_check.py:49: FutureWarning: pandas.Int64Index is deprecated and will be removed from pandas in a future version. Use pandas.Index with the appropriate dtype instead.\n",
      "  VALID_MULTIINDEX_TYPES = (pd.Int64Index, pd.RangeIndex)\n"
     ]
    },
    {
     "name": "stdout",
     "output_type": "stream",
     "text": [
      "Class 0, no calibration: 0.017984\n",
      "Class 1, no calibration: 0.006627\n",
      "Class 2, no calibration: 0.006083\n",
      "Class 3, no calibration: 0.010362\n"
     ]
    },
    {
     "data": {
      "image/png": "[encoded data removed]",
      "text/plain": [
       "<Figure size 720x720 with 1 Axes>"
      ]
     },
     "metadata": {
      "needs_background": "light"
     },
     "output_type": "display_data"
    }
   ],
   "source": [
    "calibration_plot(tsfs_clf, concat_dev_X, dev_Y)"
   ]
  },
  {
   "cell_type": "code",
   "execution_count": 18,
   "id": "a55c0e1b",
   "metadata": {},
   "outputs": [
    {
     "name": "stdout",
     "output_type": "stream",
     "text": [
      "Best Threshold=0.43445, F-Score=0.90164\n",
      "Best Threshold=0.51001, F-Score=0.96203\n",
      "Best Threshold=0.28229, F-Score=0.92308\n",
      "Best Threshold=0.08528, F-Score=0.86486\n",
      "              precision    recall  f1-score   support\n",
      "\n",
      "           0    0.90000   0.88525   0.89256        61\n",
      "           1    0.94737   0.92308   0.93506        39\n",
      "           2    0.94444   0.85000   0.89474        20\n",
      "           3    0.88235   0.78947   0.83333        19\n",
      "\n",
      "   micro avg    0.91729   0.87770   0.89706       139\n",
      "   macro avg    0.91854   0.86195   0.88892       139\n",
      "weighted avg    0.91727   0.87770   0.89670       139\n",
      " samples avg    0.08879   0.08866   0.08744       139\n",
      "\n"
     ]
    },
    {
     "data": {
      "image/png": "[encoded data removed]",
      "text/plain": [
       "<Figure size 432x288 with 1 Axes>"
      ]
     },
     "metadata": {
      "needs_background": "light"
     },
     "output_type": "display_data"
    }
   ],
   "source": [
    "best_thresholds, best_f1_scores = optimize_thresholds(tsfs_clf, concat_dev_X, dev_Y)\n",
    "preds = predictions_with_thresholds(tsfs_clf, best_thresholds, concat_dev_X)\n",
    "print(classification_report(dev_Y, preds, zero_division=0, digits=5))"
   ]
  },
  {
   "cell_type": "code",
   "execution_count": 19,
   "id": "b40042b4",
   "metadata": {},
   "outputs": [],
   "source": [
    "save_sklearn_model_to_file(tsfs_clf, \"calibrated_gscv_tsfs_clf\")"
   ]
  },
  {
   "cell_type": "markdown",
   "id": "edfb52af",
   "metadata": {},
   "source": [
    "### Time Series Forest Regressor\n",
    "speedrun the refitting..."
   ]
  },
  {
   "cell_type": "code",
   "execution_count": 16,
   "id": "9b998d3e",
   "metadata": {},
   "outputs": [
    {
     "name": "stdout",
     "output_type": "stream",
     "text": [
      "Fitting 3 folds for each of 5 candidates, totalling 15 fits\n"
     ]
    },
    {
     "name": "stderr",
     "output_type": "stream",
     "text": [
      "/userhome/cs/u3556490/anaconda3/envs/test/lib/python3.9/site-packages/sktime/datatypes/_series/_check.py:43: FutureWarning: pandas.Int64Index is deprecated and will be removed from pandas in a future version. Use pandas.Index with the appropriate dtype instead.\n",
      "  VALID_INDEX_TYPES = (pd.Int64Index, pd.RangeIndex, pd.PeriodIndex, pd.DatetimeIndex)\n",
      "/userhome/cs/u3556490/anaconda3/envs/test/lib/python3.9/site-packages/sktime/datatypes/_hierarchical/_check.py:50: FutureWarning: pandas.Int64Index is deprecated and will be removed from pandas in a future version. Use pandas.Index with the appropriate dtype instead.\n",
      "  VALID_INDEX_TYPES = (pd.Int64Index, pd.RangeIndex, pd.PeriodIndex, pd.DatetimeIndex)\n",
      "/userhome/cs/u3556490/anaconda3/envs/test/lib/python3.9/site-packages/sktime/datatypes/_hierarchical/_check.py:51: FutureWarning: pandas.Int64Index is deprecated and will be removed from pandas in a future version. Use pandas.Index with the appropriate dtype instead.\n",
      "  VALID_MULTIINDEX_TYPES = (pd.Int64Index, pd.RangeIndex)\n",
      "/userhome/cs/u3556490/anaconda3/envs/test/lib/python3.9/site-packages/sktime/datatypes/_panel/_check.py:48: FutureWarning: pandas.Int64Index is deprecated and will be removed from pandas in a future version. Use pandas.Index with the appropriate dtype instead.\n",
      "  VALID_INDEX_TYPES = (pd.Int64Index, pd.RangeIndex, pd.PeriodIndex, pd.DatetimeIndex)\n",
      "/userhome/cs/u3556490/anaconda3/envs/test/lib/python3.9/site-packages/sktime/datatypes/_panel/_check.py:49: FutureWarning: pandas.Int64Index is deprecated and will be removed from pandas in a future version. Use pandas.Index with the appropriate dtype instead.\n",
      "  VALID_MULTIINDEX_TYPES = (pd.Int64Index, pd.RangeIndex)\n",
      "/userhome/cs/u3556490/anaconda3/envs/test/lib/python3.9/site-packages/sktime/datatypes/_series/_check.py:43: FutureWarning: pandas.Int64Index is deprecated and will be removed from pandas in a future version. Use pandas.Index with the appropriate dtype instead.\n",
      "  VALID_INDEX_TYPES = (pd.Int64Index, pd.RangeIndex, pd.PeriodIndex, pd.DatetimeIndex)\n",
      "/userhome/cs/u3556490/anaconda3/envs/test/lib/python3.9/site-packages/sktime/datatypes/_hierarchical/_check.py:50: FutureWarning: pandas.Int64Index is deprecated and will be removed from pandas in a future version. Use pandas.Index with the appropriate dtype instead.\n",
      "  VALID_INDEX_TYPES = (pd.Int64Index, pd.RangeIndex, pd.PeriodIndex, pd.DatetimeIndex)\n",
      "/userhome/cs/u3556490/anaconda3/envs/test/lib/python3.9/site-packages/sktime/datatypes/_hierarchical/_check.py:51: FutureWarning: pandas.Int64Index is deprecated and will be removed from pandas in a future version. Use pandas.Index with the appropriate dtype instead.\n",
      "  VALID_MULTIINDEX_TYPES = (pd.Int64Index, pd.RangeIndex)\n",
      "/userhome/cs/u3556490/anaconda3/envs/test/lib/python3.9/site-packages/sktime/datatypes/_panel/_check.py:48: FutureWarning: pandas.Int64Index is deprecated and will be removed from pandas in a future version. Use pandas.Index with the appropriate dtype instead.\n",
      "  VALID_INDEX_TYPES = (pd.Int64Index, pd.RangeIndex, pd.PeriodIndex, pd.DatetimeIndex)\n",
      "/userhome/cs/u3556490/anaconda3/envs/test/lib/python3.9/site-packages/sktime/datatypes/_panel/_check.py:49: FutureWarning: pandas.Int64Index is deprecated and will be removed from pandas in a future version. Use pandas.Index with the appropriate dtype instead.\n",
      "  VALID_MULTIINDEX_TYPES = (pd.Int64Index, pd.RangeIndex)\n",
      "/userhome/cs/u3556490/anaconda3/envs/test/lib/python3.9/site-packages/sktime/datatypes/_series/_check.py:43: FutureWarning: pandas.Int64Index is deprecated and will be removed from pandas in a future version. Use pandas.Index with the appropriate dtype instead.\n",
      "  VALID_INDEX_TYPES = (pd.Int64Index, pd.RangeIndex, pd.PeriodIndex, pd.DatetimeIndex)\n",
      "/userhome/cs/u3556490/anaconda3/envs/test/lib/python3.9/site-packages/sktime/datatypes/_hierarchical/_check.py:50: FutureWarning: pandas.Int64Index is deprecated and will be removed from pandas in a future version. Use pandas.Index with the appropriate dtype instead.\n",
      "  VALID_INDEX_TYPES = (pd.Int64Index, pd.RangeIndex, pd.PeriodIndex, pd.DatetimeIndex)\n",
      "/userhome/cs/u3556490/anaconda3/envs/test/lib/python3.9/site-packages/sktime/datatypes/_hierarchical/_check.py:51: FutureWarning: pandas.Int64Index is deprecated and will be removed from pandas in a future version. Use pandas.Index with the appropriate dtype instead.\n",
      "  VALID_MULTIINDEX_TYPES = (pd.Int64Index, pd.RangeIndex)\n",
      "/userhome/cs/u3556490/anaconda3/envs/test/lib/python3.9/site-packages/sktime/datatypes/_panel/_check.py:48: FutureWarning: pandas.Int64Index is deprecated and will be removed from pandas in a future version. Use pandas.Index with the appropriate dtype instead.\n",
      "  VALID_INDEX_TYPES = (pd.Int64Index, pd.RangeIndex, pd.PeriodIndex, pd.DatetimeIndex)\n",
      "/userhome/cs/u3556490/anaconda3/envs/test/lib/python3.9/site-packages/sktime/datatypes/_panel/_check.py:49: FutureWarning: pandas.Int64Index is deprecated and will be removed from pandas in a future version. Use pandas.Index with the appropriate dtype instead.\n",
      "  VALID_MULTIINDEX_TYPES = (pd.Int64Index, pd.RangeIndex)\n",
      "/userhome/cs/u3556490/anaconda3/envs/test/lib/python3.9/site-packages/sktime/datatypes/_series/_check.py:43: FutureWarning: pandas.Int64Index is deprecated and will be removed from pandas in a future version. Use pandas.Index with the appropriate dtype instead.\n",
      "  VALID_INDEX_TYPES = (pd.Int64Index, pd.RangeIndex, pd.PeriodIndex, pd.DatetimeIndex)\n",
      "/userhome/cs/u3556490/anaconda3/envs/test/lib/python3.9/site-packages/sktime/datatypes/_hierarchical/_check.py:50: FutureWarning: pandas.Int64Index is deprecated and will be removed from pandas in a future version. Use pandas.Index with the appropriate dtype instead.\n",
      "  VALID_INDEX_TYPES = (pd.Int64Index, pd.RangeIndex, pd.PeriodIndex, pd.DatetimeIndex)\n",
      "/userhome/cs/u3556490/anaconda3/envs/test/lib/python3.9/site-packages/sktime/datatypes/_hierarchical/_check.py:51: FutureWarning: pandas.Int64Index is deprecated and will be removed from pandas in a future version. Use pandas.Index with the appropriate dtype instead.\n",
      "  VALID_MULTIINDEX_TYPES = (pd.Int64Index, pd.RangeIndex)\n",
      "/userhome/cs/u3556490/anaconda3/envs/test/lib/python3.9/site-packages/sktime/datatypes/_panel/_check.py:48: FutureWarning: pandas.Int64Index is deprecated and will be removed from pandas in a future version. Use pandas.Index with the appropriate dtype instead.\n",
      "  VALID_INDEX_TYPES = (pd.Int64Index, pd.RangeIndex, pd.PeriodIndex, pd.DatetimeIndex)\n",
      "/userhome/cs/u3556490/anaconda3/envs/test/lib/python3.9/site-packages/sktime/datatypes/_panel/_check.py:49: FutureWarning: pandas.Int64Index is deprecated and will be removed from pandas in a future version. Use pandas.Index with the appropriate dtype instead.\n",
      "  VALID_MULTIINDEX_TYPES = (pd.Int64Index, pd.RangeIndex)\n",
      "/userhome/cs/u3556490/anaconda3/envs/test/lib/python3.9/site-packages/sktime/datatypes/_series/_check.py:43: FutureWarning: pandas.Int64Index is deprecated and will be removed from pandas in a future version. Use pandas.Index with the appropriate dtype instead.\n",
      "  VALID_INDEX_TYPES = (pd.Int64Index, pd.RangeIndex, pd.PeriodIndex, pd.DatetimeIndex)\n",
      "/userhome/cs/u3556490/anaconda3/envs/test/lib/python3.9/site-packages/sktime/datatypes/_hierarchical/_check.py:50: FutureWarning: pandas.Int64Index is deprecated and will be removed from pandas in a future version. Use pandas.Index with the appropriate dtype instead.\n",
      "  VALID_INDEX_TYPES = (pd.Int64Index, pd.RangeIndex, pd.PeriodIndex, pd.DatetimeIndex)\n",
      "/userhome/cs/u3556490/anaconda3/envs/test/lib/python3.9/site-packages/sktime/datatypes/_hierarchical/_check.py:51: FutureWarning: pandas.Int64Index is deprecated and will be removed from pandas in a future version. Use pandas.Index with the appropriate dtype instead.\n",
      "  VALID_MULTIINDEX_TYPES = (pd.Int64Index, pd.RangeIndex)\n",
      "/userhome/cs/u3556490/anaconda3/envs/test/lib/python3.9/site-packages/sktime/datatypes/_panel/_check.py:48: FutureWarning: pandas.Int64Index is deprecated and will be removed from pandas in a future version. Use pandas.Index with the appropriate dtype instead.\n",
      "  VALID_INDEX_TYPES = (pd.Int64Index, pd.RangeIndex, pd.PeriodIndex, pd.DatetimeIndex)\n",
      "/userhome/cs/u3556490/anaconda3/envs/test/lib/python3.9/site-packages/sktime/datatypes/_panel/_check.py:49: FutureWarning: pandas.Int64Index is deprecated and will be removed from pandas in a future version. Use pandas.Index with the appropriate dtype instead.\n",
      "  VALID_MULTIINDEX_TYPES = (pd.Int64Index, pd.RangeIndex)\n"
     ]
    },
    {
     "name": "stderr",
     "output_type": "stream",
     "text": [
      "/userhome/cs/u3556490/anaconda3/envs/test/lib/python3.9/site-packages/sktime/datatypes/_series/_check.py:43: FutureWarning: pandas.Int64Index is deprecated and will be removed from pandas in a future version. Use pandas.Index with the appropriate dtype instead.\n",
      "  VALID_INDEX_TYPES = (pd.Int64Index, pd.RangeIndex, pd.PeriodIndex, pd.DatetimeIndex)\n",
      "/userhome/cs/u3556490/anaconda3/envs/test/lib/python3.9/site-packages/sktime/datatypes/_hierarchical/_check.py:50: FutureWarning: pandas.Int64Index is deprecated and will be removed from pandas in a future version. Use pandas.Index with the appropriate dtype instead.\n",
      "  VALID_INDEX_TYPES = (pd.Int64Index, pd.RangeIndex, pd.PeriodIndex, pd.DatetimeIndex)\n",
      "/userhome/cs/u3556490/anaconda3/envs/test/lib/python3.9/site-packages/sktime/datatypes/_hierarchical/_check.py:51: FutureWarning: pandas.Int64Index is deprecated and will be removed from pandas in a future version. Use pandas.Index with the appropriate dtype instead.\n",
      "  VALID_MULTIINDEX_TYPES = (pd.Int64Index, pd.RangeIndex)\n",
      "/userhome/cs/u3556490/anaconda3/envs/test/lib/python3.9/site-packages/sktime/datatypes/_panel/_check.py:48: FutureWarning: pandas.Int64Index is deprecated and will be removed from pandas in a future version. Use pandas.Index with the appropriate dtype instead.\n",
      "  VALID_INDEX_TYPES = (pd.Int64Index, pd.RangeIndex, pd.PeriodIndex, pd.DatetimeIndex)\n",
      "/userhome/cs/u3556490/anaconda3/envs/test/lib/python3.9/site-packages/sktime/datatypes/_panel/_check.py:49: FutureWarning: pandas.Int64Index is deprecated and will be removed from pandas in a future version. Use pandas.Index with the appropriate dtype instead.\n",
      "  VALID_MULTIINDEX_TYPES = (pd.Int64Index, pd.RangeIndex)\n",
      "/userhome/cs/u3556490/anaconda3/envs/test/lib/python3.9/site-packages/sktime/datatypes/_series/_check.py:43: FutureWarning: pandas.Int64Index is deprecated and will be removed from pandas in a future version. Use pandas.Index with the appropriate dtype instead.\n",
      "  VALID_INDEX_TYPES = (pd.Int64Index, pd.RangeIndex, pd.PeriodIndex, pd.DatetimeIndex)\n",
      "/userhome/cs/u3556490/anaconda3/envs/test/lib/python3.9/site-packages/sktime/datatypes/_hierarchical/_check.py:50: FutureWarning: pandas.Int64Index is deprecated and will be removed from pandas in a future version. Use pandas.Index with the appropriate dtype instead.\n",
      "  VALID_INDEX_TYPES = (pd.Int64Index, pd.RangeIndex, pd.PeriodIndex, pd.DatetimeIndex)\n",
      "/userhome/cs/u3556490/anaconda3/envs/test/lib/python3.9/site-packages/sktime/datatypes/_hierarchical/_check.py:51: FutureWarning: pandas.Int64Index is deprecated and will be removed from pandas in a future version. Use pandas.Index with the appropriate dtype instead.\n",
      "  VALID_MULTIINDEX_TYPES = (pd.Int64Index, pd.RangeIndex)\n",
      "/userhome/cs/u3556490/anaconda3/envs/test/lib/python3.9/site-packages/sktime/datatypes/_panel/_check.py:48: FutureWarning: pandas.Int64Index is deprecated and will be removed from pandas in a future version. Use pandas.Index with the appropriate dtype instead.\n",
      "  VALID_INDEX_TYPES = (pd.Int64Index, pd.RangeIndex, pd.PeriodIndex, pd.DatetimeIndex)\n",
      "/userhome/cs/u3556490/anaconda3/envs/test/lib/python3.9/site-packages/sktime/datatypes/_panel/_check.py:49: FutureWarning: pandas.Int64Index is deprecated and will be removed from pandas in a future version. Use pandas.Index with the appropriate dtype instead.\n",
      "  VALID_MULTIINDEX_TYPES = (pd.Int64Index, pd.RangeIndex)\n"
     ]
    },
    {
     "name": "stdout",
     "output_type": "stream",
     "text": [
      "[CV 1/3] END .......estimator__n_estimators=450;, score=0.768 total time= 5.8min\n"
     ]
    }
   ],
   "source": [
    "from sklearn.multioutput import MultiOutputRegressor\n",
    "from sktime.regression.interval_based import TimeSeriesForestRegressor\n",
    "from sklearn.model_selection import GridSearchCV\n",
    "from sklearn.metrics import make_scorer, f1_score, precision_recall_curve\n",
    "\n",
    "param_grid = {\"estimator__n_estimators\": [350, 400, 450, 500, 550]}\n",
    "\n",
    "estimator = MultiOutputRegressor(TimeSeriesForestRegressor(\n",
    "    min_interval=5, n_jobs=-1, random_state=42\n",
    "), n_jobs=-1)\n",
    "\n",
    "def my_scorer(y_true, y_pred):\n",
    "    '''Returns the average f1 scores for the given label y_true and continuous y_pred.'''\n",
    "    y_pred = np.clip(y_pred, 0, 1)\n",
    "    best_thresholds = []\n",
    "    for i in range(4):\n",
    "        precision, recall, thresholds = precision_recall_curve(y_true[:,i], y_pred[:,i])\n",
    "        fscore = (2 * precision * recall) / (precision + recall)\n",
    "        ix = np.nanargmax(fscore)\n",
    "        best_thresholds.append(thresholds[ix])\n",
    "    preds = []\n",
    "    for i in range(len(y_pred)):\n",
    "        pred_row = []\n",
    "        for j in range(4):\n",
    "            if y_pred[i,j] > best_thresholds[j]:\n",
    "                pred_row.append(1)\n",
    "            else:\n",
    "                pred_row.append(0)\n",
    "        preds.append(pred_row)\n",
    "    return f1_score(y_true, preds, zero_division=0, average='macro')\n",
    "\n",
    "scorer = make_scorer(my_scorer)\n",
    "\n",
    "gscv = GridSearchCV(estimator, param_grid, scoring=scorer, verbose=4, cv=3, n_jobs=-1, refit=False).fit(concat_train_X, train_Y)"
   ]
  },
  {
   "cell_type": "code",
   "execution_count": 17,
   "id": "4cfbf659",
   "metadata": {
    "scrolled": true
   },
   "outputs": [
    {
     "data": {
      "text/plain": [
       "{'mean_fit_time': array([209.49007106, 242.16415445, 264.52874438, 273.94881797,\n",
       "        282.36342573]),\n",
       " 'std_fit_time': array([1.40428796, 2.26708176, 9.11084326, 2.24346883, 7.46029919]),\n",
       " 'mean_score_time': array([56.0949142 , 65.76582336, 70.31834904, 65.84638357, 53.85932541]),\n",
       " 'std_score_time': array([0.68018319, 0.31119876, 4.78062816, 3.5595566 , 6.28189376]),\n",
       " 'param_estimator__n_estimators': masked_array(data=[350, 400, 450, 500, 550],\n",
       "              mask=[False, False, False, False, False],\n",
       "        fill_value='?',\n",
       "             dtype=object),\n",
       " 'params': [{'estimator__n_estimators': 350},\n",
       "  {'estimator__n_estimators': 400},\n",
       "  {'estimator__n_estimators': 450},\n",
       "  {'estimator__n_estimators': 500},\n",
       "  {'estimator__n_estimators': 550}],\n",
       " 'split0_test_score': array([0.76404686, 0.76210885, 0.76815627, 0.76534395, 0.75456486]),\n",
       " 'split1_test_score': array([0.74634009, 0.75502439, 0.76282481, 0.75129518, 0.75184697]),\n",
       " 'split2_test_score': array([0.71224643, 0.71032564, 0.7138802 , 0.71142409, 0.7086969 ]),\n",
       " 'mean_test_score': array([0.74087779, 0.74248629, 0.74828709, 0.74268774, 0.73836958]),\n",
       " 'std_test_score': array([0.02149727, 0.0229242 , 0.02442651, 0.02283862, 0.02101107]),\n",
       " 'rank_test_score': array([4, 3, 1, 2, 5], dtype=int32)}"
      ]
     },
     "execution_count": 17,
     "metadata": {},
     "output_type": "execute_result"
    }
   ],
   "source": [
    "gscv.cv_results_"
   ]
  },
  {
   "cell_type": "code",
   "execution_count": 18,
   "id": "e2e361da",
   "metadata": {
    "scrolled": true
   },
   "outputs": [
    {
     "data": {
      "text/plain": [
       "{'estimator__n_estimators': 450}"
      ]
     },
     "execution_count": 18,
     "metadata": {},
     "output_type": "execute_result"
    }
   ],
   "source": [
    "gscv.best_params_"
   ]
  },
  {
   "cell_type": "code",
   "execution_count": 23,
   "id": "91b09b9c",
   "metadata": {},
   "outputs": [
    {
     "name": "stdout",
     "output_type": "stream",
     "text": [
      "Best Threshold=0.48222, F-Score=0.87719\n",
      "Best Threshold=0.33778, F-Score=0.93827\n",
      "Best Threshold=0.21778, F-Score=0.92308\n",
      "Best Threshold=0.10667, F-Score=0.80952\n",
      "              precision    recall  f1-score   support\n",
      "\n",
      "           0    0.94231   0.80328   0.86726        61\n",
      "           1    0.90244   0.94872   0.92500        39\n",
      "           2    0.94444   0.85000   0.89474        20\n",
      "           3    0.72727   0.84211   0.78049        19\n",
      "\n",
      "   micro avg    0.89474   0.85612   0.87500       139\n",
      "   macro avg    0.87912   0.86103   0.86687       139\n",
      "weighted avg    0.90204   0.85612   0.87555       139\n",
      " samples avg    0.08280   0.08387   0.08178       139\n",
      "\n",
      "Brier score losses: (the smaller the better)\n",
      "Class 0, no calibration: 0.027801\n",
      "Class 1, no calibration: 0.017232\n",
      "Class 2, no calibration: 0.012761\n",
      "Class 3, no calibration: 0.016178\n"
     ]
    },
    {
     "data": {
      "image/png": "[encoded data removed]",
      "text/plain": [
       "<Figure size 432x288 with 1 Axes>"
      ]
     },
     "metadata": {
      "needs_background": "light"
     },
     "output_type": "display_data"
    },
    {
     "data": {
      "image/png": "[encoded data removed]",
      "text/plain": [
       "<Figure size 720x720 with 1 Axes>"
      ]
     },
     "metadata": {
      "needs_background": "light"
     },
     "output_type": "display_data"
    }
   ],
   "source": [
    "tsfs_regr = MultiOutputRegressor(TimeSeriesForestRegressor(\n",
    "    n_estimators=450, min_interval=5, n_jobs=-1, random_state=42\n",
    "), n_jobs=-1).fit(concat_train_X, train_Y)\n",
    "\n",
    "best_thresholds, best_f1_scores = regressor_find_thresholds(tsfs_regr, concat_dev_X, dev_Y)\n",
    "\n",
    "preds = regression_label(tsfs_regr, concat_dev_X, best_thresholds)\n",
    "print(classification_report(dev_Y, preds, zero_division=0, digits=5))\n",
    "\n",
    "calibration_plot(tsfs_regr, concat_dev_X, dev_Y)"
   ]
  },
  {
   "cell_type": "code",
   "execution_count": 24,
   "id": "d9516110",
   "metadata": {},
   "outputs": [],
   "source": [
    "save_sklearn_model_to_file(tsfs_regr, \"gscv_tsfs_regr\")"
   ]
  }
 ],
 "metadata": {
  "kernelspec": {
   "display_name": "Python 3 (ipykernel)",
   "language": "python",
   "name": "python3"
  },
  "language_info": {
   "codemirror_mode": {
    "name": "ipython",
    "version": 3
   },
   "file_extension": ".py",
   "mimetype": "text/x-python",
   "name": "python",
   "nbconvert_exporter": "python",
   "pygments_lexer": "ipython3",
   "version": "3.9.7"
  }
 },
 "nbformat": 4,
 "nbformat_minor": 5
}
