{
 "cells": [
  {
   "cell_type": "code",
   "execution_count": 1,
   "id": "518986be",
   "metadata": {},
   "outputs": [],
   "source": [
    "import numpy as np\n",
    "import pandas as pd\n",
    "import sys\n",
    "import os\n",
    "import matplotlib.pyplot as plt\n",
    "import seaborn as sns\n",
    "\n",
    "%matplotlib inline"
   ]
  },
  {
   "cell_type": "code",
   "execution_count": 2,
   "id": "ba441422",
   "metadata": {},
   "outputs": [
    {
     "name": "stdout",
     "output_type": "stream",
     "text": [
      "Training set size: 5633; Dev set size: 626; Testing set size: 696\n"
     ]
    }
   ],
   "source": [
    "from sklearn.model_selection import train_test_split\n",
    "\n",
    "def separateDataset(dataset, train_ratio):\n",
    "    '''\n",
    "    Takes in a dataset (pandas df) and a ratio value, returns a dictionary containing the separated dataset.\n",
    "    Key \"train\" = train set, \"dev\" = dev set (size = train ratio * (sizeof input df - test set)), \"test\" = test set (size = train ratio * sizeof input df)\n",
    "    '''\n",
    "    train_dev_set, test_set = train_test_split(dataset, train_size=train_ratio, random_state=42)\n",
    "    train_set, dev_set = train_test_split(train_dev_set, train_size=train_ratio, random_state=42)\n",
    "    print(\"Training set size: {0}; Dev set size: {1}; Testing set size: {2}\".format(len(train_set), len(dev_set), len(test_set)))\n",
    "    return { \"train\": train_set, \"dev\": dev_set, \"test\": test_set }\n",
    "\n",
    "def pandasToXY(dataframe):\n",
    "    '''\n",
    "    converts the given pandas df to X and Y sub-arrays. X is pandas df, Y is np int array.\n",
    "    note: the range of columns to select as Y must be double checked when a different dataset is used.\n",
    "    '''\n",
    "    X = dataframe.drop(['LOW_IMPACT', 'MID_IMPACT', 'BIG_IMPACT', 'DIRECT_STRIKE'], axis=1)\n",
    "    Y = np.asarray(dataframe.iloc[:,:4]).astype(int)\n",
    "    return X, Y\n",
    "\n",
    "dataset = pd.read_pickle('../Dataset/experimental_dataset_tsnv_24.gz')\n",
    "# train-dev-test splitting\n",
    "splitDataset = separateDataset(dataset, 0.9)\n",
    "# separate each of the 3 sets into X and Y\n",
    "train_full = splitDataset[\"train\"]\n",
    "train_X, train_Y = pandasToXY(train_full)\n",
    "dev_full = splitDataset[\"dev\"]\n",
    "dev_X, dev_Y = pandasToXY(dev_full)\n",
    "test_full = splitDataset[\"test\"]\n",
    "test_X, test_Y = pandasToXY(test_full)"
   ]
  },
  {
   "cell_type": "code",
   "execution_count": 3,
   "id": "50fd0402",
   "metadata": {},
   "outputs": [],
   "source": [
    "# imports\n",
    "from sklearn.metrics import accuracy_score, f1_score, recall_score, precision_score, precision_recall_curve, classification_report"
   ]
  },
  {
   "cell_type": "code",
   "execution_count": 4,
   "id": "003dcc40",
   "metadata": {},
   "outputs": [],
   "source": [
    "import joblib\n",
    "from datetime import datetime\n",
    "\n",
    "def save_sklearn_model_to_file(model, model_type, filename=None):\n",
    "    '''Saves a sklearn model to file. Takes in the model, a name for the model and optionally a full filename.'''\n",
    "    if filename == None:\n",
    "        filename = \"./models/experimental_model_{0}_{1}.skl\".format(model_type, str(datetime.now().strftime(\"%Y-%m-%d %H-%M\")))\n",
    "        \n",
    "    joblib.dump(model, filename)\n",
    "    \n",
    "    # to load a model: model = joblib.load(filename)"
   ]
  },
  {
   "cell_type": "code",
   "execution_count": 5,
   "id": "c8433d8f",
   "metadata": {},
   "outputs": [],
   "source": [
    "# finds the best decision thresholds and the corresponding F1 scores\n",
    "# shows the precision-recall curve as well\n",
    "def optimize_thresholds(clf, datasetX, datasetY):\n",
    "    '''\n",
    "    Takes in a classifier, an input set X and a target set Y; returns the best decision thresholds and corresponding f1-scores;\n",
    "    displays the values and a precision recall curve.\n",
    "    '''\n",
    "    all_preds = clf.predict_proba(datasetX)\n",
    "    all_preds = np.array(all_preds)[:,:,1].T\n",
    "    best_thresholds = []\n",
    "    best_f1_scores = []\n",
    "    n_classes = len(clf.classes_)\n",
    "    for i in range(n_classes):\n",
    "        precision, recall, thresholds = precision_recall_curve(datasetY[:,i], all_preds[:,i])\n",
    "        # find best threshold\n",
    "        fscore = (2 * precision * recall) / (precision + recall)\n",
    "        ix = np.nanargmax(fscore)\n",
    "        best_thresholds.append(thresholds[ix])\n",
    "        best_f1_scores.append(fscore[ix])\n",
    "        print('Best Threshold={0:.05f}, F-Score={1:.05f}'.format(thresholds[ix], fscore[ix]))\n",
    "    \n",
    "    # plot the precision-recall curve for the model\n",
    "    plt.plot(recall, precision, marker='.', label='PR curve')\n",
    "    plt.scatter(recall[ix], precision[ix], marker='o', color='black', label='Best')\n",
    "    plt.xlabel('Recall')\n",
    "    plt.ylabel('Precision')\n",
    "    plt.title('Precision-Recall Curve for Direct Strike')\n",
    "    plt.legend()\n",
    "        \n",
    "    return best_thresholds, best_f1_scores\n",
    "\n",
    "# make predictions according to the given thresholds\n",
    "def predictions_with_thresholds(clf, thresholds, datasetX):\n",
    "    '''\n",
    "    Takes in a classifier, a list of decision thresholds and an input samples set X;\n",
    "    Returns deterministic predictions made using the model over X and the thresholds.\n",
    "    '''\n",
    "    preds_probs = clf.predict_proba(datasetX)  \n",
    "    preds_probs = np.array(preds_probs)[:,:,1].T\n",
    "    n_classes = len(clf.classes_)\n",
    "    preds = []\n",
    "    # iterate each predicted probability and compare against threshold\n",
    "    for i in range(len(preds_probs)):\n",
    "        pred_row = []\n",
    "        for j in range(n_classes):\n",
    "            if preds_probs[i,j] > thresholds[j]:\n",
    "                pred_row.append(1)\n",
    "            else:\n",
    "                pred_row.append(0)\n",
    "        preds.append(pred_row)\n",
    "    \n",
    "    return np.array(preds)"
   ]
  },
  {
   "cell_type": "code",
   "execution_count": 7,
   "id": "ff6e698e",
   "metadata": {},
   "outputs": [],
   "source": [
    "from scipy.special import expit\n",
    "\n",
    "def regression_predict(regr, datasetX, method='clip'):\n",
    "    '''\n",
    "    Takes in a regressor, an input samples set X and optionally a method argument (must be either \"sigmoid\" or \"clip\");\n",
    "    Returns predictions made by the regressor on X that have been rescaled to fall within [0,1] using the specified method.\n",
    "    '''\n",
    "    # method specifies how to handle inputs outside of 0-1 range: clip to 0 or 1, or pass through sigmoid\n",
    "    preds = regr.predict(datasetX)\n",
    "    if method == 'clip':\n",
    "        preds = np.clip(preds, 0, 1)\n",
    "    elif method == 'sigmoid':\n",
    "        preds = expit(preds)\n",
    "    return preds\n",
    "\n",
    "def regressor_find_thresholds(regr, datasetX, datasetY, method='clip'):\n",
    "    '''\n",
    "    Takes in a regressor, an input set X, a target set Y and optionally a scaling method;\n",
    "    returns the best decision thresholds and corresponding f1-scores;\n",
    "    displays the values and a precision recall curve.\n",
    "    '''\n",
    "    all_preds = regression_predict(regr, datasetX, method)\n",
    "    best_thresholds = []\n",
    "    best_f1_scores = []\n",
    "    for i in range(4):\n",
    "        precision, recall, thresholds = precision_recall_curve(datasetY[:,i], all_preds[:,i])\n",
    "        # find best threshold\n",
    "        fscore = (2 * precision * recall) / (precision + recall)\n",
    "        ix = np.nanargmax(fscore)\n",
    "        best_thresholds.append(thresholds[ix])\n",
    "        best_f1_scores.append(fscore[ix])\n",
    "        print('Best Threshold={0:.05f}, F-Score={1:.05f}'.format(thresholds[ix], fscore[ix]))\n",
    "\n",
    "    # plot the precision-recall curve for the model\n",
    "    plt.plot(recall, precision, marker='.', label='PR curve')\n",
    "    plt.scatter(recall[ix], precision[ix], marker='o', color='black', label='Best')\n",
    "    plt.xlabel('Recall')\n",
    "    plt.ylabel('Precision')\n",
    "    plt.title('Precision-Recall Curve for Direct Strike')\n",
    "    plt.legend()\n",
    "    \n",
    "    return best_thresholds, best_f1_scores\n",
    "\n",
    "def regression_label(regr, datasetX, thresholds, method='clip'):\n",
    "    '''\n",
    "    Takes in a regressor, a list of decision thresholds, an input samples set X and optionally a scaling method;\n",
    "    Returns deterministic predictions made using the model over X and the thresholds.\n",
    "    '''\n",
    "    preds_probs = regression_predict(regr, datasetX, method)\n",
    "    preds = []\n",
    "    # iterate each predicted probability and compare against threshold\n",
    "    for i in range(len(preds_probs)):\n",
    "        pred_row = []\n",
    "        for j in range(4):\n",
    "            if preds_probs[i,j] > thresholds[j]:\n",
    "                pred_row.append(1)\n",
    "            else:\n",
    "                pred_row.append(0)\n",
    "        preds.append(pred_row)\n",
    "    \n",
    "    return np.array(preds)"
   ]
  },
  {
   "cell_type": "code",
   "execution_count": 8,
   "id": "c7dbe7da",
   "metadata": {},
   "outputs": [],
   "source": [
    "from sklearn.metrics import brier_score_loss\n",
    "from sklearn.calibration import CalibratedClassifierCV, CalibrationDisplay\n",
    "from matplotlib.gridspec import GridSpec\n",
    "from sklearn.multioutput import MultiOutputRegressor, MultiOutputClassifier\n",
    "\n",
    "def calibration_plot(clf, dataset_X, dataset_Y):\n",
    "    '''\n",
    "    Takes in a classifier, an input set X and a target set Y;\n",
    "    Calculates and shows Brier scores and plots calibration graphs for reference.\n",
    "    '''\n",
    "    # brier score loss\n",
    "    print(\"Brier score losses: (the smaller the better)\")  \n",
    "    if isinstance(clf, MultiOutputRegressor):\n",
    "        all_preds = regression_predict(clf, dataset_X)\n",
    "    else:\n",
    "        all_preds = np.array(clf.predict_proba(dataset_X))\n",
    "    for i in range(4):\n",
    "        if isinstance(clf, MultiOutputClassifier):\n",
    "            preds = all_preds[i,:,1]\n",
    "        else:            \n",
    "            preds = all_preds[:,i]\n",
    "        clf_score = brier_score_loss(dataset_Y[:,i], preds)\n",
    "        print(\"Class {0}, no calibration: {1:1.6f}\".format(i, clf_score))\n",
    "\n",
    "    # plot calibration graphs\n",
    "    fig = plt.figure(figsize=(10, 10))\n",
    "    gs = GridSpec(4, 2)\n",
    "    ax = fig.add_subplot(gs[:2, :2])\n",
    "\n",
    "    preds = np.array(clf.predict_proba(dataset_X)) if not isinstance(clf, MultiOutputRegressor) else regression_predict(clf, dataset_X)\n",
    "    preds = preds[0,:,1] if isinstance(clf, MultiOutputClassifier) else preds[:,0]\n",
    "    display = CalibrationDisplay.from_predictions(dataset_Y[:,0], preds, n_bins=10, name=\"class 0\", ax=ax, strategy='uniform')\n",
    "    preds = np.array(clf.predict_proba(dataset_X)) if not isinstance(clf, MultiOutputRegressor) else regression_predict(clf, dataset_X)\n",
    "    preds = preds[3,:,1] if isinstance(clf, MultiOutputClassifier) else preds[:,3]\n",
    "    display = CalibrationDisplay.from_predictions(dataset_Y[:,3], preds, n_bins=10, name=\"class 3\", ax=ax, strategy='uniform')\n",
    "\n",
    "    ax.grid()\n",
    "    plt.tight_layout()\n",
    "    plt.show()"
   ]
  },
  {
   "cell_type": "code",
   "execution_count": 11,
   "id": "dddccaab",
   "metadata": {
    "scrolled": true
   },
   "outputs": [
    {
     "data": {
      "text/plain": [
       "1.0"
      ]
     },
     "execution_count": 11,
     "metadata": {},
     "output_type": "execute_result"
    }
   ],
   "source": [
    "from sklearn.gaussian_process import GaussianProcessRegressor\n",
    "from sklearn.gaussian_process.kernels import ConstantKernel, RBF, WhiteKernel, Matern, DotProduct, RationalQuadratic \n",
    "\n",
    "gp_clf = MultiOutputRegressor(\n",
    "    GaussianProcessRegressor(random_state=42), n_jobs=-1\n",
    ").fit(train_X, train_Y)\n",
    "\n",
    "gp_clf.score(train_X, train_Y)"
   ]
  },
  {
   "cell_type": "code",
   "execution_count": 12,
   "id": "7452a58b",
   "metadata": {
    "scrolled": true
   },
   "outputs": [
    {
     "name": "stdout",
     "output_type": "stream",
     "text": [
      "Best Threshold=0.00000, F-Score=0.17758\n",
      "Best Threshold=0.00000, F-Score=0.11729\n",
      "Best Threshold=0.00000, F-Score=0.06192\n",
      "Best Threshold=0.00000, F-Score=0.05891\n"
     ]
    },
    {
     "data": {
      "image/png": "[encoded data removed]",
      "text/plain": [
       "<Figure size 432x288 with 1 Axes>"
      ]
     },
     "metadata": {
      "needs_background": "light"
     },
     "output_type": "display_data"
    }
   ],
   "source": [
    "# best_thresholds, best_f1_scores = optimize_thresholds(gp_clf, dev_X, dev_Y)\n",
    "best_thresholds, best_f1_scores = regressor_find_thresholds(gp_clf, dev_X, dev_Y)"
   ]
  },
  {
   "cell_type": "code",
   "execution_count": 29,
   "id": "7a1473b8",
   "metadata": {},
   "outputs": [
    {
     "name": "stdout",
     "output_type": "stream",
     "text": [
      "              precision    recall  f1-score   support\n",
      "\n",
      "           0    0.00000   0.00000   0.00000        61\n",
      "           1    0.00000   0.00000   0.00000        39\n",
      "           2    0.00000   0.00000   0.00000        20\n",
      "           3    0.00000   0.00000   0.00000        19\n",
      "\n",
      "   micro avg    0.00000   0.00000   0.00000       139\n",
      "   macro avg    0.00000   0.00000   0.00000       139\n",
      "weighted avg    0.00000   0.00000   0.00000       139\n",
      " samples avg    0.00000   0.00000   0.00000       139\n",
      "\n"
     ]
    }
   ],
   "source": [
    "preds = predictions_with_thresholds(gp_clf, best_thresholds, dev_X)\n",
    "print(classification_report(dev_Y, preds, zero_division=0, digits=5))"
   ]
  },
  {
   "cell_type": "code",
   "execution_count": 30,
   "id": "e863f2cb",
   "metadata": {},
   "outputs": [
    {
     "name": "stdout",
     "output_type": "stream",
     "text": [
      "              precision    recall  f1-score   support\n",
      "\n",
      "           0    0.00000   0.00000   0.00000        61\n",
      "           1    0.00000   0.00000   0.00000        39\n",
      "           2    0.00000   0.00000   0.00000        20\n",
      "           3    0.00000   0.00000   0.00000        19\n",
      "\n",
      "   micro avg    0.00000   0.00000   0.00000       139\n",
      "   macro avg    0.00000   0.00000   0.00000       139\n",
      "weighted avg    0.00000   0.00000   0.00000       139\n",
      " samples avg    0.00000   0.00000   0.00000       139\n",
      "\n"
     ]
    }
   ],
   "source": [
    "print(classification_report(dev_Y, gp_clf.predict(dev_X), zero_division=0, digits=5))"
   ]
  },
  {
   "cell_type": "code",
   "execution_count": 13,
   "id": "a9277a8e",
   "metadata": {},
   "outputs": [
    {
     "data": {
      "text/plain": [
       "array([[0., 0., 0., 0.],\n",
       "       [0., 0., 0., 0.],\n",
       "       [0., 0., 0., 0.],\n",
       "       ...,\n",
       "       [0., 0., 0., 0.],\n",
       "       [0., 0., 0., 0.],\n",
       "       [0., 0., 0., 0.]])"
      ]
     },
     "execution_count": 13,
     "metadata": {},
     "output_type": "execute_result"
    }
   ],
   "source": [
    "gp_clf.predict(dev_X)"
   ]
  }
 ],
 "metadata": {
  "kernelspec": {
   "display_name": "Python 3 (ipykernel)",
   "language": "python",
   "name": "python3"
  },
  "language_info": {
   "codemirror_mode": {
    "name": "ipython",
    "version": 3
   },
   "file_extension": ".py",
   "mimetype": "text/x-python",
   "name": "python",
   "nbconvert_exporter": "python",
   "pygments_lexer": "ipython3",
   "version": "3.9.7"
  }
 },
 "nbformat": 4,
 "nbformat_minor": 5
}
