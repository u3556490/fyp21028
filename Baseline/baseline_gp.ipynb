{
 "cells": [
  {
   "cell_type": "markdown",
   "id": "51f13eaa",
   "metadata": {},
   "source": [
    "# Gaussian Processes"
   ]
  },
  {
   "cell_type": "code",
   "execution_count": 1,
   "id": "b84d63fc",
   "metadata": {},
   "outputs": [],
   "source": [
    "import os\n",
    "os.environ['CUDA_LAUNCH_BLOCKING']=\"1\"\n",
    "import numpy as np\n",
    "import pandas as pd\n",
    "import seaborn\n",
    "import matplotlib.pyplot as plt\n",
    "import torch\n",
    "import gpytorch\n",
    "\n",
    "%matplotlib inline"
   ]
  },
  {
   "cell_type": "code",
   "execution_count": 2,
   "id": "478d3bb3",
   "metadata": {
    "scrolled": true
   },
   "outputs": [
    {
     "name": "stdout",
     "output_type": "stream",
     "text": [
      "NVIDIA GeForce RTX 2080 Ti\n",
      "8\n",
      "Sat Apr 16 14:27:19 2022       \n",
      "+-----------------------------------------------------------------------------+\n",
      "| NVIDIA-SMI 470.103.01   Driver Version: 470.103.01   CUDA Version: 11.4     |\n",
      "|-------------------------------+----------------------+----------------------+\n",
      "| GPU  Name        Persistence-M| Bus-Id        Disp.A | Volatile Uncorr. ECC |\n",
      "| Fan  Temp  Perf  Pwr:Usage/Cap|         Memory-Usage | GPU-Util  Compute M. |\n",
      "|                               |                      |               MIG M. |\n",
      "|===============================+======================+======================|\n",
      "|   0  NVIDIA GeForce ...  On   | 00000000:05:00.0 Off |                  N/A |\n",
      "| 48%   76C    P2   155W / 250W |   3887MiB / 11019MiB |     14%      Default |\n",
      "|                               |                      |                  N/A |\n",
      "+-------------------------------+----------------------+----------------------+\n",
      "                                                                               \n",
      "+-----------------------------------------------------------------------------+\n",
      "| Processes:                                                                  |\n",
      "|  GPU   GI   CI        PID   Type   Process name                  GPU Memory |\n",
      "|        ID   ID                                                   Usage      |\n",
      "|=============================================================================|\n",
      "|    0   N/A  N/A      8905      C   ...nda3/envs/test/bin/python      221MiB |\n",
      "|    0   N/A  N/A      8906      C   ...nda3/envs/test/bin/python      233MiB |\n",
      "|    0   N/A  N/A      8907      C   ...nda3/envs/test/bin/python      225MiB |\n",
      "|    0   N/A  N/A      8908      C   ...nda3/envs/test/bin/python      233MiB |\n",
      "|    0   N/A  N/A      8909      C   ...nda3/envs/test/bin/python      743MiB |\n",
      "|    0   N/A  N/A      8910      C   ...nda3/envs/test/bin/python      743MiB |\n",
      "|    0   N/A  N/A      8911      C   ...nda3/envs/test/bin/python      743MiB |\n",
      "|    0   N/A  N/A      8912      C   ...nda3/envs/test/bin/python      743MiB |\n",
      "+-----------------------------------------------------------------------------+\n"
     ]
    }
   ],
   "source": [
    "print(torch.cuda.get_device_name() if torch.cuda.is_available() else \"No GPU\")\n",
    "print(os.cpu_count())\n",
    "!nvidia-smi"
   ]
  },
  {
   "cell_type": "code",
   "execution_count": 3,
   "id": "3d7f9ccb",
   "metadata": {
    "scrolled": true
   },
   "outputs": [
    {
     "name": "stdout",
     "output_type": "stream",
     "text": [
      "<class 'pandas.core.frame.DataFrame'>\n",
      "RangeIndex: 45293 entries, 0 to 45292\n",
      "Data columns (total 22 columns):\n",
      " #   Column         Non-Null Count  Dtype  \n",
      "---  ------         --------------  -----  \n",
      " 0   MM             45293 non-null  int64  \n",
      " 1   DD             45293 non-null  int64  \n",
      " 2   HH             45293 non-null  int64  \n",
      " 3   LOW_IMPACT     45293 non-null  bool   \n",
      " 4   MID_IMPACT     45293 non-null  bool   \n",
      " 5   BIG_IMPACT     45293 non-null  bool   \n",
      " 6   DIRECT_STRIKE  45293 non-null  bool   \n",
      " 7   00LAT          45293 non-null  float32\n",
      " 8   00LON          45293 non-null  float32\n",
      " 9   00WIND         45293 non-null  int32  \n",
      " 10  06LAT          45293 non-null  float32\n",
      " 11  06LON          45293 non-null  float32\n",
      " 12  06WIND         45293 non-null  int32  \n",
      " 13  12LAT          45293 non-null  float32\n",
      " 14  12LON          45293 non-null  float32\n",
      " 15  12WIND         45293 non-null  int32  \n",
      " 16  18LAT          45293 non-null  float32\n",
      " 17  18LON          45293 non-null  float32\n",
      " 18  18WIND         45293 non-null  int32  \n",
      " 19  24LAT          45293 non-null  float32\n",
      " 20  24LON          45293 non-null  float32\n",
      " 21  24WIND         45293 non-null  int32  \n",
      "dtypes: bool(4), float32(10), int32(5), int64(3)\n",
      "memory usage: 3.8 MB\n",
      "None\n"
     ]
    }
   ],
   "source": [
    "dataset = pd.read_pickle('../Dataset/baseline_dataset.gz')\n",
    "pd.set_option(\"display.max.columns\", None)\n",
    "print(dataset.info())"
   ]
  },
  {
   "cell_type": "code",
   "execution_count": 4,
   "id": "835fcb1a",
   "metadata": {},
   "outputs": [],
   "source": [
    "# Constants\n",
    "TRAIN_RATIO = 0.9\n",
    "NUM_EPOCHS = 100\n",
    "LR = 0.1\n",
    "BATCH_SIZE = 512"
   ]
  },
  {
   "cell_type": "code",
   "execution_count": 5,
   "id": "c31e7d39",
   "metadata": {},
   "outputs": [
    {
     "name": "stdout",
     "output_type": "stream",
     "text": [
      "Training set size: 36686; Dev set size: 4077; Testing set size: 4530\n"
     ]
    }
   ],
   "source": [
    "# imports\n",
    "from sklearn.metrics import accuracy_score, f1_score, recall_score, precision_score, precision_recall_curve, classification_report, brier_score_loss\n",
    "from sklearn.model_selection import train_test_split\n",
    "from torch.utils.data import Dataset, DataLoader, TensorDataset\n",
    "from sklearn.preprocessing import StandardScaler\n",
    "\n",
    "# test-dev-train split\n",
    "def separateDataset(dataset, train_ratio):\n",
    "    '''\n",
    "    Takes in a dataset (pandas df) and a ratio value, returns a dictionary containing the separated dataset.\n",
    "    Key \"train\" = train set, \"dev\" = dev set (size = train ratio * (sizeof input df - test set)), \"test\" = test set (size = train ratio * sizeof input df)\n",
    "    '''\n",
    "    train_dev_set, test_set = train_test_split(dataset, train_size=train_ratio)\n",
    "    train_set, dev_set = train_test_split(train_dev_set, train_size=train_ratio)\n",
    "    print(\"Training set size: {0}; Dev set size: {1}; Testing set size: {2}\".format(len(train_set), len(dev_set), len(test_set)))\n",
    "    return { \"train\": train_set, \"dev\": dev_set, \"test\": test_set }\n",
    "\n",
    "def pandasToXY(dataframe):\n",
    "    '''\n",
    "    converts the given pandas df to X and Y sub-arrays. X is pandas df, Y is np int array.\n",
    "    note: the range of columns to select as Y must be double checked when a different dataset is used.\n",
    "    '''\n",
    "    X = dataframe.drop(['LOW_IMPACT', 'MID_IMPACT', 'BIG_IMPACT', 'DIRECT_STRIKE'], axis=1)\n",
    "    Y = np.asarray(dataframe.iloc[:,3:7]).astype(int)\n",
    "    return X, Y\n",
    "\n",
    "# split\n",
    "splitDataset = separateDataset(dataset, TRAIN_RATIO)\n",
    "# to XY\n",
    "train_X, train_Y = pandasToXY(splitDataset[\"train\"])\n",
    "dev_X, dev_Y = pandasToXY(splitDataset[\"dev\"])\n",
    "# to tensor\n",
    "train_X = torch.tensor(StandardScaler().fit_transform(train_X)).float()\n",
    "train_Y = torch.tensor(train_Y[:,0]).float()\n",
    "dev_X = torch.tensor(StandardScaler().fit_transform(dev_X)).float()\n",
    "dev_Y = torch.tensor(dev_Y[:,0]).float()\n",
    "# to dataloader\n",
    "train_loader = DataLoader(TensorDataset(train_X, train_Y), batch_size=BATCH_SIZE, shuffle=True)\n",
    "dev_loader = DataLoader(TensorDataset(dev_X, dev_Y), batch_size=BATCH_SIZE, shuffle=True)"
   ]
  },
  {
   "cell_type": "code",
   "execution_count": 6,
   "id": "8e00deeb",
   "metadata": {},
   "outputs": [],
   "source": [
    "from scipy.special import expit\n",
    "\n",
    "def regression_predict(preds, method='clip'):\n",
    "    '''\n",
    "    Takes in an array of raw predictions and optionally a method argument (must be either \"sigmoid\" or \"clip\");\n",
    "    Returns predictions made by the model that have been rescaled to fall within [0,1] using the specified method.\n",
    "    Note that the GP model is treated as if it were a regressor.\n",
    "    '''\n",
    "    # method specifies how to handle inputs outside of 0-1 range: clip to 0 or 1, or pass through sigmoid\n",
    "    if method == 'clip':\n",
    "        preds = np.clip(preds, 0, 1)\n",
    "    elif method == 'sigmoid':\n",
    "        preds = expit(preds)\n",
    "    return preds\n",
    "\n",
    "def regressor_find_thresholds(all_preds, datasetY, method='clip'):\n",
    "    '''\n",
    "    Takes in an array of predictions, a target set Y and optionally a scaling method;\n",
    "    returns the best decision thresholds and corresponding f1-scores;\n",
    "    displays the values and a precision recall curve.\n",
    "    '''\n",
    "    best_thresholds = []\n",
    "    best_f1_scores = []\n",
    "    for i in range(4):\n",
    "        precision, recall, thresholds = precision_recall_curve(datasetY[:,i], all_preds[:,i])\n",
    "        fscore = (2 * precision * recall) / (precision + recall)\n",
    "        ix = np.nanargmax(fscore)\n",
    "        best_thresholds.append(thresholds[ix])\n",
    "        best_f1_scores.append(fscore[ix])\n",
    "        print('Best Threshold={0:.05f}, F-Score={1:.05f}'.format(thresholds[ix], fscore[ix]))\n",
    "\n",
    "    # plot the precision-recall curve for the model\n",
    "    plt.plot(recall, precision, marker='.', label='PR curve')\n",
    "    plt.scatter(recall[ix], precision[ix], marker='o', color='black', label='Best')\n",
    "    plt.xlabel('Recall')\n",
    "    plt.ylabel('Precision')\n",
    "    plt.title('Precision-Recall Curve')\n",
    "    plt.legend()\n",
    "    \n",
    "    return best_thresholds, best_f1_scores"
   ]
  },
  {
   "cell_type": "code",
   "execution_count": 7,
   "id": "7186afea",
   "metadata": {
    "scrolled": true
   },
   "outputs": [],
   "source": [
    "from gpytorch.variational import CholeskyVariationalDistribution\n",
    "from gpytorch.variational import VariationalStrategy, IndependentMultitaskVariationalStrategy, LMCVariationalStrategy\n",
    "\n",
    "class ApproximateGPModel(gpytorch.models.ApproximateGP):\n",
    "    '''An approximate Gaussian process model is defined here'''\n",
    "    def __init__(self, inducing_points):        \n",
    "        variational_distribution = CholeskyVariationalDistribution(\n",
    "            inducing_points.size(0)#, batch_shape=torch.Size([2])\n",
    "        )\n",
    "        variational_strategy = VariationalStrategy(\n",
    "                self, inducing_points, variational_distribution, learn_inducing_locations=True\n",
    "        )\n",
    "        \n",
    "        '''LMCVariationalStrategy(\n",
    "            VariationalStrategy(\n",
    "                self, inducing_points, variational_distribution, learn_inducing_locations=True\n",
    "            ),\n",
    "            num_tasks=4, num_latents=2, latent_dim=-1\n",
    "        )'''\n",
    "        \n",
    "        super(ApproximateGPModel, self).__init__(variational_strategy)\n",
    "        self.mean_module = gpytorch.means.ConstantMean()\n",
    "        self.covar_module = gpytorch.kernels.ScaleKernel(\n",
    "            gpytorch.kernels.RBFKernel()\n",
    "            #batch_shape=torch.Size([2])\n",
    "        )\n",
    "        \n",
    "    def forward(self, x):\n",
    "        mean_x = self.mean_module(x)\n",
    "        covar_x = self.covar_module(x)\n",
    "        return gpytorch.distributions.MultivariateNormal(mean_x, covar_x)\n",
    "    \n",
    "likelihood = gpytorch.likelihoods.BernoulliLikelihood()\n",
    "model = ApproximateGPModel(inducing_points=train_X[:5000,:])"
   ]
  },
  {
   "cell_type": "code",
   "execution_count": 8,
   "id": "379f998b",
   "metadata": {},
   "outputs": [],
   "source": [
    "model = model.cuda()\n",
    "likelihood = likelihood.cuda()"
   ]
  },
  {
   "cell_type": "code",
   "execution_count": 9,
   "id": "3bdc6e73",
   "metadata": {
    "scrolled": true
   },
   "outputs": [
    {
     "name": "stdout",
     "output_type": "stream",
     "text": [
      "Iter 1/100 - Loss: 0.350   lengthscale: 1.942\n",
      "Iter 2/100 - Loss: 0.244   lengthscale: 2.136\n",
      "Iter 3/100 - Loss: 0.240   lengthscale: 2.042\n",
      "Iter 4/100 - Loss: 0.239   lengthscale: 1.973\n",
      "Iter 5/100 - Loss: 0.226   lengthscale: 1.827\n",
      "Iter 6/100 - Loss: 0.218   lengthscale: 1.676\n",
      "Iter 7/100 - Loss: 0.213   lengthscale: 1.677\n",
      "Iter 8/100 - Loss: 0.210   lengthscale: 1.675\n",
      "Iter 9/100 - Loss: 0.207   lengthscale: 1.666\n",
      "Iter 10/100 - Loss: 0.205   lengthscale: 1.601\n",
      "Iter 11/100 - Loss: 0.199   lengthscale: 1.646\n",
      "Iter 12/100 - Loss: 0.199   lengthscale: 1.688\n",
      "Iter 13/100 - Loss: 0.198   lengthscale: 1.733\n",
      "Iter 14/100 - Loss: 0.194   lengthscale: 1.704\n",
      "Iter 15/100 - Loss: 0.197   lengthscale: 1.572\n",
      "Iter 16/100 - Loss: 0.198   lengthscale: 1.726\n",
      "Iter 17/100 - Loss: 0.193   lengthscale: 1.693\n",
      "Iter 18/100 - Loss: 0.193   lengthscale: 1.727\n",
      "Iter 19/100 - Loss: 0.192   lengthscale: 1.675\n",
      "Iter 20/100 - Loss: 0.189   lengthscale: 1.696\n",
      "Iter 21/100 - Loss: 0.190   lengthscale: 1.794\n",
      "Iter 22/100 - Loss: 0.188   lengthscale: 1.789\n",
      "Iter 23/100 - Loss: 0.194   lengthscale: 1.724\n",
      "Iter 24/100 - Loss: 0.189   lengthscale: 1.685\n",
      "Iter 25/100 - Loss: 0.190   lengthscale: 1.755\n",
      "Iter 26/100 - Loss: 0.191   lengthscale: 1.730\n",
      "Iter 27/100 - Loss: 0.190   lengthscale: 1.827\n",
      "Iter 28/100 - Loss: 0.187   lengthscale: 1.764\n",
      "Iter 29/100 - Loss: 0.186   lengthscale: 1.868\n",
      "Iter 30/100 - Loss: 0.186   lengthscale: 1.807\n",
      "Iter 31/100 - Loss: 0.187   lengthscale: 1.720\n",
      "Iter 32/100 - Loss: 0.187   lengthscale: 1.714\n",
      "Iter 33/100 - Loss: 0.187   lengthscale: 1.822\n",
      "Iter 34/100 - Loss: 0.187   lengthscale: 1.846\n",
      "Iter 35/100 - Loss: 0.186   lengthscale: 1.904\n",
      "Iter 36/100 - Loss: 0.188   lengthscale: 1.808\n",
      "Iter 37/100 - Loss: 0.187   lengthscale: 1.860\n",
      "Iter 38/100 - Loss: 0.186   lengthscale: 1.938\n",
      "Iter 39/100 - Loss: 0.187   lengthscale: 1.899\n",
      "Iter 40/100 - Loss: 0.186   lengthscale: 1.805\n",
      "Iter 41/100 - Loss: 0.189   lengthscale: 1.798\n",
      "Iter 42/100 - Loss: 0.184   lengthscale: 1.821\n",
      "Iter 43/100 - Loss: 0.185   lengthscale: 1.911\n",
      "Iter 44/100 - Loss: 0.187   lengthscale: 1.919\n",
      "Iter 45/100 - Loss: 0.189   lengthscale: 1.792\n",
      "Iter 46/100 - Loss: 0.188   lengthscale: 1.774\n",
      "Iter 47/100 - Loss: 0.183   lengthscale: 1.911\n",
      "Iter 48/100 - Loss: 0.186   lengthscale: 1.957\n",
      "Iter 49/100 - Loss: 0.185   lengthscale: 1.824\n",
      "Iter 50/100 - Loss: 0.187   lengthscale: 1.841\n",
      "Iter 51/100 - Loss: 0.186   lengthscale: 1.873\n",
      "Iter 52/100 - Loss: 0.186   lengthscale: 1.927\n",
      "Iter 53/100 - Loss: 0.186   lengthscale: 1.811\n",
      "Iter 54/100 - Loss: 0.184   lengthscale: 1.797\n",
      "Iter 55/100 - Loss: 0.186   lengthscale: 1.875\n",
      "Iter 56/100 - Loss: 0.184   lengthscale: 1.837\n",
      "Iter 57/100 - Loss: 0.185   lengthscale: 1.884\n",
      "Iter 58/100 - Loss: 0.184   lengthscale: 1.917\n",
      "Iter 59/100 - Loss: 0.184   lengthscale: 1.928\n",
      "Iter 60/100 - Loss: 0.189   lengthscale: 1.733\n",
      "Iter 61/100 - Loss: 0.187   lengthscale: 1.881\n",
      "Iter 62/100 - Loss: 0.186   lengthscale: 1.905\n",
      "Iter 63/100 - Loss: 0.185   lengthscale: 1.928\n",
      "Iter 64/100 - Loss: 0.184   lengthscale: 1.892\n",
      "Iter 65/100 - Loss: 0.186   lengthscale: 1.749\n",
      "Iter 66/100 - Loss: 0.184   lengthscale: 1.900\n",
      "Iter 67/100 - Loss: 0.184   lengthscale: 1.886\n",
      "Iter 68/100 - Loss: 0.185   lengthscale: 1.809\n",
      "Iter 69/100 - Loss: 0.185   lengthscale: 1.858\n",
      "Iter 70/100 - Loss: 0.185   lengthscale: 1.841\n",
      "Iter 71/100 - Loss: 0.185   lengthscale: 1.851\n",
      "Iter 72/100 - Loss: 0.187   lengthscale: 1.788\n",
      "Iter 73/100 - Loss: 0.184   lengthscale: 1.900\n",
      "Iter 74/100 - Loss: 0.186   lengthscale: 1.865\n",
      "Iter 75/100 - Loss: 0.185   lengthscale: 1.941\n",
      "Iter 76/100 - Loss: 0.184   lengthscale: 1.881\n",
      "Iter 77/100 - Loss: 0.185   lengthscale: 1.885\n",
      "Iter 78/100 - Loss: 0.185   lengthscale: 1.964\n",
      "Iter 79/100 - Loss: 0.184   lengthscale: 1.885\n",
      "Iter 80/100 - Loss: 0.185   lengthscale: 1.874\n",
      "Iter 81/100 - Loss: 0.182   lengthscale: 1.887\n",
      "Iter 82/100 - Loss: 0.185   lengthscale: 1.882\n",
      "Iter 83/100 - Loss: 0.183   lengthscale: 1.947\n",
      "Iter 84/100 - Loss: 0.184   lengthscale: 1.805\n",
      "Iter 85/100 - Loss: 0.184   lengthscale: 1.968\n",
      "Iter 86/100 - Loss: 0.184   lengthscale: 1.956\n",
      "Iter 87/100 - Loss: 0.186   lengthscale: 1.959\n",
      "Iter 88/100 - Loss: 0.187   lengthscale: 1.703\n",
      "Iter 89/100 - Loss: 0.187   lengthscale: 1.825\n",
      "Iter 90/100 - Loss: 0.186   lengthscale: 1.935\n",
      "Iter 91/100 - Loss: 0.188   lengthscale: 1.898\n",
      "Iter 92/100 - Loss: 0.185   lengthscale: 1.934\n",
      "Iter 93/100 - Loss: 0.184   lengthscale: 1.875\n",
      "Iter 94/100 - Loss: 0.184   lengthscale: 1.967\n",
      "Iter 95/100 - Loss: 0.185   lengthscale: 1.930\n",
      "Iter 96/100 - Loss: 0.184   lengthscale: 1.899\n",
      "Iter 97/100 - Loss: 0.185   lengthscale: 1.845\n",
      "Iter 98/100 - Loss: 0.184   lengthscale: 1.817\n",
      "Iter 99/100 - Loss: 0.184   lengthscale: 1.825\n",
      "Iter 100/100 - Loss: 0.184   lengthscale: 1.882\n"
     ]
    }
   ],
   "source": [
    "model.train()\n",
    "likelihood.train()\n",
    "\n",
    "optimizer = torch.optim.Adam([\n",
    "    {'params': model.parameters()}, \n",
    "    {'params': likelihood.parameters()}\n",
    "], lr=LR)\n",
    "# optimizer = torch.optim.Adam(model.parameters(), lr=LR)\n",
    "\n",
    "# mll = gpytorch.mlls.VariationalELBO(likelihood, model, num_data=train_Y.size(0))\n",
    "mll = gpytorch.mlls.PredictiveLogLikelihood(likelihood, model, num_data=train_Y.size(0))\n",
    "\n",
    "for i in range(NUM_EPOCHS):\n",
    "    \n",
    "    running_loss = 0.0\n",
    "    \n",
    "    for j, (inputs, targets) in enumerate(train_loader):\n",
    "        inputs = inputs.cuda()\n",
    "        targets = targets.cuda()        \n",
    "        optimizer.zero_grad()\n",
    "        output = model(inputs)\n",
    "        loss = -mll(output, targets)\n",
    "        loss.backward()        \n",
    "        optimizer.step()\n",
    "        running_loss += loss.item()\n",
    "        \n",
    "    average_loss = running_loss/len(train_loader)\n",
    "        \n",
    "    print('Iter %d/%d - Loss: %.3f   lengthscale: %.3f' % ( #   noise: %.3f\n",
    "        i + 1, NUM_EPOCHS, average_loss,\n",
    "        model.covar_module.base_kernel.lengthscale.item()\n",
    "        #model.covar_module.noise.item()\n",
    "    ))"
   ]
  },
  {
   "cell_type": "code",
   "execution_count": 10,
   "id": "f9c7d40f",
   "metadata": {
    "scrolled": true
   },
   "outputs": [
    {
     "name": "stdout",
     "output_type": "stream",
     "text": [
      "tensor([0.0151, 0.0247, 0.3820,  ..., 0.3566, 0.0266, 0.2896])\n"
     ]
    }
   ],
   "source": [
    "model.eval()\n",
    "likelihood.eval()\n",
    "\n",
    "all_preds = torch.tensor([])\n",
    "\n",
    "with torch.no_grad():\n",
    "    for j, (inputs, targets) in enumerate(dev_loader):\n",
    "        inputs = inputs.cuda()\n",
    "        preds = likelihood(model(inputs))\n",
    "        all_preds = torch.cat([all_preds, preds.probs.cpu()])\n",
    "    \n",
    "print(all_preds)"
   ]
  },
  {
   "cell_type": "code",
   "execution_count": 11,
   "id": "02838e6a",
   "metadata": {},
   "outputs": [
    {
     "name": "stdout",
     "output_type": "stream",
     "text": [
      "Best Threshold=0.00012, F-Score=0.16499\n"
     ]
    },
    {
     "name": "stderr",
     "output_type": "stream",
     "text": [
      "/tmp/.u3556490/ipykernel_9610/3743630220.py:4: RuntimeWarning: invalid value encountered in true_divide\n",
      "  fscore = (2 * precision * recall) / (precision + recall)\n"
     ]
    }
   ],
   "source": [
    "all_preds = np.clip(all_preds, 0, 1)\n",
    "\n",
    "precision, recall, thresholds = precision_recall_curve(dev_Y, all_preds)\n",
    "fscore = (2 * precision * recall) / (precision + recall)\n",
    "ix = np.nanargmax(fscore)\n",
    "print('Best Threshold={0:.05f}, F-Score={1:.05f}'.format(thresholds[ix], fscore[ix]))"
   ]
  },
  {
   "cell_type": "code",
   "execution_count": 77,
   "id": "7b954b13",
   "metadata": {
    "scrolled": true
   },
   "outputs": [
    {
     "name": "stdout",
     "output_type": "stream",
     "text": [
      "Best Threshold=0.51872, F-Score=0.16474\n",
      "Best Threshold=0.50932, F-Score=0.13912\n",
      "Best Threshold=0.49978, F-Score=0.05287\n",
      "Best Threshold=0.50370, F-Score=0.04706\n"
     ]
    },
    {
     "name": "stderr",
     "output_type": "stream",
     "text": [
      "/tmp/ipykernel_20535/4130612801.py:16: RuntimeWarning: invalid value encountered in true_divide\n",
      "  fscore = (2 * precision * recall) / (precision + recall)\n",
      "/tmp/ipykernel_20535/4130612801.py:16: RuntimeWarning: invalid value encountered in true_divide\n",
      "  fscore = (2 * precision * recall) / (precision + recall)\n",
      "/tmp/ipykernel_20535/4130612801.py:16: RuntimeWarning: invalid value encountered in true_divide\n",
      "  fscore = (2 * precision * recall) / (precision + recall)\n",
      "/tmp/ipykernel_20535/4130612801.py:16: RuntimeWarning: invalid value encountered in true_divide\n",
      "  fscore = (2 * precision * recall) / (precision + recall)\n"
     ]
    },
    {
     "data": {
      "text/plain": [
       "([0.5187237, 0.5093235, 0.49978086, 0.5037002],\n",
       " [0.16473791695030635,\n",
       "  0.13911742707554228,\n",
       "  0.05286574195236849,\n",
       "  0.047058823529411764])"
      ]
     },
     "execution_count": 77,
     "metadata": {},
     "output_type": "execute_result"
    },
    {
     "data": {
      "image/png": "[encoded data removed]",
      "text/plain": [
       "<Figure size 432x288 with 1 Axes>"
      ]
     },
     "metadata": {
      "needs_background": "light"
     },
     "output_type": "display_data"
    }
   ],
   "source": [
    "preds = regression_predict(means.numpy(), method='sigmoid')\n",
    "regressor_find_thresholds(preds, dev_Y, method='sigmoid')"
   ]
  },
  {
   "cell_type": "code",
   "execution_count": 12,
   "id": "7c337d6d",
   "metadata": {},
   "outputs": [],
   "source": [
    "model = model.cpu()\n",
    "likelihood = likelihood.cpu()\n",
    "torch.cuda.empty_cache()"
   ]
  }
 ],
 "metadata": {
  "kernelspec": {
   "display_name": "Python 3 (ipykernel)",
   "language": "python",
   "name": "python3"
  },
  "language_info": {
   "codemirror_mode": {
    "name": "ipython",
    "version": 3
   },
   "file_extension": ".py",
   "mimetype": "text/x-python",
   "name": "python",
   "nbconvert_exporter": "python",
   "pygments_lexer": "ipython3",
   "version": "3.9.7"
  }
 },
 "nbformat": 4,
 "nbformat_minor": 5
}
