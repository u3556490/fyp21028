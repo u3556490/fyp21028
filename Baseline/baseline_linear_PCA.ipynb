{
 "cells": [
  {
   "cell_type": "markdown",
   "id": "d3aff1b2",
   "metadata": {},
   "source": [
    "# \\[Old\\] Baseline Model - Linear models with transformed data\n",
    "\n",
    "The feature engineering and selection part is generally still relevant.\n",
    "\n",
    "Dependencies:\n",
    "\n",
    "- numpy\n",
    "- pandas\n",
    "- matplotlib\n",
    "- seaborn (optional)\n",
    "- sklearn\n",
    "- scipy\n",
    "- pyearth\n",
    "\n",
    "### Importing libraries and reading files"
   ]
  },
  {
   "cell_type": "code",
   "execution_count": 1,
   "id": "fb3c3046",
   "metadata": {},
   "outputs": [],
   "source": [
    "# Import statements\n",
    "# sklearn stuff are imported later\n",
    "import numpy as np\n",
    "import pandas as pd\n",
    "import sys\n",
    "import os\n",
    "import matplotlib.pyplot as plt\n",
    "import seaborn as sns\n",
    "from pyearth import Earth\n",
    "%matplotlib inline"
   ]
  },
  {
   "cell_type": "code",
   "execution_count": 2,
   "id": "a61da698",
   "metadata": {
    "scrolled": true
   },
   "outputs": [
    {
     "name": "stdout",
     "output_type": "stream",
     "text": [
      "================ Reading dataset, null check ===============\n",
      "<class 'pandas.core.frame.DataFrame'>\n",
      "RangeIndex: 45293 entries, 0 to 45292\n",
      "Data columns (total 22 columns):\n",
      " #   Column         Non-Null Count  Dtype  \n",
      "---  ------         --------------  -----  \n",
      " 0   MM             45293 non-null  int64  \n",
      " 1   DD             45293 non-null  int64  \n",
      " 2   HH             45293 non-null  int64  \n",
      " 3   LOW_IMPACT     45293 non-null  bool   \n",
      " 4   MID_IMPACT     45293 non-null  bool   \n",
      " 5   BIG_IMPACT     45293 non-null  bool   \n",
      " 6   DIRECT_STRIKE  45293 non-null  bool   \n",
      " 7   00LAT          45293 non-null  float32\n",
      " 8   00LON          45293 non-null  float32\n",
      " 9   00WIND         45293 non-null  int32  \n",
      " 10  06LAT          45293 non-null  float32\n",
      " 11  06LON          45293 non-null  float32\n",
      " 12  06WIND         45293 non-null  int32  \n",
      " 13  12LAT          45293 non-null  float32\n",
      " 14  12LON          45293 non-null  float32\n",
      " 15  12WIND         45293 non-null  int32  \n",
      " 16  18LAT          45293 non-null  float32\n",
      " 17  18LON          45293 non-null  float32\n",
      " 18  18WIND         45293 non-null  int32  \n",
      " 19  24LAT          45293 non-null  float32\n",
      " 20  24LON          45293 non-null  float32\n",
      " 21  24WIND         45293 non-null  int32  \n",
      "dtypes: bool(4), float32(10), int32(5), int64(3)\n",
      "memory usage: 3.8 MB\n",
      "None\n"
     ]
    }
   ],
   "source": [
    "# read Dataset as Pandas DataFrame\n",
    "print(\"================ Reading dataset ===============\")\n",
    "dataset = pd.read_pickle('../Dataset/baseline_dataset.gz')\n",
    "pd.set_option(\"display.max.columns\", None)\n",
    "print(dataset.info())"
   ]
  },
  {
   "cell_type": "code",
   "execution_count": 3,
   "id": "d4cf09df",
   "metadata": {},
   "outputs": [
    {
     "name": "stdout",
     "output_type": "stream",
     "text": [
      "Null checking:\n",
      "Empty DataFrame\n",
      "Columns: [MM, DD, HH, LOW_IMPACT, MID_IMPACT, BIG_IMPACT, DIRECT_STRIKE, 00LAT, 00LON, 00WIND, 06LAT, 06LON, 06WIND, 12LAT, 12LON, 12WIND, 18LAT, 18LON, 18WIND, 24LAT, 24LON, 24WIND]\n",
      "Index: []\n"
     ]
    }
   ],
   "source": [
    "# san-check: any nulls?\n",
    "print(\"Null checking:\")\n",
    "print(dataset[dataset.isnull().any(axis=1)])"
   ]
  },
  {
   "cell_type": "code",
   "execution_count": 4,
   "id": "79918d59",
   "metadata": {},
   "outputs": [
    {
     "data": {
      "text/html": [
       "<div>\n",
       "<style scoped>\n",
       "    .dataframe tbody tr th:only-of-type {\n",
       "        vertical-align: middle;\n",
       "    }\n",
       "\n",
       "    .dataframe tbody tr th {\n",
       "        vertical-align: top;\n",
       "    }\n",
       "\n",
       "    .dataframe thead th {\n",
       "        text-align: right;\n",
       "    }\n",
       "</style>\n",
       "<table border=\"1\" class=\"dataframe\">\n",
       "  <thead>\n",
       "    <tr style=\"text-align: right;\">\n",
       "      <th></th>\n",
       "      <th>MM</th>\n",
       "      <th>DD</th>\n",
       "      <th>HH</th>\n",
       "      <th>00LAT</th>\n",
       "      <th>00LON</th>\n",
       "      <th>00WIND</th>\n",
       "      <th>06LAT</th>\n",
       "      <th>06LON</th>\n",
       "      <th>06WIND</th>\n",
       "      <th>12LAT</th>\n",
       "      <th>12LON</th>\n",
       "      <th>12WIND</th>\n",
       "      <th>18LAT</th>\n",
       "      <th>18LON</th>\n",
       "      <th>18WIND</th>\n",
       "      <th>24LAT</th>\n",
       "      <th>24LON</th>\n",
       "      <th>24WIND</th>\n",
       "    </tr>\n",
       "  </thead>\n",
       "  <tbody>\n",
       "    <tr>\n",
       "      <th>count</th>\n",
       "      <td>45293.000000</td>\n",
       "      <td>45293.000000</td>\n",
       "      <td>45293.000000</td>\n",
       "      <td>45293.000000</td>\n",
       "      <td>45293.000000</td>\n",
       "      <td>45293.000000</td>\n",
       "      <td>45293.000000</td>\n",
       "      <td>45293.000000</td>\n",
       "      <td>45293.000000</td>\n",
       "      <td>45293.000000</td>\n",
       "      <td>45293.000000</td>\n",
       "      <td>45293.000000</td>\n",
       "      <td>45293.000000</td>\n",
       "      <td>45293.000000</td>\n",
       "      <td>45293.000000</td>\n",
       "      <td>45293.000000</td>\n",
       "      <td>45293.000000</td>\n",
       "      <td>45293.000000</td>\n",
       "    </tr>\n",
       "    <tr>\n",
       "      <th>mean</th>\n",
       "      <td>8.283068</td>\n",
       "      <td>16.061025</td>\n",
       "      <td>8.918111</td>\n",
       "      <td>20.017653</td>\n",
       "      <td>132.009323</td>\n",
       "      <td>62.021063</td>\n",
       "      <td>19.506798</td>\n",
       "      <td>132.481476</td>\n",
       "      <td>62.087077</td>\n",
       "      <td>19.018631</td>\n",
       "      <td>132.967087</td>\n",
       "      <td>61.773122</td>\n",
       "      <td>18.551769</td>\n",
       "      <td>133.451675</td>\n",
       "      <td>61.072020</td>\n",
       "      <td>18.104473</td>\n",
       "      <td>133.910690</td>\n",
       "      <td>60.020864</td>\n",
       "    </tr>\n",
       "    <tr>\n",
       "      <th>std</th>\n",
       "      <td>2.310187</td>\n",
       "      <td>8.633509</td>\n",
       "      <td>6.698948</td>\n",
       "      <td>7.507561</td>\n",
       "      <td>19.457451</td>\n",
       "      <td>31.469743</td>\n",
       "      <td>7.243189</td>\n",
       "      <td>18.568924</td>\n",
       "      <td>31.423058</td>\n",
       "      <td>7.016464</td>\n",
       "      <td>17.948254</td>\n",
       "      <td>31.615497</td>\n",
       "      <td>6.824604</td>\n",
       "      <td>17.685791</td>\n",
       "      <td>31.978523</td>\n",
       "      <td>6.662520</td>\n",
       "      <td>17.910883</td>\n",
       "      <td>32.433757</td>\n",
       "    </tr>\n",
       "    <tr>\n",
       "      <th>min</th>\n",
       "      <td>1.000000</td>\n",
       "      <td>1.000000</td>\n",
       "      <td>0.000000</td>\n",
       "      <td>1.300000</td>\n",
       "      <td>-179.899994</td>\n",
       "      <td>10.000000</td>\n",
       "      <td>1.300000</td>\n",
       "      <td>-179.899994</td>\n",
       "      <td>10.000000</td>\n",
       "      <td>1.300000</td>\n",
       "      <td>-179.899994</td>\n",
       "      <td>10.000000</td>\n",
       "      <td>1.300000</td>\n",
       "      <td>-179.899994</td>\n",
       "      <td>10.000000</td>\n",
       "      <td>1.300000</td>\n",
       "      <td>-180.000000</td>\n",
       "      <td>10.000000</td>\n",
       "    </tr>\n",
       "    <tr>\n",
       "      <th>25%</th>\n",
       "      <td>7.000000</td>\n",
       "      <td>9.000000</td>\n",
       "      <td>0.000000</td>\n",
       "      <td>14.500000</td>\n",
       "      <td>121.800003</td>\n",
       "      <td>35.000000</td>\n",
       "      <td>14.200000</td>\n",
       "      <td>122.400002</td>\n",
       "      <td>35.000000</td>\n",
       "      <td>13.900000</td>\n",
       "      <td>123.000000</td>\n",
       "      <td>35.000000</td>\n",
       "      <td>13.600000</td>\n",
       "      <td>123.500000</td>\n",
       "      <td>35.000000</td>\n",
       "      <td>13.200000</td>\n",
       "      <td>124.000000</td>\n",
       "      <td>35.000000</td>\n",
       "    </tr>\n",
       "    <tr>\n",
       "      <th>50%</th>\n",
       "      <td>8.000000</td>\n",
       "      <td>16.000000</td>\n",
       "      <td>6.000000</td>\n",
       "      <td>19.200001</td>\n",
       "      <td>131.300003</td>\n",
       "      <td>55.000000</td>\n",
       "      <td>18.799999</td>\n",
       "      <td>131.600006</td>\n",
       "      <td>55.000000</td>\n",
       "      <td>18.400000</td>\n",
       "      <td>132.000000</td>\n",
       "      <td>55.000000</td>\n",
       "      <td>18.000000</td>\n",
       "      <td>132.399994</td>\n",
       "      <td>55.000000</td>\n",
       "      <td>17.600000</td>\n",
       "      <td>132.800003</td>\n",
       "      <td>55.000000</td>\n",
       "    </tr>\n",
       "    <tr>\n",
       "      <th>75%</th>\n",
       "      <td>10.000000</td>\n",
       "      <td>23.000000</td>\n",
       "      <td>12.000000</td>\n",
       "      <td>24.700001</td>\n",
       "      <td>142.399994</td>\n",
       "      <td>80.000000</td>\n",
       "      <td>24.100000</td>\n",
       "      <td>142.699997</td>\n",
       "      <td>80.000000</td>\n",
       "      <td>23.500000</td>\n",
       "      <td>143.000000</td>\n",
       "      <td>80.000000</td>\n",
       "      <td>22.900000</td>\n",
       "      <td>143.399994</td>\n",
       "      <td>80.000000</td>\n",
       "      <td>22.299999</td>\n",
       "      <td>143.899994</td>\n",
       "      <td>80.000000</td>\n",
       "    </tr>\n",
       "    <tr>\n",
       "      <th>max</th>\n",
       "      <td>12.000000</td>\n",
       "      <td>31.000000</td>\n",
       "      <td>23.000000</td>\n",
       "      <td>55.500000</td>\n",
       "      <td>180.000000</td>\n",
       "      <td>185.000000</td>\n",
       "      <td>54.500000</td>\n",
       "      <td>180.000000</td>\n",
       "      <td>185.000000</td>\n",
       "      <td>53.500000</td>\n",
       "      <td>180.000000</td>\n",
       "      <td>185.000000</td>\n",
       "      <td>52.000000</td>\n",
       "      <td>180.000000</td>\n",
       "      <td>185.000000</td>\n",
       "      <td>50.500000</td>\n",
       "      <td>180.000000</td>\n",
       "      <td>185.000000</td>\n",
       "    </tr>\n",
       "  </tbody>\n",
       "</table>\n",
       "</div>"
      ],
      "text/plain": [
       "                 MM            DD            HH         00LAT         00LON  \\\n",
       "count  45293.000000  45293.000000  45293.000000  45293.000000  45293.000000   \n",
       "mean       8.283068     16.061025      8.918111     20.017653    132.009323   \n",
       "std        2.310187      8.633509      6.698948      7.507561     19.457451   \n",
       "min        1.000000      1.000000      0.000000      1.300000   -179.899994   \n",
       "25%        7.000000      9.000000      0.000000     14.500000    121.800003   \n",
       "50%        8.000000     16.000000      6.000000     19.200001    131.300003   \n",
       "75%       10.000000     23.000000     12.000000     24.700001    142.399994   \n",
       "max       12.000000     31.000000     23.000000     55.500000    180.000000   \n",
       "\n",
       "             00WIND         06LAT         06LON        06WIND         12LAT  \\\n",
       "count  45293.000000  45293.000000  45293.000000  45293.000000  45293.000000   \n",
       "mean      62.021063     19.506798    132.481476     62.087077     19.018631   \n",
       "std       31.469743      7.243189     18.568924     31.423058      7.016464   \n",
       "min       10.000000      1.300000   -179.899994     10.000000      1.300000   \n",
       "25%       35.000000     14.200000    122.400002     35.000000     13.900000   \n",
       "50%       55.000000     18.799999    131.600006     55.000000     18.400000   \n",
       "75%       80.000000     24.100000    142.699997     80.000000     23.500000   \n",
       "max      185.000000     54.500000    180.000000    185.000000     53.500000   \n",
       "\n",
       "              12LON        12WIND         18LAT         18LON        18WIND  \\\n",
       "count  45293.000000  45293.000000  45293.000000  45293.000000  45293.000000   \n",
       "mean     132.967087     61.773122     18.551769    133.451675     61.072020   \n",
       "std       17.948254     31.615497      6.824604     17.685791     31.978523   \n",
       "min     -179.899994     10.000000      1.300000   -179.899994     10.000000   \n",
       "25%      123.000000     35.000000     13.600000    123.500000     35.000000   \n",
       "50%      132.000000     55.000000     18.000000    132.399994     55.000000   \n",
       "75%      143.000000     80.000000     22.900000    143.399994     80.000000   \n",
       "max      180.000000    185.000000     52.000000    180.000000    185.000000   \n",
       "\n",
       "              24LAT         24LON        24WIND  \n",
       "count  45293.000000  45293.000000  45293.000000  \n",
       "mean      18.104473    133.910690     60.020864  \n",
       "std        6.662520     17.910883     32.433757  \n",
       "min        1.300000   -180.000000     10.000000  \n",
       "25%       13.200000    124.000000     35.000000  \n",
       "50%       17.600000    132.800003     55.000000  \n",
       "75%       22.299999    143.899994     80.000000  \n",
       "max       50.500000    180.000000    185.000000  "
      ]
     },
     "execution_count": 4,
     "metadata": {},
     "output_type": "execute_result"
    }
   ],
   "source": [
    "dataset.describe()"
   ]
  },
  {
   "cell_type": "markdown",
   "id": "52b2cd2c",
   "metadata": {},
   "source": [
    "### General Dataset Preparation Tasks"
   ]
  },
  {
   "cell_type": "code",
   "execution_count": 5,
   "id": "484ea376",
   "metadata": {},
   "outputs": [],
   "source": [
    "# imports\n",
    "from sklearn.metrics import accuracy_score, f1_score, recall_score, precision_score, precision_recall_curve, classification_report\n",
    "from sklearn.model_selection import train_test_split\n",
    "\n",
    "# Constants\n",
    "TRAIN_RATIO = 0.9"
   ]
  },
  {
   "cell_type": "code",
   "execution_count": 6,
   "id": "ab294fd1",
   "metadata": {},
   "outputs": [],
   "source": [
    "# test-dev-train split\n",
    "\n",
    "def separateDataset(dataset, train_ratio):\n",
    "    '''\n",
    "    Takes in a dataset (pandas df) and a ratio value, returns a dictionary containing the separated dataset.\n",
    "    Key \"train\" = train set, \"dev\" = dev set (size = train ratio * (sizeof input df - test set)), \"test\" = test set (size = train ratio * sizeof input df)\n",
    "    '''\n",
    "    train_dev_set, test_set = train_test_split(dataset, train_size=train_ratio)\n",
    "    train_set, dev_set = train_test_split(train_dev_set, train_size=train_ratio)\n",
    "    print(\"Training set size: {0}; Dev set size: {1}; Testing set size: {2}\".format(len(train_set), len(dev_set), len(test_set)))\n",
    "    return { \"train\": train_set, \"dev\": dev_set, \"test\": test_set }"
   ]
  },
  {
   "cell_type": "code",
   "execution_count": 7,
   "id": "4007f2f1",
   "metadata": {},
   "outputs": [
    {
     "name": "stdout",
     "output_type": "stream",
     "text": [
      "================ Preparing Datasets ===============\n",
      "Training set size: 36686; Dev set size: 4077; Testing set size: 4530\n"
     ]
    }
   ],
   "source": [
    "print(\"================ Preparing Datasets ===============\")\n",
    "\n",
    "def pandasToXY(dataframe):\n",
    "    '''\n",
    "    converts the given pandas df to X and Y sub-arrays. X is pandas df, Y is np int array.\n",
    "    note: the range of columns to select as Y must be double checked when a different dataset is used.\n",
    "    '''\n",
    "    X = dataframe.drop(['LOW_IMPACT', 'MID_IMPACT', 'BIG_IMPACT', 'DIRECT_STRIKE'], axis=1)\n",
    "    Y = np.asarray(dataframe.iloc[:,3:7]).astype(int)\n",
    "    return X, Y\n",
    "\n",
    "# train-dev-test splitting\n",
    "splitDataset = separateDataset(dataset, TRAIN_RATIO)\n",
    "# separate each of the 3 sets into X and Y\n",
    "train_full = splitDataset[\"train\"]\n",
    "train_X, train_Y = pandasToXY(train_full)\n",
    "dev_full = splitDataset[\"dev\"]\n",
    "dev_X, dev_Y = pandasToXY(dev_full)\n",
    "test_full = splitDataset[\"test\"]\n",
    "test_X, test_Y = pandasToXY(test_full)"
   ]
  },
  {
   "cell_type": "markdown",
   "id": "1b355ee2",
   "metadata": {},
   "source": [
    "### Testing and Evaluation Utilities"
   ]
  },
  {
   "cell_type": "code",
   "execution_count": 8,
   "id": "d1efbe6f",
   "metadata": {},
   "outputs": [],
   "source": [
    "## Bookkeeping\n",
    "\n",
    "# true positives given positive (recall)\n",
    "low_impact_recall = dict()\n",
    "mid_impact_recall = dict()\n",
    "big_impact_recall = dict()\n",
    "direct_strike_recall = dict()\n",
    "# true positives among selected (precision)\n",
    "low_impact_precision = dict()\n",
    "mid_impact_precision = dict()\n",
    "big_impact_precision = dict()\n",
    "direct_strike_precision = dict()\n",
    "\n",
    "# record best F1 scores for comparison\n",
    "low_impact_f1 = dict()\n",
    "mid_impact_f1 = dict()\n",
    "big_impact_f1 = dict()\n",
    "direct_strike_f1 = dict()\n",
    "# thresholds corresponding to the best F1 scores\n",
    "low_impact_threshold = dict()\n",
    "mid_impact_threshold = dict()\n",
    "big_impact_threshold = dict()\n",
    "direct_strike_threshold = dict()"
   ]
  },
  {
   "cell_type": "code",
   "execution_count": 9,
   "id": "3d0971c7",
   "metadata": {},
   "outputs": [],
   "source": [
    "import joblib\n",
    "from datetime import datetime\n",
    "\n",
    "def save_sklearn_model_to_file(model, model_type, filename=None):\n",
    "    '''Saves a sklearn model to file. Takes in the model, a name for the model and optionally a full filename.'''\n",
    "    if filename == None:\n",
    "        filename = \"./models/baseline_model_{0}_{1}.skl\".format(model_type, str(datetime.now().strftime(\"%Y-%m-%d %H-%M\")))\n",
    "        \n",
    "    joblib.dump(model, filename)\n",
    "    \n",
    "    # to load a model: model = joblib.load(filename)"
   ]
  },
  {
   "cell_type": "code",
   "execution_count": 10,
   "id": "6b46df2b",
   "metadata": {},
   "outputs": [],
   "source": [
    "# finds the best decision thresholds and the corresponding F1 scores\n",
    "# shows the precision-recall curve as well\n",
    "def optimize_thresholds(clf, datasetX, datasetY):\n",
    "    '''\n",
    "    Takes in a classifier, an input set X and a target set Y; returns the best decision thresholds and corresponding f1-scores;\n",
    "    displays the values and a precision recall curve.\n",
    "    '''\n",
    "    all_preds = clf.predict_proba(datasetX)\n",
    "    best_thresholds = []\n",
    "    best_f1_scores = []\n",
    "    n_classes = len(clf.classes_)\n",
    "    for i in range(n_classes):\n",
    "        precision, recall, thresholds = precision_recall_curve(datasetY[:,i], all_preds[:,i])\n",
    "        # find best threshold\n",
    "        fscore = (2 * precision * recall) / (precision + recall)\n",
    "        ix = np.nanargmax(fscore)\n",
    "        best_thresholds.append(thresholds[ix])\n",
    "        best_f1_scores.append(fscore[ix])\n",
    "        print('Best Threshold={0:.05f}, F-Score={1:.05f}'.format(thresholds[ix], fscore[ix]))\n",
    "    \n",
    "    # plot the precision-recall curve for the model\n",
    "    plt.plot(recall, precision, marker='.', label='PR curve')\n",
    "    plt.scatter(recall[ix], precision[ix], marker='o', color='black', label='Best')\n",
    "    plt.xlabel('Recall')\n",
    "    plt.ylabel('Precision')\n",
    "    plt.title('Precision-Recall Curve for Direct Strike')\n",
    "    plt.legend()\n",
    "        \n",
    "    return best_thresholds, best_f1_scores\n",
    "\n",
    "# make predictions according to the given thresholds\n",
    "def predictions_with_thresholds(clf, thresholds, datasetX):\n",
    "    '''\n",
    "    Takes in a classifier, a list of decision thresholds and an input samples set X;\n",
    "    Returns deterministic predictions made using the model over X and the thresholds.\n",
    "    '''\n",
    "    preds_probs = clf.predict_proba(datasetX)  \n",
    "    n_classes = len(clf.classes_)\n",
    "    preds = []\n",
    "    # iterate each predicted probability and compare against threshold\n",
    "    for i in range(len(preds_probs)):\n",
    "        pred_row = []\n",
    "        for j in range(n_classes):\n",
    "            if preds_probs[i,j] > thresholds[j]:\n",
    "                pred_row.append(1)\n",
    "            else:\n",
    "                pred_row.append(0)\n",
    "        preds.append(pred_row)\n",
    "    \n",
    "    return np.array(preds)"
   ]
  },
  {
   "cell_type": "markdown",
   "id": "0d9c250e",
   "metadata": {},
   "source": [
    "### Data Transformation and Feature Selection\n",
    "\n",
    "Pipeline:\n",
    "\n",
    "1. Polynomial features\n",
    "\n",
    "   To account for interaction between variables (e.g. LON times WIND) and the correlated non-linearity, up to degree 3\n",
    "\n",
    "\n",
    "2. (Failed) Select best features using ANOVA F-values\n",
    "\n",
    "   ANOVA F values are computed and the best ones are selected, but they tend to pick up longitude-latitude interaction terms. Mutual Information scoring yielded similar results.\n",
    "   \n",
    "   \n",
    "3. Principal component analysis (PCA)\n",
    "   \n",
    "   A number (values ranging from 10 to 750 are tested) of principal components are computed. Then the features contributing the most to each principal component are identified. Several picked up intensity values.\n",
    "   \n",
    "   N.B.: Kernel PCA and quadratic discriminant analysis (QDA) are possible alternatives.\n",
    "   \n",
    "   \n",
    "4. Data transformation\n",
    "   \n",
    "   This is a two-fold step. The data are separately\n",
    "   \n",
    "       - Transformed using the results of PCA, so the >1000 input features are reduced to a smaller number. Then this set is fed to the models.\n",
    "       \n",
    "       - Transformed by filtering, i.e. only the best features as identified before are kept.\n",
    "       \n",
    "\n",
    "N.B.: Further feature selection is possible by means of a L1-regularized logit."
   ]
  },
  {
   "cell_type": "code",
   "execution_count": 11,
   "id": "a59571fd",
   "metadata": {},
   "outputs": [],
   "source": [
    "# imports\n",
    "from sklearn.preprocessing import PolynomialFeatures, StandardScaler\n",
    "from sklearn.feature_selection import SelectKBest, f_classif, mutual_info_classif\n",
    "from sklearn.decomposition import PCA\n",
    "from sklearn.pipeline import make_pipeline\n",
    "from sklearn.kernel_approximation import Nystroem, PolynomialCountSketch\n",
    "from sklearn.linear_model import LogisticRegression\n",
    "from sklearn.multiclass import OneVsRestClassifier\n",
    "from sklearn.metrics import classification_report"
   ]
  },
  {
   "cell_type": "code",
   "execution_count": 12,
   "id": "16df33ba",
   "metadata": {},
   "outputs": [
    {
     "data": {
      "text/plain": [
       "(36686, 1329)"
      ]
     },
     "execution_count": 12,
     "metadata": {},
     "output_type": "execute_result"
    }
   ],
   "source": [
    "# Step 1: Generate polynomial features for train set\n",
    "poly = PolynomialFeatures(degree=3, include_bias=False)\n",
    "transformed_X = poly.fit_transform(train_X)\n",
    "\n",
    "# for reference\n",
    "transformed_X.shape"
   ]
  },
  {
   "cell_type": "code",
   "execution_count": 13,
   "id": "ea7cd6b0",
   "metadata": {
    "scrolled": true
   },
   "outputs": [
    {
     "data": {
      "image/png": "[encoded data removed]",
      "text/plain": [
       "<Figure size 432x288 with 1 Axes>"
      ]
     },
     "metadata": {
      "needs_background": "light"
     },
     "output_type": "display_data"
    }
   ],
   "source": [
    "# Step 2: ANOVA F values: plot the scores for each of the polynomial terms\n",
    "fs = SelectKBest(score_func=f_classif, k='all')\n",
    "fs.fit(transformed_X, train_Y[:,3]) # one class at a time\n",
    "fs_X = fs.transform(transformed_X)\n",
    "\n",
    "plt.bar([i for i in range(len(fs.scores_))], fs.scores_)\n",
    "plt.show()"
   ]
  },
  {
   "cell_type": "code",
   "execution_count": 14,
   "id": "9526e81e",
   "metadata": {
    "scrolled": true
   },
   "outputs": [
    {
     "name": "stdout",
     "output_type": "stream",
     "text": [
      "00LON^2\n",
      "00LON 06LON\n",
      "00LON 12LON\n",
      "00LON 18LON\n",
      "06LON^2\n",
      "06LON 12LON\n",
      "06LON 18LON\n",
      "06LON 24LON\n",
      "12LON^2\n",
      "12LON 18LON\n",
      "12LON 24LON\n",
      "18LON^2\n",
      "18LON 24LON\n",
      "24LON^2\n",
      "00LON^3\n",
      "00LON^2 06LON\n",
      "00LON^2 12LON\n",
      "00LON^2 18LON\n",
      "00LON^2 24LON\n",
      "00LON 06LON^2\n",
      "00LON 06LON 12LON\n",
      "00LON 06LON 18LON\n",
      "06LON^3\n",
      "06LON^2 12LON\n",
      "06LON^2 18LON\n",
      "06LON^2 24LON\n",
      "06LON 12LON^2\n",
      "06LON 12LON 18LON\n",
      "12LON^3\n",
      "12LON^2 18LON\n"
     ]
    }
   ],
   "source": [
    "# Step 2: ANOVA F-values: retrieve feature names from the best 30 features\n",
    "fs = SelectKBest(score_func=f_classif, k=30)\n",
    "fs.fit(transformed_X, train_Y[:,3]) # one class at a time\n",
    "fs_X = fs.transform(transformed_X)\n",
    "\n",
    "names = fs.get_feature_names_out()\n",
    "original_names = poly.get_feature_names_out()\n",
    "for i in range(len(names)):\n",
    "    print(original_names[int(names[i][1:])])   "
   ]
  },
  {
   "cell_type": "code",
   "execution_count": 15,
   "id": "60840eff",
   "metadata": {},
   "outputs": [
    {
     "data": {
      "image/png": "[encoded data removed]",
      "text/plain": [
       "<Figure size 432x288 with 1 Axes>"
      ]
     },
     "metadata": {
      "needs_background": "light"
     },
     "output_type": "display_data"
    }
   ],
   "source": [
    "# Step 2: Mutual information: plot the scores for each of the polynomial terms\n",
    "fs = SelectKBest(score_func=mutual_info_classif, k='all')\n",
    "fs.fit(transformed_X, train_Y[:,0]) # one class at a time\n",
    "fs_X = fs.transform(transformed_X)\n",
    "\n",
    "plt.bar([i for i in range(len(fs.scores_))], fs.scores_)\n",
    "plt.show()"
   ]
  },
  {
   "cell_type": "code",
   "execution_count": 16,
   "id": "b326b95c",
   "metadata": {
    "scrolled": true
   },
   "outputs": [
    {
     "name": "stdout",
     "output_type": "stream",
     "text": [
      "00LON\n",
      "00LON 06LON\n",
      "00LON 12LON\n",
      "00LON 18LON\n",
      "00LON 24LON\n",
      "06LON 12LON\n",
      "06LON 18LON\n",
      "06LON 24LON\n",
      "MM^2 00LON\n",
      "MM 00LON^2\n",
      "MM 06LON^2\n",
      "00LON^3\n",
      "00LON^2 06LON\n",
      "00LON^2 12LON\n",
      "00LON^2 18LON\n",
      "00LON^2 24LON\n",
      "00LON 06LON^2\n",
      "00LON 06LON 12LON\n",
      "00LON 06LON 18LON\n",
      "00LON 06LON 24LON\n",
      "00LON 12LON^2\n",
      "00LON 12LON 18LON\n",
      "00LON 12LON 24LON\n",
      "00LON 18LON^2\n",
      "06LON^2 12LON\n",
      "06LON^2 18LON\n",
      "06LON^2 24LON\n",
      "06LON 12LON^2\n",
      "06LON 12LON 18LON\n",
      "06LON 24LON^2\n"
     ]
    }
   ],
   "source": [
    "# Step 2: mutual information: retrieve feature names from the best 30 features\n",
    "fs = SelectKBest(score_func=mutual_info_classif, k=30)\n",
    "fs.fit(transformed_X, train_Y[:,0]) # one class at a time\n",
    "fs_X = fs.transform(transformed_X)\n",
    "\n",
    "names = fs.get_feature_names_out()\n",
    "original_names = poly.get_feature_names_out()\n",
    "for i in range(len(names)):\n",
    "    print(original_names[int(names[i][1:])])   "
   ]
  },
  {
   "cell_type": "code",
   "execution_count": 13,
   "id": "cafa0e08",
   "metadata": {
    "scrolled": true
   },
   "outputs": [],
   "source": [
    "# Step 3: Perform PCA to obtain principal components\n",
    "std_X = StandardScaler().fit(transformed_X)\n",
    "standard_X = std_X.transform(transformed_X)\n",
    "pca = PCA(n_components=450)\n",
    "# pca = PCA(0.9875)\n",
    "pca.fit(standard_X)\n",
    "\n",
    "if (pca.n_components <= 50):\n",
    "    print(pca.n_components_)\n",
    "    print(pca.explained_variance_ratio_)\n",
    "\n",
    "    # look at what terms PCA picked up\n",
    "    n_pcs = pca.n_components_\n",
    "    most_important = [np.abs(pca.components_[i]).argmax() for i in range(n_pcs)]\n",
    "    print(most_important)\n",
    "    initial_feature_names = poly.get_feature_names_out()\n",
    "    most_important_names = [initial_feature_names[most_important[i]] for i in range(n_pcs)]\n",
    "    print(most_important_names)"
   ]
  },
  {
   "cell_type": "code",
   "execution_count": 14,
   "id": "9e8e01f3",
   "metadata": {},
   "outputs": [
    {
     "name": "stdout",
     "output_type": "stream",
     "text": [
      "(36686, 450)\n",
      "(4077, 450)\n"
     ]
    }
   ],
   "source": [
    "# Experiment: using the PCA-reduced-and-transformed data only\n",
    "\n",
    "# finish transforming the train and dev sets\n",
    "# train_X\n",
    "pca_train_X = StandardScaler().fit_transform(poly.fit_transform(train_X))\n",
    "pca_train_X = pca.transform(pca_train_X)\n",
    "print(pca_train_X.shape)\n",
    "\n",
    "# dev_X\n",
    "transformed_dev_X = poly.fit_transform(dev_X)\n",
    "standard_dev_X = StandardScaler().fit_transform(transformed_dev_X)\n",
    "pca_dev_X = pca.transform(standard_dev_X)\n",
    "print(pca_dev_X.shape)"
   ]
  },
  {
   "cell_type": "code",
   "execution_count": 19,
   "id": "75a0a0af",
   "metadata": {},
   "outputs": [
    {
     "name": "stdout",
     "output_type": "stream",
     "text": [
      "(36686, 222)\n",
      "(4077, 222)\n"
     ]
    }
   ],
   "source": [
    "# Standard procedure: only keep the terms selected by PCA\n",
    "n_pcs = pca.n_components_\n",
    "most_important = [np.abs(pca.components_[i]).argmax() for i in range(n_pcs)]\n",
    "initial_feature_names = poly.get_feature_names_out()\n",
    "most_important_names = [initial_feature_names[most_important[i]] for i in range(n_pcs)]\n",
    "most_important = list(set(most_important)) # unique features only\n",
    "\n",
    "transformed_X = poly.fit_transform(train_X)\n",
    "filtered_train_X = transformed_X[:,most_important]\n",
    "print(filtered_train_X.shape)\n",
    "\n",
    "transformed_dev_X = poly.fit_transform(dev_X)\n",
    "filtered_dev_X = transformed_dev_X[:,most_important]\n",
    "print(filtered_dev_X.shape)"
   ]
  },
  {
   "cell_type": "markdown",
   "id": "f41513c3",
   "metadata": {},
   "source": [
    "### Linear classification models built with transformed datasets\n",
    "\n",
    "#### One-vs-Rest Logistic Classifier with PCA-transformed data\n",
    "Data has undergone dimensionality reduction using PCA.\n",
    "\n",
    "note: max_iter = 300 unless otherwise stated.\n",
    "\n",
    "PCA has 150 components: F1-scores \\[0.10 0.09 0.02 0.00\\]\n",
    "\n",
    "PCA has 300 components: F1-scores \\[0.11 0.12 0.00 0.00\\]\n",
    "\n",
    "PCA has 450 components: F1-scores \\[0.13 0.08 0.02 0.02\\], alternative run optimized \\[0.59 0.56 0.39 0.30\\]\n",
    "\n",
    "PCA has 600 components: F1-scores \\[0.12 0.08 0.04 0.00\\]\n",
    "\n",
    "PCA has 600 components, max_iter = 600: F1-scores \\[0.12 0.08 0.00 0.00\\]\n",
    "\n",
    "PCA has 750 components, max_iter = 600: F1-scores \\[0.12 0.07 0.00 0.00\\]\n",
    "\n",
    "PCA has 750 components: F1-scores \\[0.13 0.08 0.04 0.00\\]\n",
    "\n",
    "The results illustrate the inherent difficulty to predict this non-linear problem. It is also worth noting that the recall scores are typically pathetic/low. Beyond 750 components, it is surmised that the improvement brought by PCA becomes limited. Furthermore, it seems 450-600 components will be the sweet spot."
   ]
  },
  {
   "cell_type": "code",
   "execution_count": 15,
   "id": "e82ae7ae",
   "metadata": {},
   "outputs": [
    {
     "name": "stdout",
     "output_type": "stream",
     "text": [
      "Training accuracy: 0.8858692689\n",
      "Accuracy of classifier on dev set: 0.8834927643\n",
      "              precision    recall  f1-score   support\n",
      "\n",
      "           0       0.70      0.21      0.32       355\n",
      "           1       0.66      0.15      0.24       296\n",
      "           2       0.56      0.04      0.08       114\n",
      "           3       0.00      0.00      0.00        72\n",
      "\n",
      "   micro avg       0.68      0.15      0.24       837\n",
      "   macro avg       0.48      0.10      0.16       837\n",
      "weighted avg       0.61      0.15      0.23       837\n",
      " samples avg       0.02      0.02      0.02       837\n",
      "\n"
     ]
    }
   ],
   "source": [
    "# PCA model, logistic\n",
    "pca_clf = OneVsRestClassifier(LogisticRegression(\n",
    "    max_iter=300,\n",
    "    verbose=0   \n",
    "), n_jobs=-1)\n",
    "\n",
    "pca_clf = pca_clf.fit(pca_train_X, train_Y)\n",
    "print(\"Training accuracy: {0:.10f}\".format(accuracy_score(train_Y, pca_clf.predict(pca_train_X))))\n",
    "\n",
    "# test model on dev set\n",
    "preds = pca_clf.predict(pca_dev_X)\n",
    "acc = accuracy_score(dev_Y, preds)\n",
    "print(\"Accuracy of classifier on dev set: {0:.10f}\".format(acc))\n",
    "\n",
    "print(classification_report(dev_Y, preds, zero_division=0))"
   ]
  },
  {
   "cell_type": "code",
   "execution_count": 16,
   "id": "96fd7b49",
   "metadata": {
    "scrolled": true
   },
   "outputs": [
    {
     "name": "stdout",
     "output_type": "stream",
     "text": [
      "Best Threshold=0.21031, F-Score=0.58029\n",
      "Best Threshold=0.13668, F-Score=0.56468\n",
      "Best Threshold=0.14325, F-Score=0.45455\n",
      "Best Threshold=0.08772, F-Score=0.28682\n"
     ]
    },
    {
     "data": {
      "image/png": "[encoded data removed]",
      "text/plain": [
       "<Figure size 432x288 with 1 Axes>"
      ]
     },
     "metadata": {
      "needs_background": "light"
     },
     "output_type": "display_data"
    }
   ],
   "source": [
    "best_thresholds, best_f1_scores = optimize_thresholds(pca_clf, pca_dev_X, dev_Y)"
   ]
  },
  {
   "cell_type": "code",
   "execution_count": 17,
   "id": "a0df2c1f",
   "metadata": {},
   "outputs": [
    {
     "name": "stdout",
     "output_type": "stream",
     "text": [
      "              precision    recall  f1-score   support\n",
      "\n",
      "           0    0.47715   0.73521   0.57871       355\n",
      "           1    0.44576   0.76351   0.56289       296\n",
      "           2    0.37427   0.56140   0.44912       114\n",
      "           3    0.19459   0.50000   0.28016        72\n",
      "\n",
      "   micro avg    0.41631   0.70131   0.52247       837\n",
      "   macro avg    0.37294   0.64003   0.46772       837\n",
      "weighted avg    0.42773   0.70131   0.52978       837\n",
      " samples avg    0.06347   0.07957   0.06618       837\n",
      "\n"
     ]
    }
   ],
   "source": [
    "preds = predictions_with_thresholds(pca_clf, best_thresholds, pca_dev_X)\n",
    "print(classification_report(dev_Y, preds, zero_division=0, digits=5))"
   ]
  },
  {
   "cell_type": "code",
   "execution_count": 18,
   "id": "fa7585fd",
   "metadata": {},
   "outputs": [
    {
     "name": "stdout",
     "output_type": "stream",
     "text": [
      "Recall: [0.73521127 0.76351351 0.56140351 0.5       ]\n",
      "Precision: [0.47714808 0.44575937 0.37426901 0.19459459]\n"
     ]
    }
   ],
   "source": [
    "# bookkeeping\n",
    "recall = recall_score(dev_Y, preds, average=None, zero_division=0)\n",
    "print(\"Recall:\", recall)\n",
    "low_impact_recall[\"pca450_logit\"] = recall[0]\n",
    "mid_impact_recall[\"pca450_logit\"] = recall[1]\n",
    "big_impact_recall[\"pca450_logit\"] = recall[2]\n",
    "direct_strike_recall[\"pca450_logit\"] = recall[3]\n",
    "\n",
    "precision = precision_score(dev_Y, preds, average=None, zero_division=0)\n",
    "print(\"Precision:\", precision)\n",
    "low_impact_precision[\"pca450_logit\"] = precision[0]\n",
    "mid_impact_precision[\"pca450_logit\"] = precision[1]\n",
    "big_impact_precision[\"pca450_logit\"] = precision[2]\n",
    "direct_strike_precision[\"pca450_logit\"] = precision[3]\n",
    "\n",
    "low_impact_f1[\"pca450_logit\"] = best_f1_scores[0]\n",
    "mid_impact_f1[\"pca450_logit\"] = best_f1_scores[1]\n",
    "big_impact_f1[\"pca450_logit\"] = best_f1_scores[2]\n",
    "direct_strike_f1[\"pca450_logit\"] = best_f1_scores[3]\n",
    "\n",
    "low_impact_threshold[\"pca450_logit\"] = best_thresholds[0]\n",
    "mid_impact_threshold[\"pca450_logit\"] = best_thresholds[1]\n",
    "big_impact_threshold[\"pca450_logit\"] = best_thresholds[2]\n",
    "direct_strike_threshold[\"pca450_logit\"] = best_thresholds[3]"
   ]
  },
  {
   "cell_type": "code",
   "execution_count": null,
   "id": "d365800d",
   "metadata": {
    "scrolled": true
   },
   "outputs": [],
   "source": [
    "save_sklearn_model_to_file(pca_clf, \"pca450_logit\")"
   ]
  },
  {
   "cell_type": "markdown",
   "id": "a30781e4",
   "metadata": {},
   "source": [
    "#### One-vs-Rest Logistic Classifier with PCA-filtered data\n",
    "Data is a filtered subset of the original polynomial features, filtering guided by PCA.\n",
    "\n",
    "note: max_iter = 300 unless otherwise stated.\n",
    "PCA has 600 components (150 unique features): F1-score \\[0.01, 0.01, 0.00, 0.00\\]\n",
    "\n",
    "Visibly worse than the PCA-transformed one."
   ]
  },
  {
   "cell_type": "code",
   "execution_count": 24,
   "id": "8db68c8d",
   "metadata": {
    "scrolled": true
   },
   "outputs": [
    {
     "name": "stderr",
     "output_type": "stream",
     "text": [
      "/userhome/cs/u3556490/anaconda3/lib/python3.8/site-packages/sklearn/linear_model/_logistic.py:814: ConvergenceWarning: lbfgs failed to converge (status=1):\n",
      "STOP: TOTAL NO. of ITERATIONS REACHED LIMIT.\n",
      "\n",
      "Increase the number of iterations (max_iter) or scale the data as shown in:\n",
      "    https://scikit-learn.org/stable/modules/preprocessing.html\n",
      "Please also refer to the documentation for alternative solver options:\n",
      "    https://scikit-learn.org/stable/modules/linear_model.html#logistic-regression\n",
      "  n_iter_i = _check_optimize_result(\n",
      "/userhome/cs/u3556490/anaconda3/lib/python3.8/site-packages/sklearn/linear_model/_logistic.py:814: ConvergenceWarning: lbfgs failed to converge (status=1):\n",
      "STOP: TOTAL NO. of ITERATIONS REACHED LIMIT.\n",
      "\n",
      "Increase the number of iterations (max_iter) or scale the data as shown in:\n",
      "    https://scikit-learn.org/stable/modules/preprocessing.html\n",
      "Please also refer to the documentation for alternative solver options:\n",
      "    https://scikit-learn.org/stable/modules/linear_model.html#logistic-regression\n",
      "  n_iter_i = _check_optimize_result(\n",
      "/userhome/cs/u3556490/anaconda3/lib/python3.8/site-packages/sklearn/linear_model/_logistic.py:814: ConvergenceWarning: lbfgs failed to converge (status=1):\n",
      "STOP: TOTAL NO. of ITERATIONS REACHED LIMIT.\n",
      "\n",
      "Increase the number of iterations (max_iter) or scale the data as shown in:\n",
      "    https://scikit-learn.org/stable/modules/preprocessing.html\n",
      "Please also refer to the documentation for alternative solver options:\n",
      "    https://scikit-learn.org/stable/modules/linear_model.html#logistic-regression\n",
      "  n_iter_i = _check_optimize_result(\n",
      "/userhome/cs/u3556490/anaconda3/lib/python3.8/site-packages/sklearn/linear_model/_logistic.py:814: ConvergenceWarning: lbfgs failed to converge (status=1):\n",
      "STOP: TOTAL NO. of ITERATIONS REACHED LIMIT.\n",
      "\n",
      "Increase the number of iterations (max_iter) or scale the data as shown in:\n",
      "    https://scikit-learn.org/stable/modules/preprocessing.html\n",
      "Please also refer to the documentation for alternative solver options:\n",
      "    https://scikit-learn.org/stable/modules/linear_model.html#logistic-regression\n",
      "  n_iter_i = _check_optimize_result(\n"
     ]
    },
    {
     "name": "stdout",
     "output_type": "stream",
     "text": [
      "Training accuracy: 0.8824347162\n",
      "Accuracy of classifier on dev set: 0.8815305372\n",
      "              precision    recall  f1-score   support\n",
      "\n",
      "           0       0.54      0.06      0.11       369\n",
      "           1       0.34      0.04      0.08       260\n",
      "           2       0.00      0.00      0.00       102\n",
      "           3       0.00      0.00      0.00        88\n",
      "\n",
      "   micro avg       0.44      0.04      0.07       819\n",
      "   macro avg       0.22      0.03      0.05       819\n",
      "weighted avg       0.35      0.04      0.07       819\n",
      " samples avg       0.01      0.00      0.00       819\n",
      "\n"
     ]
    }
   ],
   "source": [
    "# standard model, logistic\n",
    "filtered_clf = OneVsRestClassifier(LogisticRegression(\n",
    "    max_iter=300,\n",
    "    verbose=0   \n",
    "), n_jobs=4)\n",
    "\n",
    "filtered_clf = filtered_clf.fit(filtered_train_X, train_Y)\n",
    "print(\"Training accuracy: {0:.10f}\".format(accuracy_score(train_Y, filtered_clf.predict(filtered_train_X))))\n",
    "\n",
    "# test model on dev set\n",
    "preds = filtered_clf.predict(filtered_dev_X)\n",
    "acc = accuracy_score(dev_Y, preds)\n",
    "print(\"Accuracy of classifier on dev set: {0:.10f}\".format(acc))\n",
    "\n",
    "print(classification_report(dev_Y, preds, zero_division=0))"
   ]
  },
  {
   "cell_type": "markdown",
   "id": "a4229699",
   "metadata": {},
   "source": [
    "#### Basic One-vs-Rest Logistic, all poly and Nystroem kernel\n",
    "Basic logistic regression classifier that computes all polynomial features and then feeds them through a Nystroem kernel. The kernel approximation is done in light of the non-linear nature of the problem: even the degree 3 terms may remain linearly inseparable.\n",
    "\n",
    "```\n",
    "1 ---------xxx--------\n",
    "  --------------------\n",
    "  --------------------\n",
    "0 xxxxxxxxx---xxxxxxxx\n",
    "\n",
    "y axis: correct label\n",
    "x axis: data values\n",
    "```\n",
    "Imagine a logistic trying to solve this (before polynomial terms are even found). The outcome was all-zero F1-scores.\n",
    "\n",
    "kernel = 'poly', degree=3, n_components=500: F1-score \\[0.39 0.29 0.03 0.02\\], time taken <3 minutes\n",
    "\n",
    "kernel = 'rbf', gamma=0.2, n_components=500: F1-score \\[0.03 0.01 0.00 0.00 \\], time taken <1 minute\n",
    "\n",
    "kernel = 'sigmoid', gamma=0.2, n_components=500: F1-score \\[0.21 0.21 0.08 0.00 \\], time taken <3 minutes\n",
    "\n",
    "kernel = PolynomialCountSketch, gamma=0.2, n_components=500: optimized F1-score \\[0.56 0.53 0.36 0.29 \\], time taken 3 minutes\n",
    "\n",
    "no kernel used: F1-score \\[0.36 0.28 0.02 0.00\\]"
   ]
  },
  {
   "cell_type": "code",
   "execution_count": 19,
   "id": "2b1816c5",
   "metadata": {
    "scrolled": true
   },
   "outputs": [
    {
     "name": "stdout",
     "output_type": "stream",
     "text": [
      "Pipeline(steps=[('polynomialfeatures',\n",
      "                 PolynomialFeatures(degree=3, include_bias=False)),\n",
      "                ('standardscaler', StandardScaler()),\n",
      "                ('polynomialcountsketch',\n",
      "                 PolynomialCountSketch(degree=3, gamma=0.2, n_components=500)),\n",
      "                ('onevsrestclassifier',\n",
      "                 OneVsRestClassifier(estimator=LogisticRegression(max_iter=300),\n",
      "                                     n_jobs=-1))],\n",
      "         verbose=True)\n",
      "[Pipeline]  (step 1 of 4) Processing polynomialfeatures, total=   0.7s\n",
      "[Pipeline] .... (step 2 of 4) Processing standardscaler, total=   0.9s\n",
      "[Pipeline]  (step 3 of 4) Processing polynomialcountsketch, total=   5.5s\n",
      "[Pipeline]  (step 4 of 4) Processing onevsrestclassifier, total= 2.8min\n",
      "Training accuracy: 0.8848879682\n",
      "Accuracy of classifier on dev set: 0.8724552367\n",
      "              precision    recall  f1-score   support\n",
      "\n",
      "           0       0.61      0.34      0.43       355\n",
      "           1       0.50      0.22      0.31       296\n",
      "           2       0.47      0.20      0.28       114\n",
      "           3       0.22      0.10      0.13        72\n",
      "\n",
      "   micro avg       0.53      0.26      0.35       837\n",
      "   macro avg       0.45      0.21      0.29       837\n",
      "weighted avg       0.52      0.26      0.34       837\n",
      " samples avg       0.03      0.03      0.03       837\n",
      "\n"
     ]
    }
   ],
   "source": [
    "# Bruteforce logistic with all poly features and kernel\n",
    "\n",
    "basic_clf = OneVsRestClassifier(LogisticRegression(\n",
    "    max_iter=300,\n",
    "    verbose=0   \n",
    "), n_jobs=-1)\n",
    "\n",
    "pipe = make_pipeline(\n",
    "    PolynomialFeatures(degree=3, include_bias=False), \n",
    "    StandardScaler(),\n",
    "    #Nystroem(kernel='poly', degree=3, n_components=500, n_jobs=-1),\n",
    "    PolynomialCountSketch(gamma=0.2, degree=3, n_components=500),\n",
    "    basic_clf, verbose=True\n",
    ")\n",
    "print(pipe)\n",
    "\n",
    "basic_clf = pipe.fit(train_X, train_Y)\n",
    "print(\"Training accuracy: {0:.10f}\".format(accuracy_score(train_Y, basic_clf.predict(train_X))))\n",
    "\n",
    "# test model on dev set\n",
    "preds = basic_clf.predict(dev_X)\n",
    "acc = accuracy_score(dev_Y, preds)\n",
    "print(\"Accuracy of classifier on dev set: {0:.10f}\".format(acc))\n",
    "\n",
    "print(classification_report(dev_Y, preds, zero_division=0))"
   ]
  },
  {
   "cell_type": "code",
   "execution_count": 20,
   "id": "4499311b",
   "metadata": {
    "scrolled": true
   },
   "outputs": [
    {
     "name": "stdout",
     "output_type": "stream",
     "text": [
      "Best Threshold=0.30464, F-Score=0.55581\n",
      "Best Threshold=0.27141, F-Score=0.49383\n",
      "Best Threshold=0.22894, F-Score=0.43123\n",
      "Best Threshold=0.24356, F-Score=0.26190\n"
     ]
    },
    {
     "name": "stderr",
     "output_type": "stream",
     "text": [
      "/tmp/.u3556490/ipykernel_13807/2472075379.py:11: RuntimeWarning: invalid value encountered in true_divide\n",
      "  fscore = (2 * precision * recall) / (precision + recall)\n",
      "/tmp/.u3556490/ipykernel_13807/2472075379.py:11: RuntimeWarning: invalid value encountered in true_divide\n",
      "  fscore = (2 * precision * recall) / (precision + recall)\n",
      "/tmp/.u3556490/ipykernel_13807/2472075379.py:11: RuntimeWarning: invalid value encountered in true_divide\n",
      "  fscore = (2 * precision * recall) / (precision + recall)\n"
     ]
    },
    {
     "data": {
      "image/png": "[encoded data removed]",
      "text/plain": [
       "<Figure size 432x288 with 1 Axes>"
      ]
     },
     "metadata": {
      "needs_background": "light"
     },
     "output_type": "display_data"
    }
   ],
   "source": [
    "best_thresholds, best_f1_scores = optimize_thresholds(basic_clf, dev_X, dev_Y)"
   ]
  },
  {
   "cell_type": "code",
   "execution_count": 21,
   "id": "218d7e10",
   "metadata": {
    "scrolled": true
   },
   "outputs": [
    {
     "name": "stdout",
     "output_type": "stream",
     "text": [
      "              precision    recall  f1-score   support\n",
      "\n",
      "           0    0.47222   0.67042   0.55413       355\n",
      "           1    0.41435   0.60473   0.49176       296\n",
      "           2    0.37013   0.50000   0.42537       114\n",
      "           3    0.22105   0.29167   0.25150        72\n",
      "\n",
      "   micro avg    0.41772   0.59140   0.48961       837\n",
      "   macro avg    0.36944   0.51670   0.43069       837\n",
      "weighted avg    0.41625   0.59140   0.48850       837\n",
      " samples avg    0.05993   0.06733   0.05959       837\n",
      "\n"
     ]
    }
   ],
   "source": [
    "preds = predictions_with_thresholds(basic_clf, best_thresholds, dev_X)\n",
    "print(classification_report(dev_Y, preds, zero_division=0, digits=5))"
   ]
  },
  {
   "cell_type": "code",
   "execution_count": 22,
   "id": "51a4ac00",
   "metadata": {
    "scrolled": true
   },
   "outputs": [
    {
     "name": "stdout",
     "output_type": "stream",
     "text": [
      "Recall: [0.67042254 0.60472973 0.5        0.29166667]\n",
      "Precision: [0.47222222 0.41435185 0.37012987 0.22105263]\n"
     ]
    },
    {
     "name": "stderr",
     "output_type": "stream",
     "text": [
      "/userhome/cs/u3556490/anaconda3/lib/python3.8/site-packages/sklearn/linear_model/_logistic.py:814: ConvergenceWarning: lbfgs failed to converge (status=1):\n",
      "STOP: TOTAL NO. of ITERATIONS REACHED LIMIT.\n",
      "\n",
      "Increase the number of iterations (max_iter) or scale the data as shown in:\n",
      "    https://scikit-learn.org/stable/modules/preprocessing.html\n",
      "Please also refer to the documentation for alternative solver options:\n",
      "    https://scikit-learn.org/stable/modules/linear_model.html#logistic-regression\n",
      "  n_iter_i = _check_optimize_result(\n",
      "/userhome/cs/u3556490/anaconda3/lib/python3.8/site-packages/sklearn/linear_model/_logistic.py:814: ConvergenceWarning: lbfgs failed to converge (status=1):\n",
      "STOP: TOTAL NO. of ITERATIONS REACHED LIMIT.\n",
      "\n",
      "Increase the number of iterations (max_iter) or scale the data as shown in:\n",
      "    https://scikit-learn.org/stable/modules/preprocessing.html\n",
      "Please also refer to the documentation for alternative solver options:\n",
      "    https://scikit-learn.org/stable/modules/linear_model.html#logistic-regression\n",
      "  n_iter_i = _check_optimize_result(\n",
      "/userhome/cs/u3556490/anaconda3/lib/python3.8/site-packages/sklearn/linear_model/_logistic.py:814: ConvergenceWarning: lbfgs failed to converge (status=1):\n",
      "STOP: TOTAL NO. of ITERATIONS REACHED LIMIT.\n",
      "\n",
      "Increase the number of iterations (max_iter) or scale the data as shown in:\n",
      "    https://scikit-learn.org/stable/modules/preprocessing.html\n",
      "Please also refer to the documentation for alternative solver options:\n",
      "    https://scikit-learn.org/stable/modules/linear_model.html#logistic-regression\n",
      "  n_iter_i = _check_optimize_result(\n",
      "/userhome/cs/u3556490/anaconda3/lib/python3.8/site-packages/sklearn/linear_model/_logistic.py:814: ConvergenceWarning: lbfgs failed to converge (status=1):\n",
      "STOP: TOTAL NO. of ITERATIONS REACHED LIMIT.\n",
      "\n",
      "Increase the number of iterations (max_iter) or scale the data as shown in:\n",
      "    https://scikit-learn.org/stable/modules/preprocessing.html\n",
      "Please also refer to the documentation for alternative solver options:\n",
      "    https://scikit-learn.org/stable/modules/linear_model.html#logistic-regression\n",
      "  n_iter_i = _check_optimize_result(\n"
     ]
    }
   ],
   "source": [
    "# bookkeeping\n",
    "recall = recall_score(dev_Y, preds, average=None, zero_division=0)\n",
    "print(\"Recall:\", recall)\n",
    "low_impact_recall[\"allpoly\"] = recall[0]\n",
    "mid_impact_recall[\"allpoly\"] = recall[1]\n",
    "big_impact_recall[\"allpoly\"] = recall[2]\n",
    "direct_strike_recall[\"allpoly\"] = recall[3]\n",
    "\n",
    "precision = precision_score(dev_Y, preds, average=None, zero_division=0)\n",
    "print(\"Precision:\", precision)\n",
    "low_impact_precision[\"allpoly\"] = precision[0]\n",
    "mid_impact_precision[\"allpoly\"] = precision[1]\n",
    "big_impact_precision[\"allpoly\"] = precision[2]\n",
    "direct_strike_precision[\"allpoly\"] = precision[3]\n",
    "\n",
    "low_impact_f1[\"allpoly\"] = best_f1_scores[0]\n",
    "mid_impact_f1[\"allpoly\"] = best_f1_scores[1]\n",
    "big_impact_f1[\"allpoly\"] = best_f1_scores[2]\n",
    "direct_strike_f1[\"allpoly\"] = best_f1_scores[3]\n",
    "\n",
    "low_impact_threshold[\"allpoly\"] = best_thresholds[0]\n",
    "mid_impact_threshold[\"allpoly\"] = best_thresholds[1]\n",
    "big_impact_threshold[\"allpoly\"] = best_thresholds[2]\n",
    "direct_strike_threshold[\"allpoly\"] = best_thresholds[3]"
   ]
  },
  {
   "cell_type": "code",
   "execution_count": null,
   "id": "5922710c",
   "metadata": {},
   "outputs": [],
   "source": [
    "save_sklearn_model_to_file(basic_clf, \"allpoly\")"
   ]
  },
  {
   "cell_type": "markdown",
   "id": "65326bc8",
   "metadata": {},
   "source": [
    "#### PCA transform -> Kernel -> OvR Logistic\n",
    "Data reduced by PCA, passed though some kernel, and then one-vs-rest logits.\n",
    "\n",
    "450 PCA components, max_iter = 750, kernel = PolynomialCountSketch(gamma=0.5, degree=3, n_components=500): F1-score \\[0.35 0.28 0.20 0.11\\], time needed ~6.5 min\n",
    "\n",
    "450 PCA components, max_iter = 750, Nystroem(kernel='poly', degree=3, n_components=500, n_jobs=-1): optimized F1-scores \\[0.53 0.50 0.32 0.23\\], time needed 2 minutes"
   ]
  },
  {
   "cell_type": "code",
   "execution_count": 23,
   "id": "372a31c7",
   "metadata": {
    "scrolled": true
   },
   "outputs": [
    {
     "name": "stdout",
     "output_type": "stream",
     "text": [
      "Pipeline(steps=[('standardscaler', StandardScaler()),\n",
      "                ('nystroem',\n",
      "                 Nystroem(degree=3, kernel='poly', n_components=500,\n",
      "                          n_jobs=-1)),\n",
      "                ('onevsrestclassifier',\n",
      "                 OneVsRestClassifier(estimator=LogisticRegression(max_iter=500),\n",
      "                                     n_jobs=-1))],\n",
      "         verbose=True)\n",
      "[Pipeline] .... (step 1 of 3) Processing standardscaler, total=   0.3s\n",
      "[Pipeline] .......... (step 2 of 3) Processing nystroem, total=   1.1s\n",
      "[Pipeline]  (step 3 of 3) Processing onevsrestclassifier, total= 1.1min\n",
      "Training accuracy: 0.8824074579\n",
      "Accuracy of classifier on dev set: 0.8812852588\n",
      "              precision    recall  f1-score   support\n",
      "\n",
      "           0       0.60      0.08      0.14       355\n",
      "           1       0.58      0.07      0.13       296\n",
      "           2       0.43      0.03      0.05       114\n",
      "           3       0.00      0.00      0.00        72\n",
      "\n",
      "   micro avg       0.56      0.06      0.11       837\n",
      "   macro avg       0.40      0.04      0.08       837\n",
      "weighted avg       0.52      0.06      0.11       837\n",
      " samples avg       0.01      0.01      0.01       837\n",
      "\n"
     ]
    }
   ],
   "source": [
    "pca_kernel_clf = OneVsRestClassifier(LogisticRegression(\n",
    "    max_iter=500,\n",
    "    verbose=0   \n",
    "), n_jobs=-1)\n",
    "\n",
    "pipe = make_pipeline(\n",
    "    StandardScaler(),\n",
    "    Nystroem(kernel='poly', degree=3, n_components=500, n_jobs=-1),\n",
    "    #PolynomialCountSketch(gamma=0.5, degree=3, n_components=500),\n",
    "    pca_kernel_clf, verbose=True\n",
    ")\n",
    "print(pipe)\n",
    "\n",
    "pca_kernel_clf = pipe.fit(pca_train_X, train_Y)\n",
    "print(\"Training accuracy: {0:.10f}\".format(accuracy_score(train_Y, pca_kernel_clf.predict(pca_train_X))))\n",
    "\n",
    "# test model on dev set\n",
    "preds = pca_kernel_clf.predict(pca_dev_X)\n",
    "acc = accuracy_score(dev_Y, preds)\n",
    "print(\"Accuracy of classifier on dev set: {0:.10f}\".format(acc))\n",
    "\n",
    "print(classification_report(dev_Y, preds, zero_division=0))"
   ]
  },
  {
   "cell_type": "code",
   "execution_count": 24,
   "id": "f6284655",
   "metadata": {
    "scrolled": true
   },
   "outputs": [
    {
     "name": "stdout",
     "output_type": "stream",
     "text": [
      "Best Threshold=0.17224, F-Score=0.53333\n",
      "Best Threshold=0.15968, F-Score=0.53079\n",
      "Best Threshold=0.09130, F-Score=0.35099\n",
      "Best Threshold=0.06750, F-Score=0.20225\n"
     ]
    },
    {
     "name": "stderr",
     "output_type": "stream",
     "text": [
      "/tmp/.u3556490/ipykernel_13807/2472075379.py:11: RuntimeWarning: invalid value encountered in true_divide\n",
      "  fscore = (2 * precision * recall) / (precision + recall)\n",
      "/tmp/.u3556490/ipykernel_13807/2472075379.py:11: RuntimeWarning: invalid value encountered in true_divide\n",
      "  fscore = (2 * precision * recall) / (precision + recall)\n",
      "/tmp/.u3556490/ipykernel_13807/2472075379.py:11: RuntimeWarning: invalid value encountered in true_divide\n",
      "  fscore = (2 * precision * recall) / (precision + recall)\n",
      "/tmp/.u3556490/ipykernel_13807/2472075379.py:11: RuntimeWarning: invalid value encountered in true_divide\n",
      "  fscore = (2 * precision * recall) / (precision + recall)\n"
     ]
    },
    {
     "data": {
      "image/png": "[encoded data removed]",
      "text/plain": [
       "<Figure size 432x288 with 1 Axes>"
      ]
     },
     "metadata": {
      "needs_background": "light"
     },
     "output_type": "display_data"
    }
   ],
   "source": [
    "best_thresholds, best_f1_scores = optimize_thresholds(pca_kernel_clf, pca_dev_X, dev_Y)"
   ]
  },
  {
   "cell_type": "code",
   "execution_count": 25,
   "id": "896fc82d",
   "metadata": {},
   "outputs": [
    {
     "name": "stdout",
     "output_type": "stream",
     "text": [
      "              precision    recall  f1-score   support\n",
      "\n",
      "           0    0.45491   0.63944   0.53162       355\n",
      "           1    0.46753   0.60811   0.52863       296\n",
      "           2    0.27807   0.45614   0.34551       114\n",
      "           3    0.13402   0.36111   0.19549        72\n",
      "\n",
      "   micro avg    0.38340   0.57945   0.46147       837\n",
      "   macro avg    0.33363   0.51620   0.40031       837\n",
      "weighted avg    0.40769   0.57945   0.47630       837\n",
      " samples avg    0.05386   0.06479   0.05453       837\n",
      "\n"
     ]
    }
   ],
   "source": [
    "preds = predictions_with_thresholds(pca_kernel_clf, best_thresholds, pca_dev_X)\n",
    "print(classification_report(dev_Y, preds, zero_division=0, digits=5))"
   ]
  },
  {
   "cell_type": "code",
   "execution_count": 26,
   "id": "0030050c",
   "metadata": {},
   "outputs": [
    {
     "name": "stdout",
     "output_type": "stream",
     "text": [
      "Recall: [0.63943662 0.60810811 0.45614035 0.36111111]\n",
      "Precision: [0.45490982 0.46753247 0.27807487 0.13402062]\n"
     ]
    }
   ],
   "source": [
    "# bookkeeping\n",
    "recall = recall_score(dev_Y, preds, average=None, zero_division=0)\n",
    "print(\"Recall:\", recall)\n",
    "low_impact_recall[\"pca450_nystroem_logit\"] = recall[0]\n",
    "mid_impact_recall[\"pca450_nystroem_logit\"] = recall[1]\n",
    "big_impact_recall[\"pca450_nystroem_logit\"] = recall[2]\n",
    "direct_strike_recall[\"pca450_nystroem_logit\"] = recall[3]\n",
    "\n",
    "precision = precision_score(dev_Y, preds, average=None, zero_division=0)\n",
    "print(\"Precision:\", precision)\n",
    "low_impact_precision[\"pca450_nystroem_logit\"] = precision[0]\n",
    "mid_impact_precision[\"pca450_nystroem_logit\"] = precision[1]\n",
    "big_impact_precision[\"pca450_nystroem_logit\"] = precision[2]\n",
    "direct_strike_precision[\"pca450_nystroem_logit\"] = precision[3]\n",
    "\n",
    "low_impact_f1[\"pca450_nystroem_logit\"] = best_f1_scores[0]\n",
    "mid_impact_f1[\"pca450_nystroem_logit\"] = best_f1_scores[1]\n",
    "big_impact_f1[\"pca450_nystroem_logit\"] = best_f1_scores[2]\n",
    "direct_strike_f1[\"pca450_nystroem_logit\"] = best_f1_scores[3]\n",
    "\n",
    "low_impact_threshold[\"pca450_nystroem_logit\"] = best_thresholds[0]\n",
    "mid_impact_threshold[\"pca450_nystroem_logit\"] = best_thresholds[1]\n",
    "big_impact_threshold[\"pca450_nystroem_logit\"] = best_thresholds[2]\n",
    "direct_strike_threshold[\"pca450_nystroem_logit\"] = best_thresholds[3]"
   ]
  },
  {
   "cell_type": "code",
   "execution_count": null,
   "id": "ca5edd4c",
   "metadata": {
    "scrolled": true
   },
   "outputs": [],
   "source": [
    "save_sklearn_model_to_file(pca_kernel_clf, \"pca450_nystroem_logit\")"
   ]
  },
  {
   "cell_type": "markdown",
   "id": "9295e675",
   "metadata": {},
   "source": [
    "#### PCA transform -> kernel -> SVM\n",
    "Data PCA-reduced, kernel-tricked, and then modelled with an SVM. This one unfortunately cannot compute probabilities; regressors will be needed.\n",
    "\n",
    "450 components, Nystroem(kernel='poly', degree=3, n_components=500, n_jobs=-1): F1-scores \\[0.52 0.48 0.20 0.05\\], time taken 1 minute\n",
    "\n",
    "450 components, PolynomialCountSketch(gamma=0.2, degree=3, n_components=500): F1-scores \\[0.16 0.10 0.04 0.03\\], time taken 4 minutes "
   ]
  },
  {
   "cell_type": "code",
   "execution_count": 29,
   "id": "79ad0d1e",
   "metadata": {
    "scrolled": true
   },
   "outputs": [
    {
     "name": "stdout",
     "output_type": "stream",
     "text": [
      "Pipeline(steps=[('standardscaler', StandardScaler()),\n",
      "                ('polynomialcountsketch',\n",
      "                 PolynomialCountSketch(degree=3, gamma=0.2, n_components=500)),\n",
      "                ('onevsrestclassifier',\n",
      "                 OneVsRestClassifier(estimator=LinearSVC(dual=False),\n",
      "                                     n_jobs=-1))],\n",
      "         verbose=True)\n",
      "[Pipeline] .... (step 1 of 3) Processing standardscaler, total=   0.3s\n",
      "[Pipeline]  (step 2 of 3) Processing polynomialcountsketch, total=   2.8s\n",
      "[Pipeline]  (step 3 of 3) Processing onevsrestclassifier, total= 4.3min\n",
      "Training accuracy: 0.4845172545\n",
      "Accuracy of classifier on dev set: 0.4287466274\n",
      "              precision    recall  f1-score   support\n",
      "\n",
      "           0    0.09258   0.46761   0.15456       355\n",
      "           1    0.08315   0.51351   0.14313       296\n",
      "           2    0.03371   0.52632   0.06336       114\n",
      "           3    0.02146   0.52778   0.04124        72\n",
      "\n",
      "   micro avg    0.05800   0.49701   0.10388       837\n",
      "   macro avg    0.05772   0.50880   0.10057       837\n",
      "weighted avg    0.07511   0.49701   0.12835       837\n",
      " samples avg    0.03031   0.05639   0.03616       837\n",
      "\n"
     ]
    }
   ],
   "source": [
    "from sklearn.svm import LinearSVC\n",
    "\n",
    "pca_svm = OneVsRestClassifier(LinearSVC(dual=False), n_jobs=-1)\n",
    "\n",
    "pipe = make_pipeline(\n",
    "    StandardScaler(),\n",
    "    #Nystroem(kernel='poly', degree=3, n_components=500, n_jobs=-1),\n",
    "    PolynomialCountSketch(gamma=0.2, degree=3, n_components=500),\n",
    "    pca_svm, verbose=True\n",
    ")\n",
    "print(pipe)\n",
    "\n",
    "pca_svm = pipe.fit(pca_train_X, train_Y)\n",
    "print(\"Training accuracy: {0:.10f}\".format(accuracy_score(train_Y, pca_svm.predict(pca_train_X))))\n",
    "\n",
    "# test model on dev set\n",
    "preds = pca_svm.predict(pca_dev_X)\n",
    "acc = accuracy_score(dev_Y, preds)\n",
    "print(\"Accuracy of classifier on dev set: {0:.10f}\".format(acc))\n",
    "\n",
    "print(classification_report(dev_Y, preds, zero_division=0, digits=5))"
   ]
  },
  {
   "cell_type": "code",
   "execution_count": 30,
   "id": "a19a41b0",
   "metadata": {},
   "outputs": [
    {
     "name": "stdout",
     "output_type": "stream",
     "text": [
      "Recall: [0.46760563 0.51351351 0.52631579 0.52777778]\n",
      "Precision: [0.09258226 0.08315098 0.03370787 0.0214568 ]\n"
     ]
    }
   ],
   "source": [
    "# bookkeeping\n",
    "recall = recall_score(dev_Y, preds, average=None, zero_division=0)\n",
    "print(\"Recall:\", recall)\n",
    "low_impact_recall[\"pca450_nystroem_svc\"] = recall[0]\n",
    "mid_impact_recall[\"pca450_nystroem_svc\"] = recall[1]\n",
    "big_impact_recall[\"pca450_nystroem_svc\"] = recall[2]\n",
    "direct_strike_recall[\"pca450_nystroem_svc\"] = recall[3]\n",
    "\n",
    "precision = precision_score(dev_Y, preds, average=None, zero_division=0)\n",
    "print(\"Precision:\", precision)\n",
    "low_impact_precision[\"pca450_nystroem_svc\"] = precision[0]\n",
    "mid_impact_precision[\"pca450_nystroem_svc\"] = precision[1]\n",
    "big_impact_precision[\"pca450_nystroem_svc\"] = precision[2]\n",
    "direct_strike_precision[\"pca450_nystroem_svc\"] = precision[3]\n",
    "\n",
    "best_f1_scores = f1_score(dev_Y, preds, average=None, zero_division=0)\n",
    "low_impact_f1[\"pca450_nystroem_svc\"] = best_f1_scores[0]\n",
    "mid_impact_f1[\"pca450_nystroem_svc\"] = best_f1_scores[1]\n",
    "big_impact_f1[\"pca450_nystroem_svc\"] = best_f1_scores[2]\n",
    "direct_strike_f1[\"pca450_nystroem_svc\"] = best_f1_scores[3]"
   ]
  },
  {
   "cell_type": "code",
   "execution_count": null,
   "id": "a498edf8",
   "metadata": {
    "scrolled": true
   },
   "outputs": [],
   "source": [
    "save_sklearn_model_to_file(pca_svm, \"pca450_nystroem_svc\")"
   ]
  },
  {
   "cell_type": "markdown",
   "id": "0206a5da",
   "metadata": {},
   "source": [
    "#### Selecting a small number of features from models\n",
    "No kernels were ever used at this stage. At C=0.0025,\n",
    "\n",
    "SVM reported: ```['00WIND' 'MM 00WIND' 'MM 24LON' 'DD 00WIND' '00LON^2' 'MM^3' 'MM^2 DD'\n",
    " '00LAT^3' '00LAT^2 24WIND' '00LON^3' '00WIND^3']```\n",
    " \n",
    "LogReg reported: ```['00WIND' '00LON^2' 'MM^3' '00LAT^3' '00LAT^2 06LAT' '00LAT^2 12LAT'\n",
    " '00LAT^2 24WIND' '00LON^3' '00LON^2 06LON']```\n",
    " \n",
    "SGD reported (loss=\"modified_huber\", penalty=\"l1\", alpha=0.225): ```['12LON^2' '12LON 18LON' '18LON^2' '18LON 24LON' '24LON^2' '06LON 24LON^2'\n",
    " '12LON^2 24LON' '12LON 18LON^2' '12LON 18LON 24LON' '12LON 24LON^2'\n",
    " '18LON^3' '18LON^2 24LON' '18LON 24LON^2' '24LON^3']```\n",
    "\n",
    "SGD (loss=\"log\", penalty=\"l1\", alpha=0.0375): ```['00LON^2' '00LON 06LON' '06LON^2' '06LON 12LON' '06LON 18LON' '12LON^2'\n",
    " '12LON 18LON' '18LON^2' '00LON^3' '00LON^2 06LON' '00LON^2 12LON'\n",
    " '00LON^2 18LON' '00LON^2 24LON' '00LON 06LON^2' '00LON 06LON 12LON'\n",
    " '00LON 06LON 18LON' '00LON 06LON 24LON']```\n",
    " \n",
    "Compare this to PCA solving for 97.5% variance: ```['12LAT 12WIND 18LON', '12LAT 18LAT 24LAT', 'HH', 'DD', '06LON 24LON^2', 'MM', '00LAT 24WIND^2', '00WIND 12WIND 18WIND', '00LON', 'HH 00WIND 12WIND', 'DD 00LON 24WIND', '18LON', 'DD 06WIND 12WIND', 'DD HH 00LON', 'HH 00LAT^2', 'DD 00LAT^2']```\n",
    "\n",
    "And PCA for 98.75% variance: ```['12LAT 12WIND 18LON', '12LAT 18LAT 24LAT', 'HH', 'DD', '06LON 24LON^2', 'MM', '00LAT 24WIND^2', '00WIND 12WIND 18WIND', '00LON', 'HH 00WIND 12WIND', 'DD 00LON 24WIND', '18LON', 'DD 06WIND 12WIND', 'DD HH 00LON', 'HH 00LAT^2', 'DD 00LAT^2', '00LON 06LON 24LON', 'DD HH 00LAT', 'DD^2 HH', 'MM^2 12WIND', 'MM 24WIND^2', 'MM^2 24LAT', '24LON', '12LON 24LON']```\n",
    "\n",
    "we can count the most common 10 features among what the four linear models reported:\n",
    "\n",
    "Minimal impact: ```[('00LON^2', 6), ('00LON^3', 4), ('06LON^2', 4), ('12LON^2', 4), ('18LON^2', 4), ('24LON^2', 3), ('00WIND', 2), ('MM^3', 2), ('00LAT^3', 2), ('00LAT^2 24WIND', 2)]```\n",
    "\n",
    "Limited impact: ```[('00LON^2', 3), ('00WIND', 2), ('MM^3', 2), ('00LAT^3', 2), ('00LON 06LON', 2), ('06LON^2', 2), ('00LON^3', 2), ('MM 00LAT', 1), ('MM 00WIND', 1), ('MM 24LON', 1)]```\n",
    "\n",
    "Substantial impact: ```[('00LON^2', 2), ('00WIND', 1), ('06WIND', 1), ('MM^3', 1), ('MM^2 DD', 1), ('24LAT^3', 1), ('06LON^2', 1)]```\n",
    "\n",
    "Direct strike: ```[('00LON^2', 3), ('06LON^2', 2), ('00WIND', 1), ('MM^3', 1), ('24LON', 1), ('MM 24LON', 1), ('00LON 24LON', 1), ('06LON 12LON', 1), ('06LON 18LON', 1), ('06LON 24LON', 1)]```"
   ]
  },
  {
   "cell_type": "code",
   "execution_count": 31,
   "id": "1559649a",
   "metadata": {},
   "outputs": [],
   "source": [
    "names_lists = list()\n",
    "for i in range(4):\n",
    "    names_lists.append(list())"
   ]
  },
  {
   "cell_type": "code",
   "execution_count": null,
   "id": "5b3962e0",
   "metadata": {
    "scrolled": false
   },
   "outputs": [],
   "source": [
    "from sklearn.feature_selection import SelectFromModel\n",
    "from sklearn.svm import LinearSVC\n",
    "\n",
    "pipe = make_pipeline(\n",
    "    StandardScaler(),\n",
    "    LinearSVC(dual=False, penalty=\"l1\", C=0.0025), \n",
    "    verbose=True\n",
    ")\n",
    "poly = PolynomialFeatures(degree=3, include_bias=False).fit(train_X)\n",
    "for i in range(4):\n",
    "    lsvc = pipe.fit(poly.transform(train_X), train_Y[:,i])\n",
    "    selection = SelectFromModel(lsvc.named_steps['linearsvc'], prefit=True)\n",
    "    names = selection.get_feature_names_out(poly.get_feature_names_out())\n",
    "    if i == 3:\n",
    "        print(names)\n",
    "    names_lists[i].append(names)"
   ]
  },
  {
   "cell_type": "code",
   "execution_count": null,
   "id": "6e721076",
   "metadata": {
    "scrolled": true
   },
   "outputs": [],
   "source": [
    "pipe = make_pipeline(\n",
    "    StandardScaler(),\n",
    "    LogisticRegression(penalty=\"l1\", C=0.0025, max_iter=500, solver='saga', n_jobs=-1), \n",
    "    verbose=True\n",
    ")\n",
    "poly = PolynomialFeatures(degree=3, include_bias=False).fit(train_X)\n",
    "for i in range(4):\n",
    "    lsvc = pipe.fit(poly.transform(train_X), train_Y[:,i])\n",
    "    selection = SelectFromModel(lsvc.named_steps['logisticregression'], prefit=True)\n",
    "    names = selection.get_feature_names_out(poly.get_feature_names_out())\n",
    "    if i == 3:\n",
    "        print(names)\n",
    "    names_lists[i].append(names)"
   ]
  },
  {
   "cell_type": "code",
   "execution_count": null,
   "id": "3cc2c2f6",
   "metadata": {
    "scrolled": true
   },
   "outputs": [],
   "source": [
    "from sklearn.linear_model import SGDClassifier\n",
    "\n",
    "pipe = make_pipeline(\n",
    "    StandardScaler(),\n",
    "    SGDClassifier(loss=\"log\", penalty=\"l1\", alpha=0.035, early_stopping=True, n_jobs=-1), # alpha selection needs more work\n",
    "    verbose=True\n",
    ")\n",
    "poly = PolynomialFeatures(degree=3, include_bias=False).fit(train_X)\n",
    "for i in range(4):\n",
    "    lsvc = pipe.fit(poly.transform(train_X), train_Y[:,i])\n",
    "    selection = SelectFromModel(lsvc.named_steps['sgdclassifier'], prefit=True)\n",
    "    names = selection.get_feature_names_out(poly.get_feature_names_out())\n",
    "    if i == 3:\n",
    "        print(names)\n",
    "    names_lists[i].append(names)"
   ]
  },
  {
   "cell_type": "code",
   "execution_count": null,
   "id": "0e200d65",
   "metadata": {
    "scrolled": true
   },
   "outputs": [],
   "source": [
    "from collections import Counter\n",
    "\n",
    "l1_selected_features = list()\n",
    "for i in range(4):\n",
    "    flattened_list = [elem for sublist in names_lists[i] for elem in sublist]\n",
    "    counter = Counter(flattened_list)\n",
    "    commonest = counter.most_common()[:10] # 10 most common features\n",
    "    print(i, commonest)\n",
    "    \n",
    "    l1_selected_features.append(commonest)"
   ]
  },
  {
   "cell_type": "markdown",
   "id": "15edb90d",
   "metadata": {},
   "source": [
    "### Regressional models built with PCA-transformed data"
   ]
  },
  {
   "cell_type": "code",
   "execution_count": 17,
   "id": "89375bc0",
   "metadata": {},
   "outputs": [],
   "source": [
    "# new utility functions\n",
    "from scipy.special import expit\n",
    "\n",
    "def regression_predict(regr, datasetX, method='sigmoid'):\n",
    "    '''\n",
    "    Takes in a regressor, an input samples set X and optionally a method argument (must be either \"sigmoid\" or \"clip\");\n",
    "    Returns predictions made by the regressor on X that have been rescaled to fall within [0,1] using the specified method.\n",
    "    '''\n",
    "    # method specifies how to handle inputs outside of 0-1 range: clip to 0 or 1, or pass through sigmoid\n",
    "    preds = regr.predict(datasetX)\n",
    "    if method == 'clip':\n",
    "        preds = np.clip(preds, 0, 1)\n",
    "    elif method == 'sigmoid':\n",
    "        preds = expit(preds)\n",
    "    return preds\n",
    "\n",
    "def regressor_find_thresholds(regr, datasetX, datasetY, method='sigmoid'):\n",
    "    '''\n",
    "    Takes in a regressor, an input set X, a target set Y and optionally a scaling method;\n",
    "    returns the best decision thresholds and corresponding f1-scores;\n",
    "    displays the values and a precision recall curve.\n",
    "    '''\n",
    "    all_preds = regression_predict(regr, datasetX, method)\n",
    "    best_thresholds = []\n",
    "    best_f1_scores = []\n",
    "    for i in range(4):\n",
    "        precision, recall, thresholds = precision_recall_curve(datasetY[:,i], all_preds[:,i])\n",
    "        # find best threshold\n",
    "        fscore = (2 * precision * recall) / (precision + recall)\n",
    "        ix = np.nanargmax(fscore)\n",
    "        best_thresholds.append(thresholds[ix])\n",
    "        best_f1_scores.append(fscore[ix])\n",
    "        print('Best Threshold={0:.05f}, F-Score={1:.05f}'.format(thresholds[ix], fscore[ix]))\n",
    "\n",
    "    # plot the precision-recall curve for the model\n",
    "    plt.plot(recall, precision, marker='.', label='PR curve')\n",
    "    plt.scatter(recall[ix], precision[ix], marker='o', color='black', label='Best')\n",
    "    plt.xlabel('Recall')\n",
    "    plt.ylabel('Precision')\n",
    "    plt.title('Precision-Recall Curve for Direct Strike')\n",
    "    plt.legend()\n",
    "    \n",
    "    return best_thresholds, best_f1_scores\n",
    "\n",
    "def regression_label(regr, datasetX, thresholds, method='sigmoid'):\n",
    "    '''\n",
    "    Takes in a regressor, a list of decision thresholds, an input samples set X and optionally a scaling method;\n",
    "    Returns deterministic predictions made using the model over X and the thresholds.\n",
    "    '''\n",
    "    preds_probs = regression_predict(regr, datasetX, method)\n",
    "    preds = []\n",
    "    # iterate each predicted probability and compare against threshold\n",
    "    for i in range(len(preds_probs)):\n",
    "        pred_row = []\n",
    "        for j in range(4):\n",
    "            if preds_probs[i,j] > thresholds[j]:\n",
    "                pred_row.append(1)\n",
    "            else:\n",
    "                pred_row.append(0)\n",
    "        preds.append(pred_row)\n",
    "    \n",
    "    return np.array(preds)"
   ]
  },
  {
   "cell_type": "markdown",
   "id": "4e3fbfb8",
   "metadata": {},
   "source": [
    "#### Linear regression, no kernel"
   ]
  },
  {
   "cell_type": "code",
   "execution_count": 33,
   "id": "ab25cd01",
   "metadata": {},
   "outputs": [],
   "source": [
    "from sklearn.multioutput import MultiOutputRegressor\n",
    "from sklearn.linear_model import LinearRegression\n",
    "\n",
    "linear_regr = MultiOutputRegressor(LinearRegression(), n_jobs=-1)\n",
    "linear_regr = linear_regr.fit(pca_train_X, train_Y)"
   ]
  },
  {
   "cell_type": "code",
   "execution_count": 34,
   "id": "da254be0",
   "metadata": {
    "scrolled": true
   },
   "outputs": [
    {
     "name": "stdout",
     "output_type": "stream",
     "text": [
      "Best Threshold=0.56132, F-Score=0.49220\n",
      "Best Threshold=0.54295, F-Score=0.47579\n",
      "Best Threshold=0.53127, F-Score=0.33824\n",
      "Best Threshold=0.51749, F-Score=0.17439\n"
     ]
    },
    {
     "name": "stderr",
     "output_type": "stream",
     "text": [
      "/tmp/.u3556490/ipykernel_13807/984687278.py:20: RuntimeWarning: invalid value encountered in true_divide\n",
      "  fscore = (2 * precision * recall) / (precision + recall)\n",
      "/tmp/.u3556490/ipykernel_13807/984687278.py:20: RuntimeWarning: invalid value encountered in true_divide\n",
      "  fscore = (2 * precision * recall) / (precision + recall)\n",
      "/tmp/.u3556490/ipykernel_13807/984687278.py:20: RuntimeWarning: invalid value encountered in true_divide\n",
      "  fscore = (2 * precision * recall) / (precision + recall)\n",
      "/tmp/.u3556490/ipykernel_13807/984687278.py:20: RuntimeWarning: invalid value encountered in true_divide\n",
      "  fscore = (2 * precision * recall) / (precision + recall)\n"
     ]
    },
    {
     "data": {
      "image/png": "[encoded data removed]",
      "text/plain": [
       "<Figure size 432x288 with 1 Axes>"
      ]
     },
     "metadata": {
      "needs_background": "light"
     },
     "output_type": "display_data"
    }
   ],
   "source": [
    "best_thresholds, best_f1_scores = regressor_find_thresholds(linear_regr, pca_dev_X, dev_Y, 'sigmoid')"
   ]
  },
  {
   "cell_type": "code",
   "execution_count": 41,
   "id": "681b6dc5",
   "metadata": {
    "scrolled": true
   },
   "outputs": [
    {
     "name": "stdout",
     "output_type": "stream",
     "text": [
      "              precision    recall  f1-score   support\n",
      "\n",
      "           0    0.38811   0.62535   0.47896       355\n",
      "           1    0.34940   0.68581   0.46294       296\n",
      "           2    0.28205   0.38596   0.32593       114\n",
      "           3    0.10569   0.36111   0.16352        72\n",
      "\n",
      "   micro avg    0.31833   0.59140   0.41388       837\n",
      "   macro avg    0.28131   0.51456   0.35784       837\n",
      "weighted avg    0.33568   0.59140   0.42532       837\n",
      " samples avg    0.05400   0.06659   0.05506       837\n",
      "\n"
     ]
    }
   ],
   "source": [
    "preds = regression_label(linear_regr, pca_dev_X, best_thresholds)\n",
    "print(classification_report(dev_Y, preds, zero_division=0, digits=5))"
   ]
  },
  {
   "cell_type": "code",
   "execution_count": 42,
   "id": "5898d335",
   "metadata": {},
   "outputs": [
    {
     "name": "stdout",
     "output_type": "stream",
     "text": [
      "Recall: [0.62535211 0.68581081 0.38596491 0.36111111]\n",
      "Precision: [0.38811189 0.34939759 0.28205128 0.10569106]\n"
     ]
    }
   ],
   "source": [
    "# bookkeeping\n",
    "recall = recall_score(dev_Y, preds, average=None, zero_division=0)\n",
    "print(\"Recall:\", recall)\n",
    "low_impact_recall[\"pca450_linear_regr\"] = recall[0]\n",
    "mid_impact_recall[\"pca450_linear_regr\"] = recall[1]\n",
    "big_impact_recall[\"pca450_linear_regr\"] = recall[2]\n",
    "direct_strike_recall[\"pca450_linear_regr\"] = recall[3]\n",
    "\n",
    "precision = precision_score(dev_Y, preds, average=None, zero_division=0)\n",
    "print(\"Precision:\", precision)\n",
    "low_impact_precision[\"pca450_linear_regr\"] = precision[0]\n",
    "mid_impact_precision[\"pca450_linear_regr\"] = precision[1]\n",
    "big_impact_precision[\"pca450_linear_regr\"] = precision[2]\n",
    "direct_strike_precision[\"pca450_linear_regr\"] = precision[3]\n",
    "\n",
    "best_f1_scores = f1_score(dev_Y, preds, average=None, zero_division=0)\n",
    "low_impact_f1[\"pca450_linear_regr\"] = best_f1_scores[0]\n",
    "mid_impact_f1[\"pca450_linear_regr\"] = best_f1_scores[1]\n",
    "big_impact_f1[\"pca450_linear_regr\"] = best_f1_scores[2]\n",
    "direct_strike_f1[\"pca450_linear_regr\"] = best_f1_scores[3]"
   ]
  },
  {
   "cell_type": "markdown",
   "id": "1ddae7b5",
   "metadata": {},
   "source": [
    "#### Linear regression, poly kernel"
   ]
  },
  {
   "cell_type": "code",
   "execution_count": 36,
   "id": "3540390c",
   "metadata": {},
   "outputs": [
    {
     "name": "stdout",
     "output_type": "stream",
     "text": [
      "Pipeline(steps=[('standardscaler', StandardScaler()),\n",
      "                ('nystroem',\n",
      "                 Nystroem(degree=3, kernel='poly', n_components=500,\n",
      "                          n_jobs=-1)),\n",
      "                ('multioutputregressor',\n",
      "                 MultiOutputRegressor(estimator=LinearRegression(),\n",
      "                                      n_jobs=-1))],\n",
      "         verbose=True)\n",
      "[Pipeline] .... (step 1 of 3) Processing standardscaler, total=   0.3s\n",
      "[Pipeline] .......... (step 2 of 3) Processing nystroem, total=   1.1s\n",
      "[Pipeline]  (step 3 of 3) Processing multioutputregressor, total=   2.3s\n"
     ]
    }
   ],
   "source": [
    "regr = MultiOutputRegressor(LinearRegression(), n_jobs=-1)\n",
    "\n",
    "pipe = make_pipeline(\n",
    "    StandardScaler(),\n",
    "    Nystroem(kernel='poly', degree=3, n_components=500, n_jobs=-1),\n",
    "    regr, verbose=True\n",
    ")\n",
    "print(pipe)\n",
    "\n",
    "poly_regr = pipe.fit(pca_train_X, train_Y)"
   ]
  },
  {
   "cell_type": "code",
   "execution_count": 37,
   "id": "8ce778e2",
   "metadata": {
    "scrolled": true
   },
   "outputs": [
    {
     "name": "stdout",
     "output_type": "stream",
     "text": [
      "Best Threshold=0.55671, F-Score=0.49530\n",
      "Best Threshold=0.54630, F-Score=0.46993\n",
      "Best Threshold=0.53137, F-Score=0.33452\n",
      "Best Threshold=0.51841, F-Score=0.16156\n"
     ]
    },
    {
     "name": "stderr",
     "output_type": "stream",
     "text": [
      "/tmp/.u3556490/ipykernel_13807/984687278.py:20: RuntimeWarning: invalid value encountered in true_divide\n",
      "  fscore = (2 * precision * recall) / (precision + recall)\n",
      "/tmp/.u3556490/ipykernel_13807/984687278.py:20: RuntimeWarning: invalid value encountered in true_divide\n",
      "  fscore = (2 * precision * recall) / (precision + recall)\n",
      "/tmp/.u3556490/ipykernel_13807/984687278.py:20: RuntimeWarning: invalid value encountered in true_divide\n",
      "  fscore = (2 * precision * recall) / (precision + recall)\n",
      "/tmp/.u3556490/ipykernel_13807/984687278.py:20: RuntimeWarning: invalid value encountered in true_divide\n",
      "  fscore = (2 * precision * recall) / (precision + recall)\n"
     ]
    },
    {
     "data": {
      "image/png": "[encoded data removed]",
      "text/plain": [
       "<Figure size 432x288 with 1 Axes>"
      ]
     },
     "metadata": {
      "needs_background": "light"
     },
     "output_type": "display_data"
    }
   ],
   "source": [
    "best_thresholds, best_f1_scores = regressor_find_thresholds(poly_regr, pca_dev_X, dev_Y, 'sigmoid')"
   ]
  },
  {
   "cell_type": "code",
   "execution_count": 43,
   "id": "2cae9676",
   "metadata": {
    "scrolled": true
   },
   "outputs": [
    {
     "name": "stdout",
     "output_type": "stream",
     "text": [
      "              precision    recall  f1-score   support\n",
      "\n",
      "           0    0.39268   0.66479   0.49372       355\n",
      "           1    0.34942   0.70946   0.46823       296\n",
      "           2    0.27711   0.40351   0.32857       114\n",
      "           3    0.09790   0.38889   0.15642        72\n",
      "\n",
      "   micro avg    0.31439   0.62127   0.41750       837\n",
      "   macro avg    0.27928   0.54166   0.36174       837\n",
      "weighted avg    0.33628   0.62127   0.43320       837\n",
      " samples avg    0.05470   0.07033   0.05708       837\n",
      "\n"
     ]
    }
   ],
   "source": [
    "preds = regression_label(poly_regr, pca_dev_X, best_thresholds)\n",
    "print(classification_report(dev_Y, preds, zero_division=0, digits=5))"
   ]
  },
  {
   "cell_type": "code",
   "execution_count": 44,
   "id": "137073b9",
   "metadata": {},
   "outputs": [
    {
     "name": "stdout",
     "output_type": "stream",
     "text": [
      "Recall: [0.66478873 0.70945946 0.40350877 0.38888889]\n",
      "Precision: [0.39267887 0.34941764 0.27710843 0.0979021 ]\n"
     ]
    }
   ],
   "source": [
    "# bookkeeping\n",
    "recall = recall_score(dev_Y, preds, average=None, zero_division=0)\n",
    "print(\"Recall:\", recall)\n",
    "low_impact_recall[\"pca450_nystroem_linreg\"] = recall[0]\n",
    "mid_impact_recall[\"pca450_nystroem_linreg\"] = recall[1]\n",
    "big_impact_recall[\"pca450_nystroem_linreg\"] = recall[2]\n",
    "direct_strike_recall[\"pca450_nystroem_linreg\"] = recall[3]\n",
    "\n",
    "precision = precision_score(dev_Y, preds, average=None, zero_division=0)\n",
    "print(\"Precision:\", precision)\n",
    "low_impact_precision[\"pca450_nystroem_linreg\"] = precision[0]\n",
    "mid_impact_precision[\"pca450_nystroem_linreg\"] = precision[1]\n",
    "big_impact_precision[\"pca450_nystroem_linreg\"] = precision[2]\n",
    "direct_strike_precision[\"pca450_nystroem_linreg\"] = precision[3]\n",
    "\n",
    "best_f1_scores = f1_score(dev_Y, preds, average=None, zero_division=0)\n",
    "low_impact_f1[\"pca450_nystroem_linreg\"] = best_f1_scores[0]\n",
    "mid_impact_f1[\"pca450_nystroem_linreg\"] = best_f1_scores[1]\n",
    "big_impact_f1[\"pca450_nystroem_linreg\"] = best_f1_scores[2]\n",
    "direct_strike_f1[\"pca450_nystroem_linreg\"] = best_f1_scores[3]"
   ]
  },
  {
   "cell_type": "markdown",
   "id": "d3711f14",
   "metadata": {},
   "source": [
    "#### All Polynomial Features, no PCA\n",
    "\n",
    "no kernel: F-Score = \\[0.49153 0.43750 0.26506 0.18297 \\]\n",
    "\n",
    "yes kernel: F-Score = \\[0.53194 0.48214 0.31746 0.23041 \\]"
   ]
  },
  {
   "cell_type": "code",
   "execution_count": 45,
   "id": "25796dc8",
   "metadata": {},
   "outputs": [
    {
     "name": "stdout",
     "output_type": "stream",
     "text": [
      "Pipeline(steps=[('polynomialfeatures',\n",
      "                 PolynomialFeatures(degree=3, include_bias=False)),\n",
      "                ('standardscaler', StandardScaler()),\n",
      "                ('nystroem',\n",
      "                 Nystroem(degree=3, kernel='poly', n_components=500,\n",
      "                          n_jobs=-1)),\n",
      "                ('multioutputregressor',\n",
      "                 MultiOutputRegressor(estimator=LinearRegression(),\n",
      "                                      n_jobs=-1))],\n",
      "         verbose=True)\n",
      "[Pipeline]  (step 1 of 4) Processing polynomialfeatures, total=   0.7s\n",
      "[Pipeline] .... (step 2 of 4) Processing standardscaler, total=   0.9s\n",
      "[Pipeline] .......... (step 3 of 4) Processing nystroem, total=   1.5s\n",
      "[Pipeline]  (step 4 of 4) Processing multioutputregressor, total=   2.2s\n"
     ]
    }
   ],
   "source": [
    "regr = MultiOutputRegressor(LinearRegression(), n_jobs=-1)\n",
    "\n",
    "pipe = make_pipeline(\n",
    "    PolynomialFeatures(degree=3, include_bias=False),\n",
    "    StandardScaler(),\n",
    "    Nystroem(kernel='poly', degree=3, n_components=500, n_jobs=-1),\n",
    "    regr, verbose=True\n",
    ")\n",
    "print(pipe)\n",
    "\n",
    "basic_regr = pipe.fit(train_X, train_Y)"
   ]
  },
  {
   "cell_type": "code",
   "execution_count": 46,
   "id": "e30309c5",
   "metadata": {
    "scrolled": true
   },
   "outputs": [
    {
     "name": "stdout",
     "output_type": "stream",
     "text": [
      "Best Threshold=0.56011, F-Score=0.50875\n",
      "Best Threshold=0.55254, F-Score=0.48561\n",
      "Best Threshold=0.53735, F-Score=0.35652\n",
      "Best Threshold=0.52038, F-Score=0.19608\n"
     ]
    },
    {
     "name": "stderr",
     "output_type": "stream",
     "text": [
      "/tmp/.u3556490/ipykernel_13807/984687278.py:20: RuntimeWarning: invalid value encountered in true_divide\n",
      "  fscore = (2 * precision * recall) / (precision + recall)\n",
      "/tmp/.u3556490/ipykernel_13807/984687278.py:20: RuntimeWarning: invalid value encountered in true_divide\n",
      "  fscore = (2 * precision * recall) / (precision + recall)\n",
      "/tmp/.u3556490/ipykernel_13807/984687278.py:20: RuntimeWarning: invalid value encountered in true_divide\n",
      "  fscore = (2 * precision * recall) / (precision + recall)\n",
      "/tmp/.u3556490/ipykernel_13807/984687278.py:20: RuntimeWarning: invalid value encountered in true_divide\n",
      "  fscore = (2 * precision * recall) / (precision + recall)\n"
     ]
    },
    {
     "data": {
      "image/png": "[encoded data removed]",
      "text/plain": [
       "<Figure size 432x288 with 1 Axes>"
      ]
     },
     "metadata": {
      "needs_background": "light"
     },
     "output_type": "display_data"
    }
   ],
   "source": [
    "best_thresholds, best_f1_scores = regressor_find_thresholds(basic_regr, dev_X, dev_Y, 'sigmoid')"
   ]
  },
  {
   "cell_type": "code",
   "execution_count": 47,
   "id": "68d27c41",
   "metadata": {},
   "outputs": [
    {
     "name": "stdout",
     "output_type": "stream",
     "text": [
      "              precision    recall  f1-score   support\n",
      "\n",
      "           0    0.40000   0.69296   0.50722       355\n",
      "           1    0.38446   0.65203   0.48371       296\n",
      "           2    0.34783   0.35088   0.34934       114\n",
      "           3    0.13187   0.33333   0.18898        72\n",
      "\n",
      "   micro avg    0.35573   0.60096   0.44691       837\n",
      "   macro avg    0.31604   0.50730   0.38231       837\n",
      "weighted avg    0.36433   0.60096   0.45003       837\n",
      " samples avg    0.06179   0.06962   0.06057       837\n",
      "\n"
     ]
    }
   ],
   "source": [
    "preds = regression_label(basic_regr, dev_X, best_thresholds)\n",
    "print(classification_report(dev_Y, preds, zero_division=0, digits=5))"
   ]
  },
  {
   "cell_type": "code",
   "execution_count": 48,
   "id": "34c3cc19",
   "metadata": {},
   "outputs": [
    {
     "name": "stdout",
     "output_type": "stream",
     "text": [
      "Recall: [0.69295775 0.65202703 0.35087719 0.33333333]\n",
      "Precision: [0.4        0.38446215 0.34782609 0.13186813]\n"
     ]
    }
   ],
   "source": [
    "# bookkeeping\n",
    "recall = recall_score(dev_Y, preds, average=None, zero_division=0)\n",
    "print(\"Recall:\", recall)\n",
    "low_impact_recall[\"allpoly_nystroem_linreg\"] = recall[0]\n",
    "mid_impact_recall[\"allpoly_nystroem_linreg\"] = recall[1]\n",
    "big_impact_recall[\"allpoly_nystroem_linreg\"] = recall[2]\n",
    "direct_strike_recall[\"allpoly_nystroem_linreg\"] = recall[3]\n",
    "\n",
    "precision = precision_score(dev_Y, preds, average=None, zero_division=0)\n",
    "print(\"Precision:\", precision)\n",
    "low_impact_precision[\"allpoly_nystroem_linreg\"] = precision[0]\n",
    "mid_impact_precision[\"allpoly_nystroem_linreg\"] = precision[1]\n",
    "big_impact_precision[\"allpoly_nystroem_linreg\"] = precision[2]\n",
    "direct_strike_precision[\"allpoly_nystroem_linreg\"] = precision[3]\n",
    "\n",
    "best_f1_scores = f1_score(dev_Y, preds, average=None, zero_division=0)\n",
    "low_impact_f1[\"allpoly_nystroem_linreg\"] = best_f1_scores[0]\n",
    "mid_impact_f1[\"allpoly_nystroem_linreg\"] = best_f1_scores[1]\n",
    "big_impact_f1[\"allpoly_nystroem_linreg\"] = best_f1_scores[2]\n",
    "direct_strike_f1[\"allpoly_nystroem_linreg\"] = best_f1_scores[3]"
   ]
  },
  {
   "cell_type": "markdown",
   "id": "77088c10",
   "metadata": {},
   "source": [
    "#### SVM Regressor, PCA transformed data with kernel"
   ]
  },
  {
   "cell_type": "code",
   "execution_count": 49,
   "id": "07133f6b",
   "metadata": {
    "scrolled": true
   },
   "outputs": [
    {
     "name": "stdout",
     "output_type": "stream",
     "text": [
      "Pipeline(steps=[('standardscaler', StandardScaler()),\n",
      "                ('nystroem',\n",
      "                 Nystroem(degree=3, kernel='poly', n_components=500,\n",
      "                          n_jobs=-1)),\n",
      "                ('multioutputregressor',\n",
      "                 MultiOutputRegressor(estimator=LinearSVR(C=0.5, dual=False,\n",
      "                                                          loss='squared_epsilon_insensitive'),\n",
      "                                      n_jobs=-1))],\n",
      "         verbose=True)\n",
      "[Pipeline] .... (step 1 of 3) Processing standardscaler, total=   0.3s\n",
      "[Pipeline] .......... (step 2 of 3) Processing nystroem, total=   1.1s\n",
      "[Pipeline]  (step 3 of 3) Processing multioutputregressor, total=  12.4s\n"
     ]
    }
   ],
   "source": [
    "from sklearn.svm import LinearSVR\n",
    "\n",
    "regr = MultiOutputRegressor(LinearSVR(loss='squared_epsilon_insensitive', dual=False, C=0.5), n_jobs=-1)\n",
    "\n",
    "pipe = make_pipeline(\n",
    "    StandardScaler(),\n",
    "    Nystroem(kernel='poly', degree=3, n_components=500, n_jobs=-1),\n",
    "    regr, verbose=True\n",
    ")\n",
    "print(pipe)\n",
    "\n",
    "svm_regr = pipe.fit(pca_train_X, train_Y)"
   ]
  },
  {
   "cell_type": "code",
   "execution_count": 50,
   "id": "7a2bb2be",
   "metadata": {
    "scrolled": true
   },
   "outputs": [
    {
     "name": "stdout",
     "output_type": "stream",
     "text": [
      "Best Threshold=0.55479, F-Score=0.49794\n",
      "Best Threshold=0.54436, F-Score=0.48026\n",
      "Best Threshold=0.52842, F-Score=0.32716\n",
      "Best Threshold=0.51706, F-Score=0.16377\n"
     ]
    },
    {
     "name": "stderr",
     "output_type": "stream",
     "text": [
      "/tmp/.u3556490/ipykernel_13807/984687278.py:20: RuntimeWarning: invalid value encountered in true_divide\n",
      "  fscore = (2 * precision * recall) / (precision + recall)\n",
      "/tmp/.u3556490/ipykernel_13807/984687278.py:20: RuntimeWarning: invalid value encountered in true_divide\n",
      "  fscore = (2 * precision * recall) / (precision + recall)\n",
      "/tmp/.u3556490/ipykernel_13807/984687278.py:20: RuntimeWarning: invalid value encountered in true_divide\n",
      "  fscore = (2 * precision * recall) / (precision + recall)\n",
      "/tmp/.u3556490/ipykernel_13807/984687278.py:20: RuntimeWarning: invalid value encountered in true_divide\n",
      "  fscore = (2 * precision * recall) / (precision + recall)\n"
     ]
    },
    {
     "data": {
      "image/png": "[encoded data removed]",
      "text/plain": [
       "<Figure size 432x288 with 1 Axes>"
      ]
     },
     "metadata": {
      "needs_background": "light"
     },
     "output_type": "display_data"
    }
   ],
   "source": [
    "best_thresholds, best_f1_scores = regressor_find_thresholds(svm_regr, pca_dev_X, dev_Y, 'sigmoid')"
   ]
  },
  {
   "cell_type": "code",
   "execution_count": 51,
   "id": "07da9ea9",
   "metadata": {},
   "outputs": [
    {
     "name": "stdout",
     "output_type": "stream",
     "text": [
      "              precision    recall  f1-score   support\n",
      "\n",
      "           0    0.39123   0.67887   0.49640       355\n",
      "           1    0.35447   0.73649   0.47859       296\n",
      "           2    0.24880   0.45614   0.32198       114\n",
      "           3    0.09697   0.44444   0.15920        72\n",
      "\n",
      "   micro avg    0.30678   0.64875   0.41657       837\n",
      "   macro avg    0.27287   0.57899   0.36404       837\n",
      "weighted avg    0.33352   0.64875   0.43734       837\n",
      " samples avg    0.05639   0.07340   0.05896       837\n",
      "\n"
     ]
    }
   ],
   "source": [
    "preds = regression_label(svm_regr, pca_dev_X, best_thresholds)\n",
    "print(classification_report(dev_Y, preds, zero_division=0, digits=5))"
   ]
  },
  {
   "cell_type": "code",
   "execution_count": 52,
   "id": "5a1c74c9",
   "metadata": {},
   "outputs": [
    {
     "name": "stdout",
     "output_type": "stream",
     "text": [
      "Recall: [0.67887324 0.73648649 0.45614035 0.44444444]\n",
      "Precision: [0.39123377 0.35447154 0.24880383 0.0969697 ]\n"
     ]
    }
   ],
   "source": [
    "# bookkeeping\n",
    "recall = recall_score(dev_Y, preds, average=None, zero_division=0)\n",
    "print(\"Recall:\", recall)\n",
    "low_impact_recall[\"pca450_nystroem_svr\"] = recall[0]\n",
    "mid_impact_recall[\"pca450_nystroem_svr\"] = recall[1]\n",
    "big_impact_recall[\"pca450_nystroem_svr\"] = recall[2]\n",
    "direct_strike_recall[\"pca450_nystroem_svr\"] = recall[3]\n",
    "\n",
    "precision = precision_score(dev_Y, preds, average=None, zero_division=0)\n",
    "print(\"Precision:\", precision)\n",
    "low_impact_precision[\"pca450_nystroem_svr\"] = precision[0]\n",
    "mid_impact_precision[\"pca450_nystroem_svr\"] = precision[1]\n",
    "big_impact_precision[\"pca450_nystroem_svr\"] = precision[2]\n",
    "direct_strike_precision[\"pca450_nystroem_svr\"] = precision[3]\n",
    "\n",
    "best_f1_scores = f1_score(dev_Y, preds, average=None, zero_division=0)\n",
    "low_impact_f1[\"pca450_nystroem_svr\"] = best_f1_scores[0]\n",
    "mid_impact_f1[\"pca450_nystroem_svr\"] = best_f1_scores[1]\n",
    "big_impact_f1[\"pca450_nystroem_svr\"] = best_f1_scores[2]\n",
    "direct_strike_f1[\"pca450_nystroem_svr\"] = best_f1_scores[3]"
   ]
  },
  {
   "cell_type": "markdown",
   "id": "7bc3c140",
   "metadata": {},
   "source": [
    "#### K-Neighbours Regressor\n",
    "\n",
    "No PCA, weights='distance', n_neighbors=40: \\[0.61 0.59 0.48 0.41 \\]\n",
    "\n",
    "With PCA, same setting: \\[0.52 0.48 0.27 0.19\\]"
   ]
  },
  {
   "cell_type": "code",
   "execution_count": 53,
   "id": "698472cd",
   "metadata": {},
   "outputs": [
    {
     "name": "stdout",
     "output_type": "stream",
     "text": [
      "Pipeline(steps=[('standardscaler', StandardScaler()),\n",
      "                ('multioutputregressor',\n",
      "                 MultiOutputRegressor(estimator=KNeighborsRegressor(),\n",
      "                                      n_jobs=-1))],\n",
      "         verbose=True)\n",
      "[Pipeline] .... (step 1 of 2) Processing standardscaler, total=   0.3s\n",
      "[Pipeline]  (step 2 of 2) Processing multioutputregressor, total=   2.4s\n"
     ]
    }
   ],
   "source": [
    "from sklearn.neighbors import KNeighborsRegressor\n",
    "\n",
    "regr = MultiOutputRegressor(KNeighborsRegressor(), n_jobs=-1)\n",
    "\n",
    "pipe = make_pipeline(\n",
    "    StandardScaler(),\n",
    "    # Nystroem(kernel='poly', degree=3, n_components=500, n_jobs=-1),\n",
    "    regr, verbose=True\n",
    ")\n",
    "print(pipe)\n",
    "\n",
    "knr_regr = pipe.fit(pca_train_X, train_Y)"
   ]
  },
  {
   "cell_type": "code",
   "execution_count": 54,
   "id": "c7d40715",
   "metadata": {
    "scrolled": true
   },
   "outputs": [
    {
     "name": "stdout",
     "output_type": "stream",
     "text": [
      "Best Threshold=0.59869, F-Score=0.45017\n",
      "Best Threshold=0.59869, F-Score=0.42468\n",
      "Best Threshold=0.59869, F-Score=0.22936\n",
      "Best Threshold=0.54983, F-Score=0.16949\n"
     ]
    },
    {
     "name": "stderr",
     "output_type": "stream",
     "text": [
      "/tmp/.u3556490/ipykernel_13807/984687278.py:20: RuntimeWarning: invalid value encountered in true_divide\n",
      "  fscore = (2 * precision * recall) / (precision + recall)\n"
     ]
    },
    {
     "data": {
      "image/png": "[encoded data removed]",
      "text/plain": [
       "<Figure size 432x288 with 1 Axes>"
      ]
     },
     "metadata": {
      "needs_background": "light"
     },
     "output_type": "display_data"
    }
   ],
   "source": [
    "best_thresholds, best_f1_scores = regressor_find_thresholds(knr_regr, pca_dev_X, dev_Y, 'sigmoid')"
   ]
  },
  {
   "cell_type": "code",
   "execution_count": 55,
   "id": "da941925",
   "metadata": {},
   "outputs": [
    {
     "name": "stdout",
     "output_type": "stream",
     "text": [
      "              precision    recall  f1-score   support\n",
      "\n",
      "           0    0.52792   0.29296   0.37681       355\n",
      "           1    0.48148   0.21959   0.30162       296\n",
      "           2    0.40000   0.05263   0.09302       114\n",
      "           3    0.18033   0.15278   0.16541        72\n",
      "\n",
      "   micro avg    0.45588   0.22222   0.29880       837\n",
      "   macro avg    0.39743   0.17949   0.23422       837\n",
      "weighted avg    0.46417   0.22222   0.29339       837\n",
      " samples avg    0.03285   0.02686   0.02755       837\n",
      "\n"
     ]
    }
   ],
   "source": [
    "preds = regression_label(knr_regr, pca_dev_X, best_thresholds)\n",
    "print(classification_report(dev_Y, preds, zero_division=0, digits=5))"
   ]
  },
  {
   "cell_type": "markdown",
   "id": "bb281e9e",
   "metadata": {},
   "source": [
    "#### SGDRegressor"
   ]
  },
  {
   "cell_type": "code",
   "execution_count": 56,
   "id": "7f9715b0",
   "metadata": {},
   "outputs": [
    {
     "name": "stdout",
     "output_type": "stream",
     "text": [
      "Pipeline(steps=[('standardscaler', StandardScaler()),\n",
      "                ('nystroem',\n",
      "                 Nystroem(degree=3, kernel='poly', n_components=500,\n",
      "                          n_jobs=-1)),\n",
      "                ('multioutputregressor',\n",
      "                 MultiOutputRegressor(estimator=SGDRegressor(early_stopping=True),\n",
      "                                      n_jobs=-1))],\n",
      "         verbose=True)\n",
      "[Pipeline] .... (step 1 of 3) Processing standardscaler, total=   0.3s\n",
      "[Pipeline] .......... (step 2 of 3) Processing nystroem, total=   1.1s\n",
      "[Pipeline]  (step 3 of 3) Processing multioutputregressor, total=   1.0s\n"
     ]
    }
   ],
   "source": [
    "from sklearn.linear_model import SGDRegressor\n",
    "\n",
    "regr = MultiOutputRegressor(SGDRegressor(early_stopping=True), n_jobs=-1)\n",
    "\n",
    "pipe = make_pipeline(\n",
    "    StandardScaler(),\n",
    "    Nystroem(kernel='poly', degree=3, n_components=500, n_jobs=-1),\n",
    "    regr, verbose=True\n",
    ")\n",
    "print(pipe)\n",
    "\n",
    "sgd_regr = pipe.fit(pca_train_X, train_Y)"
   ]
  },
  {
   "cell_type": "code",
   "execution_count": 57,
   "id": "b152ac80",
   "metadata": {},
   "outputs": [
    {
     "name": "stdout",
     "output_type": "stream",
     "text": [
      "Best Threshold=0.00000, F-Score=0.17686\n",
      "Best Threshold=0.00000, F-Score=0.13538\n",
      "Best Threshold=0.00000, F-Score=0.05440\n",
      "Best Threshold=1.00000, F-Score=0.04460\n"
     ]
    },
    {
     "data": {
      "image/png": "[encoded data removed]",
      "text/plain": [
       "<Figure size 432x288 with 1 Axes>"
      ]
     },
     "metadata": {
      "needs_background": "light"
     },
     "output_type": "display_data"
    }
   ],
   "source": [
    "best_thresholds, best_f1_scores = regressor_find_thresholds(sgd_regr, pca_dev_X, dev_Y, 'sigmoid')"
   ]
  },
  {
   "cell_type": "markdown",
   "id": "beec6906",
   "metadata": {},
   "source": [
    "### Regression splines\n",
    "#### everything as input"
   ]
  },
  {
   "cell_type": "code",
   "execution_count": 15,
   "id": "988629c6",
   "metadata": {},
   "outputs": [],
   "source": [
    "from sklearn.multioutput import MultiOutputRegressor\n",
    "\n",
    "earth_regr = MultiOutputRegressor(Earth(max_degree=5, max_terms=600), n_jobs=-1)\n",
    "earth_regr = earth_regr.fit(train_X, train_Y)"
   ]
  },
  {
   "cell_type": "code",
   "execution_count": 18,
   "id": "67df5f6d",
   "metadata": {
    "scrolled": true
   },
   "outputs": [
    {
     "name": "stderr",
     "output_type": "stream",
     "text": [
      "/tmp/.u3556490/ipykernel_21606/984687278.py:20: RuntimeWarning: invalid value encountered in true_divide\n",
      "  fscore = (2 * precision * recall) / (precision + recall)\n",
      "/tmp/.u3556490/ipykernel_21606/984687278.py:20: RuntimeWarning: invalid value encountered in true_divide\n",
      "  fscore = (2 * precision * recall) / (precision + recall)\n",
      "/tmp/.u3556490/ipykernel_21606/984687278.py:20: RuntimeWarning: invalid value encountered in true_divide\n",
      "  fscore = (2 * precision * recall) / (precision + recall)\n",
      "/tmp/.u3556490/ipykernel_21606/984687278.py:20: RuntimeWarning: invalid value encountered in true_divide\n",
      "  fscore = (2 * precision * recall) / (precision + recall)\n"
     ]
    },
    {
     "name": "stdout",
     "output_type": "stream",
     "text": [
      "Best Threshold=0.55389, F-Score=0.45582\n",
      "Best Threshold=0.55196, F-Score=0.48139\n",
      "Best Threshold=0.53158, F-Score=0.27004\n",
      "Best Threshold=0.51804, F-Score=0.15063\n"
     ]
    },
    {
     "data": {
      "image/png": "[encoded data removed]",
      "text/plain": [
       "<Figure size 432x288 with 1 Axes>"
      ]
     },
     "metadata": {
      "needs_background": "light"
     },
     "output_type": "display_data"
    }
   ],
   "source": [
    "best_thresholds, best_f1_scores = regressor_find_thresholds(earth_regr, dev_X, dev_Y, 'sigmoid')"
   ]
  },
  {
   "cell_type": "code",
   "execution_count": 61,
   "id": "ede5393c",
   "metadata": {},
   "outputs": [
    {
     "name": "stdout",
     "output_type": "stream",
     "text": [
      "              precision    recall  f1-score   support\n",
      "\n",
      "           0    0.36483   0.70704   0.48130       355\n",
      "           1    0.41597   0.66892   0.51295       296\n",
      "           2    0.31858   0.31579   0.31718       114\n",
      "           3    0.12245   0.41667   0.18927        72\n",
      "\n",
      "   micro avg    0.33837   0.61529   0.43663       837\n",
      "   macro avg    0.30546   0.52710   0.37518       837\n",
      "weighted avg    0.35576   0.61529   0.44502       837\n",
      " samples avg    0.06255   0.07291   0.06175       837\n",
      "\n"
     ]
    }
   ],
   "source": [
    "preds = regression_label(earth_regr, dev_X, best_thresholds)\n",
    "print(classification_report(dev_Y, preds, zero_division=0, digits=5))"
   ]
  },
  {
   "cell_type": "code",
   "execution_count": 62,
   "id": "3757e14d",
   "metadata": {
    "scrolled": true
   },
   "outputs": [
    {
     "name": "stdout",
     "output_type": "stream",
     "text": [
      "Recall: [0.70704225 0.66891892 0.31578947 0.41666667]\n",
      "Precision: [0.36482558 0.41596639 0.31858407 0.12244898]\n"
     ]
    }
   ],
   "source": [
    "# bookkeeping\n",
    "recall = recall_score(dev_Y, preds, average=None, zero_division=0)\n",
    "print(\"Recall:\", recall)\n",
    "low_impact_recall[\"mars5_600\"] = recall[0]\n",
    "mid_impact_recall[\"mars5_600\"] = recall[1]\n",
    "big_impact_recall[\"mars5_600\"] = recall[2]\n",
    "direct_strike_recall[\"mars5_600\"] = recall[3]\n",
    "\n",
    "precision = precision_score(dev_Y, preds, average=None, zero_division=0)\n",
    "print(\"Precision:\", precision)\n",
    "low_impact_precision[\"mars5_600\"] = precision[0]\n",
    "mid_impact_precision[\"mars5_600\"] = precision[1]\n",
    "big_impact_precision[\"mars5_600\"] = precision[2]\n",
    "direct_strike_precision[\"mars5_600\"] = precision[3]\n",
    "\n",
    "best_f1_scores = f1_score(dev_Y, preds, average=None, zero_division=0)\n",
    "low_impact_f1[\"mars5_600\"] = best_f1_scores[0]\n",
    "mid_impact_f1[\"mars5_600\"] = best_f1_scores[1]\n",
    "big_impact_f1[\"mars5_600\"] = best_f1_scores[2]\n",
    "direct_strike_f1[\"mars5_600\"] = best_f1_scores[3]"
   ]
  },
  {
   "cell_type": "markdown",
   "id": "3c648c95",
   "metadata": {},
   "source": [
    "#### with kernel"
   ]
  },
  {
   "cell_type": "code",
   "execution_count": 19,
   "id": "af9eca85",
   "metadata": {
    "scrolled": true
   },
   "outputs": [
    {
     "name": "stdout",
     "output_type": "stream",
     "text": [
      "Pipeline(steps=[('standardscaler', StandardScaler()),\n",
      "                ('nystroem',\n",
      "                 Nystroem(degree=3, kernel='poly', n_components=500,\n",
      "                          n_jobs=-1)),\n",
      "                ('multioutputregressor',\n",
      "                 MultiOutputRegressor(estimator=Earth(max_degree=4,\n",
      "                                                      max_terms=400),\n",
      "                                      n_jobs=-1))],\n",
      "         verbose=True)\n",
      "[Pipeline] .... (step 1 of 3) Processing standardscaler, total=   0.0s\n",
      "[Pipeline] .......... (step 2 of 3) Processing nystroem, total=   1.0s\n"
     ]
    },
    {
     "ename": "KeyboardInterrupt",
     "evalue": "",
     "output_type": "error",
     "traceback": [
      "\u001b[0;31m---------------------------------------------------------------------------\u001b[0m",
      "\u001b[0;31mKeyboardInterrupt\u001b[0m                         Traceback (most recent call last)",
      "\u001b[0;32m/tmp/.u3556490/ipykernel_21606/3623051734.py\u001b[0m in \u001b[0;36m<module>\u001b[0;34m\u001b[0m\n\u001b[1;32m      8\u001b[0m \u001b[0mprint\u001b[0m\u001b[0;34m(\u001b[0m\u001b[0mpipe\u001b[0m\u001b[0;34m)\u001b[0m\u001b[0;34m\u001b[0m\u001b[0;34m\u001b[0m\u001b[0m\n\u001b[1;32m      9\u001b[0m \u001b[0;34m\u001b[0m\u001b[0m\n\u001b[0;32m---> 10\u001b[0;31m \u001b[0mearth_kernel_regr\u001b[0m \u001b[0;34m=\u001b[0m \u001b[0mpipe\u001b[0m\u001b[0;34m.\u001b[0m\u001b[0mfit\u001b[0m\u001b[0;34m(\u001b[0m\u001b[0mtrain_X\u001b[0m\u001b[0;34m,\u001b[0m \u001b[0mtrain_Y\u001b[0m\u001b[0;34m)\u001b[0m\u001b[0;34m\u001b[0m\u001b[0;34m\u001b[0m\u001b[0m\n\u001b[0m",
      "\u001b[0;32m~/anaconda3/lib/python3.8/site-packages/sklearn/pipeline.py\u001b[0m in \u001b[0;36mfit\u001b[0;34m(self, X, y, **fit_params)\u001b[0m\n\u001b[1;32m    392\u001b[0m             \u001b[0;32mif\u001b[0m \u001b[0mself\u001b[0m\u001b[0;34m.\u001b[0m\u001b[0m_final_estimator\u001b[0m \u001b[0;34m!=\u001b[0m \u001b[0;34m\"passthrough\"\u001b[0m\u001b[0;34m:\u001b[0m\u001b[0;34m\u001b[0m\u001b[0;34m\u001b[0m\u001b[0m\n\u001b[1;32m    393\u001b[0m                 \u001b[0mfit_params_last_step\u001b[0m \u001b[0;34m=\u001b[0m \u001b[0mfit_params_steps\u001b[0m\u001b[0;34m[\u001b[0m\u001b[0mself\u001b[0m\u001b[0;34m.\u001b[0m\u001b[0msteps\u001b[0m\u001b[0;34m[\u001b[0m\u001b[0;34m-\u001b[0m\u001b[0;36m1\u001b[0m\u001b[0;34m]\u001b[0m\u001b[0;34m[\u001b[0m\u001b[0;36m0\u001b[0m\u001b[0;34m]\u001b[0m\u001b[0;34m]\u001b[0m\u001b[0;34m\u001b[0m\u001b[0;34m\u001b[0m\u001b[0m\n\u001b[0;32m--> 394\u001b[0;31m                 \u001b[0mself\u001b[0m\u001b[0;34m.\u001b[0m\u001b[0m_final_estimator\u001b[0m\u001b[0;34m.\u001b[0m\u001b[0mfit\u001b[0m\u001b[0;34m(\u001b[0m\u001b[0mXt\u001b[0m\u001b[0;34m,\u001b[0m \u001b[0my\u001b[0m\u001b[0;34m,\u001b[0m \u001b[0;34m**\u001b[0m\u001b[0mfit_params_last_step\u001b[0m\u001b[0;34m)\u001b[0m\u001b[0;34m\u001b[0m\u001b[0;34m\u001b[0m\u001b[0m\n\u001b[0m\u001b[1;32m    395\u001b[0m \u001b[0;34m\u001b[0m\u001b[0m\n\u001b[1;32m    396\u001b[0m         \u001b[0;32mreturn\u001b[0m \u001b[0mself\u001b[0m\u001b[0;34m\u001b[0m\u001b[0;34m\u001b[0m\u001b[0m\n",
      "\u001b[0;32m~/anaconda3/lib/python3.8/site-packages/sklearn/multioutput.py\u001b[0m in \u001b[0;36mfit\u001b[0;34m(self, X, y, sample_weight, **fit_params)\u001b[0m\n\u001b[1;32m    200\u001b[0m         \u001b[0mfit_params_validated\u001b[0m \u001b[0;34m=\u001b[0m \u001b[0m_check_fit_params\u001b[0m\u001b[0;34m(\u001b[0m\u001b[0mX\u001b[0m\u001b[0;34m,\u001b[0m \u001b[0mfit_params\u001b[0m\u001b[0;34m)\u001b[0m\u001b[0;34m\u001b[0m\u001b[0;34m\u001b[0m\u001b[0m\n\u001b[1;32m    201\u001b[0m \u001b[0;34m\u001b[0m\u001b[0m\n\u001b[0;32m--> 202\u001b[0;31m         self.estimators_ = Parallel(n_jobs=self.n_jobs)(\n\u001b[0m\u001b[1;32m    203\u001b[0m             delayed(_fit_estimator)(\n\u001b[1;32m    204\u001b[0m                 \u001b[0mself\u001b[0m\u001b[0;34m.\u001b[0m\u001b[0mestimator\u001b[0m\u001b[0;34m,\u001b[0m \u001b[0mX\u001b[0m\u001b[0;34m,\u001b[0m \u001b[0my\u001b[0m\u001b[0;34m[\u001b[0m\u001b[0;34m:\u001b[0m\u001b[0;34m,\u001b[0m \u001b[0mi\u001b[0m\u001b[0;34m]\u001b[0m\u001b[0;34m,\u001b[0m \u001b[0msample_weight\u001b[0m\u001b[0;34m,\u001b[0m \u001b[0;34m**\u001b[0m\u001b[0mfit_params_validated\u001b[0m\u001b[0;34m\u001b[0m\u001b[0;34m\u001b[0m\u001b[0m\n",
      "\u001b[0;32m~/anaconda3/lib/python3.8/site-packages/joblib/parallel.py\u001b[0m in \u001b[0;36m__call__\u001b[0;34m(self, iterable)\u001b[0m\n\u001b[1;32m   1054\u001b[0m \u001b[0;34m\u001b[0m\u001b[0m\n\u001b[1;32m   1055\u001b[0m             \u001b[0;32mwith\u001b[0m \u001b[0mself\u001b[0m\u001b[0;34m.\u001b[0m\u001b[0m_backend\u001b[0m\u001b[0;34m.\u001b[0m\u001b[0mretrieval_context\u001b[0m\u001b[0;34m(\u001b[0m\u001b[0;34m)\u001b[0m\u001b[0;34m:\u001b[0m\u001b[0;34m\u001b[0m\u001b[0;34m\u001b[0m\u001b[0m\n\u001b[0;32m-> 1056\u001b[0;31m                 \u001b[0mself\u001b[0m\u001b[0;34m.\u001b[0m\u001b[0mretrieve\u001b[0m\u001b[0;34m(\u001b[0m\u001b[0;34m)\u001b[0m\u001b[0;34m\u001b[0m\u001b[0;34m\u001b[0m\u001b[0m\n\u001b[0m\u001b[1;32m   1057\u001b[0m             \u001b[0;31m# Make sure that we get a last message telling us we are done\u001b[0m\u001b[0;34m\u001b[0m\u001b[0;34m\u001b[0m\u001b[0;34m\u001b[0m\u001b[0m\n\u001b[1;32m   1058\u001b[0m             \u001b[0melapsed_time\u001b[0m \u001b[0;34m=\u001b[0m \u001b[0mtime\u001b[0m\u001b[0;34m.\u001b[0m\u001b[0mtime\u001b[0m\u001b[0;34m(\u001b[0m\u001b[0;34m)\u001b[0m \u001b[0;34m-\u001b[0m \u001b[0mself\u001b[0m\u001b[0;34m.\u001b[0m\u001b[0m_start_time\u001b[0m\u001b[0;34m\u001b[0m\u001b[0;34m\u001b[0m\u001b[0m\n",
      "\u001b[0;32m~/anaconda3/lib/python3.8/site-packages/joblib/parallel.py\u001b[0m in \u001b[0;36mretrieve\u001b[0;34m(self)\u001b[0m\n\u001b[1;32m    933\u001b[0m             \u001b[0;32mtry\u001b[0m\u001b[0;34m:\u001b[0m\u001b[0;34m\u001b[0m\u001b[0;34m\u001b[0m\u001b[0m\n\u001b[1;32m    934\u001b[0m                 \u001b[0;32mif\u001b[0m \u001b[0mgetattr\u001b[0m\u001b[0;34m(\u001b[0m\u001b[0mself\u001b[0m\u001b[0;34m.\u001b[0m\u001b[0m_backend\u001b[0m\u001b[0;34m,\u001b[0m \u001b[0;34m'supports_timeout'\u001b[0m\u001b[0;34m,\u001b[0m \u001b[0;32mFalse\u001b[0m\u001b[0;34m)\u001b[0m\u001b[0;34m:\u001b[0m\u001b[0;34m\u001b[0m\u001b[0;34m\u001b[0m\u001b[0m\n\u001b[0;32m--> 935\u001b[0;31m                     \u001b[0mself\u001b[0m\u001b[0;34m.\u001b[0m\u001b[0m_output\u001b[0m\u001b[0;34m.\u001b[0m\u001b[0mextend\u001b[0m\u001b[0;34m(\u001b[0m\u001b[0mjob\u001b[0m\u001b[0;34m.\u001b[0m\u001b[0mget\u001b[0m\u001b[0;34m(\u001b[0m\u001b[0mtimeout\u001b[0m\u001b[0;34m=\u001b[0m\u001b[0mself\u001b[0m\u001b[0;34m.\u001b[0m\u001b[0mtimeout\u001b[0m\u001b[0;34m)\u001b[0m\u001b[0;34m)\u001b[0m\u001b[0;34m\u001b[0m\u001b[0;34m\u001b[0m\u001b[0m\n\u001b[0m\u001b[1;32m    936\u001b[0m                 \u001b[0;32melse\u001b[0m\u001b[0;34m:\u001b[0m\u001b[0;34m\u001b[0m\u001b[0;34m\u001b[0m\u001b[0m\n\u001b[1;32m    937\u001b[0m                     \u001b[0mself\u001b[0m\u001b[0;34m.\u001b[0m\u001b[0m_output\u001b[0m\u001b[0;34m.\u001b[0m\u001b[0mextend\u001b[0m\u001b[0;34m(\u001b[0m\u001b[0mjob\u001b[0m\u001b[0;34m.\u001b[0m\u001b[0mget\u001b[0m\u001b[0;34m(\u001b[0m\u001b[0;34m)\u001b[0m\u001b[0;34m)\u001b[0m\u001b[0;34m\u001b[0m\u001b[0;34m\u001b[0m\u001b[0m\n",
      "\u001b[0;32m~/anaconda3/lib/python3.8/site-packages/joblib/_parallel_backends.py\u001b[0m in \u001b[0;36mwrap_future_result\u001b[0;34m(future, timeout)\u001b[0m\n\u001b[1;32m    540\u001b[0m         AsyncResults.get from multiprocessing.\"\"\"\n\u001b[1;32m    541\u001b[0m         \u001b[0;32mtry\u001b[0m\u001b[0;34m:\u001b[0m\u001b[0;34m\u001b[0m\u001b[0;34m\u001b[0m\u001b[0m\n\u001b[0;32m--> 542\u001b[0;31m             \u001b[0;32mreturn\u001b[0m \u001b[0mfuture\u001b[0m\u001b[0;34m.\u001b[0m\u001b[0mresult\u001b[0m\u001b[0;34m(\u001b[0m\u001b[0mtimeout\u001b[0m\u001b[0;34m=\u001b[0m\u001b[0mtimeout\u001b[0m\u001b[0;34m)\u001b[0m\u001b[0;34m\u001b[0m\u001b[0;34m\u001b[0m\u001b[0m\n\u001b[0m\u001b[1;32m    543\u001b[0m         \u001b[0;32mexcept\u001b[0m \u001b[0mCfTimeoutError\u001b[0m \u001b[0;32mas\u001b[0m \u001b[0me\u001b[0m\u001b[0;34m:\u001b[0m\u001b[0;34m\u001b[0m\u001b[0;34m\u001b[0m\u001b[0m\n\u001b[1;32m    544\u001b[0m             \u001b[0;32mraise\u001b[0m \u001b[0mTimeoutError\u001b[0m \u001b[0;32mfrom\u001b[0m \u001b[0me\u001b[0m\u001b[0;34m\u001b[0m\u001b[0;34m\u001b[0m\u001b[0m\n",
      "\u001b[0;32m~/anaconda3/lib/python3.8/concurrent/futures/_base.py\u001b[0m in \u001b[0;36mresult\u001b[0;34m(self, timeout)\u001b[0m\n\u001b[1;32m    437\u001b[0m                     \u001b[0;32mreturn\u001b[0m \u001b[0mself\u001b[0m\u001b[0;34m.\u001b[0m\u001b[0m__get_result\u001b[0m\u001b[0;34m(\u001b[0m\u001b[0;34m)\u001b[0m\u001b[0;34m\u001b[0m\u001b[0;34m\u001b[0m\u001b[0m\n\u001b[1;32m    438\u001b[0m \u001b[0;34m\u001b[0m\u001b[0m\n\u001b[0;32m--> 439\u001b[0;31m                 \u001b[0mself\u001b[0m\u001b[0;34m.\u001b[0m\u001b[0m_condition\u001b[0m\u001b[0;34m.\u001b[0m\u001b[0mwait\u001b[0m\u001b[0;34m(\u001b[0m\u001b[0mtimeout\u001b[0m\u001b[0;34m)\u001b[0m\u001b[0;34m\u001b[0m\u001b[0;34m\u001b[0m\u001b[0m\n\u001b[0m\u001b[1;32m    440\u001b[0m \u001b[0;34m\u001b[0m\u001b[0m\n\u001b[1;32m    441\u001b[0m                 \u001b[0;32mif\u001b[0m \u001b[0mself\u001b[0m\u001b[0;34m.\u001b[0m\u001b[0m_state\u001b[0m \u001b[0;32min\u001b[0m \u001b[0;34m[\u001b[0m\u001b[0mCANCELLED\u001b[0m\u001b[0;34m,\u001b[0m \u001b[0mCANCELLED_AND_NOTIFIED\u001b[0m\u001b[0;34m]\u001b[0m\u001b[0;34m:\u001b[0m\u001b[0;34m\u001b[0m\u001b[0;34m\u001b[0m\u001b[0m\n",
      "\u001b[0;32m~/anaconda3/lib/python3.8/threading.py\u001b[0m in \u001b[0;36mwait\u001b[0;34m(self, timeout)\u001b[0m\n\u001b[1;32m    300\u001b[0m         \u001b[0;32mtry\u001b[0m\u001b[0;34m:\u001b[0m    \u001b[0;31m# restore state no matter what (e.g., KeyboardInterrupt)\u001b[0m\u001b[0;34m\u001b[0m\u001b[0;34m\u001b[0m\u001b[0m\n\u001b[1;32m    301\u001b[0m             \u001b[0;32mif\u001b[0m \u001b[0mtimeout\u001b[0m \u001b[0;32mis\u001b[0m \u001b[0;32mNone\u001b[0m\u001b[0;34m:\u001b[0m\u001b[0;34m\u001b[0m\u001b[0;34m\u001b[0m\u001b[0m\n\u001b[0;32m--> 302\u001b[0;31m                 \u001b[0mwaiter\u001b[0m\u001b[0;34m.\u001b[0m\u001b[0macquire\u001b[0m\u001b[0;34m(\u001b[0m\u001b[0;34m)\u001b[0m\u001b[0;34m\u001b[0m\u001b[0;34m\u001b[0m\u001b[0m\n\u001b[0m\u001b[1;32m    303\u001b[0m                 \u001b[0mgotit\u001b[0m \u001b[0;34m=\u001b[0m \u001b[0;32mTrue\u001b[0m\u001b[0;34m\u001b[0m\u001b[0;34m\u001b[0m\u001b[0m\n\u001b[1;32m    304\u001b[0m             \u001b[0;32melse\u001b[0m\u001b[0;34m:\u001b[0m\u001b[0;34m\u001b[0m\u001b[0;34m\u001b[0m\u001b[0m\n",
      "\u001b[0;31mKeyboardInterrupt\u001b[0m: "
     ]
    }
   ],
   "source": [
    "earth_kernel_regr = MultiOutputRegressor(Earth(max_degree=4, max_terms=400), n_jobs=-1)\n",
    "\n",
    "pipe = make_pipeline(\n",
    "    StandardScaler(),\n",
    "    Nystroem(kernel='poly', degree=3, n_components=500, n_jobs=-1),\n",
    "    earth_kernel_regr, verbose=True\n",
    ")\n",
    "print(pipe)\n",
    "\n",
    "earth_kernel_regr = pipe.fit(train_X, train_Y)"
   ]
  },
  {
   "cell_type": "code",
   "execution_count": null,
   "id": "0ebe2e2d",
   "metadata": {},
   "outputs": [],
   "source": [
    "best_thresholds, best_f1_scores = regressor_find_thresholds(earth_regr, dev_X, dev_Y, 'sigmoid')"
   ]
  },
  {
   "cell_type": "code",
   "execution_count": null,
   "id": "1de93440",
   "metadata": {},
   "outputs": [],
   "source": [
    "preds = regression_label(earth_regr, dev_X, best_thresholds)\n",
    "print(classification_report(dev_Y, preds, zero_division=0, digits=5))"
   ]
  }
 ],
 "metadata": {
  "kernelspec": {
   "display_name": "Python 3 (ipykernel)",
   "language": "python",
   "name": "python3"
  },
  "language_info": {
   "codemirror_mode": {
    "name": "ipython",
    "version": 3
   },
   "file_extension": ".py",
   "mimetype": "text/x-python",
   "name": "python",
   "nbconvert_exporter": "python",
   "pygments_lexer": "ipython3",
   "version": "3.9.7"
  }
 },
 "nbformat": 4,
 "nbformat_minor": 5
}
