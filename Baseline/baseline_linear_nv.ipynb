{
 "cells": [
  {
   "cell_type": "code",
   "execution_count": 1,
   "id": "a07c30a5",
   "metadata": {},
   "outputs": [],
   "source": [
    "import numpy as np\n",
    "import pandas as pd\n",
    "import sys\n",
    "import os\n",
    "import matplotlib.pyplot as plt\n",
    "import seaborn as sns\n",
    "from pyearth import Earth\n",
    "%matplotlib inline"
   ]
  },
  {
   "cell_type": "markdown",
   "id": "b3a0a682",
   "metadata": {},
   "source": [
    "### Conclusions\n",
    "\n",
    "Logistic (3000 iters, C=0.5): f1-score \\[0.56356 0.52548 0.40789 0.38168\\] macro average 0.46965\n",
    "\n",
    "LinearSVC (2500 iters): f1-score \\[0.28694 0.38462 0.12632 0.00000\\] average 0.19947\n",
    "\n",
    "Linear Regressor: f1-score \\[0.52228 0.47415 0.27381 0.24000\\] average 0.37756\n",
    "\n",
    "LinearSVR (C=0.5, loss='squared_epsilon_insensitive'): f1-score \\[0.45958 0.4374 0.25000 0.25000\\]\n",
    "\n",
    "KNN Regressor: f1-score \\[0.51948 0.47966 0.37037 0.28571\\] average 0.41381\n",
    "\n",
    "SVR + Nystroem(kernel='poly', degree=3): f1-score \\[0.53348 0.51460 0.39583 0.30435\\] average 0.43707\n",
    "\n",
    "SplineTransformer + SVR + Nystroem(kernel='poly', degree=3): f1-score \\[0.60324 0.57485 0.37634 0.30918\\] average 0.46590\n",
    "\n",
    "MARS (degree=3, max_terms=500): f1-score \\[0.60397 0.55282 0.46154 0.39640\\] average 0.50368\n",
    "\n",
    "MARS (degree=4, max_terms=500): f1-score \\[0.60945 0.56110 0.47500 0.40000\\] average **0.51139**"
   ]
  },
  {
   "cell_type": "code",
   "execution_count": 2,
   "id": "ba963442",
   "metadata": {
    "scrolled": true
   },
   "outputs": [
    {
     "name": "stdout",
     "output_type": "stream",
     "text": [
      "================ Reading dataset ===============\n",
      "<class 'pandas.core.frame.DataFrame'>\n",
      "RangeIndex: 45293 entries, 0 to 45292\n",
      "Data columns (total 35 columns):\n",
      " #   Column         Non-Null Count  Dtype  \n",
      "---  ------         --------------  -----  \n",
      " 0   MM             45293 non-null  int64  \n",
      " 1   DD             45293 non-null  int64  \n",
      " 2   LOW_IMPACT     45293 non-null  bool   \n",
      " 3   MID_IMPACT     45293 non-null  bool   \n",
      " 4   BIG_IMPACT     45293 non-null  bool   \n",
      " 5   DIRECT_STRIKE  45293 non-null  bool   \n",
      " 6   DIST00         45293 non-null  float64\n",
      " 7   AZM00          45293 non-null  float64\n",
      " 8   SPEED00        45293 non-null  int32  \n",
      " 9   DIR00          45293 non-null  int32  \n",
      " 10  VMAX00         45293 non-null  int32  \n",
      " 11  DVMAX00        45293 non-null  int32  \n",
      " 12  DIST06         45293 non-null  float64\n",
      " 13  AZM06          45293 non-null  float64\n",
      " 14  SPEED06        45293 non-null  int32  \n",
      " 15  DIR06          45293 non-null  int32  \n",
      " 16  VMAX06         45293 non-null  int32  \n",
      " 17  DVMAX06        45293 non-null  int32  \n",
      " 18  DIST12         45293 non-null  float64\n",
      " 19  AZM12          45293 non-null  float64\n",
      " 20  SPEED12        45293 non-null  int32  \n",
      " 21  DIR12          45293 non-null  int32  \n",
      " 22  VMAX12         45293 non-null  int32  \n",
      " 23  DVMAX12        45293 non-null  int32  \n",
      " 24  DIST18         45293 non-null  float64\n",
      " 25  AZM18          45293 non-null  float64\n",
      " 26  SPEED18        45293 non-null  int32  \n",
      " 27  DIR18          45293 non-null  int32  \n",
      " 28  VMAX18         45293 non-null  int32  \n",
      " 29  DVMAX18        45293 non-null  int32  \n",
      " 30  DIST24         45293 non-null  float64\n",
      " 31  AZM24          45293 non-null  float64\n",
      " 32  SPEED24        45293 non-null  int32  \n",
      " 33  DIR24          45293 non-null  int32  \n",
      " 34  VMAX24         45293 non-null  int32  \n",
      "dtypes: bool(4), float64(10), int32(19), int64(2)\n",
      "memory usage: 7.6 MB\n",
      "None\n"
     ]
    }
   ],
   "source": [
    "# read Dataset as Pandas DataFrame\n",
    "print(\"================ Reading dataset ===============\")\n",
    "dataset = pd.read_pickle('../Dataset/baseline_dataset_newvars.gz')\n",
    "pd.set_option(\"display.max.columns\", None)\n",
    "print(dataset.info())"
   ]
  },
  {
   "cell_type": "code",
   "execution_count": 3,
   "id": "0461670e",
   "metadata": {},
   "outputs": [],
   "source": [
    "# imports\n",
    "from sklearn.metrics import accuracy_score, f1_score, recall_score, precision_score, precision_recall_curve, classification_report\n",
    "from sklearn.model_selection import train_test_split\n",
    "\n",
    "# Constants\n",
    "TRAIN_RATIO = 0.9"
   ]
  },
  {
   "cell_type": "code",
   "execution_count": 4,
   "id": "3bb8ee80",
   "metadata": {},
   "outputs": [
    {
     "name": "stdout",
     "output_type": "stream",
     "text": [
      "Training set size: 36686; Dev set size: 4077; Testing set size: 4530\n"
     ]
    }
   ],
   "source": [
    "# test-dev-train split\n",
    "\n",
    "def separateDataset(dataset, train_ratio):\n",
    "    '''\n",
    "    Takes in a dataset (pandas df) and a ratio value, returns a dictionary containing the separated dataset.\n",
    "    Key \"train\" = train set, \"dev\" = dev set (size = train ratio * (sizeof input df - test set)), \"test\" = test set (size = train ratio * sizeof input df)\n",
    "    '''\n",
    "    train_dev_set, test_set = train_test_split(dataset, train_size=train_ratio)\n",
    "    train_set, dev_set = train_test_split(train_dev_set, train_size=train_ratio)\n",
    "    print(\"Training set size: {0}; Dev set size: {1}; Testing set size: {2}\".format(len(train_set), len(dev_set), len(test_set)))\n",
    "    return { \"train\": train_set, \"dev\": dev_set, \"test\": test_set }\n",
    "\n",
    "def pandasToXY(dataframe):\n",
    "    '''\n",
    "    converts the given pandas df to X and Y sub-arrays. X is pandas df, Y is np int array.\n",
    "    note: the range of columns to select as Y must be double checked when a different dataset is used.\n",
    "    '''\n",
    "    X = dataframe.drop(['LOW_IMPACT', 'MID_IMPACT', 'BIG_IMPACT', 'DIRECT_STRIKE'], axis=1)\n",
    "    Y = np.asarray(dataframe.iloc[:,2:6]).astype(int)\n",
    "    return X, Y\n",
    "\n",
    "# train-dev-test splitting\n",
    "splitDataset = separateDataset(dataset, TRAIN_RATIO)\n",
    "# separate each of the 3 sets into X and Y\n",
    "train_full = splitDataset[\"train\"]\n",
    "train_X, train_Y = pandasToXY(train_full)\n",
    "dev_full = splitDataset[\"dev\"]\n",
    "dev_X, dev_Y = pandasToXY(dev_full)\n",
    "test_full = splitDataset[\"test\"]\n",
    "test_X, test_Y = pandasToXY(test_full)"
   ]
  },
  {
   "cell_type": "markdown",
   "id": "06a9f398",
   "metadata": {},
   "source": [
    "### Tools"
   ]
  },
  {
   "cell_type": "code",
   "execution_count": 5,
   "id": "e604ccd5",
   "metadata": {},
   "outputs": [],
   "source": [
    "# finds the best decision thresholds and the corresponding F1 scores\n",
    "# shows the precision-recall curve as well\n",
    "def optimize_thresholds(clf, datasetX, datasetY):\n",
    "    '''\n",
    "    Takes in a classifier, an input set X and a target set Y; returns the best decision thresholds and corresponding f1-scores;\n",
    "    displays the values and a precision recall curve.\n",
    "    '''\n",
    "    all_preds = clf.predict_proba(datasetX)\n",
    "    best_thresholds = []\n",
    "    best_f1_scores = []\n",
    "    n_classes = len(clf.classes_)\n",
    "    for i in range(n_classes):\n",
    "        precision, recall, thresholds = precision_recall_curve(datasetY[:,i], all_preds[:,i])\n",
    "        # find best threshold\n",
    "        fscore = (2 * precision * recall) / (precision + recall)\n",
    "        ix = np.nanargmax(fscore)\n",
    "        best_thresholds.append(thresholds[ix])\n",
    "        best_f1_scores.append(fscore[ix])\n",
    "        print('Best Threshold={0:.05f}, F-Score={1:.05f}'.format(thresholds[ix], fscore[ix]))\n",
    "    \n",
    "    # plot the precision-recall curve for the model\n",
    "    plt.plot(recall, precision, marker='.', label='PR curve')\n",
    "    plt.scatter(recall[ix], precision[ix], marker='o', color='black', label='Best')\n",
    "    plt.xlabel('Recall')\n",
    "    plt.ylabel('Precision')\n",
    "    plt.title('Precision-Recall Curve for Direct Strike')\n",
    "    plt.legend()\n",
    "        \n",
    "    return best_thresholds, best_f1_scores\n",
    "\n",
    "# make predictions according to the given thresholds\n",
    "def predictions_with_thresholds(clf, thresholds, datasetX):\n",
    "    '''\n",
    "    Takes in a classifier, a list of decision thresholds and an input samples set X;\n",
    "    Returns deterministic predictions made using the model over X and the thresholds.\n",
    "    '''\n",
    "    preds_probs = clf.predict_proba(datasetX)  \n",
    "    n_classes = len(clf.classes_)\n",
    "    preds = []\n",
    "    # iterate each predicted probability and compare against threshold\n",
    "    for i in range(len(preds_probs)):\n",
    "        pred_row = []\n",
    "        for j in range(n_classes):\n",
    "            if preds_probs[i,j] > thresholds[j]:\n",
    "                pred_row.append(1)\n",
    "            else:\n",
    "                pred_row.append(0)\n",
    "        preds.append(pred_row)\n",
    "    \n",
    "    return np.array(preds)"
   ]
  },
  {
   "cell_type": "code",
   "execution_count": 6,
   "id": "49e1c74c",
   "metadata": {},
   "outputs": [],
   "source": [
    "# new utility functions\n",
    "from scipy.special import expit\n",
    "\n",
    "def regression_predict(regr, datasetX, method='sigmoid'):\n",
    "    '''\n",
    "    Takes in a regressor, an input samples set X and optionally a method argument (must be either \"sigmoid\" or \"clip\");\n",
    "    Returns predictions made by the regressor on X that have been rescaled to fall within [0,1] using the specified method.\n",
    "    '''\n",
    "    # method specifies how to handle inputs outside of 0-1 range: clip to 0 or 1, or pass through sigmoid\n",
    "    preds = regr.predict(datasetX)\n",
    "    if method == 'clip':\n",
    "        preds = np.clip(preds, 0, 1)\n",
    "    elif method == 'sigmoid':\n",
    "        preds = expit(preds)\n",
    "    return preds\n",
    "\n",
    "def regressor_find_thresholds(regr, datasetX, datasetY, method='sigmoid'):\n",
    "    '''\n",
    "    Takes in a regressor, an input set X, a target set Y and optionally a scaling method;\n",
    "    returns the best decision thresholds and corresponding f1-scores;\n",
    "    displays the values and a precision recall curve.\n",
    "    '''\n",
    "    all_preds = regression_predict(regr, datasetX, method)\n",
    "    best_thresholds = []\n",
    "    best_f1_scores = []\n",
    "    for i in range(4):\n",
    "        precision, recall, thresholds = precision_recall_curve(datasetY[:,i], all_preds[:,i])\n",
    "        # find best threshold\n",
    "        fscore = (2 * precision * recall) / (precision + recall)\n",
    "        ix = np.nanargmax(fscore)\n",
    "        best_thresholds.append(thresholds[ix])\n",
    "        best_f1_scores.append(fscore[ix])\n",
    "        print('Best Threshold={0:.05f}, F-Score={1:.05f}'.format(thresholds[ix], fscore[ix]))\n",
    "\n",
    "    # plot the precision-recall curve for the model\n",
    "    plt.plot(recall, precision, marker='.', label='PR curve')\n",
    "    plt.scatter(recall[ix], precision[ix], marker='o', color='black', label='Best')\n",
    "    plt.xlabel('Recall')\n",
    "    plt.ylabel('Precision')\n",
    "    plt.title('Precision-Recall Curve for Direct Strike')\n",
    "    plt.legend()\n",
    "    \n",
    "    return best_thresholds, best_f1_scores\n",
    "\n",
    "def regression_label(regr, datasetX, thresholds, method='sigmoid'):\n",
    "    '''\n",
    "    Takes in a regressor, a list of decision thresholds, an input samples set X and optionally a scaling method;\n",
    "    Returns deterministic predictions made using the model over X and the thresholds.\n",
    "    '''\n",
    "    preds_probs = regression_predict(regr, datasetX, method)\n",
    "    preds = []\n",
    "    # iterate each predicted probability and compare against threshold\n",
    "    for i in range(len(preds_probs)):\n",
    "        pred_row = []\n",
    "        for j in range(4):\n",
    "            if preds_probs[i,j] > thresholds[j]:\n",
    "                pred_row.append(1)\n",
    "            else:\n",
    "                pred_row.append(0)\n",
    "        preds.append(pred_row)\n",
    "    \n",
    "    return np.array(preds)"
   ]
  },
  {
   "cell_type": "markdown",
   "id": "08793d77",
   "metadata": {},
   "source": [
    "### Solid proof that PCA and Poly features don't always work"
   ]
  },
  {
   "cell_type": "code",
   "execution_count": 7,
   "id": "2a434949",
   "metadata": {},
   "outputs": [],
   "source": [
    "# imports\n",
    "from sklearn.preprocessing import PolynomialFeatures, StandardScaler\n",
    "from sklearn.feature_selection import SelectKBest\n",
    "from sklearn.decomposition import PCA\n",
    "from sklearn.pipeline import make_pipeline\n",
    "from sklearn.kernel_approximation import Nystroem, PolynomialCountSketch\n",
    "from sklearn.linear_model import LogisticRegression\n",
    "from sklearn.multiclass import OneVsRestClassifier\n",
    "from sklearn.metrics import classification_report"
   ]
  },
  {
   "cell_type": "code",
   "execution_count": 8,
   "id": "c34aadde",
   "metadata": {},
   "outputs": [
    {
     "data": {
      "text/plain": [
       "(36686, 5983)"
      ]
     },
     "execution_count": 8,
     "metadata": {},
     "output_type": "execute_result"
    }
   ],
   "source": [
    "poly = PolynomialFeatures(degree=3, include_bias=False)\n",
    "transformed_X = poly.fit_transform(train_X)\n",
    "\n",
    "transformed_X.shape"
   ]
  },
  {
   "cell_type": "code",
   "execution_count": 9,
   "id": "ce5a6135",
   "metadata": {
    "scrolled": true
   },
   "outputs": [
    {
     "ename": "MemoryError",
     "evalue": "Unable to allocate 13.0 GiB for an array with shape (36317, 47904) and data type float64",
     "output_type": "error",
     "traceback": [
      "\u001b[0;31m---------------------------------------------------------------------------\u001b[0m",
      "\u001b[0;31mMemoryError\u001b[0m                               Traceback (most recent call last)",
      "\u001b[0;32m/tmp/.u3556490/ipykernel_1317/191759808.py\u001b[0m in \u001b[0;36m<module>\u001b[0;34m\u001b[0m\n\u001b[1;32m      2\u001b[0m \u001b[0mstandard_X\u001b[0m \u001b[0;34m=\u001b[0m \u001b[0mstd_X\u001b[0m\u001b[0;34m.\u001b[0m\u001b[0mtransform\u001b[0m\u001b[0;34m(\u001b[0m\u001b[0mtransformed_X\u001b[0m\u001b[0;34m)\u001b[0m\u001b[0;34m\u001b[0m\u001b[0;34m\u001b[0m\u001b[0m\n\u001b[1;32m      3\u001b[0m \u001b[0mpca\u001b[0m \u001b[0;34m=\u001b[0m \u001b[0mPCA\u001b[0m\u001b[0;34m(\u001b[0m\u001b[0mn_components\u001b[0m\u001b[0;34m=\u001b[0m\u001b[0;36m450\u001b[0m\u001b[0;34m)\u001b[0m\u001b[0;34m\u001b[0m\u001b[0;34m\u001b[0m\u001b[0m\n\u001b[0;32m----> 4\u001b[0;31m \u001b[0mpca\u001b[0m\u001b[0;34m.\u001b[0m\u001b[0mfit\u001b[0m\u001b[0;34m(\u001b[0m\u001b[0mstandard_X\u001b[0m\u001b[0;34m)\u001b[0m\u001b[0;34m\u001b[0m\u001b[0;34m\u001b[0m\u001b[0m\n\u001b[0m",
      "\u001b[0;32m~/anaconda3/lib/python3.8/site-packages/sklearn/decomposition/_pca.py\u001b[0m in \u001b[0;36mfit\u001b[0;34m(self, X, y)\u001b[0m\n\u001b[1;32m    380\u001b[0m             \u001b[0mReturns\u001b[0m \u001b[0mthe\u001b[0m \u001b[0minstance\u001b[0m \u001b[0mitself\u001b[0m\u001b[0;34m.\u001b[0m\u001b[0;34m\u001b[0m\u001b[0;34m\u001b[0m\u001b[0m\n\u001b[1;32m    381\u001b[0m         \"\"\"\n\u001b[0;32m--> 382\u001b[0;31m         \u001b[0mself\u001b[0m\u001b[0;34m.\u001b[0m\u001b[0m_fit\u001b[0m\u001b[0;34m(\u001b[0m\u001b[0mX\u001b[0m\u001b[0;34m)\u001b[0m\u001b[0;34m\u001b[0m\u001b[0;34m\u001b[0m\u001b[0m\n\u001b[0m\u001b[1;32m    383\u001b[0m         \u001b[0;32mreturn\u001b[0m \u001b[0mself\u001b[0m\u001b[0;34m\u001b[0m\u001b[0;34m\u001b[0m\u001b[0m\n\u001b[1;32m    384\u001b[0m \u001b[0;34m\u001b[0m\u001b[0m\n",
      "\u001b[0;32m~/anaconda3/lib/python3.8/site-packages/sklearn/decomposition/_pca.py\u001b[0m in \u001b[0;36m_fit\u001b[0;34m(self, X)\u001b[0m\n\u001b[1;32m    428\u001b[0m             )\n\u001b[1;32m    429\u001b[0m \u001b[0;34m\u001b[0m\u001b[0m\n\u001b[0;32m--> 430\u001b[0;31m         X = self._validate_data(\n\u001b[0m\u001b[1;32m    431\u001b[0m             \u001b[0mX\u001b[0m\u001b[0;34m,\u001b[0m \u001b[0mdtype\u001b[0m\u001b[0;34m=\u001b[0m\u001b[0;34m[\u001b[0m\u001b[0mnp\u001b[0m\u001b[0;34m.\u001b[0m\u001b[0mfloat64\u001b[0m\u001b[0;34m,\u001b[0m \u001b[0mnp\u001b[0m\u001b[0;34m.\u001b[0m\u001b[0mfloat32\u001b[0m\u001b[0;34m]\u001b[0m\u001b[0;34m,\u001b[0m \u001b[0mensure_2d\u001b[0m\u001b[0;34m=\u001b[0m\u001b[0;32mTrue\u001b[0m\u001b[0;34m,\u001b[0m \u001b[0mcopy\u001b[0m\u001b[0;34m=\u001b[0m\u001b[0mself\u001b[0m\u001b[0;34m.\u001b[0m\u001b[0mcopy\u001b[0m\u001b[0;34m\u001b[0m\u001b[0;34m\u001b[0m\u001b[0m\n\u001b[1;32m    432\u001b[0m         )\n",
      "\u001b[0;32m~/anaconda3/lib/python3.8/site-packages/sklearn/base.py\u001b[0m in \u001b[0;36m_validate_data\u001b[0;34m(self, X, y, reset, validate_separately, **check_params)\u001b[0m\n\u001b[1;32m    564\u001b[0m             \u001b[0;32mraise\u001b[0m \u001b[0mValueError\u001b[0m\u001b[0;34m(\u001b[0m\u001b[0;34m\"Validation should be done on X, y or both.\"\u001b[0m\u001b[0;34m)\u001b[0m\u001b[0;34m\u001b[0m\u001b[0;34m\u001b[0m\u001b[0m\n\u001b[1;32m    565\u001b[0m         \u001b[0;32melif\u001b[0m \u001b[0;32mnot\u001b[0m \u001b[0mno_val_X\u001b[0m \u001b[0;32mand\u001b[0m \u001b[0mno_val_y\u001b[0m\u001b[0;34m:\u001b[0m\u001b[0;34m\u001b[0m\u001b[0;34m\u001b[0m\u001b[0m\n\u001b[0;32m--> 566\u001b[0;31m             \u001b[0mX\u001b[0m \u001b[0;34m=\u001b[0m \u001b[0mcheck_array\u001b[0m\u001b[0;34m(\u001b[0m\u001b[0mX\u001b[0m\u001b[0;34m,\u001b[0m \u001b[0;34m**\u001b[0m\u001b[0mcheck_params\u001b[0m\u001b[0;34m)\u001b[0m\u001b[0;34m\u001b[0m\u001b[0;34m\u001b[0m\u001b[0m\n\u001b[0m\u001b[1;32m    567\u001b[0m             \u001b[0mout\u001b[0m \u001b[0;34m=\u001b[0m \u001b[0mX\u001b[0m\u001b[0;34m\u001b[0m\u001b[0;34m\u001b[0m\u001b[0m\n\u001b[1;32m    568\u001b[0m         \u001b[0;32melif\u001b[0m \u001b[0mno_val_X\u001b[0m \u001b[0;32mand\u001b[0m \u001b[0;32mnot\u001b[0m \u001b[0mno_val_y\u001b[0m\u001b[0;34m:\u001b[0m\u001b[0;34m\u001b[0m\u001b[0;34m\u001b[0m\u001b[0m\n",
      "\u001b[0;32m~/anaconda3/lib/python3.8/site-packages/sklearn/utils/validation.py\u001b[0m in \u001b[0;36mcheck_array\u001b[0;34m(array, accept_sparse, accept_large_sparse, dtype, order, copy, force_all_finite, ensure_2d, allow_nd, ensure_min_samples, ensure_min_features, estimator)\u001b[0m\n\u001b[1;32m    819\u001b[0m \u001b[0;34m\u001b[0m\u001b[0m\n\u001b[1;32m    820\u001b[0m     \u001b[0;32mif\u001b[0m \u001b[0mcopy\u001b[0m \u001b[0;32mand\u001b[0m \u001b[0mnp\u001b[0m\u001b[0;34m.\u001b[0m\u001b[0mmay_share_memory\u001b[0m\u001b[0;34m(\u001b[0m\u001b[0marray\u001b[0m\u001b[0;34m,\u001b[0m \u001b[0marray_orig\u001b[0m\u001b[0;34m)\u001b[0m\u001b[0;34m:\u001b[0m\u001b[0;34m\u001b[0m\u001b[0;34m\u001b[0m\u001b[0m\n\u001b[0;32m--> 821\u001b[0;31m         \u001b[0marray\u001b[0m \u001b[0;34m=\u001b[0m \u001b[0mnp\u001b[0m\u001b[0;34m.\u001b[0m\u001b[0marray\u001b[0m\u001b[0;34m(\u001b[0m\u001b[0marray\u001b[0m\u001b[0;34m,\u001b[0m \u001b[0mdtype\u001b[0m\u001b[0;34m=\u001b[0m\u001b[0mdtype\u001b[0m\u001b[0;34m,\u001b[0m \u001b[0morder\u001b[0m\u001b[0;34m=\u001b[0m\u001b[0morder\u001b[0m\u001b[0;34m)\u001b[0m\u001b[0;34m\u001b[0m\u001b[0;34m\u001b[0m\u001b[0m\n\u001b[0m\u001b[1;32m    822\u001b[0m \u001b[0;34m\u001b[0m\u001b[0m\n\u001b[1;32m    823\u001b[0m     \u001b[0;32mreturn\u001b[0m \u001b[0marray\u001b[0m\u001b[0;34m\u001b[0m\u001b[0;34m\u001b[0m\u001b[0m\n",
      "\u001b[0;31mMemoryError\u001b[0m: Unable to allocate 13.0 GiB for an array with shape (36317, 47904) and data type float64"
     ]
    }
   ],
   "source": [
    "std_X = StandardScaler().fit(transformed_X)\n",
    "standard_X = std_X.transform(transformed_X)\n",
    "pca = PCA(n_components=450)\n",
    "pca.fit(standard_X)"
   ]
  },
  {
   "cell_type": "markdown",
   "id": "85c34e98",
   "metadata": {},
   "source": [
    "### Classifiers"
   ]
  },
  {
   "cell_type": "code",
   "execution_count": 9,
   "id": "dae8ef7d",
   "metadata": {},
   "outputs": [
    {
     "name": "stdout",
     "output_type": "stream",
     "text": [
      "Training accuracy: 0.8831161751\n",
      "Accuracy of classifier on dev set: 0.8950208487\n",
      "              precision    recall  f1-score   support\n",
      "\n",
      "           0       0.61      0.29      0.40       356\n",
      "           1       0.66      0.35      0.46       262\n",
      "           2       0.67      0.21      0.32        87\n",
      "           3       0.83      0.07      0.13        72\n",
      "\n",
      "   micro avg       0.64      0.28      0.39       777\n",
      "   macro avg       0.69      0.23      0.33       777\n",
      "weighted avg       0.65      0.28      0.38       777\n",
      " samples avg       0.03      0.03      0.03       777\n",
      "\n"
     ]
    }
   ],
   "source": [
    "basic_clf_1 = OneVsRestClassifier(LogisticRegression(\n",
    "    max_iter=3000, C=0.5\n",
    "), n_jobs=-1)\n",
    "\n",
    "basic_clf_1 = basic_clf_1.fit(train_X, train_Y)\n",
    "print(\"Training accuracy: {0:.10f}\".format(accuracy_score(train_Y, basic_clf_1.predict(train_X))))\n",
    "\n",
    "# test model on dev set\n",
    "preds = basic_clf_1.predict(dev_X)\n",
    "acc = accuracy_score(dev_Y, preds)\n",
    "print(\"Accuracy of classifier on dev set: {0:.10f}\".format(acc))\n",
    "\n",
    "print(classification_report(dev_Y, preds, zero_division=0))"
   ]
  },
  {
   "cell_type": "code",
   "execution_count": 10,
   "id": "62bdc06f",
   "metadata": {
    "scrolled": true
   },
   "outputs": [
    {
     "name": "stdout",
     "output_type": "stream",
     "text": [
      "Best Threshold=0.28521, F-Score=0.56545\n",
      "Best Threshold=0.24140, F-Score=0.52782\n",
      "Best Threshold=0.33906, F-Score=0.41830\n",
      "Best Threshold=0.24596, F-Score=0.39394\n"
     ]
    },
    {
     "name": "stderr",
     "output_type": "stream",
     "text": [
      "/tmp/.u3556490/ipykernel_428/2472075379.py:11: RuntimeWarning: invalid value encountered in true_divide\n",
      "  fscore = (2 * precision * recall) / (precision + recall)\n"
     ]
    },
    {
     "data": {
      "image/png": "[encoded data removed]",
      "text/plain": [
       "<Figure size 432x288 with 1 Axes>"
      ]
     },
     "metadata": {
      "needs_background": "light"
     },
     "output_type": "display_data"
    }
   ],
   "source": [
    "best_thresholds, best_f1_scores = optimize_thresholds(basic_clf_1, dev_X, dev_Y)"
   ]
  },
  {
   "cell_type": "code",
   "execution_count": 11,
   "id": "0ddb1955",
   "metadata": {},
   "outputs": [
    {
     "name": "stdout",
     "output_type": "stream",
     "text": [
      "              precision    recall  f1-score   support\n",
      "\n",
      "           0    0.52826   0.60393   0.56356       356\n",
      "           1    0.45082   0.62977   0.52548       262\n",
      "           2    0.47692   0.35632   0.40789        87\n",
      "           3    0.42373   0.34722   0.38168        72\n",
      "\n",
      "   micro avg    0.48606   0.56113   0.52091       777\n",
      "   macro avg    0.46993   0.48431   0.46965       777\n",
      "weighted avg    0.48671   0.56113   0.51644       777\n",
      " samples avg    0.05288   0.06079   0.05291       777\n",
      "\n"
     ]
    }
   ],
   "source": [
    "preds = predictions_with_thresholds(basic_clf_1, best_thresholds, dev_X)\n",
    "print(classification_report(dev_Y, preds, zero_division=0, digits=5))"
   ]
  },
  {
   "cell_type": "code",
   "execution_count": 15,
   "id": "29042353",
   "metadata": {
    "scrolled": true
   },
   "outputs": [
    {
     "name": "stdout",
     "output_type": "stream",
     "text": [
      "Training accuracy: 0.8840974759\n",
      "Accuracy of classifier on dev set: 0.8903605592\n",
      "              precision    recall  f1-score   support\n",
      "\n",
      "           0    0.60360   0.18820   0.28694       356\n",
      "           1    0.68627   0.26718   0.38462       262\n",
      "           2    0.75000   0.06897   0.12632        87\n",
      "           3    0.00000   0.00000   0.00000        72\n",
      "\n",
      "   micro avg    0.64706   0.18404   0.28657       777\n",
      "   macro avg    0.50997   0.13109   0.19947       777\n",
      "weighted avg    0.59194   0.18404   0.27530       777\n",
      " samples avg    0.02146   0.01846   0.01862       777\n",
      "\n"
     ]
    }
   ],
   "source": [
    "from sklearn.svm import LinearSVC\n",
    "\n",
    "basic_clf_2 = OneVsRestClassifier(LinearSVC(dual=False, max_iter=2500), n_jobs=-1)\n",
    "\n",
    "basic_clf_2 = basic_clf_2.fit(train_X, train_Y)\n",
    "print(\"Training accuracy: {0:.10f}\".format(accuracy_score(train_Y, basic_clf_2.predict(train_X))))\n",
    "\n",
    "# test model on dev set\n",
    "preds = basic_clf_2.predict(dev_X)\n",
    "acc = accuracy_score(dev_Y, preds)\n",
    "print(\"Accuracy of classifier on dev set: {0:.10f}\".format(acc))\n",
    "\n",
    "print(classification_report(dev_Y, preds, zero_division=0, digits=5))"
   ]
  },
  {
   "cell_type": "markdown",
   "id": "5e084e9a",
   "metadata": {},
   "source": [
    "### Regressors"
   ]
  },
  {
   "cell_type": "code",
   "execution_count": 9,
   "id": "caf32afb",
   "metadata": {},
   "outputs": [],
   "source": [
    "from sklearn.multioutput import MultiOutputRegressor\n",
    "from sklearn.linear_model import LinearRegression\n",
    "\n",
    "linear_regr = MultiOutputRegressor(LinearRegression(), n_jobs=-1)\n",
    "linear_regr = linear_regr.fit(train_X, train_Y)"
   ]
  },
  {
   "cell_type": "code",
   "execution_count": 17,
   "id": "d1571641",
   "metadata": {},
   "outputs": [
    {
     "name": "stdout",
     "output_type": "stream",
     "text": [
      "Best Threshold=0.55215, F-Score=0.52410\n",
      "Best Threshold=0.54128, F-Score=0.47607\n",
      "Best Threshold=0.52001, F-Score=0.27893\n",
      "Best Threshold=0.51421, F-Score=0.24779\n"
     ]
    },
    {
     "name": "stderr",
     "output_type": "stream",
     "text": [
      "/tmp/.u3556490/ipykernel_428/984687278.py:20: RuntimeWarning: invalid value encountered in true_divide\n",
      "  fscore = (2 * precision * recall) / (precision + recall)\n",
      "/tmp/.u3556490/ipykernel_428/984687278.py:20: RuntimeWarning: invalid value encountered in true_divide\n",
      "  fscore = (2 * precision * recall) / (precision + recall)\n",
      "/tmp/.u3556490/ipykernel_428/984687278.py:20: RuntimeWarning: invalid value encountered in true_divide\n",
      "  fscore = (2 * precision * recall) / (precision + recall)\n"
     ]
    },
    {
     "data": {
      "image/png": "[encoded data removed]",
      "text/plain": [
       "<Figure size 432x288 with 1 Axes>"
      ]
     },
     "metadata": {
      "needs_background": "light"
     },
     "output_type": "display_data"
    }
   ],
   "source": [
    "best_thresholds, best_f1_scores = regressor_find_thresholds(linear_regr, dev_X, dev_Y, 'sigmoid')"
   ]
  },
  {
   "cell_type": "code",
   "execution_count": 18,
   "id": "f96c13b5",
   "metadata": {
    "scrolled": true
   },
   "outputs": [
    {
     "name": "stdout",
     "output_type": "stream",
     "text": [
      "              precision    recall  f1-score   support\n",
      "\n",
      "           0    0.46681   0.59270   0.52228       356\n",
      "           1    0.35405   0.71756   0.47415       262\n",
      "           2    0.18474   0.52874   0.27381        87\n",
      "           3    0.17647   0.37500   0.24000        72\n",
      "\n",
      "   micro avg    0.34079   0.60746   0.43663       777\n",
      "   macro avg    0.29552   0.55350   0.37756       777\n",
      "weighted avg    0.37030   0.60746   0.45207       777\n",
      " samples avg    0.04765   0.06588   0.05116       777\n",
      "\n"
     ]
    }
   ],
   "source": [
    "preds = regression_label(linear_regr, dev_X, best_thresholds)\n",
    "print(classification_report(dev_Y, preds, zero_division=0, digits=5))"
   ]
  },
  {
   "cell_type": "code",
   "execution_count": 10,
   "id": "1b5e699c",
   "metadata": {},
   "outputs": [],
   "source": [
    "from sklearn.svm import LinearSVR\n",
    "\n",
    "svr_regr = MultiOutputRegressor(LinearSVR(loss='squared_epsilon_insensitive', dual=False, C=0.5), n_jobs=-1)\n",
    "\n",
    "svr_regr = svr_regr.fit(train_X, train_Y)"
   ]
  },
  {
   "cell_type": "code",
   "execution_count": 21,
   "id": "0c923118",
   "metadata": {
    "scrolled": true
   },
   "outputs": [
    {
     "name": "stdout",
     "output_type": "stream",
     "text": [
      "Best Threshold=0.55098, F-Score=0.45958\n",
      "Best Threshold=0.54004, F-Score=0.43743\n",
      "Best Threshold=0.52966, F-Score=0.25000\n",
      "Best Threshold=0.51480, F-Score=0.25000\n"
     ]
    },
    {
     "name": "stderr",
     "output_type": "stream",
     "text": [
      "/tmp/.u3556490/ipykernel_428/984687278.py:20: RuntimeWarning: invalid value encountered in true_divide\n",
      "  fscore = (2 * precision * recall) / (precision + recall)\n"
     ]
    },
    {
     "data": {
      "image/png": "[encoded data removed]",
      "text/plain": [
       "<Figure size 432x288 with 1 Axes>"
      ]
     },
     "metadata": {
      "needs_background": "light"
     },
     "output_type": "display_data"
    }
   ],
   "source": [
    "best_thresholds, best_f1_scores = regressor_find_thresholds(svr_regr, dev_X, dev_Y, 'sigmoid')"
   ]
  },
  {
   "cell_type": "code",
   "execution_count": 22,
   "id": "2dce9db8",
   "metadata": {},
   "outputs": [],
   "source": [
    "from sklearn.neighbors import KNeighborsRegressor\n",
    "\n",
    "knr_regr = MultiOutputRegressor(KNeighborsRegressor(), n_jobs=-1)\n",
    "\n",
    "knr_regr = knr_regr.fit(train_X, train_Y)"
   ]
  },
  {
   "cell_type": "code",
   "execution_count": 23,
   "id": "05795391",
   "metadata": {
    "scrolled": true
   },
   "outputs": [
    {
     "name": "stdout",
     "output_type": "stream",
     "text": [
      "Best Threshold=0.59869, F-Score=0.55594\n",
      "Best Threshold=0.59869, F-Score=0.55484\n",
      "Best Threshold=0.59869, F-Score=0.44554\n",
      "Best Threshold=0.59869, F-Score=0.31724\n"
     ]
    },
    {
     "data": {
      "image/png": "[encoded data removed]",
      "text/plain": [
       "<Figure size 432x288 with 1 Axes>"
      ]
     },
     "metadata": {
      "needs_background": "light"
     },
     "output_type": "display_data"
    }
   ],
   "source": [
    "best_thresholds, best_f1_scores = regressor_find_thresholds(knr_regr, dev_X, dev_Y, 'sigmoid')"
   ]
  },
  {
   "cell_type": "code",
   "execution_count": 24,
   "id": "16c774a5",
   "metadata": {},
   "outputs": [
    {
     "name": "stdout",
     "output_type": "stream",
     "text": [
      "              precision    recall  f1-score   support\n",
      "\n",
      "           0    0.61538   0.44944   0.51948       356\n",
      "           1    0.54634   0.42748   0.47966       262\n",
      "           2    0.52083   0.28736   0.37037        87\n",
      "           3    0.53846   0.19444   0.28571        72\n",
      "\n",
      "   micro avg    0.57699   0.40026   0.47264       777\n",
      "   macro avg    0.55526   0.33968   0.41381       777\n",
      "weighted avg    0.57439   0.40026   0.46769       777\n",
      " samples avg    0.04779   0.04317   0.04281       777\n",
      "\n"
     ]
    }
   ],
   "source": [
    "preds = regression_label(knr_regr, dev_X, best_thresholds)\n",
    "print(classification_report(dev_Y, preds, zero_division=0, digits=5))"
   ]
  },
  {
   "cell_type": "code",
   "execution_count": 14,
   "id": "6921eb08",
   "metadata": {
    "scrolled": true
   },
   "outputs": [
    {
     "name": "stdout",
     "output_type": "stream",
     "text": [
      "Pipeline(steps=[('splinetransformer', SplineTransformer(include_bias=False)),\n",
      "                ('standardscaler', StandardScaler()),\n",
      "                ('nystroem', Nystroem(degree=3, kernel='poly')),\n",
      "                ('multioutputregressor',\n",
      "                 MultiOutputRegressor(estimator=LinearSVR(C=0.5, dual=False,\n",
      "                                                          loss='squared_epsilon_insensitive'),\n",
      "                                      n_jobs=-1))],\n",
      "         verbose=True)\n",
      "[Pipeline] . (step 1 of 4) Processing splinetransformer, total=   0.4s\n",
      "[Pipeline] .... (step 2 of 4) Processing standardscaler, total=   0.1s\n",
      "[Pipeline] .......... (step 3 of 4) Processing nystroem, total=   0.4s\n",
      "[Pipeline]  (step 4 of 4) Processing multioutputregressor, total=   3.6s\n"
     ]
    }
   ],
   "source": [
    "from sklearn.preprocessing import SplineTransformer\n",
    "\n",
    "svr_regr = MultiOutputRegressor(LinearSVR(loss='squared_epsilon_insensitive', dual=False, C=0.5), n_jobs=-1)\n",
    "\n",
    "pipe = make_pipeline(\n",
    "    SplineTransformer(include_bias=False),\n",
    "    # PolynomialFeatures(),\n",
    "    StandardScaler(),\n",
    "    Nystroem(kernel='poly', degree=3),\n",
    "    # PolynomialCountSketch(degree=3, n_components=300),\n",
    "    svr_regr, verbose=True\n",
    ")\n",
    "print(pipe)\n",
    "\n",
    "poly_svr_regr = pipe.fit(train_X, train_Y)"
   ]
  },
  {
   "cell_type": "code",
   "execution_count": 15,
   "id": "1195832a",
   "metadata": {
    "scrolled": true
   },
   "outputs": [
    {
     "name": "stdout",
     "output_type": "stream",
     "text": [
      "Best Threshold=0.56758, F-Score=0.60475\n",
      "Best Threshold=0.56148, F-Score=0.57698\n",
      "Best Threshold=0.56457, F-Score=0.38503\n",
      "Best Threshold=0.53691, F-Score=0.31731\n"
     ]
    },
    {
     "data": {
      "image/png": "[encoded data removed]",
      "text/plain": [
       "<Figure size 432x288 with 1 Axes>"
      ]
     },
     "metadata": {
      "needs_background": "light"
     },
     "output_type": "display_data"
    }
   ],
   "source": [
    "best_thresholds, best_f1_scores = regressor_find_thresholds(poly_svr_regr, dev_X, dev_Y, 'sigmoid')"
   ]
  },
  {
   "cell_type": "code",
   "execution_count": 16,
   "id": "877ed45e",
   "metadata": {},
   "outputs": [
    {
     "name": "stdout",
     "output_type": "stream",
     "text": [
      "              precision    recall  f1-score   support\n",
      "\n",
      "           0    0.52150   0.71538   0.60324       390\n",
      "           1    0.48608   0.70330   0.57485       273\n",
      "           2    0.41176   0.34653   0.37634       101\n",
      "           3    0.24060   0.43243   0.30918        74\n",
      "\n",
      "   micro avg    0.46864   0.64200   0.54179       838\n",
      "   macro avg    0.41498   0.54941   0.46590       838\n",
      "weighted avg    0.47193   0.64200   0.54068       838\n",
      " samples avg    0.06623   0.07463   0.06504       838\n",
      "\n"
     ]
    }
   ],
   "source": [
    "preds = regression_label(poly_svr_regr, dev_X, best_thresholds)\n",
    "print(classification_report(dev_Y, preds, zero_division=0, digits=5))"
   ]
  },
  {
   "cell_type": "markdown",
   "id": "5b46b43c",
   "metadata": {},
   "source": [
    "### Ultimate weapon: Regression splines\n",
    "#### MARS"
   ]
  },
  {
   "cell_type": "code",
   "execution_count": 38,
   "id": "1d3fc046",
   "metadata": {},
   "outputs": [],
   "source": [
    "earth_regr = MultiOutputRegressor(Earth(max_degree=4, max_terms=500, use_fast=True), n_jobs=-1)\n",
    "earth_regr = earth_regr.fit(train_X, train_Y)"
   ]
  },
  {
   "cell_type": "code",
   "execution_count": 39,
   "id": "ed69d158",
   "metadata": {
    "scrolled": true
   },
   "outputs": [
    {
     "name": "stdout",
     "output_type": "stream",
     "text": [
      "Best Threshold=0.57382, F-Score=0.61118\n",
      "Best Threshold=0.56688, F-Score=0.56357\n",
      "Best Threshold=0.57861, F-Score=0.48447\n",
      "Best Threshold=0.56474, F-Score=0.41509\n"
     ]
    },
    {
     "data": {
      "image/png": "[encoded data removed]",
      "text/plain": [
       "<Figure size 432x288 with 1 Axes>"
      ]
     },
     "metadata": {
      "needs_background": "light"
     },
     "output_type": "display_data"
    }
   ],
   "source": [
    "best_thresholds, best_f1_scores = regressor_find_thresholds(earth_regr, dev_X, dev_Y, 'sigmoid')"
   ]
  },
  {
   "cell_type": "code",
   "execution_count": 40,
   "id": "bc6db575",
   "metadata": {},
   "outputs": [
    {
     "name": "stdout",
     "output_type": "stream",
     "text": [
      "              precision    recall  f1-score   support\n",
      "\n",
      "           0    0.54688   0.68820   0.60945       356\n",
      "           1    0.51097   0.62214   0.56110       262\n",
      "           2    0.52055   0.43678   0.47500        87\n",
      "           3    0.63636   0.29167   0.40000        72\n",
      "\n",
      "   micro avg    0.53494   0.60103   0.56606       777\n",
      "   macro avg    0.55369   0.50970   0.51139       777\n",
      "weighted avg    0.54011   0.60103   0.55869       777\n",
      " samples avg    0.06392   0.06831   0.06210       777\n",
      "\n"
     ]
    }
   ],
   "source": [
    "preds = regression_label(earth_regr, dev_X, best_thresholds)\n",
    "print(classification_report(dev_Y, preds, zero_division=0, digits=5))"
   ]
  }
 ],
 "metadata": {
  "kernelspec": {
   "display_name": "Python 3 (ipykernel)",
   "language": "python",
   "name": "python3"
  },
  "language_info": {
   "codemirror_mode": {
    "name": "ipython",
    "version": 3
   },
   "file_extension": ".py",
   "mimetype": "text/x-python",
   "name": "python",
   "nbconvert_exporter": "python",
   "pygments_lexer": "ipython3",
   "version": "3.9.7"
  }
 },
 "nbformat": 4,
 "nbformat_minor": 5
}
