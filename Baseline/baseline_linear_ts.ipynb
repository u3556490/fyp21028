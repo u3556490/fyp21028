{
 "cells": [
  {
   "cell_type": "code",
   "execution_count": 1,
   "id": "a07c30a5",
   "metadata": {},
   "outputs": [],
   "source": [
    "import numpy as np\n",
    "import pandas as pd\n",
    "import sys\n",
    "import os\n",
    "import matplotlib.pyplot as plt\n",
    "import seaborn as sns\n",
    "from pyearth import Earth\n",
    "%matplotlib inline"
   ]
  },
  {
   "cell_type": "markdown",
   "id": "4cc6eca4",
   "metadata": {},
   "source": [
    "### Conclusions\n",
    "\n",
    "Logistic (2500 iters): f1-score \\[0.50000 0.58915 0.44660 0.27957\\] average **0.45383**\n",
    "\n",
    "LinearSVC (2500 iters): f1-score \\[0.46053 0.55556 0.31148 0.28947\\] average 0.40426\n",
    "\n",
    "Linear Regressor: f1-score \\[0.50400 0.59160 0.44843 0.25974\\] average 0.45094\n",
    "\n",
    "LinearSVR (C=0.5, loss='squared_epsilon_insensitive'): f1-score \\[0.46120 0.60486 0.42365 0.28571\\] average 0.44385\n",
    "\n",
    "KNN Regressor (weights='distance', n_neighbors=16): f1-score \\[0.46454 0.45152 0.28647 0.21374\\] average 0.35407\n",
    "\n",
    "SVR + PolynomialCountSketch (degree=3, n_components=300): f1-score \\[0.44358 0.55508 0.37419 0.26087\\] average 0.40843\n",
    "\n",
    "SVR + Nystroem (degree=3): f1-score \\[0.51410 0.59402 0.37879 0.21176\\] average 0.42467\n",
    "\n",
    "SplineTransformer + SVR + Nystroem (degree=3): f1-score \\[0.54518 0.58932 0.35965 0.24242\\] average 0.43414\n",
    "\n",
    "MARS (degree=3, max_terms=500): f1-score \\[0.46120 0.60814 0.46988 0.26667\\] average 0.45147"
   ]
  },
  {
   "cell_type": "code",
   "execution_count": 2,
   "id": "ba963442",
   "metadata": {
    "scrolled": true
   },
   "outputs": [
    {
     "name": "stdout",
     "output_type": "stream",
     "text": [
      "================ Reading dataset ===============\n",
      "<class 'pandas.core.frame.DataFrame'>\n",
      "RangeIndex: 45293 entries, 0 to 45292\n",
      "Data columns (total 54 columns):\n",
      " #   Column         Non-Null Count  Dtype  \n",
      "---  ------         --------------  -----  \n",
      " 0   LOW_IMPACT     45293 non-null  bool   \n",
      " 1   MID_IMPACT     45293 non-null  bool   \n",
      " 2   BIG_IMPACT     45293 non-null  bool   \n",
      " 3   DIRECT_STRIKE  45293 non-null  bool   \n",
      " 4   MM00           45293 non-null  int32  \n",
      " 5   DD00           45293 non-null  int32  \n",
      " 6   HH00           45293 non-null  int32  \n",
      " 7   MI_STATUS00    45293 non-null  bool   \n",
      " 8   LI_STATUS00    45293 non-null  bool   \n",
      " 9   SI_STATUS00    45293 non-null  bool   \n",
      " 10  DS_STATUS00    45293 non-null  bool   \n",
      " 11  LAT00          45293 non-null  float32\n",
      " 12  LON00          45293 non-null  float32\n",
      " 13  VMAX00         45293 non-null  int32  \n",
      " 14  MM06           45293 non-null  int32  \n",
      " 15  DD06           45293 non-null  int32  \n",
      " 16  HH06           45293 non-null  int32  \n",
      " 17  MI_STATUS06    45293 non-null  bool   \n",
      " 18  LI_STATUS06    45293 non-null  bool   \n",
      " 19  SI_STATUS06    45293 non-null  bool   \n",
      " 20  DS_STATUS06    45293 non-null  bool   \n",
      " 21  LAT06          45293 non-null  float32\n",
      " 22  LON06          45293 non-null  float32\n",
      " 23  VMAX06         45293 non-null  int32  \n",
      " 24  MM12           45293 non-null  int32  \n",
      " 25  DD12           45293 non-null  int32  \n",
      " 26  HH12           45293 non-null  int32  \n",
      " 27  MI_STATUS12    45293 non-null  bool   \n",
      " 28  LI_STATUS12    45293 non-null  bool   \n",
      " 29  SI_STATUS12    45293 non-null  bool   \n",
      " 30  DS_STATUS12    45293 non-null  bool   \n",
      " 31  LAT12          45293 non-null  float32\n",
      " 32  LON12          45293 non-null  float32\n",
      " 33  VMAX12         45293 non-null  int32  \n",
      " 34  MM18           45293 non-null  int32  \n",
      " 35  DD18           45293 non-null  int32  \n",
      " 36  HH18           45293 non-null  int32  \n",
      " 37  MI_STATUS18    45293 non-null  bool   \n",
      " 38  LI_STATUS18    45293 non-null  bool   \n",
      " 39  SI_STATUS18    45293 non-null  bool   \n",
      " 40  DS_STATUS18    45293 non-null  bool   \n",
      " 41  LAT18          45293 non-null  float32\n",
      " 42  LON18          45293 non-null  float32\n",
      " 43  VMAX18         45293 non-null  int32  \n",
      " 44  MM24           45293 non-null  int32  \n",
      " 45  DD24           45293 non-null  int32  \n",
      " 46  HH24           45293 non-null  int32  \n",
      " 47  MI_STATUS24    45293 non-null  bool   \n",
      " 48  LI_STATUS24    45293 non-null  bool   \n",
      " 49  SI_STATUS24    45293 non-null  bool   \n",
      " 50  DS_STATUS24    45293 non-null  bool   \n",
      " 51  LAT24          45293 non-null  float32\n",
      " 52  LON24          45293 non-null  float32\n",
      " 53  VMAX24         45293 non-null  int32  \n",
      "dtypes: bool(24), float32(10), int32(20)\n",
      "memory usage: 6.2 MB\n",
      "None\n"
     ]
    }
   ],
   "source": [
    "# read Dataset as Pandas DataFrame\n",
    "print(\"================ Reading dataset ===============\")\n",
    "dataset = pd.read_pickle('../Dataset/baseline_dataset_ts_24.gz')\n",
    "pd.set_option(\"display.max.columns\", None)\n",
    "print(dataset.info())"
   ]
  },
  {
   "cell_type": "code",
   "execution_count": 3,
   "id": "0461670e",
   "metadata": {},
   "outputs": [],
   "source": [
    "# imports\n",
    "from sklearn.metrics import accuracy_score, f1_score, recall_score, precision_score, precision_recall_curve, classification_report\n",
    "from sklearn.model_selection import train_test_split\n",
    "\n",
    "# Constants\n",
    "TRAIN_RATIO = 0.9"
   ]
  },
  {
   "cell_type": "code",
   "execution_count": 4,
   "id": "3bb8ee80",
   "metadata": {},
   "outputs": [
    {
     "name": "stdout",
     "output_type": "stream",
     "text": [
      "Training set size: 36686; Dev set size: 4077; Testing set size: 4530\n"
     ]
    }
   ],
   "source": [
    "# test-dev-train split\n",
    "\n",
    "def separateDataset(dataset, train_ratio):\n",
    "    '''\n",
    "    Takes in a dataset (pandas df) and a ratio value, returns a dictionary containing the separated dataset.\n",
    "    Key \"train\" = train set, \"dev\" = dev set (size = train ratio * (sizeof input df - test set)), \"test\" = test set (size = train ratio * sizeof input df)\n",
    "    '''\n",
    "    train_dev_set, test_set = train_test_split(dataset, train_size=train_ratio)\n",
    "    train_set, dev_set = train_test_split(train_dev_set, train_size=train_ratio)\n",
    "    print(\"Training set size: {0}; Dev set size: {1}; Testing set size: {2}\".format(len(train_set), len(dev_set), len(test_set)))\n",
    "    return { \"train\": train_set, \"dev\": dev_set, \"test\": test_set }\n",
    "\n",
    "def pandasToXY(dataframe):\n",
    "    '''\n",
    "    converts the given pandas df to X and Y sub-arrays. X is pandas df, Y is np int array.\n",
    "    note: the range of columns to select as Y must be double checked when a different dataset is used.\n",
    "    '''\n",
    "    X = dataframe.drop(['LOW_IMPACT', 'MID_IMPACT', 'BIG_IMPACT', 'DIRECT_STRIKE'], axis=1)\n",
    "    Y = np.asarray(dataframe.iloc[:,0:4]).astype(int)\n",
    "    return X, Y\n",
    "\n",
    "# train-dev-test splitting\n",
    "splitDataset = separateDataset(dataset, TRAIN_RATIO)\n",
    "# separate each of the 3 sets into X and Y\n",
    "train_full = splitDataset[\"train\"]\n",
    "train_X, train_Y = pandasToXY(train_full)\n",
    "dev_full = splitDataset[\"dev\"]\n",
    "dev_X, dev_Y = pandasToXY(dev_full)\n",
    "test_full = splitDataset[\"test\"]\n",
    "test_X, test_Y = pandasToXY(test_full)"
   ]
  },
  {
   "cell_type": "markdown",
   "id": "06a9f398",
   "metadata": {},
   "source": [
    "### Tools"
   ]
  },
  {
   "cell_type": "code",
   "execution_count": 5,
   "id": "e604ccd5",
   "metadata": {},
   "outputs": [],
   "source": [
    "# finds the best decision thresholds and the corresponding F1 scores\n",
    "# shows the precision-recall curve as well\n",
    "def optimize_thresholds(clf, datasetX, datasetY):\n",
    "    '''\n",
    "    Takes in a classifier, an input set X and a target set Y; returns the best decision thresholds and corresponding f1-scores;\n",
    "    displays the values and a precision recall curve.\n",
    "    '''\n",
    "    all_preds = clf.predict_proba(datasetX)\n",
    "    best_thresholds = []\n",
    "    best_f1_scores = []\n",
    "    n_classes = len(clf.classes_)\n",
    "    for i in range(n_classes):\n",
    "        precision, recall, thresholds = precision_recall_curve(datasetY[:,i], all_preds[:,i])\n",
    "        # find best threshold\n",
    "        fscore = (2 * precision * recall) / (precision + recall)\n",
    "        ix = np.nanargmax(fscore)\n",
    "        best_thresholds.append(thresholds[ix])\n",
    "        best_f1_scores.append(fscore[ix])\n",
    "        print('Best Threshold={0:.05f}, F-Score={1:.05f}'.format(thresholds[ix], fscore[ix]))\n",
    "    \n",
    "    # plot the precision-recall curve for the model\n",
    "    plt.plot(recall, precision, marker='.', label='PR curve')\n",
    "    plt.scatter(recall[ix], precision[ix], marker='o', color='black', label='Best')\n",
    "    plt.xlabel('Recall')\n",
    "    plt.ylabel('Precision')\n",
    "    plt.title('Precision-Recall Curve for Direct Strike')\n",
    "    plt.legend()\n",
    "        \n",
    "    return best_thresholds, best_f1_scores\n",
    "\n",
    "# make predictions according to the given thresholds\n",
    "def predictions_with_thresholds(clf, thresholds, datasetX):\n",
    "    '''\n",
    "    Takes in a classifier, a list of decision thresholds and an input samples set X;\n",
    "    Returns deterministic predictions made using the model over X and the thresholds.\n",
    "    '''\n",
    "    preds_probs = clf.predict_proba(datasetX)  \n",
    "    n_classes = len(clf.classes_)\n",
    "    preds = []\n",
    "    # iterate each predicted probability and compare against threshold\n",
    "    for i in range(len(preds_probs)):\n",
    "        pred_row = []\n",
    "        for j in range(n_classes):\n",
    "            if preds_probs[i,j] > thresholds[j]:\n",
    "                pred_row.append(1)\n",
    "            else:\n",
    "                pred_row.append(0)\n",
    "        preds.append(pred_row)\n",
    "    \n",
    "    return np.array(preds)"
   ]
  },
  {
   "cell_type": "code",
   "execution_count": 6,
   "id": "49e1c74c",
   "metadata": {},
   "outputs": [],
   "source": [
    "# new utility functions\n",
    "from scipy.special import expit\n",
    "\n",
    "def regression_predict(regr, datasetX, method='sigmoid'):\n",
    "    '''\n",
    "    Takes in a regressor, an input samples set X and optionally a method argument (must be either \"sigmoid\" or \"clip\");\n",
    "    Returns predictions made by the regressor on X that have been rescaled to fall within [0,1] using the specified method.\n",
    "    '''\n",
    "    # method specifies how to handle inputs outside of 0-1 range: clip to 0 or 1, or pass through sigmoid\n",
    "    preds = regr.predict(datasetX)\n",
    "    if method == 'clip':\n",
    "        preds = np.clip(preds, 0, 1)\n",
    "    elif method == 'sigmoid':\n",
    "        preds = expit(preds)\n",
    "    return preds\n",
    "\n",
    "def regressor_find_thresholds(regr, datasetX, datasetY, method='sigmoid'):\n",
    "    '''\n",
    "    Takes in a regressor, an input set X, a target set Y and optionally a scaling method;\n",
    "    returns the best decision thresholds and corresponding f1-scores;\n",
    "    displays the values and a precision recall curve.\n",
    "    '''\n",
    "    all_preds = regression_predict(regr, datasetX, method)\n",
    "    best_thresholds = []\n",
    "    best_f1_scores = []\n",
    "    for i in range(4):\n",
    "        precision, recall, thresholds = precision_recall_curve(datasetY[:,i], all_preds[:,i])\n",
    "        # find best threshold\n",
    "        fscore = (2 * precision * recall) / (precision + recall)\n",
    "        ix = np.nanargmax(fscore)\n",
    "        best_thresholds.append(thresholds[ix])\n",
    "        best_f1_scores.append(fscore[ix])\n",
    "        print('Best Threshold={0:.05f}, F-Score={1:.05f}'.format(thresholds[ix], fscore[ix]))\n",
    "\n",
    "    # plot the precision-recall curve for the model\n",
    "    plt.plot(recall, precision, marker='.', label='PR curve')\n",
    "    plt.scatter(recall[ix], precision[ix], marker='o', color='black', label='Best')\n",
    "    plt.xlabel('Recall')\n",
    "    plt.ylabel('Precision')\n",
    "    plt.title('Precision-Recall Curve for Direct Strike')\n",
    "    plt.legend()\n",
    "    \n",
    "    return best_thresholds, best_f1_scores\n",
    "\n",
    "def regression_label(regr, datasetX, thresholds, method='sigmoid'):\n",
    "    '''\n",
    "    Takes in a regressor, a list of decision thresholds, an input samples set X and optionally a scaling method;\n",
    "    Returns deterministic predictions made using the model over X and the thresholds.\n",
    "    '''\n",
    "    preds_probs = regression_predict(regr, datasetX, method)\n",
    "    preds = []\n",
    "    # iterate each predicted probability and compare against threshold\n",
    "    for i in range(len(preds_probs)):\n",
    "        pred_row = []\n",
    "        for j in range(4):\n",
    "            if preds_probs[i,j] > thresholds[j]:\n",
    "                pred_row.append(1)\n",
    "            else:\n",
    "                pred_row.append(0)\n",
    "        preds.append(pred_row)\n",
    "    \n",
    "    return np.array(preds)"
   ]
  },
  {
   "cell_type": "markdown",
   "id": "08793d77",
   "metadata": {},
   "source": [
    "### Solid proof that PCA and Poly features don't always work"
   ]
  },
  {
   "cell_type": "code",
   "execution_count": 7,
   "id": "2a434949",
   "metadata": {},
   "outputs": [],
   "source": [
    "# imports\n",
    "from sklearn.preprocessing import PolynomialFeatures, StandardScaler\n",
    "from sklearn.feature_selection import SelectKBest\n",
    "from sklearn.decomposition import PCA\n",
    "from sklearn.pipeline import make_pipeline\n",
    "from sklearn.kernel_approximation import Nystroem, PolynomialCountSketch\n",
    "from sklearn.linear_model import LogisticRegression\n",
    "from sklearn.multiclass import OneVsRestClassifier\n",
    "from sklearn.metrics import classification_report"
   ]
  },
  {
   "cell_type": "code",
   "execution_count": 8,
   "id": "c34aadde",
   "metadata": {},
   "outputs": [
    {
     "data": {
      "text/plain": [
       "(36686, 23425)"
      ]
     },
     "execution_count": 8,
     "metadata": {},
     "output_type": "execute_result"
    }
   ],
   "source": [
    "poly = PolynomialFeatures(degree=3, include_bias=False)\n",
    "transformed_X = poly.fit_transform(train_X)\n",
    "\n",
    "transformed_X.shape"
   ]
  },
  {
   "cell_type": "code",
   "execution_count": 9,
   "id": "ce5a6135",
   "metadata": {
    "scrolled": true
   },
   "outputs": [
    {
     "ename": "MemoryError",
     "evalue": "Unable to allocate 13.0 GiB for an array with shape (36317, 47904) and data type float64",
     "output_type": "error",
     "traceback": [
      "\u001b[0;31m---------------------------------------------------------------------------\u001b[0m",
      "\u001b[0;31mMemoryError\u001b[0m                               Traceback (most recent call last)",
      "\u001b[0;32m/tmp/.u3556490/ipykernel_1317/191759808.py\u001b[0m in \u001b[0;36m<module>\u001b[0;34m\u001b[0m\n\u001b[1;32m      2\u001b[0m \u001b[0mstandard_X\u001b[0m \u001b[0;34m=\u001b[0m \u001b[0mstd_X\u001b[0m\u001b[0;34m.\u001b[0m\u001b[0mtransform\u001b[0m\u001b[0;34m(\u001b[0m\u001b[0mtransformed_X\u001b[0m\u001b[0;34m)\u001b[0m\u001b[0;34m\u001b[0m\u001b[0;34m\u001b[0m\u001b[0m\n\u001b[1;32m      3\u001b[0m \u001b[0mpca\u001b[0m \u001b[0;34m=\u001b[0m \u001b[0mPCA\u001b[0m\u001b[0;34m(\u001b[0m\u001b[0mn_components\u001b[0m\u001b[0;34m=\u001b[0m\u001b[0;36m450\u001b[0m\u001b[0;34m)\u001b[0m\u001b[0;34m\u001b[0m\u001b[0;34m\u001b[0m\u001b[0m\n\u001b[0;32m----> 4\u001b[0;31m \u001b[0mpca\u001b[0m\u001b[0;34m.\u001b[0m\u001b[0mfit\u001b[0m\u001b[0;34m(\u001b[0m\u001b[0mstandard_X\u001b[0m\u001b[0;34m)\u001b[0m\u001b[0;34m\u001b[0m\u001b[0;34m\u001b[0m\u001b[0m\n\u001b[0m",
      "\u001b[0;32m~/anaconda3/lib/python3.8/site-packages/sklearn/decomposition/_pca.py\u001b[0m in \u001b[0;36mfit\u001b[0;34m(self, X, y)\u001b[0m\n\u001b[1;32m    380\u001b[0m             \u001b[0mReturns\u001b[0m \u001b[0mthe\u001b[0m \u001b[0minstance\u001b[0m \u001b[0mitself\u001b[0m\u001b[0;34m.\u001b[0m\u001b[0;34m\u001b[0m\u001b[0;34m\u001b[0m\u001b[0m\n\u001b[1;32m    381\u001b[0m         \"\"\"\n\u001b[0;32m--> 382\u001b[0;31m         \u001b[0mself\u001b[0m\u001b[0;34m.\u001b[0m\u001b[0m_fit\u001b[0m\u001b[0;34m(\u001b[0m\u001b[0mX\u001b[0m\u001b[0;34m)\u001b[0m\u001b[0;34m\u001b[0m\u001b[0;34m\u001b[0m\u001b[0m\n\u001b[0m\u001b[1;32m    383\u001b[0m         \u001b[0;32mreturn\u001b[0m \u001b[0mself\u001b[0m\u001b[0;34m\u001b[0m\u001b[0;34m\u001b[0m\u001b[0m\n\u001b[1;32m    384\u001b[0m \u001b[0;34m\u001b[0m\u001b[0m\n",
      "\u001b[0;32m~/anaconda3/lib/python3.8/site-packages/sklearn/decomposition/_pca.py\u001b[0m in \u001b[0;36m_fit\u001b[0;34m(self, X)\u001b[0m\n\u001b[1;32m    428\u001b[0m             )\n\u001b[1;32m    429\u001b[0m \u001b[0;34m\u001b[0m\u001b[0m\n\u001b[0;32m--> 430\u001b[0;31m         X = self._validate_data(\n\u001b[0m\u001b[1;32m    431\u001b[0m             \u001b[0mX\u001b[0m\u001b[0;34m,\u001b[0m \u001b[0mdtype\u001b[0m\u001b[0;34m=\u001b[0m\u001b[0;34m[\u001b[0m\u001b[0mnp\u001b[0m\u001b[0;34m.\u001b[0m\u001b[0mfloat64\u001b[0m\u001b[0;34m,\u001b[0m \u001b[0mnp\u001b[0m\u001b[0;34m.\u001b[0m\u001b[0mfloat32\u001b[0m\u001b[0;34m]\u001b[0m\u001b[0;34m,\u001b[0m \u001b[0mensure_2d\u001b[0m\u001b[0;34m=\u001b[0m\u001b[0;32mTrue\u001b[0m\u001b[0;34m,\u001b[0m \u001b[0mcopy\u001b[0m\u001b[0;34m=\u001b[0m\u001b[0mself\u001b[0m\u001b[0;34m.\u001b[0m\u001b[0mcopy\u001b[0m\u001b[0;34m\u001b[0m\u001b[0;34m\u001b[0m\u001b[0m\n\u001b[1;32m    432\u001b[0m         )\n",
      "\u001b[0;32m~/anaconda3/lib/python3.8/site-packages/sklearn/base.py\u001b[0m in \u001b[0;36m_validate_data\u001b[0;34m(self, X, y, reset, validate_separately, **check_params)\u001b[0m\n\u001b[1;32m    564\u001b[0m             \u001b[0;32mraise\u001b[0m \u001b[0mValueError\u001b[0m\u001b[0;34m(\u001b[0m\u001b[0;34m\"Validation should be done on X, y or both.\"\u001b[0m\u001b[0;34m)\u001b[0m\u001b[0;34m\u001b[0m\u001b[0;34m\u001b[0m\u001b[0m\n\u001b[1;32m    565\u001b[0m         \u001b[0;32melif\u001b[0m \u001b[0;32mnot\u001b[0m \u001b[0mno_val_X\u001b[0m \u001b[0;32mand\u001b[0m \u001b[0mno_val_y\u001b[0m\u001b[0;34m:\u001b[0m\u001b[0;34m\u001b[0m\u001b[0;34m\u001b[0m\u001b[0m\n\u001b[0;32m--> 566\u001b[0;31m             \u001b[0mX\u001b[0m \u001b[0;34m=\u001b[0m \u001b[0mcheck_array\u001b[0m\u001b[0;34m(\u001b[0m\u001b[0mX\u001b[0m\u001b[0;34m,\u001b[0m \u001b[0;34m**\u001b[0m\u001b[0mcheck_params\u001b[0m\u001b[0;34m)\u001b[0m\u001b[0;34m\u001b[0m\u001b[0;34m\u001b[0m\u001b[0m\n\u001b[0m\u001b[1;32m    567\u001b[0m             \u001b[0mout\u001b[0m \u001b[0;34m=\u001b[0m \u001b[0mX\u001b[0m\u001b[0;34m\u001b[0m\u001b[0;34m\u001b[0m\u001b[0m\n\u001b[1;32m    568\u001b[0m         \u001b[0;32melif\u001b[0m \u001b[0mno_val_X\u001b[0m \u001b[0;32mand\u001b[0m \u001b[0;32mnot\u001b[0m \u001b[0mno_val_y\u001b[0m\u001b[0;34m:\u001b[0m\u001b[0;34m\u001b[0m\u001b[0;34m\u001b[0m\u001b[0m\n",
      "\u001b[0;32m~/anaconda3/lib/python3.8/site-packages/sklearn/utils/validation.py\u001b[0m in \u001b[0;36mcheck_array\u001b[0;34m(array, accept_sparse, accept_large_sparse, dtype, order, copy, force_all_finite, ensure_2d, allow_nd, ensure_min_samples, ensure_min_features, estimator)\u001b[0m\n\u001b[1;32m    819\u001b[0m \u001b[0;34m\u001b[0m\u001b[0m\n\u001b[1;32m    820\u001b[0m     \u001b[0;32mif\u001b[0m \u001b[0mcopy\u001b[0m \u001b[0;32mand\u001b[0m \u001b[0mnp\u001b[0m\u001b[0;34m.\u001b[0m\u001b[0mmay_share_memory\u001b[0m\u001b[0;34m(\u001b[0m\u001b[0marray\u001b[0m\u001b[0;34m,\u001b[0m \u001b[0marray_orig\u001b[0m\u001b[0;34m)\u001b[0m\u001b[0;34m:\u001b[0m\u001b[0;34m\u001b[0m\u001b[0;34m\u001b[0m\u001b[0m\n\u001b[0;32m--> 821\u001b[0;31m         \u001b[0marray\u001b[0m \u001b[0;34m=\u001b[0m \u001b[0mnp\u001b[0m\u001b[0;34m.\u001b[0m\u001b[0marray\u001b[0m\u001b[0;34m(\u001b[0m\u001b[0marray\u001b[0m\u001b[0;34m,\u001b[0m \u001b[0mdtype\u001b[0m\u001b[0;34m=\u001b[0m\u001b[0mdtype\u001b[0m\u001b[0;34m,\u001b[0m \u001b[0morder\u001b[0m\u001b[0;34m=\u001b[0m\u001b[0morder\u001b[0m\u001b[0;34m)\u001b[0m\u001b[0;34m\u001b[0m\u001b[0;34m\u001b[0m\u001b[0m\n\u001b[0m\u001b[1;32m    822\u001b[0m \u001b[0;34m\u001b[0m\u001b[0m\n\u001b[1;32m    823\u001b[0m     \u001b[0;32mreturn\u001b[0m \u001b[0marray\u001b[0m\u001b[0;34m\u001b[0m\u001b[0;34m\u001b[0m\u001b[0m\n",
      "\u001b[0;31mMemoryError\u001b[0m: Unable to allocate 13.0 GiB for an array with shape (36317, 47904) and data type float64"
     ]
    }
   ],
   "source": [
    "std_X = StandardScaler().fit(transformed_X)\n",
    "standard_X = std_X.transform(transformed_X)\n",
    "pca = PCA(n_components=450)\n",
    "pca.fit(standard_X)"
   ]
  },
  {
   "cell_type": "markdown",
   "id": "85c34e98",
   "metadata": {},
   "source": [
    "### Classifiers"
   ]
  },
  {
   "cell_type": "code",
   "execution_count": 9,
   "id": "dae8ef7d",
   "metadata": {},
   "outputs": [
    {
     "name": "stdout",
     "output_type": "stream",
     "text": [
      "Training accuracy: 0.9104017881\n",
      "Accuracy of classifier on dev set: 0.9141525632\n",
      "              precision    recall  f1-score   support\n",
      "\n",
      "           0       0.93      0.30      0.46       347\n",
      "           1       0.82      0.44      0.57       271\n",
      "           2       0.86      0.18      0.30       103\n",
      "           3       0.85      0.17      0.28        65\n",
      "\n",
      "   micro avg       0.87      0.32      0.47       786\n",
      "   macro avg       0.86      0.27      0.40       786\n",
      "weighted avg       0.88      0.32      0.46       786\n",
      " samples avg       0.05      0.04      0.04       786\n",
      "\n"
     ]
    }
   ],
   "source": [
    "basic_clf_1 = OneVsRestClassifier(LogisticRegression(\n",
    "    max_iter=2500\n",
    "), n_jobs=-1)\n",
    "\n",
    "basic_clf_1 = basic_clf_1.fit(train_X, train_Y)\n",
    "print(\"Training accuracy: {0:.10f}\".format(accuracy_score(train_Y, basic_clf_1.predict(train_X))))\n",
    "\n",
    "# test model on dev set\n",
    "preds = basic_clf_1.predict(dev_X)\n",
    "acc = accuracy_score(dev_Y, preds)\n",
    "print(\"Accuracy of classifier on dev set: {0:.10f}\".format(acc))\n",
    "\n",
    "print(classification_report(dev_Y, preds, zero_division=0))"
   ]
  },
  {
   "cell_type": "code",
   "execution_count": 10,
   "id": "62bdc06f",
   "metadata": {
    "scrolled": true
   },
   "outputs": [
    {
     "name": "stderr",
     "output_type": "stream",
     "text": [
      "/tmp/.u3556490/ipykernel_19499/2472075379.py:11: RuntimeWarning: invalid value encountered in true_divide\n",
      "  fscore = (2 * precision * recall) / (precision + recall)\n"
     ]
    },
    {
     "name": "stdout",
     "output_type": "stream",
     "text": [
      "Best Threshold=0.97179, F-Score=0.46053\n",
      "Best Threshold=0.32920, F-Score=0.60927\n",
      "Best Threshold=0.19679, F-Score=0.45455\n",
      "Best Threshold=0.75779, F-Score=0.28947\n"
     ]
    },
    {
     "data": {
      "image/png": "[encoded data removed]",
      "text/plain": [
       "<Figure size 432x288 with 1 Axes>"
      ]
     },
     "metadata": {
      "needs_background": "light"
     },
     "output_type": "display_data"
    }
   ],
   "source": [
    "best_thresholds, best_f1_scores = optimize_thresholds(basic_clf_1, dev_X, dev_Y)"
   ]
  },
  {
   "cell_type": "code",
   "execution_count": 11,
   "id": "0ddb1955",
   "metadata": {},
   "outputs": [
    {
     "name": "stdout",
     "output_type": "stream",
     "text": [
      "              precision    recall  f1-score   support\n",
      "\n",
      "           0    0.96296   0.29971   0.45714       347\n",
      "           1    0.75691   0.50554   0.60619       271\n",
      "           2    0.42241   0.47573   0.44749       103\n",
      "           3    1.00000   0.15385   0.26667        65\n",
      "\n",
      "   micro avg    0.72289   0.38168   0.49958       786\n",
      "   macro avg    0.78557   0.35871   0.44437       786\n",
      "weighted avg    0.82415   0.38168   0.49152       786\n",
      " samples avg    0.04035   0.04550   0.04083       786\n",
      "\n"
     ]
    }
   ],
   "source": [
    "preds = predictions_with_thresholds(basic_clf_1, best_thresholds, dev_X)\n",
    "print(classification_report(dev_Y, preds, zero_division=0, digits=5))"
   ]
  },
  {
   "cell_type": "code",
   "execution_count": 13,
   "id": "29042353",
   "metadata": {
    "scrolled": true
   },
   "outputs": [
    {
     "name": "stdout",
     "output_type": "stream",
     "text": [
      "Training accuracy: 0.9106471133\n",
      "Accuracy of classifier on dev set: 0.9139072848\n",
      "              precision    recall  f1-score   support\n",
      "\n",
      "           0    0.96330   0.30259   0.46053       347\n",
      "           1    0.80420   0.42435   0.55556       271\n",
      "           2    1.00000   0.18447   0.31148       103\n",
      "           3    1.00000   0.16923   0.28947        65\n",
      "\n",
      "   micro avg    0.88652   0.31807   0.46816       786\n",
      "   macro avg    0.94187   0.27016   0.40426       786\n",
      "weighted avg    0.91629   0.31807   0.45961       786\n",
      " samples avg    0.04742   0.04110   0.04202       786\n",
      "\n"
     ]
    }
   ],
   "source": [
    "from sklearn.svm import LinearSVC\n",
    "\n",
    "basic_clf_2 = OneVsRestClassifier(LinearSVC(dual=False, max_iter=2500), n_jobs=-1)\n",
    "\n",
    "basic_clf_2 = basic_clf_2.fit(train_X, train_Y)\n",
    "print(\"Training accuracy: {0:.10f}\".format(accuracy_score(train_Y, basic_clf_2.predict(train_X))))\n",
    "\n",
    "# test model on dev set\n",
    "preds = basic_clf_2.predict(dev_X)\n",
    "acc = accuracy_score(dev_Y, preds)\n",
    "print(\"Accuracy of classifier on dev set: {0:.10f}\".format(acc))\n",
    "\n",
    "print(classification_report(dev_Y, preds, zero_division=0, digits=5))"
   ]
  },
  {
   "cell_type": "markdown",
   "id": "5e084e9a",
   "metadata": {},
   "source": [
    "### Regressors"
   ]
  },
  {
   "cell_type": "code",
   "execution_count": 14,
   "id": "caf32afb",
   "metadata": {},
   "outputs": [],
   "source": [
    "from sklearn.multioutput import MultiOutputRegressor\n",
    "from sklearn.linear_model import LinearRegression\n",
    "\n",
    "linear_regr = MultiOutputRegressor(LinearRegression(), n_jobs=-1)\n",
    "linear_regr = linear_regr.fit(train_X, train_Y)"
   ]
  },
  {
   "cell_type": "code",
   "execution_count": 15,
   "id": "d1571641",
   "metadata": {},
   "outputs": [
    {
     "name": "stdout",
     "output_type": "stream",
     "text": [
      "Best Threshold=0.70193, F-Score=0.46460\n",
      "Best Threshold=0.59900, F-Score=0.61062\n",
      "Best Threshold=0.55366, F-Score=0.46083\n",
      "Best Threshold=0.71504, F-Score=0.28947\n"
     ]
    },
    {
     "data": {
      "image/png": "[encoded data removed]",
      "text/plain": [
       "<Figure size 432x288 with 1 Axes>"
      ]
     },
     "metadata": {
      "needs_background": "light"
     },
     "output_type": "display_data"
    }
   ],
   "source": [
    "best_thresholds, best_f1_scores = regressor_find_thresholds(linear_regr, dev_X, dev_Y, 'sigmoid')"
   ]
  },
  {
   "cell_type": "code",
   "execution_count": 16,
   "id": "f96c13b5",
   "metadata": {
    "scrolled": true
   },
   "outputs": [
    {
     "name": "stdout",
     "output_type": "stream",
     "text": [
      "              precision    recall  f1-score   support\n",
      "\n",
      "           0    1.00000   0.29971   0.46120       347\n",
      "           1    0.76111   0.50554   0.60754       271\n",
      "           2    0.43363   0.47573   0.45370       103\n",
      "           3    1.00000   0.15385   0.26667        65\n",
      "\n",
      "   micro avg    0.73710   0.38168   0.50293       786\n",
      "   macro avg    0.79868   0.35871   0.44728       786\n",
      "weighted avg    0.84342   0.38168   0.49458       786\n",
      " samples avg    0.03982   0.04552   0.04050       786\n",
      "\n"
     ]
    }
   ],
   "source": [
    "preds = regression_label(linear_regr, dev_X, best_thresholds)\n",
    "print(classification_report(dev_Y, preds, zero_division=0, digits=5))"
   ]
  },
  {
   "cell_type": "code",
   "execution_count": 17,
   "id": "1b5e699c",
   "metadata": {},
   "outputs": [],
   "source": [
    "from sklearn.svm import LinearSVR\n",
    "\n",
    "svr_regr = MultiOutputRegressor(LinearSVR(loss='squared_epsilon_insensitive', dual=False, C=0.5), n_jobs=-1)\n",
    "\n",
    "svr_regr = svr_regr.fit(train_X, train_Y)"
   ]
  },
  {
   "cell_type": "code",
   "execution_count": 18,
   "id": "0c923118",
   "metadata": {
    "scrolled": true
   },
   "outputs": [
    {
     "name": "stdout",
     "output_type": "stream",
     "text": [
      "Best Threshold=0.70843, F-Score=0.46460\n",
      "Best Threshold=0.59823, F-Score=0.60793\n",
      "Best Threshold=0.55398, F-Score=0.43137\n",
      "Best Threshold=0.53950, F-Score=0.30769\n"
     ]
    },
    {
     "data": {
      "image/png": "[encoded data removed]",
      "text/plain": [
       "<Figure size 432x288 with 1 Axes>"
      ]
     },
     "metadata": {
      "needs_background": "light"
     },
     "output_type": "display_data"
    }
   ],
   "source": [
    "best_thresholds, best_f1_scores = regressor_find_thresholds(svr_regr, dev_X, dev_Y, 'sigmoid')"
   ]
  },
  {
   "cell_type": "code",
   "execution_count": 19,
   "id": "3bb3b932",
   "metadata": {},
   "outputs": [
    {
     "name": "stdout",
     "output_type": "stream",
     "text": [
      "              precision    recall  f1-score   support\n",
      "\n",
      "           0    1.00000   0.29971   0.46120       347\n",
      "           1    0.75275   0.50554   0.60486       271\n",
      "           2    0.43000   0.41748   0.42365       103\n",
      "           3    0.91667   0.16923   0.28571        65\n",
      "\n",
      "   micro avg    0.74121   0.37532   0.49831       786\n",
      "   macro avg    0.77485   0.34799   0.44385       786\n",
      "weighted avg    0.83317   0.37532   0.49130       786\n",
      " samples avg    0.04006   0.04532   0.04046       786\n",
      "\n"
     ]
    }
   ],
   "source": [
    "preds = regression_label(svr_regr, dev_X, best_thresholds)\n",
    "print(classification_report(dev_Y, preds, zero_division=0, digits=5))"
   ]
  },
  {
   "cell_type": "code",
   "execution_count": 29,
   "id": "2dce9db8",
   "metadata": {},
   "outputs": [],
   "source": [
    "from sklearn.neighbors import KNeighborsRegressor\n",
    "\n",
    "knr_regr = MultiOutputRegressor(KNeighborsRegressor(weights='distance', n_neighbors=16), n_jobs=-1)\n",
    "\n",
    "knr_regr = knr_regr.fit(train_X, train_Y)"
   ]
  },
  {
   "cell_type": "code",
   "execution_count": 30,
   "id": "05795391",
   "metadata": {
    "scrolled": true
   },
   "outputs": [
    {
     "name": "stdout",
     "output_type": "stream",
     "text": [
      "Best Threshold=0.56515, F-Score=0.46612\n",
      "Best Threshold=0.56239, F-Score=0.45367\n",
      "Best Threshold=0.53565, F-Score=0.29101\n",
      "Best Threshold=0.54681, F-Score=0.22727\n"
     ]
    },
    {
     "name": "stderr",
     "output_type": "stream",
     "text": [
      "/tmp/.u3556490/ipykernel_19499/984687278.py:20: RuntimeWarning: invalid value encountered in true_divide\n",
      "  fscore = (2 * precision * recall) / (precision + recall)\n",
      "/tmp/.u3556490/ipykernel_19499/984687278.py:20: RuntimeWarning: invalid value encountered in true_divide\n",
      "  fscore = (2 * precision * recall) / (precision + recall)\n"
     ]
    },
    {
     "data": {
      "image/png": "[encoded data removed]",
      "text/plain": [
       "<Figure size 432x288 with 1 Axes>"
      ]
     },
     "metadata": {
      "needs_background": "light"
     },
     "output_type": "display_data"
    }
   ],
   "source": [
    "best_thresholds, best_f1_scores = regressor_find_thresholds(knr_regr, dev_X, dev_Y, 'sigmoid')"
   ]
  },
  {
   "cell_type": "code",
   "execution_count": 31,
   "id": "8133e38b",
   "metadata": {},
   "outputs": [
    {
     "name": "stdout",
     "output_type": "stream",
     "text": [
      "              precision    recall  f1-score   support\n",
      "\n",
      "           0    0.36102   0.65130   0.46454       347\n",
      "           1    0.36142   0.60148   0.45152       271\n",
      "           2    0.19708   0.52427   0.28647       103\n",
      "           3    0.21212   0.21538   0.21374        65\n",
      "\n",
      "   micro avg    0.32251   0.58142   0.41489       786\n",
      "   macro avg    0.28291   0.49811   0.35407       786\n",
      "weighted avg    0.32736   0.58142   0.41598       786\n",
      " samples avg    0.05770   0.06555   0.05667       786\n",
      "\n"
     ]
    }
   ],
   "source": [
    "preds = regression_label(knr_regr, dev_X, best_thresholds)\n",
    "print(classification_report(dev_Y, preds, zero_division=0, digits=5))"
   ]
  },
  {
   "cell_type": "code",
   "execution_count": 49,
   "id": "6921eb08",
   "metadata": {
    "scrolled": true
   },
   "outputs": [
    {
     "name": "stdout",
     "output_type": "stream",
     "text": [
      "Pipeline(steps=[('splinetransformer', SplineTransformer(include_bias=False)),\n",
      "                ('standardscaler', StandardScaler()),\n",
      "                ('nystroem', Nystroem(degree=3, kernel='poly')),\n",
      "                ('multioutputregressor',\n",
      "                 MultiOutputRegressor(estimator=LinearSVR(C=0.5, dual=False,\n",
      "                                                          loss='squared_epsilon_insensitive'),\n",
      "                                      n_jobs=-1))],\n",
      "         verbose=True)\n",
      "[Pipeline] . (step 1 of 4) Processing splinetransformer, total=   0.8s\n",
      "[Pipeline] .... (step 2 of 4) Processing standardscaler, total=   0.2s\n",
      "[Pipeline] .......... (step 3 of 4) Processing nystroem, total=   0.4s\n",
      "[Pipeline]  (step 4 of 4) Processing multioutputregressor, total=   3.9s\n"
     ]
    }
   ],
   "source": [
    "from sklearn.preprocessing import SplineTransformer\n",
    "\n",
    "svr_regr = MultiOutputRegressor(LinearSVR(loss='squared_epsilon_insensitive', dual=False, C=0.5), n_jobs=-1)\n",
    "\n",
    "pipe = make_pipeline(\n",
    "    SplineTransformer(include_bias=False),\n",
    "    # PolynomialFeatures(),\n",
    "    StandardScaler(),\n",
    "    Nystroem(kernel='poly', degree=3),\n",
    "    # PolynomialCountSketch(degree=3, n_components=300),\n",
    "    svr_regr, verbose=True\n",
    ")\n",
    "print(pipe)\n",
    "\n",
    "poly_svr_regr = pipe.fit(train_X, train_Y)"
   ]
  },
  {
   "cell_type": "code",
   "execution_count": 50,
   "id": "1195832a",
   "metadata": {
    "scrolled": true
   },
   "outputs": [
    {
     "name": "stdout",
     "output_type": "stream",
     "text": [
      "Best Threshold=0.57020, F-Score=0.54737\n",
      "Best Threshold=0.55587, F-Score=0.59191\n",
      "Best Threshold=0.55185, F-Score=0.36681\n",
      "Best Threshold=0.54540, F-Score=0.26000\n"
     ]
    },
    {
     "name": "stderr",
     "output_type": "stream",
     "text": [
      "/tmp/.u3556490/ipykernel_19499/984687278.py:20: RuntimeWarning: invalid value encountered in true_divide\n",
      "  fscore = (2 * precision * recall) / (precision + recall)\n"
     ]
    },
    {
     "data": {
      "image/png": "[encoded data removed]",
      "text/plain": [
       "<Figure size 432x288 with 1 Axes>"
      ]
     },
     "metadata": {
      "needs_background": "light"
     },
     "output_type": "display_data"
    }
   ],
   "source": [
    "best_thresholds, best_f1_scores = regressor_find_thresholds(poly_svr_regr, dev_X, dev_Y, 'sigmoid')"
   ]
  },
  {
   "cell_type": "code",
   "execution_count": 51,
   "id": "34a8cf48",
   "metadata": {},
   "outputs": [
    {
     "name": "stdout",
     "output_type": "stream",
     "text": [
      "              precision    recall  f1-score   support\n",
      "\n",
      "           0    0.57098   0.52161   0.54518       347\n",
      "           1    0.58824   0.59041   0.58932       271\n",
      "           2    0.32800   0.39806   0.35965       103\n",
      "           3    0.35294   0.18462   0.24242        65\n",
      "\n",
      "   micro avg    0.52674   0.50127   0.51369       786\n",
      "   macro avg    0.46004   0.42367   0.43414       786\n",
      "weighted avg    0.52706   0.50127   0.51105       786\n",
      " samples avg    0.05032   0.05897   0.05068       786\n",
      "\n"
     ]
    },
    {
     "name": "stderr",
     "output_type": "stream",
     "text": [
      "/userhome/cs/u3556490/anaconda3/lib/python3.8/site-packages/sklearn/linear_model/_logistic.py:814: ConvergenceWarning: lbfgs failed to converge (status=1):\n",
      "STOP: TOTAL NO. of ITERATIONS REACHED LIMIT.\n",
      "\n",
      "Increase the number of iterations (max_iter) or scale the data as shown in:\n",
      "    https://scikit-learn.org/stable/modules/preprocessing.html\n",
      "Please also refer to the documentation for alternative solver options:\n",
      "    https://scikit-learn.org/stable/modules/linear_model.html#logistic-regression\n",
      "  n_iter_i = _check_optimize_result(\n",
      "/userhome/cs/u3556490/anaconda3/lib/python3.8/site-packages/sklearn/linear_model/_logistic.py:814: ConvergenceWarning: lbfgs failed to converge (status=1):\n",
      "STOP: TOTAL NO. of ITERATIONS REACHED LIMIT.\n",
      "\n",
      "Increase the number of iterations (max_iter) or scale the data as shown in:\n",
      "    https://scikit-learn.org/stable/modules/preprocessing.html\n",
      "Please also refer to the documentation for alternative solver options:\n",
      "    https://scikit-learn.org/stable/modules/linear_model.html#logistic-regression\n",
      "  n_iter_i = _check_optimize_result(\n",
      "/userhome/cs/u3556490/anaconda3/lib/python3.8/site-packages/sklearn/linear_model/_logistic.py:814: ConvergenceWarning: lbfgs failed to converge (status=1):\n",
      "STOP: TOTAL NO. of ITERATIONS REACHED LIMIT.\n",
      "\n",
      "Increase the number of iterations (max_iter) or scale the data as shown in:\n",
      "    https://scikit-learn.org/stable/modules/preprocessing.html\n",
      "Please also refer to the documentation for alternative solver options:\n",
      "    https://scikit-learn.org/stable/modules/linear_model.html#logistic-regression\n",
      "  n_iter_i = _check_optimize_result(\n"
     ]
    }
   ],
   "source": [
    "preds = regression_label(poly_svr_regr, dev_X, best_thresholds)\n",
    "print(classification_report(dev_Y, preds, zero_division=0, digits=5))"
   ]
  },
  {
   "cell_type": "markdown",
   "id": "5b46b43c",
   "metadata": {},
   "source": [
    "### Ultimate weapon: Regression splines\n",
    "#### MARS"
   ]
  },
  {
   "cell_type": "code",
   "execution_count": 40,
   "id": "1d3fc046",
   "metadata": {},
   "outputs": [],
   "source": [
    "earth_regr = MultiOutputRegressor(Earth(max_degree=3, max_terms=500, use_fast=True), n_jobs=-1)\n",
    "earth_regr = earth_regr.fit(train_X, train_Y)"
   ]
  },
  {
   "cell_type": "code",
   "execution_count": 41,
   "id": "ed69d158",
   "metadata": {
    "scrolled": true
   },
   "outputs": [
    {
     "name": "stdout",
     "output_type": "stream",
     "text": [
      "Best Threshold=0.71765, F-Score=0.46460\n",
      "Best Threshold=0.61159, F-Score=0.61111\n",
      "Best Threshold=0.58190, F-Score=0.47904\n",
      "Best Threshold=0.72847, F-Score=0.28947\n"
     ]
    },
    {
     "data": {
      "image/png": "[encoded data removed]",
      "text/plain": [
       "<Figure size 432x288 with 1 Axes>"
      ]
     },
     "metadata": {
      "needs_background": "light"
     },
     "output_type": "display_data"
    }
   ],
   "source": [
    "best_thresholds, best_f1_scores = regressor_find_thresholds(earth_regr, dev_X, dev_Y, 'sigmoid')"
   ]
  },
  {
   "cell_type": "code",
   "execution_count": 42,
   "id": "cb2c3079",
   "metadata": {
    "scrolled": true
   },
   "outputs": [
    {
     "name": "stdout",
     "output_type": "stream",
     "text": [
      "              precision    recall  f1-score   support\n",
      "\n",
      "           0    1.00000   0.29971   0.46120       347\n",
      "           1    0.72449   0.52399   0.60814       271\n",
      "           2    0.61905   0.37864   0.46988       103\n",
      "           3    1.00000   0.15385   0.26667        65\n",
      "\n",
      "   micro avg    0.79088   0.37532   0.50906       786\n",
      "   macro avg    0.83588   0.33905   0.45147       786\n",
      "weighted avg    0.85509   0.37532   0.49691       786\n",
      " samples avg    0.04133   0.04529   0.04128       786\n",
      "\n"
     ]
    }
   ],
   "source": [
    "preds = regression_label(earth_regr, dev_X, best_thresholds)\n",
    "print(classification_report(dev_Y, preds, zero_division=0, digits=5))"
   ]
  }
 ],
 "metadata": {
  "kernelspec": {
   "display_name": "Python 3 (ipykernel)",
   "language": "python",
   "name": "python3"
  },
  "language_info": {
   "codemirror_mode": {
    "name": "ipython",
    "version": 3
   },
   "file_extension": ".py",
   "mimetype": "text/x-python",
   "name": "python",
   "nbconvert_exporter": "python",
   "pygments_lexer": "ipython3",
   "version": "3.9.7"
  }
 },
 "nbformat": 4,
 "nbformat_minor": 5
}
