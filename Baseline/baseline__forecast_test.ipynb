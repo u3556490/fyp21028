{
 "cells": [
  {
   "cell_type": "markdown",
   "metadata": {},
   "source": [
    "# Non-Operational Forecasts: Testing the Baselines"
   ]
  },
  {
   "cell_type": "code",
   "execution_count": 1,
   "metadata": {},
   "outputs": [],
   "source": [
    "### prerequisites ###\n",
    "# numpy, pandas, scipy, xgboost, sklearn, matplotlib (optional)\n",
    "\n",
    "import numpy as np\n",
    "import pandas as pd\n",
    "import sys\n",
    "import os\n",
    "import joblib\n",
    "import matplotlib.pyplot as plt\n",
    "import xgboost as xgb\n",
    "import scipy\n",
    "%matplotlib inline"
   ]
  },
  {
   "cell_type": "code",
   "execution_count": 2,
   "metadata": {},
   "outputs": [
    {
     "name": "stdout",
     "output_type": "stream",
     "text": [
      "<class 'sklearn.multioutput.MultiOutputClassifier'>\n",
      "<class 'sklearn.multioutput.ClassifierChain'>\n"
     ]
    }
   ],
   "source": [
    "### load models ###\n",
    "# minimal impact: use xgboost_multioutput_400, F1 score 0.81233, threshold 0.23225\n",
    "# limited impact: use xgboost_multioutput_400, F1 score 0.79934, threshold 0.15819\n",
    "# substantial impact: use xgboost_chain_400, F1 score 0.76786, threshold 0.28913\n",
    "# direct strike: use xgboost_chain_400, F1 score 0.77698, threshold 0.23056\n",
    "\n",
    "model_xgboost_multioutput_400 = joblib.load(\"./models/baseline_model_xgboost_multioutput_400_2021-12-14 20:26.skl\")\n",
    "model_xgboost_chain_400 = joblib.load(\"./models/baseline_model_xgboost_chain_400_2021-12-14 20:29.skl\")\n",
    "\n",
    "print(type(model_xgboost_multioutput_400))\n",
    "print(type(model_xgboost_chain_400))"
   ]
  },
  {
   "cell_type": "code",
   "execution_count": 3,
   "metadata": {},
   "outputs": [
    {
     "name": "stdout",
     "output_type": "stream",
     "text": [
      "   MM  DD  HH  00LAT  00LON  00WIND  06LAT  06LON  06WIND  12LAT  12LON  \\\n",
      "0  12  20   6   18.3  111.8      45   17.3  110.9      70   16.0  110.6   \n",
      "\n",
      "   12WIND  18LAT  18LON  18WIND  24LAT  24LON  24WIND  \n",
      "0      90   14.9  110.8     105   14.0  110.7     120  \n"
     ]
    }
   ],
   "source": [
    "### Prepare test data ###\n",
    "# times are in UTC\n",
    "mm = 12\n",
    "dd = 20\n",
    "hh = 6\n",
    "# current pos\n",
    "LAT00 = 18.3\n",
    "LON00 = 111.8\n",
    "WIND00 = 45\n",
    "# six hours ago\n",
    "LAT06 = 17.3\n",
    "LON06 = 110.9\n",
    "WIND06 = 70\n",
    "LAT12 = 16.0\n",
    "LON12 = 110.6\n",
    "WIND12 = 90\n",
    "LAT18 = 14.9\n",
    "LON18 = 110.8\n",
    "WIND18 = 105\n",
    "LAT24 = 14.0\n",
    "LON24 = 110.7\n",
    "WIND24 = 120\n",
    "\n",
    "data = pd.DataFrame(data=[\n",
    "    (mm, dd, hh, LAT00, LON00, WIND00, LAT06, LON06, WIND06, LAT12, LON12, WIND12, LAT18, LON18, WIND18, LAT24, LON24, WIND24)\n",
    "], columns=[\n",
    "    \"MM\", \"DD\", \"HH\", \"00LAT\", \"00LON\", \"00WIND\",\"06LAT\", \"06LON\", \"06WIND\",\"12LAT\", \"12LON\", \"12WIND\",\"18LAT\", \"18LON\", \"18WIND\",\"24LAT\", \"24LON\", \"24WIND\"\n",
    "])\n",
    "print(data)"
   ]
  },
  {
   "cell_type": "code",
   "execution_count": 4,
   "metadata": {},
   "outputs": [],
   "source": [
    "### make predictions\n",
    "preds_xgboost_multioutput_400 = model_xgboost_multioutput_400.predict_proba(data)\n",
    "preds_model_xgboost_chain_400 = model_xgboost_chain_400.predict_proba(data)\n",
    "\n",
    "# ugly code to handle the formats of the preds\n",
    "raw_low_impact = preds_xgboost_multioutput_400[0][0][1]\n",
    "raw_mid_impact = preds_xgboost_multioutput_400[1][0][1]\n",
    "raw_big_impact = preds_model_xgboost_chain_400[0][2]\n",
    "raw_direct_strike = preds_model_xgboost_chain_400[0][3]"
   ]
  },
  {
   "cell_type": "code",
   "execution_count": 5,
   "metadata": {},
   "outputs": [
    {
     "name": "stdout",
     "output_type": "stream",
     "text": [
      "Raw probabilities:\n",
      "Minimal impact: 0.01674%\n",
      "Limited impact: 0.34018%\n",
      "Substantial impact: 0.00056%\n",
      "Direct strike: 0.00051%\n"
     ]
    }
   ],
   "source": [
    "print(\"Raw probabilities:\")\n",
    "print(\"Minimal impact: {0:.5%}\".format(raw_low_impact))\n",
    "print(\"Limited impact: {0:.5%}\".format(raw_mid_impact))\n",
    "print(\"Substantial impact: {0:.5%}\".format(raw_big_impact))\n",
    "print(\"Direct strike: {0:.5%}\".format(raw_direct_strike))"
   ]
  },
  {
   "cell_type": "code",
   "execution_count": 6,
   "metadata": {},
   "outputs": [
    {
     "name": "stdout",
     "output_type": "stream",
     "text": [
      "Linearly adjusted probabilities:\n",
      "Minimal impact: 34.87469%\n",
      "Limited impact: 40.60430%\n",
      "Substantial impact: 29.66394%\n",
      "Direct strike: 35.01773%\n"
     ]
    }
   ],
   "source": [
    "### transform preds according to thresholds ###\n",
    "# probably useless\n",
    "\n",
    "# linear interpolation\n",
    "def linear_interpolation(threshold, x):\n",
    "    return 0.5 + (x - threshold) * (1 - 0.5) / (1 - threshold)\n",
    "    if x >= threshold:\n",
    "        reference_point = (1,1)\n",
    "        return 0.5 + (x - threshold) * (1 - 0.5) / (1 - threshold)\n",
    "    else:\n",
    "        reference_point = (0,0)\n",
    "        return 0 + (threshold - x) * (0.5 - 0) / (threshold - 0)\n",
    "\n",
    "low_impact = linear_interpolation(0.23225, raw_low_impact)\n",
    "mid_impact = linear_interpolation(0.15819, raw_mid_impact)\n",
    "big_impact = linear_interpolation(0.28913, raw_big_impact)\n",
    "direct_strike = linear_interpolation(0.23056, raw_direct_strike)\n",
    "    \n",
    "print(\"Linearly adjusted probabilities:\")\n",
    "print(\"Minimal impact: {0:.5%}\".format(low_impact))\n",
    "print(\"Limited impact: {0:.5%}\".format(mid_impact))\n",
    "print(\"Substantial impact: {0:.5%}\".format(big_impact))\n",
    "print(\"Direct strike: {0:.5%}\".format(direct_strike))"
   ]
  },
  {
   "cell_type": "code",
   "execution_count": 8,
   "metadata": {},
   "outputs": [],
   "source": [
    "preds_xgboost_multioutput_400 = model_xgboost_multioutput_400.predict(data)\n",
    "preds_model_xgboost_chain_400 = model_xgboost_chain_400.predict(data)\n",
    "\n",
    "# ugly code to handle the formats of the preds\n",
    "deterministic_low_impact = preds_xgboost_multioutput_400[0][0]\n",
    "deterministic_mid_impact = preds_xgboost_multioutput_400[0][1]\n",
    "deterministic_big_impact = int(preds_model_xgboost_chain_400[0][2])\n",
    "deterministic_direct_strike = int(preds_model_xgboost_chain_400[0][3])"
   ]
  },
  {
   "cell_type": "code",
   "execution_count": 9,
   "metadata": {},
   "outputs": [
    {
     "name": "stdout",
     "output_type": "stream",
     "text": [
      "Deterministic forecast (0 = no, 1= yes):\n",
      "Minimal impact: 0\n",
      "Limited impact: 0\n",
      "Substantial impact: 0\n",
      "Direct strike: 0\n"
     ]
    }
   ],
   "source": [
    "print(\"Deterministic forecast (0 = no, 1= yes):\")\n",
    "print(\"Minimal impact: {0}\".format(deterministic_low_impact))\n",
    "print(\"Limited impact: {0}\".format(deterministic_mid_impact))\n",
    "print(\"Substantial impact: {0}\".format(deterministic_big_impact))\n",
    "print(\"Direct strike: {0}\".format(deterministic_direct_strike))"
   ]
  },
  {
   "cell_type": "code",
   "execution_count": 6,
   "metadata": {},
   "outputs": [
    {
     "name": "stdout",
     "output_type": "stream",
     "text": [
      "Spline adjusted probabilities:\n",
      "Minimal impact: 0.04188%\n",
      "Limited impact: 1.21039%\n",
      "Substantial impact: 0.00113%\n",
      "Direct strike: 0.00130%\n"
     ]
    }
   ],
   "source": [
    "from scipy import interpolate\n",
    "\n",
    "def f(x, threshold):\n",
    "    x_points = [0, threshold, 1]\n",
    "    y_points = [0, 0.5, 1]\n",
    "    \n",
    "    # tck = interpolate.splrep(x_points, y_points, k=2)\n",
    "    # return interpolate.splev(x, tck)\n",
    "    \n",
    "    cs = interpolate.CubicSpline(x_points, y_points)\n",
    "    return cs(x)\n",
    "\n",
    "low_impact = f(raw_low_impact, 0.23225)\n",
    "mid_impact = f(raw_mid_impact, 0.15819)\n",
    "big_impact = f(raw_big_impact, 0.28913)\n",
    "direct_strike = f(raw_direct_strike, 0.23056)\n",
    "    \n",
    "print(\"Spline adjusted probabilities:\")\n",
    "print(\"Minimal impact: {0:.5%}\".format(low_impact))\n",
    "print(\"Limited impact: {0:.5%}\".format(mid_impact))\n",
    "print(\"Substantial impact: {0:.5%}\".format(big_impact))\n",
    "print(\"Direct strike: {0:.5%}\".format(direct_strike))"
   ]
  }
 ],
 "metadata": {
  "kernelspec": {
   "display_name": "Python 3 (ipykernel)",
   "language": "python",
   "name": "python3"
  },
  "language_info": {
   "codemirror_mode": {
    "name": "ipython",
    "version": 3
   },
   "file_extension": ".py",
   "mimetype": "text/x-python",
   "name": "python",
   "nbconvert_exporter": "python",
   "pygments_lexer": "ipython3",
   "version": "3.9.7"
  }
 },
 "nbformat": 4,
 "nbformat_minor": 4
}
