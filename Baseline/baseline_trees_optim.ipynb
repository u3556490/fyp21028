{
 "cells": [
  {
   "cell_type": "markdown",
   "id": "e846d6cb",
   "metadata": {},
   "source": [
    "# Grid-searching to optimize hyperparameters for tree-based models on TSNV_24 dataset"
   ]
  },
  {
   "cell_type": "code",
   "execution_count": 1,
   "id": "f241d3ca",
   "metadata": {},
   "outputs": [
    {
     "name": "stderr",
     "output_type": "stream",
     "text": [
      "/userhome/cs/u3556490/anaconda3/envs/test/lib/python3.9/site-packages/xgboost/compat.py:36: FutureWarning: pandas.Int64Index is deprecated and will be removed from pandas in a future version. Use pandas.Index with the appropriate dtype instead.\n",
      "  from pandas import MultiIndex, Int64Index\n"
     ]
    }
   ],
   "source": [
    "import numpy as np\n",
    "import pandas as pd\n",
    "import xgboost as xgb\n",
    "import sys\n",
    "import os\n",
    "import matplotlib.pyplot as plt\n",
    "\n",
    "import warnings\n",
    "warnings.simplefilter(action='ignore', category=FutureWarning)\n",
    "\n",
    "%matplotlib inline"
   ]
  },
  {
   "cell_type": "code",
   "execution_count": 2,
   "id": "2623b6f9",
   "metadata": {},
   "outputs": [
    {
     "name": "stdout",
     "output_type": "stream",
     "text": [
      "Training set size: 36317; Dev set size: 4036; Testing set size: 4484\n"
     ]
    }
   ],
   "source": [
    "from sklearn.model_selection import train_test_split\n",
    "\n",
    "def separateDataset(dataset, train_ratio):\n",
    "    '''\n",
    "    Takes in a dataset (pandas df) and a ratio value, returns a dictionary containing the separated dataset.\n",
    "    Key \"train\" = train set, \"dev\" = dev set (size = train ratio * (sizeof input df - test set)), \"test\" = test set (size = train ratio * sizeof input df)\n",
    "    '''\n",
    "    train_dev_set, test_set = train_test_split(dataset, train_size=train_ratio, random_state=42)\n",
    "    train_set, dev_set = train_test_split(train_dev_set, train_size=train_ratio, random_state=42)\n",
    "    print(\"Training set size: {0}; Dev set size: {1}; Testing set size: {2}\".format(len(train_set), len(dev_set), len(test_set)))\n",
    "    return { \"train\": train_set, \"dev\": dev_set, \"test\": test_set }\n",
    "\n",
    "def pandasToXY(dataframe):\n",
    "    '''\n",
    "    converts the given pandas df to X and Y sub-arrays. X is pandas df, Y is np int array.\n",
    "    note: the range of columns to select as Y must be double checked when a different dataset is used.\n",
    "    '''\n",
    "    X = dataframe.drop(['LOW_IMPACT', 'MID_IMPACT', 'BIG_IMPACT', 'DIRECT_STRIKE'], axis=1)\n",
    "    Y = np.asarray(dataframe.iloc[:,:4]).astype(int)\n",
    "    return X, Y\n",
    "\n",
    "dataset = pd.read_pickle('../Dataset/baseline_dataset_tsnv_24.gz')\n",
    "# train-dev-test splitting\n",
    "splitDataset = separateDataset(dataset, 0.9)\n",
    "# separate each of the 3 sets into X and Y\n",
    "train_full = splitDataset[\"train\"]\n",
    "train_X, train_Y = pandasToXY(train_full)\n",
    "dev_full = splitDataset[\"dev\"]\n",
    "dev_X, dev_Y = pandasToXY(dev_full)\n",
    "test_full = splitDataset[\"test\"]\n",
    "test_X, test_Y = pandasToXY(test_full)"
   ]
  },
  {
   "cell_type": "markdown",
   "id": "1d0f0bca",
   "metadata": {},
   "source": [
    "### Extra Trees\n",
    "Considered because it shows remarkable performance in terms of Brier scores and capability at detecting direct strikes. As such, only one extra tree classifier will be optimized to hunt for direct strikes, so that it can augment the preexisting XGBoost classifier.\n",
    "\n",
    "Best value for max_depth among \\[10 .. 35\\]: 35 (score strictly increases with depth)\n",
    "\n",
    "Best value for n_estimators among \\[200 .. 750\\]: 700 \n",
    "\n",
    "Best value for max_features among \\[5,6,7,8,9,16,32,48,52,56,60,64\\]: 48\n",
    "\n",
    "Best value for min_samples_split among \\[1,2,3,4,5\\]: 2"
   ]
  },
  {
   "cell_type": "code",
   "execution_count": null,
   "id": "b38e65c8",
   "metadata": {
    "scrolled": false
   },
   "outputs": [],
   "source": [
    "from sklearn.model_selection import GridSearchCV\n",
    "from sklearn.metrics import make_scorer, f1_score\n",
    "from sklearn.ensemble import ExtraTreesClassifier\n",
    "\n",
    "param_grid = {\"n_estimators\": [350,400,450,500,550,600,650,700,750]}\n",
    "estimator = ExtraTreesClassifier(max_features=48, max_depth=35, n_jobs=-1)\n",
    "\n",
    "scorer = make_scorer(f1_score, zero_division=0)\n",
    "\n",
    "# because extra trees fit extra fast, we can afford to have 4 folds cross-validation\n",
    "gscv = GridSearchCV(estimator, param_grid, scoring=scorer, n_jobs=-1, verbose=2, cv=4).fit(train_X, train_Y[:,3]) # 3rd target"
   ]
  },
  {
   "cell_type": "code",
   "execution_count": 38,
   "id": "1e7d6aa7",
   "metadata": {
    "scrolled": true
   },
   "outputs": [
    {
     "data": {
      "text/plain": [
       "{'mean_fit_time': array([30.03057957, 33.15747422, 37.78805345, 42.1100117 , 46.39928061,\n",
       "        50.51122922, 54.87360358, 59.04191297, 38.73519921]),\n",
       " 'std_fit_time': array([0.63147772, 0.45530348, 0.23105964, 0.55284248, 0.36142964,\n",
       "        0.49464852, 0.71787096, 0.55132502, 0.51495372]),\n",
       " 'mean_score_time': array([0.99561048, 1.04714322, 1.16889209, 1.22897637, 1.39281464,\n",
       "        1.42062545, 1.4696812 , 1.60006422, 0.92200232]),\n",
       " 'std_score_time': array([0.08403018, 0.02720967, 0.07398854, 0.14278891, 0.05937921,\n",
       "        0.03298531, 0.08524726, 0.24584919, 0.05586688]),\n",
       " 'param_n_estimators': masked_array(data=[350, 400, 450, 500, 550, 600, 650, 700, 750],\n",
       "              mask=[False, False, False, False, False, False, False, False,\n",
       "                    False],\n",
       "        fill_value='?',\n",
       "             dtype=object),\n",
       " 'params': [{'n_estimators': 350},\n",
       "  {'n_estimators': 400},\n",
       "  {'n_estimators': 450},\n",
       "  {'n_estimators': 500},\n",
       "  {'n_estimators': 550},\n",
       "  {'n_estimators': 600},\n",
       "  {'n_estimators': 650},\n",
       "  {'n_estimators': 700},\n",
       "  {'n_estimators': 750}],\n",
       " 'split0_test_score': array([0.44545455, 0.45248869, 0.46636771, 0.44545455, 0.44036697,\n",
       "        0.46846847, 0.46846847, 0.45454545, 0.46846847]),\n",
       " 'split1_test_score': array([0.44444444, 0.44131455, 0.44444444, 0.4587156 , 0.44651163,\n",
       "        0.44651163, 0.44444444, 0.46082949, 0.4537037 ]),\n",
       " 'split2_test_score': array([0.43192488, 0.41706161, 0.44651163, 0.43192488, 0.43925234,\n",
       "        0.4537037 , 0.43925234, 0.43925234, 0.43192488]),\n",
       " 'split3_test_score': array([0.49781659, 0.49781659, 0.51304348, 0.49122807, 0.5       ,\n",
       "        0.50220264, 0.49122807, 0.49122807, 0.47787611]),\n",
       " 'mean_test_score': array([0.45491012, 0.45217036, 0.46759182, 0.45683077, 0.45653273,\n",
       "        0.46772161, 0.46084833, 0.46146384, 0.45799329]),\n",
       " 'std_test_score': array([0.02533883, 0.02930082, 0.02760221, 0.02200255, 0.02524762,\n",
       "        0.02142349, 0.02071515, 0.01889131, 0.01734228]),\n",
       " 'rank_test_score': array([8, 9, 2, 6, 7, 1, 4, 3, 5], dtype=int32)}"
      ]
     },
     "execution_count": 38,
     "metadata": {},
     "output_type": "execute_result"
    }
   ],
   "source": [
    "gscv.cv_results_"
   ]
  },
  {
   "cell_type": "code",
   "execution_count": 16,
   "id": "1737e920",
   "metadata": {
    "scrolled": true
   },
   "outputs": [
    {
     "name": "stdout",
     "output_type": "stream",
     "text": [
      "0.7950310559006211\n",
      "0.2886394557823129\n"
     ]
    },
    {
     "data": {
      "text/plain": [
       "<matplotlib.legend.Legend at 0x151aac816a60>"
      ]
     },
     "execution_count": 16,
     "metadata": {},
     "output_type": "execute_result"
    },
    {
     "data": {
      "image/png": "[encoded data removed]",
      "text/plain": [
       "<Figure size 432x288 with 1 Axes>"
      ]
     },
     "metadata": {
      "needs_background": "light"
     },
     "output_type": "display_data"
    }
   ],
   "source": [
    "testing_model = ExtraTreesClassifier(n_estimators=700, max_depth=35, max_features=48, n_jobs=-1).fit(train_X, train_Y[:,3])\n",
    "\n",
    "from sklearn.metrics import precision_recall_curve\n",
    "\n",
    "preds = testing_model.predict_proba(dev_X)\n",
    "precision, recall, thresholds = precision_recall_curve(dev_Y[:,3], preds[:,1])\n",
    "fscore = (2 * precision * recall) / (precision + recall)\n",
    "ix = np.nanargmax(fscore)\n",
    "print(fscore[ix])\n",
    "print(thresholds[ix])\n",
    "\n",
    "plt.plot(recall, precision, marker='.', label='PR curve')\n",
    "plt.scatter(recall[ix], precision[ix], marker='o', color='black', label='Best')\n",
    "plt.xlabel('Recall')\n",
    "plt.ylabel('Precision')\n",
    "plt.title('Precision-Recall Curve for Direct Strike')\n",
    "plt.legend()\n",
    "\n",
    "# the improvement is quite minimal, score was originally 0.81176 and now 0.80519. this may be bad RNG."
   ]
  },
  {
   "cell_type": "code",
   "execution_count": 27,
   "id": "c0ae2220",
   "metadata": {
    "scrolled": true
   },
   "outputs": [
    {
     "data": {
      "text/plain": [
       "['./models/baseline_model_extraGSCV_2022-03-09 19-57.skl']"
      ]
     },
     "execution_count": 27,
     "metadata": {},
     "output_type": "execute_result"
    }
   ],
   "source": [
    "import joblib\n",
    "from datetime import datetime\n",
    "\n",
    "joblib.dump(testing_model, \"./models/baseline_model_extraGSCV_{}.skl\".format(str(datetime.now().strftime(\"%Y-%m-%d %H-%M\"))))"
   ]
  },
  {
   "cell_type": "markdown",
   "id": "ad052f83",
   "metadata": {},
   "source": [
    "### Extra Trees Regressor"
   ]
  },
  {
   "cell_type": "code",
   "execution_count": 64,
   "id": "69e10266",
   "metadata": {},
   "outputs": [
    {
     "name": "stdout",
     "output_type": "stream",
     "text": [
      "Fitting 3 folds for each of 4 candidates, totalling 12 fits\n",
      "{'mean_fit_time': array([44.87048038, 45.15869784, 38.2734677 , 23.94150352]), 'std_fit_time': array([0.16875583, 0.16820385, 9.98918523, 0.39927701]), 'mean_score_time': array([1.91057714, 1.77198124, 1.4557604 , 0.78795584]), 'std_score_time': array([0.06970658, 0.06327575, 0.39852978, 0.02416826]), 'param_estimator__max_features': masked_array(data=[28, 29, 30, 31],\n",
      "             mask=[False, False, False, False],\n",
      "       fill_value='?',\n",
      "            dtype=object), 'params': [{'estimator__max_features': 28}, {'estimator__max_features': 29}, {'estimator__max_features': 30}, {'estimator__max_features': 31}], 'split0_test_score': array([0.7888462 , 0.78747481, 0.77971748, 0.78702678]), 'split1_test_score': array([0.78107764, 0.77937784, 0.7850326 , 0.78405795]), 'split2_test_score': array([0.79470801, 0.78418061, 0.78534934, 0.78539187]), 'mean_test_score': array([0.78821062, 0.78367776, 0.78336647, 0.7854922 ]), 'std_test_score': array([0.0055827 , 0.00332464, 0.00258347, 0.0012141 ]), 'rank_test_score': array([1, 3, 4, 2], dtype=int32)}\n",
      "{'estimator__max_features': 28}\n"
     ]
    }
   ],
   "source": [
    "from sklearn.multioutput import MultiOutputRegressor\n",
    "from sklearn.ensemble import ExtraTreesRegressor\n",
    "from sklearn.model_selection import GridSearchCV\n",
    "from sklearn.metrics import make_scorer, f1_score, precision_recall_curve\n",
    "\n",
    "param_grid = {\"estimator__max_features\": [28, 29, 30, 31]}\n",
    "\n",
    "estimator = MultiOutputRegressor(ExtraTreesRegressor(\n",
    "    n_jobs=-1, random_state=42, n_estimators=200, max_depth=25\n",
    "), n_jobs=-1)\n",
    "\n",
    "def my_scorer(y_true, y_pred):\n",
    "    '''Returns the average f1 scores for the given label y_true and continuous y_pred.'''\n",
    "    y_pred = np.clip(y_pred, 0, 1)\n",
    "    best_thresholds = []\n",
    "    for i in range(4):\n",
    "        precision, recall, thresholds = precision_recall_curve(y_true[:,i], y_pred[:,i])\n",
    "        fscore = (2 * precision * recall) / (precision + recall)\n",
    "        ix = np.nanargmax(fscore)\n",
    "        best_thresholds.append(thresholds[ix])\n",
    "    preds = []\n",
    "    for i in range(len(y_pred)):\n",
    "        pred_row = []\n",
    "        for j in range(4):\n",
    "            if y_pred[i,j] > best_thresholds[j]:\n",
    "                pred_row.append(1)\n",
    "            else:\n",
    "                pred_row.append(0)\n",
    "        preds.append(pred_row)\n",
    "    return f1_score(y_true, preds, zero_division=0, average='macro')\n",
    "\n",
    "scorer = make_scorer(my_scorer)\n",
    "\n",
    "gscv = GridSearchCV(estimator, param_grid, scoring=scorer, verbose=4, cv=3, n_jobs=-1, refit=False).fit(train_X, train_Y)\n",
    "\n",
    "print(gscv.cv_results_)\n",
    "print(gscv.best_params_)"
   ]
  },
  {
   "cell_type": "code",
   "execution_count": 65,
   "id": "b85b9360",
   "metadata": {},
   "outputs": [],
   "source": [
    "testing_model = MultiOutputRegressor(ExtraTreesRegressor(\n",
    "    n_jobs=-1, random_state=42, n_estimators=200, max_depth=25, max_features=28\n",
    "), n_jobs=-1).fit(train_X, train_Y)"
   ]
  },
  {
   "cell_type": "code",
   "execution_count": 66,
   "id": "29b67572",
   "metadata": {
    "scrolled": true
   },
   "outputs": [
    {
     "name": "stdout",
     "output_type": "stream",
     "text": [
      "Best Threshold=0.31000, F-Score=0.86162\n",
      "Best Threshold=0.42000, F-Score=0.84249\n",
      "Best Threshold=0.26286, F-Score=0.79149\n",
      "Best Threshold=0.26500, F-Score=0.80503\n",
      "              precision    recall  f1-score   support\n",
      "\n",
      "           0    0.82872   0.89402   0.86013       368\n",
      "           1    0.88417   0.80070   0.84037       286\n",
      "           2    0.76033   0.81416   0.78632       113\n",
      "           3    0.86301   0.74118   0.79747        85\n",
      "\n",
      "   micro avg    0.83882   0.83685   0.83784       852\n",
      "   macro avg    0.83406   0.81251   0.82107       852\n",
      "weighted avg    0.84168   0.83685   0.83746       852\n",
      " samples avg    0.10076   0.09936   0.09770       852\n",
      "\n",
      "Class 0, no calibration: 0.021057\n",
      "Class 1, no calibration: 0.018152\n",
      "Class 2, no calibration: 0.010320\n",
      "Class 3, no calibration: 0.008892\n"
     ]
    },
    {
     "data": {
      "image/png": "[encoded data removed]",
      "text/plain": [
       "<Figure size 432x288 with 1 Axes>"
      ]
     },
     "metadata": {
      "needs_background": "light"
     },
     "output_type": "display_data"
    },
    {
     "data": {
      "image/png": "[encoded data removed]",
      "text/plain": [
       "<Figure size 720x720 with 1 Axes>"
      ]
     },
     "metadata": {
      "needs_background": "light"
     },
     "output_type": "display_data"
    }
   ],
   "source": [
    "from sklearn.metrics import precision_recall_curve, brier_score_loss, classification_report\n",
    "from sklearn.calibration import CalibrationDisplay\n",
    "from matplotlib.gridspec import GridSpec\n",
    "\n",
    "# to edit\n",
    "preds = np.clip(testing_model.predict(dev_X), 0, 1)\n",
    "best_thresholds = []\n",
    "best_f1_scores = []\n",
    "n_classes = 4\n",
    "preds = np.array(preds)\n",
    "for i in range(n_classes):\n",
    "    precision, recall, thresholds = precision_recall_curve(dev_Y[:,i], preds[:,i])\n",
    "    # find best threshold\n",
    "    fscore = (2 * precision * recall) / (precision + recall)\n",
    "    ix = np.argmax(fscore)\n",
    "    best_thresholds.append(thresholds[ix])\n",
    "    best_f1_scores.append(fscore[ix])\n",
    "    print('Best Threshold={0:.05f}, F-Score={1:.05f}'.format(thresholds[ix], fscore[ix]))\n",
    "\n",
    "# plot the precision-recall curve for the last class/label\n",
    "plt.plot(recall, precision, marker='.', label='PR curve')\n",
    "plt.scatter(recall[ix], precision[ix], marker='o', color='black', label='Best')\n",
    "plt.xlabel('Recall')\n",
    "plt.ylabel('Precision')\n",
    "plt.title('Precision-Recall Curve for Direct Strike')\n",
    "plt.legend()\n",
    "\n",
    "preds_probs = np.clip(testing_model.predict(dev_X), 0, 1)\n",
    "n_classes = 4\n",
    "preds = []\n",
    "for i in range(len(preds_probs)):\n",
    "    pred_row = []\n",
    "    for j in range(n_classes):\n",
    "        if preds_probs[i,j] > best_thresholds[j]:\n",
    "            pred_row.append(1)\n",
    "        else:\n",
    "            pred_row.append(0)\n",
    "    preds.append(pred_row)\n",
    "        \n",
    "preds = np.array(preds)\n",
    "\n",
    "print(classification_report(dev_Y, preds, zero_division=0, digits=5))\n",
    "\n",
    "all_preds = np.clip(testing_model.predict(dev_X), 0, 1)\n",
    "for i in range(4):         \n",
    "    preds = all_preds[:,i]\n",
    "    clf_score = brier_score_loss(dev_Y[:,i], preds)\n",
    "    print(\"Class {0}, no calibration: {1:1.6f}\".format(i, clf_score))\n",
    "\n",
    "# plot calibration graphs\n",
    "fig = plt.figure(figsize=(10, 10))\n",
    "gs = GridSpec(4, 2)\n",
    "ax = fig.add_subplot(gs[:2, :2])\n",
    "\n",
    "all_preds = np.clip(testing_model.predict(dev_X), 0, 1)\n",
    "preds = all_preds[:,0]\n",
    "display = CalibrationDisplay.from_predictions(dev_Y[:,0], preds, n_bins=10, name=\"class 0\", ax=ax, strategy='uniform')\n",
    "preds = all_preds[:,3]\n",
    "display = CalibrationDisplay.from_predictions(dev_Y[:,3], preds, n_bins=10, name=\"class 3\", ax=ax, strategy='uniform')\n",
    "\n",
    "ax.grid()\n",
    "plt.tight_layout()\n",
    "plt.show()"
   ]
  },
  {
   "cell_type": "code",
   "execution_count": 67,
   "id": "6c678d31",
   "metadata": {},
   "outputs": [
    {
     "data": {
      "text/plain": [
       "['./models/baseline_model_gscv_extra_trees_regr_2022-04-15 21-47.skl']"
      ]
     },
     "execution_count": 67,
     "metadata": {},
     "output_type": "execute_result"
    }
   ],
   "source": [
    "import joblib\n",
    "from datetime import datetime\n",
    "\n",
    "joblib.dump(testing_model, \"./models/baseline_model_gscv_extra_trees_regr_{}.skl\".format(str(datetime.now().strftime(\"%Y-%m-%d %H-%M\"))))"
   ]
  },
  {
   "cell_type": "markdown",
   "id": "274c3934",
   "metadata": {},
   "source": [
    "### XGBoost classifier\n",
    "\n",
    "max_depth: from \\[5, 10, 15, 20, 25, 26, 27\\], best value 27 (28 and plus regularly OOMs on the GPU)  \n",
    "subsample: from \\[0.25, 0.5, 0.75, 0.875, 1.0\\], best value 1.0  \n",
    "colsample_bytree: from \\[0.25, 0.5, 0.75, 0.875, 1.0\\], best value 1.0  \n",
    "min_child_weight: from \\[0.25,0.5,0.75,1,3,5,7,9\\], best value 0.5  \n",
    "learning_rate: from \\[0.25, 0.2, 0.15, 0.1, 0.09, 0.075, 0.05, 0.01, 0.005, 0.001\\], best value 0.175   \n",
    "reg_alpha: from \\[1.0, 0.1, 0.01, 0.005, 0.001, 0.0005, 0.0001\\], best value 0.005  \n",
    "reg_lambda: from \\[4.0, 3.0, 2.0, 1.75, 1.5, 1.0, 0.5, 0.1, 0.01, 0.001, 0.0001\\], best value 2.0  \n",
    "gamma: from \\[1.0, 0.1, 0.01, 0.005, 0.001, 0.0005, 0.0001\\], best value 0.001  \n",
    "n_estimators: from \\[100, 200, 300, 400, 500, 600, 700, 800\\], best value 600-650 (>700 risks OOM on the GPU)   "
   ]
  },
  {
   "cell_type": "code",
   "execution_count": 6,
   "id": "84677915",
   "metadata": {
    "scrolled": true
   },
   "outputs": [
    {
     "name": "stdout",
     "output_type": "stream",
     "text": [
      "Fitting 3 folds for each of 3 candidates, totalling 9 fits\n"
     ]
    },
    {
     "name": "stderr",
     "output_type": "stream",
     "text": [
      "/userhome/cs/u3556490/anaconda3/envs/test/lib/python3.9/site-packages/xgboost/compat.py:36: FutureWarning: pandas.Int64Index is deprecated and will be removed from pandas in a future version. Use pandas.Index with the appropriate dtype instead.\n",
      "  from pandas import MultiIndex, Int64Index\n",
      "/userhome/cs/u3556490/anaconda3/envs/test/lib/python3.9/site-packages/xgboost/compat.py:36: FutureWarning: pandas.Int64Index is deprecated and will be removed from pandas in a future version. Use pandas.Index with the appropriate dtype instead.\n",
      "  from pandas import MultiIndex, Int64Index\n",
      "/userhome/cs/u3556490/anaconda3/envs/test/lib/python3.9/site-packages/xgboost/compat.py:36: FutureWarning: pandas.Int64Index is deprecated and will be removed from pandas in a future version. Use pandas.Index with the appropriate dtype instead.\n",
      "  from pandas import MultiIndex, Int64Index\n",
      "/userhome/cs/u3556490/anaconda3/envs/test/lib/python3.9/site-packages/xgboost/compat.py:36: FutureWarning: pandas.Int64Index is deprecated and will be removed from pandas in a future version. Use pandas.Index with the appropriate dtype instead.\n",
      "  from pandas import MultiIndex, Int64Index\n",
      "/userhome/cs/u3556490/anaconda3/envs/test/lib/python3.9/site-packages/xgboost/data.py:262: FutureWarning: pandas.Int64Index is deprecated and will be removed from pandas in a future version. Use pandas.Index with the appropriate dtype instead.\n",
      "  elif isinstance(data.columns, (pd.Int64Index, pd.RangeIndex)):\n",
      "/userhome/cs/u3556490/anaconda3/envs/test/lib/python3.9/site-packages/xgboost/data.py:262: FutureWarning: pandas.Int64Index is deprecated and will be removed from pandas in a future version. Use pandas.Index with the appropriate dtype instead.\n",
      "  elif isinstance(data.columns, (pd.Int64Index, pd.RangeIndex)):\n",
      "/userhome/cs/u3556490/anaconda3/envs/test/lib/python3.9/site-packages/xgboost/data.py:262: FutureWarning: pandas.Int64Index is deprecated and will be removed from pandas in a future version. Use pandas.Index with the appropriate dtype instead.\n",
      "  elif isinstance(data.columns, (pd.Int64Index, pd.RangeIndex)):\n",
      "/userhome/cs/u3556490/anaconda3/envs/test/lib/python3.9/site-packages/xgboost/data.py:262: FutureWarning: pandas.Int64Index is deprecated and will be removed from pandas in a future version. Use pandas.Index with the appropriate dtype instead.\n",
      "  elif isinstance(data.columns, (pd.Int64Index, pd.RangeIndex)):\n"
     ]
    },
    {
     "name": "stdout",
     "output_type": "stream",
     "text": [
      "[CV] END ............................estimator__max_depth=25; total time= 3.7min\n",
      "[CV] END ............................estimator__max_depth=25; total time= 3.7min\n",
      "[CV] END ............................estimator__max_depth=25; total time= 3.7min\n",
      "[CV] END ............................estimator__max_depth=26; total time= 7.5min\n"
     ]
    },
    {
     "name": "stderr",
     "output_type": "stream",
     "text": [
      "/userhome/cs/u3556490/anaconda3/envs/test/lib/python3.9/site-packages/xgboost/compat.py:36: FutureWarning: pandas.Int64Index is deprecated and will be removed from pandas in a future version. Use pandas.Index with the appropriate dtype instead.\n",
      "  from pandas import MultiIndex, Int64Index\n",
      "/userhome/cs/u3556490/anaconda3/envs/test/lib/python3.9/site-packages/xgboost/compat.py:36: FutureWarning: pandas.Int64Index is deprecated and will be removed from pandas in a future version. Use pandas.Index with the appropriate dtype instead.\n",
      "  from pandas import MultiIndex, Int64Index\n",
      "/userhome/cs/u3556490/anaconda3/envs/test/lib/python3.9/site-packages/xgboost/compat.py:36: FutureWarning: pandas.Int64Index is deprecated and will be removed from pandas in a future version. Use pandas.Index with the appropriate dtype instead.\n",
      "  from pandas import MultiIndex, Int64Index\n",
      "/userhome/cs/u3556490/anaconda3/envs/test/lib/python3.9/site-packages/xgboost/compat.py:36: FutureWarning: pandas.Int64Index is deprecated and will be removed from pandas in a future version. Use pandas.Index with the appropriate dtype instead.\n",
      "  from pandas import MultiIndex, Int64Index\n",
      "/userhome/cs/u3556490/anaconda3/envs/test/lib/python3.9/site-packages/xgboost/data.py:262: FutureWarning: pandas.Int64Index is deprecated and will be removed from pandas in a future version. Use pandas.Index with the appropriate dtype instead.\n",
      "  elif isinstance(data.columns, (pd.Int64Index, pd.RangeIndex)):\n",
      "/userhome/cs/u3556490/anaconda3/envs/test/lib/python3.9/site-packages/xgboost/data.py:262: FutureWarning: pandas.Int64Index is deprecated and will be removed from pandas in a future version. Use pandas.Index with the appropriate dtype instead.\n",
      "  elif isinstance(data.columns, (pd.Int64Index, pd.RangeIndex)):\n",
      "/userhome/cs/u3556490/anaconda3/envs/test/lib/python3.9/site-packages/xgboost/data.py:262: FutureWarning: pandas.Int64Index is deprecated and will be removed from pandas in a future version. Use pandas.Index with the appropriate dtype instead.\n",
      "  elif isinstance(data.columns, (pd.Int64Index, pd.RangeIndex)):\n",
      "/userhome/cs/u3556490/anaconda3/envs/test/lib/python3.9/site-packages/xgboost/data.py:262: FutureWarning: pandas.Int64Index is deprecated and will be removed from pandas in a future version. Use pandas.Index with the appropriate dtype instead.\n",
      "  elif isinstance(data.columns, (pd.Int64Index, pd.RangeIndex)):\n"
     ]
    },
    {
     "name": "stdout",
     "output_type": "stream",
     "text": [
      "[CV] END ............................estimator__max_depth=26; total time= 7.6min\n"
     ]
    },
    {
     "name": "stderr",
     "output_type": "stream",
     "text": [
      "/userhome/cs/u3556490/anaconda3/envs/test/lib/python3.9/site-packages/xgboost/compat.py:36: FutureWarning: pandas.Int64Index is deprecated and will be removed from pandas in a future version. Use pandas.Index with the appropriate dtype instead.\n",
      "  from pandas import MultiIndex, Int64Index\n",
      "/userhome/cs/u3556490/anaconda3/envs/test/lib/python3.9/site-packages/xgboost/compat.py:36: FutureWarning: pandas.Int64Index is deprecated and will be removed from pandas in a future version. Use pandas.Index with the appropriate dtype instead.\n",
      "  from pandas import MultiIndex, Int64Index\n",
      "/userhome/cs/u3556490/anaconda3/envs/test/lib/python3.9/site-packages/xgboost/compat.py:36: FutureWarning: pandas.Int64Index is deprecated and will be removed from pandas in a future version. Use pandas.Index with the appropriate dtype instead.\n",
      "  from pandas import MultiIndex, Int64Index\n",
      "/userhome/cs/u3556490/anaconda3/envs/test/lib/python3.9/site-packages/xgboost/compat.py:36: FutureWarning: pandas.Int64Index is deprecated and will be removed from pandas in a future version. Use pandas.Index with the appropriate dtype instead.\n",
      "  from pandas import MultiIndex, Int64Index\n",
      "/userhome/cs/u3556490/anaconda3/envs/test/lib/python3.9/site-packages/xgboost/data.py:262: FutureWarning: pandas.Int64Index is deprecated and will be removed from pandas in a future version. Use pandas.Index with the appropriate dtype instead.\n",
      "  elif isinstance(data.columns, (pd.Int64Index, pd.RangeIndex)):\n",
      "/userhome/cs/u3556490/anaconda3/envs/test/lib/python3.9/site-packages/xgboost/data.py:262: FutureWarning: pandas.Int64Index is deprecated and will be removed from pandas in a future version. Use pandas.Index with the appropriate dtype instead.\n",
      "  elif isinstance(data.columns, (pd.Int64Index, pd.RangeIndex)):\n",
      "/userhome/cs/u3556490/anaconda3/envs/test/lib/python3.9/site-packages/xgboost/data.py:262: FutureWarning: pandas.Int64Index is deprecated and will be removed from pandas in a future version. Use pandas.Index with the appropriate dtype instead.\n",
      "  elif isinstance(data.columns, (pd.Int64Index, pd.RangeIndex)):\n",
      "/userhome/cs/u3556490/anaconda3/envs/test/lib/python3.9/site-packages/xgboost/data.py:262: FutureWarning: pandas.Int64Index is deprecated and will be removed from pandas in a future version. Use pandas.Index with the appropriate dtype instead.\n",
      "  elif isinstance(data.columns, (pd.Int64Index, pd.RangeIndex)):\n"
     ]
    },
    {
     "name": "stdout",
     "output_type": "stream",
     "text": [
      "[CV] END ............................estimator__max_depth=26; total time= 7.6min\n"
     ]
    },
    {
     "name": "stderr",
     "output_type": "stream",
     "text": [
      "/userhome/cs/u3556490/anaconda3/envs/test/lib/python3.9/site-packages/xgboost/compat.py:36: FutureWarning: pandas.Int64Index is deprecated and will be removed from pandas in a future version. Use pandas.Index with the appropriate dtype instead.\n",
      "  from pandas import MultiIndex, Int64Index\n",
      "/userhome/cs/u3556490/anaconda3/envs/test/lib/python3.9/site-packages/xgboost/compat.py:36: FutureWarning: pandas.Int64Index is deprecated and will be removed from pandas in a future version. Use pandas.Index with the appropriate dtype instead.\n",
      "  from pandas import MultiIndex, Int64Index\n",
      "/userhome/cs/u3556490/anaconda3/envs/test/lib/python3.9/site-packages/xgboost/compat.py:36: FutureWarning: pandas.Int64Index is deprecated and will be removed from pandas in a future version. Use pandas.Index with the appropriate dtype instead.\n",
      "  from pandas import MultiIndex, Int64Index\n",
      "/userhome/cs/u3556490/anaconda3/envs/test/lib/python3.9/site-packages/xgboost/compat.py:36: FutureWarning: pandas.Int64Index is deprecated and will be removed from pandas in a future version. Use pandas.Index with the appropriate dtype instead.\n",
      "  from pandas import MultiIndex, Int64Index\n",
      "/userhome/cs/u3556490/anaconda3/envs/test/lib/python3.9/site-packages/xgboost/data.py:262: FutureWarning: pandas.Int64Index is deprecated and will be removed from pandas in a future version. Use pandas.Index with the appropriate dtype instead.\n",
      "  elif isinstance(data.columns, (pd.Int64Index, pd.RangeIndex)):\n",
      "/userhome/cs/u3556490/anaconda3/envs/test/lib/python3.9/site-packages/xgboost/data.py:262: FutureWarning: pandas.Int64Index is deprecated and will be removed from pandas in a future version. Use pandas.Index with the appropriate dtype instead.\n",
      "  elif isinstance(data.columns, (pd.Int64Index, pd.RangeIndex)):\n",
      "/userhome/cs/u3556490/anaconda3/envs/test/lib/python3.9/site-packages/xgboost/data.py:262: FutureWarning: pandas.Int64Index is deprecated and will be removed from pandas in a future version. Use pandas.Index with the appropriate dtype instead.\n",
      "  elif isinstance(data.columns, (pd.Int64Index, pd.RangeIndex)):\n",
      "/userhome/cs/u3556490/anaconda3/envs/test/lib/python3.9/site-packages/xgboost/data.py:262: FutureWarning: pandas.Int64Index is deprecated and will be removed from pandas in a future version. Use pandas.Index with the appropriate dtype instead.\n",
      "  elif isinstance(data.columns, (pd.Int64Index, pd.RangeIndex)):\n"
     ]
    },
    {
     "name": "stdout",
     "output_type": "stream",
     "text": [
      "[CV] END ............................estimator__max_depth=27; total time=15.0min\n"
     ]
    },
    {
     "name": "stderr",
     "output_type": "stream",
     "text": [
      "/userhome/cs/u3556490/anaconda3/envs/test/lib/python3.9/site-packages/xgboost/compat.py:36: FutureWarning: pandas.Int64Index is deprecated and will be removed from pandas in a future version. Use pandas.Index with the appropriate dtype instead.\n",
      "  from pandas import MultiIndex, Int64Index\n",
      "/userhome/cs/u3556490/anaconda3/envs/test/lib/python3.9/site-packages/xgboost/compat.py:36: FutureWarning: pandas.Int64Index is deprecated and will be removed from pandas in a future version. Use pandas.Index with the appropriate dtype instead.\n",
      "  from pandas import MultiIndex, Int64Index\n",
      "/userhome/cs/u3556490/anaconda3/envs/test/lib/python3.9/site-packages/xgboost/compat.py:36: FutureWarning: pandas.Int64Index is deprecated and will be removed from pandas in a future version. Use pandas.Index with the appropriate dtype instead.\n",
      "  from pandas import MultiIndex, Int64Index\n",
      "/userhome/cs/u3556490/anaconda3/envs/test/lib/python3.9/site-packages/xgboost/compat.py:36: FutureWarning: pandas.Int64Index is deprecated and will be removed from pandas in a future version. Use pandas.Index with the appropriate dtype instead.\n",
      "  from pandas import MultiIndex, Int64Index\n",
      "/userhome/cs/u3556490/anaconda3/envs/test/lib/python3.9/site-packages/xgboost/data.py:262: FutureWarning: pandas.Int64Index is deprecated and will be removed from pandas in a future version. Use pandas.Index with the appropriate dtype instead.\n",
      "  elif isinstance(data.columns, (pd.Int64Index, pd.RangeIndex)):\n",
      "/userhome/cs/u3556490/anaconda3/envs/test/lib/python3.9/site-packages/xgboost/data.py:262: FutureWarning: pandas.Int64Index is deprecated and will be removed from pandas in a future version. Use pandas.Index with the appropriate dtype instead.\n",
      "  elif isinstance(data.columns, (pd.Int64Index, pd.RangeIndex)):\n",
      "/userhome/cs/u3556490/anaconda3/envs/test/lib/python3.9/site-packages/xgboost/data.py:262: FutureWarning: pandas.Int64Index is deprecated and will be removed from pandas in a future version. Use pandas.Index with the appropriate dtype instead.\n",
      "  elif isinstance(data.columns, (pd.Int64Index, pd.RangeIndex)):\n",
      "/userhome/cs/u3556490/anaconda3/envs/test/lib/python3.9/site-packages/xgboost/data.py:262: FutureWarning: pandas.Int64Index is deprecated and will be removed from pandas in a future version. Use pandas.Index with the appropriate dtype instead.\n",
      "  elif isinstance(data.columns, (pd.Int64Index, pd.RangeIndex)):\n"
     ]
    },
    {
     "name": "stdout",
     "output_type": "stream",
     "text": [
      "[CV] END ............................estimator__max_depth=27; total time=15.0min\n"
     ]
    },
    {
     "name": "stderr",
     "output_type": "stream",
     "text": [
      "/userhome/cs/u3556490/anaconda3/envs/test/lib/python3.9/site-packages/xgboost/compat.py:36: FutureWarning: pandas.Int64Index is deprecated and will be removed from pandas in a future version. Use pandas.Index with the appropriate dtype instead.\n",
      "  from pandas import MultiIndex, Int64Index\n",
      "/userhome/cs/u3556490/anaconda3/envs/test/lib/python3.9/site-packages/xgboost/compat.py:36: FutureWarning: pandas.Int64Index is deprecated and will be removed from pandas in a future version. Use pandas.Index with the appropriate dtype instead.\n",
      "  from pandas import MultiIndex, Int64Index\n",
      "/userhome/cs/u3556490/anaconda3/envs/test/lib/python3.9/site-packages/xgboost/compat.py:36: FutureWarning: pandas.Int64Index is deprecated and will be removed from pandas in a future version. Use pandas.Index with the appropriate dtype instead.\n",
      "  from pandas import MultiIndex, Int64Index\n",
      "/userhome/cs/u3556490/anaconda3/envs/test/lib/python3.9/site-packages/xgboost/compat.py:36: FutureWarning: pandas.Int64Index is deprecated and will be removed from pandas in a future version. Use pandas.Index with the appropriate dtype instead.\n",
      "  from pandas import MultiIndex, Int64Index\n",
      "/userhome/cs/u3556490/anaconda3/envs/test/lib/python3.9/site-packages/xgboost/data.py:262: FutureWarning: pandas.Int64Index is deprecated and will be removed from pandas in a future version. Use pandas.Index with the appropriate dtype instead.\n",
      "  elif isinstance(data.columns, (pd.Int64Index, pd.RangeIndex)):\n",
      "/userhome/cs/u3556490/anaconda3/envs/test/lib/python3.9/site-packages/xgboost/data.py:262: FutureWarning: pandas.Int64Index is deprecated and will be removed from pandas in a future version. Use pandas.Index with the appropriate dtype instead.\n",
      "  elif isinstance(data.columns, (pd.Int64Index, pd.RangeIndex)):\n",
      "/userhome/cs/u3556490/anaconda3/envs/test/lib/python3.9/site-packages/xgboost/data.py:262: FutureWarning: pandas.Int64Index is deprecated and will be removed from pandas in a future version. Use pandas.Index with the appropriate dtype instead.\n",
      "  elif isinstance(data.columns, (pd.Int64Index, pd.RangeIndex)):\n",
      "/userhome/cs/u3556490/anaconda3/envs/test/lib/python3.9/site-packages/xgboost/data.py:262: FutureWarning: pandas.Int64Index is deprecated and will be removed from pandas in a future version. Use pandas.Index with the appropriate dtype instead.\n",
      "  elif isinstance(data.columns, (pd.Int64Index, pd.RangeIndex)):\n"
     ]
    },
    {
     "name": "stdout",
     "output_type": "stream",
     "text": [
      "[CV] END ............................estimator__max_depth=27; total time=14.9min\n"
     ]
    }
   ],
   "source": [
    "from sklearn.multioutput import MultiOutputClassifier\n",
    "from sklearn.model_selection import GridSearchCV\n",
    "from sklearn.metrics import make_scorer, f1_score\n",
    "\n",
    "param_grid = {\"estimator__max_depth\": [25, 26, 27]}\n",
    "\n",
    "estimator = MultiOutputClassifier(xgb.XGBClassifier(\n",
    "    n_estimators=600, min_child_weight=0.5, colsample_bytree=1.0, subsample=1.0, learning_rate=0.175, reg_alpha=0.005, reg_lambda=2.0, gamma=0.001,\n",
    "    tree_method='gpu_hist', n_jobs=-1, random_state=42, use_label_encoder=False, eval_metric='logloss'\n",
    "), n_jobs=-1)\n",
    "\n",
    "scorer = make_scorer(f1_score, zero_division=0, average='macro')\n",
    "\n",
    "gscv = GridSearchCV(estimator, param_grid, scoring=scorer, verbose=2, cv=3, n_jobs=1).fit(train_X, train_Y)"
   ]
  },
  {
   "cell_type": "code",
   "execution_count": 7,
   "id": "204dc0e2",
   "metadata": {
    "scrolled": true
   },
   "outputs": [
    {
     "data": {
      "text/plain": [
       "{'mean_fit_time': array([218.67821129, 451.06834499, 895.59241366]),\n",
       " 'std_fit_time': array([0.79565372, 4.08547814, 1.21853472]),\n",
       " 'mean_score_time': array([1.88505785, 1.60663859, 1.53183277]),\n",
       " 'std_score_time': array([0.65025245, 0.14382726, 0.05687656]),\n",
       " 'param_estimator__max_depth': masked_array(data=[25, 26, 27],\n",
       "              mask=[False, False, False],\n",
       "        fill_value='?',\n",
       "             dtype=object),\n",
       " 'params': [{'estimator__max_depth': 25},\n",
       "  {'estimator__max_depth': 26},\n",
       "  {'estimator__max_depth': 27}],\n",
       " 'split0_test_score': array([0.73474007, 0.73207726, 0.73307113]),\n",
       " 'split1_test_score': array([0.70757812, 0.70728701, 0.71057713]),\n",
       " 'split2_test_score': array([0.76076874, 0.75834277, 0.76422839]),\n",
       " 'mean_test_score': array([0.73436231, 0.73256901, 0.73595889]),\n",
       " 'std_test_score': array([0.02171662, 0.02084633, 0.02199801]),\n",
       " 'rank_test_score': array([2, 3, 1], dtype=int32)}"
      ]
     },
     "execution_count": 7,
     "metadata": {},
     "output_type": "execute_result"
    }
   ],
   "source": [
    "gscv.cv_results_"
   ]
  },
  {
   "cell_type": "code",
   "execution_count": 10,
   "id": "4d400f18",
   "metadata": {
    "scrolled": true
   },
   "outputs": [
    {
     "name": "stdout",
     "output_type": "stream",
     "text": [
      "Best Threshold=0.19491, F-Score=0.87123\n",
      "Best Threshold=0.18867, F-Score=0.86261\n",
      "Best Threshold=0.07011, F-Score=0.82759\n",
      "Best Threshold=0.10758, F-Score=0.81013\n"
     ]
    },
    {
     "data": {
      "text/plain": [
       "<matplotlib.legend.Legend at 0x151aac8134c0>"
      ]
     },
     "execution_count": 10,
     "metadata": {},
     "output_type": "execute_result"
    },
    {
     "data": {
      "image/png": "[encoded data removed]",
      "text/plain": [
       "<Figure size 432x288 with 1 Axes>"
      ]
     },
     "metadata": {
      "needs_background": "light"
     },
     "output_type": "display_data"
    }
   ],
   "source": [
    "testing_model = MultiOutputClassifier(xgb.XGBClassifier(\n",
    "    max_depth=27, n_estimators=600, \n",
    "    min_child_weight=0.5, colsample_bytree=1.0, subsample=1.0, learning_rate=0.175,\n",
    "    reg_alpha=0.005, reg_lambda=2.0, gamma=0.001,\n",
    "    tree_method='gpu_hist', n_jobs=-1, random_state=42, use_label_encoder=False, eval_metric='logloss'\n",
    "), n_jobs=-1).fit(train_X, train_Y)\n",
    "\n",
    "from sklearn.metrics import precision_recall_curve\n",
    "\n",
    "# to edit\n",
    "preds = testing_model.predict_proba(dev_X)\n",
    "best_thresholds = []\n",
    "best_f1_scores = []\n",
    "n_classes = len(testing_model.classes_)\n",
    "preds = np.array(preds)\n",
    "for i in range(n_classes):\n",
    "    precision, recall, thresholds = precision_recall_curve(dev_Y[:,i], preds[i,:,1])\n",
    "    # find best threshold\n",
    "    fscore = (2 * precision * recall) / (precision + recall)\n",
    "    ix = np.argmax(fscore)\n",
    "    best_thresholds.append(thresholds[ix])\n",
    "    best_f1_scores.append(fscore[ix])\n",
    "    print('Best Threshold={0:.05f}, F-Score={1:.05f}'.format(thresholds[ix], fscore[ix]))\n",
    "\n",
    "# plot the precision-recall curve for the last class/label\n",
    "plt.plot(recall, precision, marker='.', label='PR curve')\n",
    "plt.scatter(recall[ix], precision[ix], marker='o', color='black', label='Best')\n",
    "plt.xlabel('Recall')\n",
    "plt.ylabel('Precision')\n",
    "plt.title('Precision-Recall Curve for Direct Strike')\n",
    "plt.legend()"
   ]
  },
  {
   "cell_type": "code",
   "execution_count": 11,
   "id": "d473a784",
   "metadata": {},
   "outputs": [
    {
     "name": "stdout",
     "output_type": "stream",
     "text": [
      "              precision    recall  f1-score   support\n",
      "\n",
      "           0    0.87812   0.86141   0.86968       368\n",
      "           1    0.85764   0.86364   0.86063       286\n",
      "           2    0.80508   0.84071   0.82251       113\n",
      "           3    0.87500   0.74118   0.80255        85\n",
      "\n",
      "   micro avg    0.86055   0.84742   0.85393       852\n",
      "   macro avg    0.85396   0.82673   0.83884       852\n",
      "weighted avg    0.86125   0.84742   0.85369       852\n",
      " samples avg    0.09940   0.09890   0.09731       852\n",
      "\n"
     ]
    }
   ],
   "source": [
    "from sklearn.metrics import classification_report\n",
    "\n",
    "preds_probs = np.array(testing_model.predict_proba(dev_X))\n",
    "n_classes = len(testing_model.classes_)\n",
    "preds = []\n",
    "for i in range(preds_probs.shape[1]):\n",
    "    pred_row = []\n",
    "    for j in range(n_classes):\n",
    "        if preds_probs[j,i,1] > best_thresholds[j]:\n",
    "            pred_row.append(1)\n",
    "        else:\n",
    "            pred_row.append(0)\n",
    "    preds.append(pred_row)\n",
    "        \n",
    "preds = np.array(preds)\n",
    "\n",
    "print(classification_report(dev_Y, preds, zero_division=0, digits=5))\n",
    "# n.b.: the improvement is quite minimal: average grew from 0.81397 to 0.83884."
   ]
  },
  {
   "cell_type": "code",
   "execution_count": 12,
   "id": "7511617f",
   "metadata": {
    "scrolled": true
   },
   "outputs": [
    {
     "data": {
      "text/plain": [
       "['./models/baseline_model_xgbGSCV_2022-03-11 15-54.skl']"
      ]
     },
     "execution_count": 12,
     "metadata": {},
     "output_type": "execute_result"
    }
   ],
   "source": [
    "import joblib\n",
    "from datetime import datetime\n",
    "\n",
    "joblib.dump(testing_model, \"./models/baseline_model_xgbGSCV_{}.skl\".format(str(datetime.now().strftime(\"%Y-%m-%d %H-%M\"))))"
   ]
  },
  {
   "cell_type": "markdown",
   "id": "82c13bd1",
   "metadata": {},
   "source": [
    "### XGBoost Regressor"
   ]
  },
  {
   "cell_type": "code",
   "execution_count": 47,
   "id": "9f160677",
   "metadata": {
    "scrolled": true
   },
   "outputs": [
    {
     "name": "stdout",
     "output_type": "stream",
     "text": [
      "Fitting 3 folds for each of 5 candidates, totalling 15 fits\n"
     ]
    },
    {
     "name": "stderr",
     "output_type": "stream",
     "text": [
      "/userhome/cs/u3556490/anaconda3/envs/test/lib/python3.9/site-packages/xgboost/data.py:262: FutureWarning: pandas.Int64Index is deprecated and will be removed from pandas in a future version. Use pandas.Index with the appropriate dtype instead.\n",
      "  elif isinstance(data.columns, (pd.Int64Index, pd.RangeIndex)):\n",
      "/userhome/cs/u3556490/anaconda3/envs/test/lib/python3.9/site-packages/xgboost/data.py:262: FutureWarning: pandas.Int64Index is deprecated and will be removed from pandas in a future version. Use pandas.Index with the appropriate dtype instead.\n",
      "  elif isinstance(data.columns, (pd.Int64Index, pd.RangeIndex)):\n",
      "/userhome/cs/u3556490/anaconda3/envs/test/lib/python3.9/site-packages/xgboost/data.py:262: FutureWarning: pandas.Int64Index is deprecated and will be removed from pandas in a future version. Use pandas.Index with the appropriate dtype instead.\n",
      "  elif isinstance(data.columns, (pd.Int64Index, pd.RangeIndex)):\n",
      "/userhome/cs/u3556490/anaconda3/envs/test/lib/python3.9/site-packages/xgboost/data.py:262: FutureWarning: pandas.Int64Index is deprecated and will be removed from pandas in a future version. Use pandas.Index with the appropriate dtype instead.\n",
      "  elif isinstance(data.columns, (pd.Int64Index, pd.RangeIndex)):\n",
      "/userhome/cs/u3556490/anaconda3/envs/test/lib/python3.9/site-packages/xgboost/data.py:262: FutureWarning: pandas.Int64Index is deprecated and will be removed from pandas in a future version. Use pandas.Index with the appropriate dtype instead.\n",
      "  elif isinstance(data.columns, (pd.Int64Index, pd.RangeIndex)):\n",
      "/userhome/cs/u3556490/anaconda3/envs/test/lib/python3.9/site-packages/xgboost/data.py:262: FutureWarning: pandas.Int64Index is deprecated and will be removed from pandas in a future version. Use pandas.Index with the appropriate dtype instead.\n",
      "  elif isinstance(data.columns, (pd.Int64Index, pd.RangeIndex)):\n",
      "/userhome/cs/u3556490/anaconda3/envs/test/lib/python3.9/site-packages/xgboost/data.py:262: FutureWarning: pandas.Int64Index is deprecated and will be removed from pandas in a future version. Use pandas.Index with the appropriate dtype instead.\n",
      "  elif isinstance(data.columns, (pd.Int64Index, pd.RangeIndex)):\n",
      "/userhome/cs/u3556490/anaconda3/envs/test/lib/python3.9/site-packages/xgboost/data.py:262: FutureWarning: pandas.Int64Index is deprecated and will be removed from pandas in a future version. Use pandas.Index with the appropriate dtype instead.\n",
      "  elif isinstance(data.columns, (pd.Int64Index, pd.RangeIndex)):\n",
      "/userhome/cs/u3556490/anaconda3/envs/test/lib/python3.9/site-packages/xgboost/data.py:262: FutureWarning: pandas.Int64Index is deprecated and will be removed from pandas in a future version. Use pandas.Index with the appropriate dtype instead.\n",
      "  elif isinstance(data.columns, (pd.Int64Index, pd.RangeIndex)):\n",
      "/userhome/cs/u3556490/anaconda3/envs/test/lib/python3.9/site-packages/xgboost/data.py:262: FutureWarning: pandas.Int64Index is deprecated and will be removed from pandas in a future version. Use pandas.Index with the appropriate dtype instead.\n",
      "  elif isinstance(data.columns, (pd.Int64Index, pd.RangeIndex)):\n",
      "/userhome/cs/u3556490/anaconda3/envs/test/lib/python3.9/site-packages/xgboost/data.py:262: FutureWarning: pandas.Int64Index is deprecated and will be removed from pandas in a future version. Use pandas.Index with the appropriate dtype instead.\n",
      "  elif isinstance(data.columns, (pd.Int64Index, pd.RangeIndex)):\n",
      "/userhome/cs/u3556490/anaconda3/envs/test/lib/python3.9/site-packages/xgboost/data.py:262: FutureWarning: pandas.Int64Index is deprecated and will be removed from pandas in a future version. Use pandas.Index with the appropriate dtype instead.\n",
      "  elif isinstance(data.columns, (pd.Int64Index, pd.RangeIndex)):\n",
      "/userhome/cs/u3556490/anaconda3/envs/test/lib/python3.9/site-packages/xgboost/data.py:262: FutureWarning: pandas.Int64Index is deprecated and will be removed from pandas in a future version. Use pandas.Index with the appropriate dtype instead.\n",
      "  elif isinstance(data.columns, (pd.Int64Index, pd.RangeIndex)):\n",
      "/userhome/cs/u3556490/anaconda3/envs/test/lib/python3.9/site-packages/xgboost/data.py:262: FutureWarning: pandas.Int64Index is deprecated and will be removed from pandas in a future version. Use pandas.Index with the appropriate dtype instead.\n",
      "  elif isinstance(data.columns, (pd.Int64Index, pd.RangeIndex)):\n",
      "/userhome/cs/u3556490/anaconda3/envs/test/lib/python3.9/site-packages/xgboost/data.py:262: FutureWarning: pandas.Int64Index is deprecated and will be removed from pandas in a future version. Use pandas.Index with the appropriate dtype instead.\n",
      "  elif isinstance(data.columns, (pd.Int64Index, pd.RangeIndex)):\n"
     ]
    },
    {
     "name": "stdout",
     "output_type": "stream",
     "text": [
      "[CV 3/3] END ......estimator__learning_rate=0.1;, score=0.739 total time= 3.0min\n",
      "[CV 1/3] END ....estimator__learning_rate=0.025;, score=0.722 total time= 2.2min\n",
      "[CV 1/3] END ..........estimator__reg_alpha=0.1;, score=0.744 total time= 2.6min\n",
      "[CV 2/3] END ..........estimator__reg_alpha=5.0;, score=0.722 total time= 1.4min\n",
      "[CV 1/3] END .........estimator__reg_alpha=1.25;, score=0.770 total time= 1.9min\n",
      "[CV 1/3] END .........estimator__reg_lambda=2.5;, score=0.773 total time= 2.1min\n",
      "[CV 3/3] END .........estimator__reg_lambda=0.1;, score=0.780 total time= 1.8min\n",
      "[CV 1/3] END .........estimator__reg_lambda=0.1;, score=0.776 total time= 2.1min\n",
      "[CV 2/3] END ..............estimator__gamma=1.0;, score=0.624 total time=  16.4s\n",
      "[CV 1/3] END .............estimator__gamma=0.05;, score=0.696 total time=  33.3s\n",
      "[CV 3/3] END ............estimator__gamma=0.005;, score=0.748 total time=  41.2s\n",
      "[CV 2/3] END ............estimator__gamma=0.001;, score=0.738 total time= 1.6min\n",
      "[CV 3/3] END ...........estimator__gamma=0.0001;, score=0.785 total time= 1.7min\n",
      "[CV 3/3] END ...........estimator__gamma=0.0001;, score=0.785 total time= 2.0min\n",
      "[CV 3/3] END .......estimator__n_estimators=100;, score=0.755 total time= 1.0min\n",
      "[CV 2/3] END .......estimator__n_estimators=250;, score=0.756 total time= 1.6min\n",
      "[CV 1/3] END .......estimator__n_estimators=250;, score=0.781 total time= 2.3min\n",
      "[CV 3/3] END .......estimator__n_estimators=300;, score=0.789 total time= 2.5min\n",
      "[CV 3/3] END .......estimator__n_estimators=325;, score=0.790 total time= 2.5min\n",
      "[CV 2/3] END .......estimator__n_estimators=400;, score=0.758 total time= 2.3min\n",
      "[CV 2/3] END ...........estimator__max_depth=15;, score=0.763 total time= 3.6min\n",
      "[CV 2/3] END ....estimator__learning_rate=0.075;, score=0.714 total time= 3.0min\n",
      "[CV 2/3] END ....estimator__learning_rate=0.025;, score=0.698 total time= 2.2min\n",
      "[CV 3/3] END ..........estimator__reg_alpha=1.0;, score=0.782 total time= 2.4min\n",
      "[CV 1/3] END ........estimator__reg_alpha=0.001;, score=0.739 total time= 1.5min\n",
      "[CV 3/3] END .........estimator__reg_alpha=3.75;, score=0.767 total time= 1.4min\n",
      "[CV 2/3] END ..........estimator__reg_alpha=1.0;, score=0.744 total time= 1.8min\n",
      "[CV 2/3] END .........estimator__reg_lambda=2.5;, score=0.743 total time= 2.1min\n",
      "[CV 3/3] END .........estimator__reg_lambda=1.0;, score=0.783 total time= 1.8min\n",
      "[CV 3/3] END ........estimator__reg_lambda=0.25;, score=0.783 total time= 2.1min\n",
      "[CV 3/3] END ........estimator__reg_lambda=0.01;, score=0.781 total time= 1.0min\n",
      "[CV 2/3] END .............estimator__gamma=0.01;, score=0.710 total time=  27.8s\n",
      "[CV 1/3] END ............estimator__gamma=0.005;, score=0.744 total time=  54.2s\n",
      "[CV 1/3] END ............estimator__gamma=0.001;, score=0.765 total time= 1.6min\n",
      "[CV 1/3] END ............estimator__gamma=1e-05;, score=0.772 total time= 1.7min\n",
      "[CV 1/3] END ............estimator__gamma=5e-05;, score=0.771 total time= 2.0min\n",
      "[CV 1/3] END .......estimator__n_estimators=150;, score=0.766 total time= 1.5min\n",
      "[CV 1/3] END .......estimator__n_estimators=200;, score=0.776 total time= 2.0min\n",
      "[CV 1/3] END .......estimator__n_estimators=275;, score=0.781 total time= 2.4min\n",
      "[CV 3/3] END .......estimator__n_estimators=325;, score=0.790 total time=  48.0s\n",
      "[CV 2/3] END .......estimator__n_estimators=350;, score=0.758 total time= 2.6min\n",
      "[CV 1/3] END ............estimator__max_depth=5;, score=0.702 total time= 1.1min\n",
      "[CV 3/3] END ...........estimator__max_depth=15;, score=0.787 total time= 3.2min\n",
      "[CV 2/3] END ......estimator__learning_rate=0.1;, score=0.709 total time= 3.0min\n",
      "[CV 1/3] END ..........estimator__reg_alpha=1.0;, score=0.769 total time= 2.5min\n",
      "[CV 2/3] END ........estimator__reg_alpha=0.001;, score=0.712 total time= 1.5min\n",
      "[CV 1/3] END ..........estimator__reg_alpha=2.5;, score=0.761 total time= 1.5min\n",
      "[CV 1/3] END .........estimator__reg_lambda=5.0;, score=0.771 total time= 2.1min\n",
      "[CV 3/3] END .........estimator__reg_lambda=0.5;, score=0.781 total time= 1.8min\n",
      "[CV 2/3] END .........estimator__reg_lambda=0.1;, score=0.752 total time= 2.1min\n",
      "[CV 3/3] END ..............estimator__gamma=1.0;, score=0.656 total time=  16.8s\n",
      "[CV 2/3] END .............estimator__gamma=0.05;, score=0.678 total time=  35.0s\n",
      "[CV 2/3] END ............estimator__gamma=0.001;, score=0.738 total time=  49.1s\n",
      "[CV 1/3] END ...........estimator__gamma=0.0005;, score=0.769 total time= 1.6min\n",
      "[CV 3/3] END ............estimator__gamma=1e-05;, score=0.781 total time= 1.6min\n",
      "[CV 2/3] END ............estimator__gamma=5e-05;, score=0.747 total time= 1.9min\n",
      "[CV 2/3] END .......estimator__n_estimators=100;, score=0.714 total time=  53.3s\n",
      "[CV 3/3] END .......estimator__n_estimators=200;, score=0.785 total time= 1.6min\n",
      "[CV 2/3] END .......estimator__n_estimators=225;, score=0.753 total time= 2.2min\n",
      "[CV 2/3] END .......estimator__n_estimators=300;, score=0.757 total time= 2.5min\n",
      "[CV 1/3] END .......estimator__n_estimators=325;, score=0.782 total time= 2.5min\n",
      "[CV 3/3] END .......estimator__n_estimators=350;, score=0.790 total time= 2.3min\n",
      "[CV 3/3] END ............estimator__max_depth=5;, score=0.715 total time= 1.1min\n",
      "[CV 2/3] END ...........estimator__max_depth=20;, score=0.760 total time= 3.5min\n",
      "[CV 2/3] END ....estimator__learning_rate=0.125;, score=0.712 total time= 2.9min\n",
      "[CV 3/3] END ....estimator__learning_rate=0.075;, score=0.745 total time= 2.3min\n",
      "[CV 2/3] END ..........estimator__reg_alpha=0.1;, score=0.721 total time= 2.6min\n",
      "[CV 3/3] END ........estimator__reg_alpha=0.001;, score=0.748 total time= 1.4min\n",
      "[CV 2/3] END ..........estimator__reg_alpha=2.5;, score=0.741 total time= 1.5min\n",
      "[CV 3/3] END ..........estimator__reg_alpha=1.0;, score=0.782 total time= 1.8min\n",
      "[CV 2/3] END .........estimator__reg_lambda=1.0;, score=0.744 total time= 2.1min\n",
      "[CV 2/3] END .........estimator__reg_lambda=0.5;, score=0.746 total time= 1.8min\n",
      "[CV 3/3] END .........estimator__reg_lambda=0.1;, score=0.780 total time= 2.1min\n",
      "[CV 1/3] END ........estimator__reg_lambda=0.01;, score=0.771 total time= 1.1min\n",
      "[CV 1/3] END .............estimator__gamma=0.01;, score=0.733 total time=  27.5s\n",
      "[CV 3/3] END .............estimator__gamma=0.01;, score=0.726 total time=  47.8s\n",
      "[CV 1/3] END ............estimator__gamma=0.002;, score=0.762 total time= 1.4min\n",
      "[CV 3/3] END ...........estimator__gamma=0.0005;, score=0.776 total time= 1.6min\n",
      "[CV 2/3] END ...........estimator__gamma=0.0002;, score=0.744 total time= 1.9min\n",
      "[CV 2/3] END ........estimator__n_estimators=50;, score=0.681 total time=  28.8s\n",
      "[CV 2/3] END .......estimator__n_estimators=200;, score=0.751 total time= 1.8min\n",
      "[CV 3/3] END .......estimator__n_estimators=200;, score=0.785 total time= 2.0min\n",
      "[CV 3/3] END .......estimator__n_estimators=250;, score=0.789 total time= 2.3min\n",
      "[CV 2/3] END .......estimator__n_estimators=325;, score=0.758 total time=  53.3s\n",
      "[CV 1/3] END .......estimator__n_estimators=350;, score=0.782 total time= 2.5min\n",
      "[CV 1/3] END .......estimator__n_estimators=375;, score=0.782 total time= 2.3min\n",
      "[CV 2/3] END ............estimator__max_depth=5;, score=0.681 total time= 1.1min\n",
      "[CV 1/3] END ...........estimator__max_depth=20;, score=0.777 total time= 3.6min\n"
     ]
    }
   ],
   "source": [
    "from sklearn.multioutput import MultiOutputRegressor\n",
    "from sklearn.model_selection import GridSearchCV\n",
    "from sklearn.metrics import make_scorer, f1_score, precision_recall_curve\n",
    "\n",
    "param_grid = {\"estimator__max_depth\": [5, 10, 15, 20, 25]}\n",
    "\n",
    "estimator = MultiOutputRegressor(xgb.XGBRegressor(\n",
    "    n_estimators=350, min_child_weight=0.5, colsample_bytree=0.625, subsample=1.0, learning_rate=0.075, reg_alpha=1.25, \n",
    "    reg_lambda=0.1, gamma=1e-4, tree_method='gpu_hist', n_jobs=-1, random_state=42, use_label_encoder=False, eval_metric='logloss'\n",
    "), n_jobs=-1)\n",
    "\n",
    "def my_scorer(y_true, y_pred):\n",
    "    '''Returns the average f1 scores for the given label y_true and continuous y_pred.'''\n",
    "    y_pred = np.clip(y_pred, 0, 1)\n",
    "    best_thresholds = []\n",
    "    for i in range(4):\n",
    "        precision, recall, thresholds = precision_recall_curve(y_true[:,i], y_pred[:,i])\n",
    "        fscore = (2 * precision * recall) / (precision + recall)\n",
    "        ix = np.nanargmax(fscore)\n",
    "        best_thresholds.append(thresholds[ix])\n",
    "    preds = []\n",
    "    for i in range(len(y_pred)):\n",
    "        pred_row = []\n",
    "        for j in range(4):\n",
    "            if y_pred[i,j] > best_thresholds[j]:\n",
    "                pred_row.append(1)\n",
    "            else:\n",
    "                pred_row.append(0)\n",
    "        preds.append(pred_row)\n",
    "    return f1_score(y_true, preds, zero_division=0, average='macro')\n",
    "\n",
    "scorer = make_scorer(my_scorer)\n",
    "\n",
    "gscv = GridSearchCV(estimator, param_grid, scoring=scorer, verbose=4, cv=3, n_jobs=-1, refit=False).fit(train_X, train_Y)"
   ]
  },
  {
   "cell_type": "code",
   "execution_count": 48,
   "id": "bf74f7d8",
   "metadata": {
    "scrolled": false
   },
   "outputs": [
    {
     "data": {
      "text/plain": [
       "{'mean_fit_time': array([ 64.52341525, 163.3808829 , 204.44613425, 187.96923979,\n",
       "        397.15931884]),\n",
       " 'std_fit_time': array([ 0.7941681 ,  3.99478658, 11.60361347, 33.96499775, 16.56454736]),\n",
       " 'mean_score_time': array([0.91679128, 1.14698919, 1.40613445, 1.14632098, 0.91665649]),\n",
       " 'std_score_time': array([0.10107609, 0.13726956, 0.23203683, 0.04856062, 0.15794959]),\n",
       " 'param_estimator__max_depth': masked_array(data=[5, 10, 15, 20, 25],\n",
       "              mask=[False, False, False, False, False],\n",
       "        fill_value='?',\n",
       "             dtype=object),\n",
       " 'params': [{'estimator__max_depth': 5},\n",
       "  {'estimator__max_depth': 10},\n",
       "  {'estimator__max_depth': 15},\n",
       "  {'estimator__max_depth': 20},\n",
       "  {'estimator__max_depth': 25}],\n",
       " 'split0_test_score': array([0.70181689, 0.78172097, 0.78034819, 0.77712328, 0.7722734 ]),\n",
       " 'split1_test_score': array([0.68084761, 0.75796367, 0.76345015, 0.76007496, 0.76514486]),\n",
       " 'split2_test_score': array([0.71488584, 0.78950045, 0.78749621, 0.78639848, 0.78193289]),\n",
       " 'mean_test_score': array([0.69918345, 0.77639503, 0.77709819, 0.77453224, 0.77311705]),\n",
       " 'std_test_score': array([0.01402026, 0.01341433, 0.01008217, 0.01090159, 0.0068796 ]),\n",
       " 'rank_test_score': array([5, 2, 1, 3, 4], dtype=int32)}"
      ]
     },
     "execution_count": 48,
     "metadata": {},
     "output_type": "execute_result"
    }
   ],
   "source": [
    "gscv.cv_results_"
   ]
  },
  {
   "cell_type": "code",
   "execution_count": 49,
   "id": "d77c3545",
   "metadata": {
    "scrolled": true
   },
   "outputs": [
    {
     "data": {
      "text/plain": [
       "{'estimator__max_depth': 15}"
      ]
     },
     "execution_count": 49,
     "metadata": {},
     "output_type": "execute_result"
    },
    {
     "name": "stdout",
     "output_type": "stream",
     "text": [
      "[CV 3/3] END ....estimator__learning_rate=0.125;, score=0.743 total time= 3.0min\n",
      "[CV 3/3] END ....estimator__learning_rate=0.025;, score=0.729 total time= 2.2min\n",
      "[CV 3/3] END ..........estimator__reg_alpha=0.1;, score=0.752 total time= 2.6min\n",
      "[CV 1/3] END ..........estimator__reg_alpha=5.0;, score=0.743 total time= 1.4min\n",
      "[CV 2/3] END .........estimator__reg_alpha=1.25;, score=0.744 total time= 1.8min\n",
      "[CV 3/3] END .........estimator__reg_lambda=5.0;, score=0.781 total time= 2.1min\n",
      "[CV 1/3] END ........estimator__reg_lambda=0.25;, score=0.773 total time= 2.1min\n",
      "[CV 2/3] END ........estimator__reg_lambda=0.01;, score=0.748 total time= 1.1min\n",
      "[CV 3/3] END ..............estimator__gamma=0.1;, score=0.695 total time=  22.1s\n",
      "[CV 2/3] END .............estimator__gamma=0.01;, score=0.710 total time=  47.8s\n",
      "[CV 3/3] END ............estimator__gamma=0.001;, score=0.767 total time=  37.9s\n",
      "[CV 2/3] END ...........estimator__gamma=0.0005;, score=0.740 total time= 1.7min\n",
      "[CV 1/3] END ...........estimator__gamma=0.0002;, score=0.777 total time= 1.9min\n",
      "[CV 3/3] END ........estimator__n_estimators=50;, score=0.701 total time=  28.8s\n",
      "[CV 1/3] END .......estimator__n_estimators=200;, score=0.776 total time= 1.8min\n",
      "[CV 1/3] END .......estimator__n_estimators=225;, score=0.778 total time= 2.1min\n",
      "[CV 3/3] END .......estimator__n_estimators=275;, score=0.789 total time= 2.5min\n",
      "[CV 2/3] END .......estimator__n_estimators=300;, score=0.757 total time= 2.5min\n",
      "[CV 1/3] END .......estimator__n_estimators=400;, score=0.782 total time= 2.3min\n",
      "[CV 1/3] END ...........estimator__max_depth=10;, score=0.782 total time= 2.7min\n",
      "[CV 3/3] END ...........estimator__max_depth=20;, score=0.786 total time= 2.4min\n"
     ]
    }
   ],
   "source": [
    "gscv.best_params_"
   ]
  },
  {
   "cell_type": "code",
   "execution_count": 50,
   "id": "f285b592",
   "metadata": {},
   "outputs": [
    {
     "name": "stderr",
     "output_type": "stream",
     "text": [
      "/userhome/cs/u3556490/anaconda3/envs/test/lib/python3.9/site-packages/xgboost/data.py:262: FutureWarning: pandas.Int64Index is deprecated and will be removed from pandas in a future version. Use pandas.Index with the appropriate dtype instead.\n",
      "  elif isinstance(data.columns, (pd.Int64Index, pd.RangeIndex)):\n",
      "/userhome/cs/u3556490/anaconda3/envs/test/lib/python3.9/site-packages/xgboost/data.py:262: FutureWarning: pandas.Int64Index is deprecated and will be removed from pandas in a future version. Use pandas.Index with the appropriate dtype instead.\n",
      "  elif isinstance(data.columns, (pd.Int64Index, pd.RangeIndex)):\n",
      "/userhome/cs/u3556490/anaconda3/envs/test/lib/python3.9/site-packages/xgboost/data.py:262: FutureWarning: pandas.Int64Index is deprecated and will be removed from pandas in a future version. Use pandas.Index with the appropriate dtype instead.\n",
      "  elif isinstance(data.columns, (pd.Int64Index, pd.RangeIndex)):\n",
      "/userhome/cs/u3556490/anaconda3/envs/test/lib/python3.9/site-packages/xgboost/compat.py:36: FutureWarning: pandas.Int64Index is deprecated and will be removed from pandas in a future version. Use pandas.Index with the appropriate dtype instead.\n",
      "  from pandas import MultiIndex, Int64Index\n",
      "/userhome/cs/u3556490/anaconda3/envs/test/lib/python3.9/site-packages/xgboost/data.py:262: FutureWarning: pandas.Int64Index is deprecated and will be removed from pandas in a future version. Use pandas.Index with the appropriate dtype instead.\n",
      "  elif isinstance(data.columns, (pd.Int64Index, pd.RangeIndex)):\n"
     ]
    }
   ],
   "source": [
    "testing_model = MultiOutputRegressor(xgb.XGBRegressor(\n",
    "    max_depth=15, n_estimators=350, min_child_weight=0.5, colsample_bytree=0.625, subsample=1.0, learning_rate=0.075, reg_alpha=1.25, \n",
    "    reg_lambda=0.1, gamma=1e-4, tree_method='gpu_hist', n_jobs=-1, random_state=42, use_label_encoder=False, eval_metric='logloss'\n",
    "), n_jobs=-1).fit(train_X, train_Y)"
   ]
  },
  {
   "cell_type": "code",
   "execution_count": 58,
   "id": "60a08572",
   "metadata": {
    "scrolled": true
   },
   "outputs": [
    {
     "name": "stdout",
     "output_type": "stream",
     "text": [
      "Best Threshold=0.37859, F-Score=0.85359\n",
      "Best Threshold=0.40761, F-Score=0.85968\n",
      "Best Threshold=0.26239, F-Score=0.77447\n",
      "Best Threshold=0.32093, F-Score=0.83019\n",
      "              precision    recall  f1-score   support\n",
      "\n",
      "           0    0.86761   0.83696   0.85201       368\n",
      "           1    0.87319   0.84266   0.85765       286\n",
      "           2    0.74380   0.79646   0.76923       113\n",
      "           3    0.89041   0.76471   0.82278        85\n",
      "\n",
      "   micro avg    0.85333   0.82629   0.83959       852\n",
      "   macro avg    0.84375   0.81019   0.82542       852\n",
      "weighted avg    0.85533   0.82629   0.84001       852\n",
      " samples avg    0.09706   0.09688   0.09472       852\n",
      "\n",
      "Class 0, no calibration: 0.021599\n",
      "Class 1, no calibration: 0.017350\n",
      "Class 2, no calibration: 0.010197\n",
      "Class 3, no calibration: 0.007881\n"
     ]
    },
    {
     "data": {
      "image/png": "[encoded data removed]",
      "text/plain": [
       "<Figure size 432x288 with 1 Axes>"
      ]
     },
     "metadata": {
      "needs_background": "light"
     },
     "output_type": "display_data"
    },
    {
     "data": {
      "image/png": "[encoded data removed]",
      "text/plain": [
       "<Figure size 720x720 with 1 Axes>"
      ]
     },
     "metadata": {
      "needs_background": "light"
     },
     "output_type": "display_data"
    }
   ],
   "source": [
    "from sklearn.metrics import precision_recall_curve, brier_score_loss, classification_report\n",
    "from sklearn.calibration import CalibrationDisplay\n",
    "from matplotlib.gridspec import GridSpec\n",
    "\n",
    "# to edit\n",
    "preds = np.clip(testing_model.predict(dev_X), 0, 1)\n",
    "best_thresholds = []\n",
    "best_f1_scores = []\n",
    "n_classes = 4\n",
    "preds = np.array(preds)\n",
    "for i in range(n_classes):\n",
    "    precision, recall, thresholds = precision_recall_curve(dev_Y[:,i], preds[:,i])\n",
    "    # find best threshold\n",
    "    fscore = (2 * precision * recall) / (precision + recall)\n",
    "    ix = np.argmax(fscore)\n",
    "    best_thresholds.append(thresholds[ix])\n",
    "    best_f1_scores.append(fscore[ix])\n",
    "    print('Best Threshold={0:.05f}, F-Score={1:.05f}'.format(thresholds[ix], fscore[ix]))\n",
    "\n",
    "# plot the precision-recall curve for the last class/label\n",
    "plt.plot(recall, precision, marker='.', label='PR curve')\n",
    "plt.scatter(recall[ix], precision[ix], marker='o', color='black', label='Best')\n",
    "plt.xlabel('Recall')\n",
    "plt.ylabel('Precision')\n",
    "plt.title('Precision-Recall Curve for Direct Strike')\n",
    "plt.legend()\n",
    "\n",
    "preds_probs = np.clip(testing_model.predict(dev_X), 0, 1)\n",
    "n_classes = 4\n",
    "preds = []\n",
    "for i in range(len(preds_probs)):\n",
    "    pred_row = []\n",
    "    for j in range(n_classes):\n",
    "        if preds_probs[i,j] > best_thresholds[j]:\n",
    "            pred_row.append(1)\n",
    "        else:\n",
    "            pred_row.append(0)\n",
    "    preds.append(pred_row)\n",
    "        \n",
    "preds = np.array(preds)\n",
    "\n",
    "print(classification_report(dev_Y, preds, zero_division=0, digits=5))\n",
    "\n",
    "all_preds = np.clip(testing_model.predict(dev_X), 0, 1)\n",
    "for i in range(4):         \n",
    "    preds = all_preds[:,i]\n",
    "    clf_score = brier_score_loss(dev_Y[:,i], preds)\n",
    "    print(\"Class {0}, no calibration: {1:1.6f}\".format(i, clf_score))\n",
    "\n",
    "# plot calibration graphs\n",
    "fig = plt.figure(figsize=(10, 10))\n",
    "gs = GridSpec(4, 2)\n",
    "ax = fig.add_subplot(gs[:2, :2])\n",
    "\n",
    "all_preds = np.clip(testing_model.predict(dev_X), 0, 1)\n",
    "preds = all_preds[:,0]\n",
    "display = CalibrationDisplay.from_predictions(dev_Y[:,0], preds, n_bins=10, name=\"class 0\", ax=ax, strategy='uniform')\n",
    "preds = all_preds[:,3]\n",
    "display = CalibrationDisplay.from_predictions(dev_Y[:,3], preds, n_bins=10, name=\"class 3\", ax=ax, strategy='uniform')\n",
    "\n",
    "ax.grid()\n",
    "plt.tight_layout()\n",
    "plt.show()"
   ]
  },
  {
   "cell_type": "code",
   "execution_count": 59,
   "id": "e4779044",
   "metadata": {},
   "outputs": [
    {
     "data": {
      "text/plain": [
       "['./models/baseline_model_gscv_xgb_regr_2022-04-15 21-31.skl']"
      ]
     },
     "execution_count": 59,
     "metadata": {},
     "output_type": "execute_result"
    }
   ],
   "source": [
    "import joblib\n",
    "from datetime import datetime\n",
    "\n",
    "joblib.dump(testing_model, \"./models/baseline_model_gscv_xgb_regr_{}.skl\".format(str(datetime.now().strftime(\"%Y-%m-%d %H-%M\"))))"
   ]
  }
 ],
 "metadata": {
  "kernelspec": {
   "display_name": "Python 3 (ipykernel)",
   "language": "python",
   "name": "python3"
  },
  "language_info": {
   "codemirror_mode": {
    "name": "ipython",
    "version": 3
   },
   "file_extension": ".py",
   "mimetype": "text/x-python",
   "name": "python",
   "nbconvert_exporter": "python",
   "pygments_lexer": "ipython3",
   "version": "3.9.7"
  }
 },
 "nbformat": 4,
 "nbformat_minor": 5
}
